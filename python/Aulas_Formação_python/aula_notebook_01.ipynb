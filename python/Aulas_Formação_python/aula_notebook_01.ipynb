{
 "cells": [
  {
   "cell_type": "markdown",
   "metadata": {},
   "source": [
    "#tuplas"
   ]
  },
  {
   "cell_type": "code",
   "execution_count": 4,
   "metadata": {},
   "outputs": [
    {
     "ename": "AttributeError",
     "evalue": "'tuple' object has no attribute 'conj'",
     "output_type": "error",
     "traceback": [
      "\u001b[1;31m---------------------------------------------------------------------------\u001b[0m",
      "\u001b[1;31mAttributeError\u001b[0m                            Traceback (most recent call last)",
      "\u001b[1;32mc:\\UserData\\z004hedj\\OneDrive - Siemens AG\\Ambiente de Trabalho\\GIT\\newMilestone\\newMilestone\\python\\Aulas_Formação_python\\aula_notebook_01.ipynb Cell 2\u001b[0m in \u001b[0;36m<cell line: 22>\u001b[1;34m()\u001b[0m\n\u001b[0;32m     <a href='vscode-notebook-cell:/c%3A/UserData/z004hedj/OneDrive%20-%20Siemens%20AG/Ambiente%20de%20Trabalho/GIT/newMilestone/newMilestone/python/Aulas_Forma%C3%A7%C3%A3o_python/aula_notebook_01.ipynb#W1sZmlsZQ%3D%3D?line=18'>19</a>\u001b[0m     \u001b[39mreturn\u001b[39;00m conj\n\u001b[0;32m     <a href='vscode-notebook-cell:/c%3A/UserData/z004hedj/OneDrive%20-%20Siemens%20AG/Ambiente%20de%20Trabalho/GIT/newMilestone/newMilestone/python/Aulas_Forma%C3%A7%C3%A3o_python/aula_notebook_01.ipynb#W1sZmlsZQ%3D%3D?line=20'>21</a>\u001b[0m tupl \u001b[39m=\u001b[39m (\u001b[39m9\u001b[39m,\u001b[39m3\u001b[39m,\u001b[39m7\u001b[39m,\u001b[39m19\u001b[39m,\u001b[39m6\u001b[39m,\u001b[39m11\u001b[39m)\n\u001b[1;32m---> <a href='vscode-notebook-cell:/c%3A/UserData/z004hedj/OneDrive%20-%20Siemens%20AG/Ambiente%20de%20Trabalho/GIT/newMilestone/newMilestone/python/Aulas_Forma%C3%A7%C3%A3o_python/aula_notebook_01.ipynb#W1sZmlsZQ%3D%3D?line=21'>22</a>\u001b[0m resp \u001b[39m=\u001b[39m analisa(tupl)\n\u001b[0;32m     <a href='vscode-notebook-cell:/c%3A/UserData/z004hedj/OneDrive%20-%20Siemens%20AG/Ambiente%20de%20Trabalho/GIT/newMilestone/newMilestone/python/Aulas_Forma%C3%A7%C3%A3o_python/aula_notebook_01.ipynb#W1sZmlsZQ%3D%3D?line=23'>24</a>\u001b[0m \u001b[39mif\u001b[39;00m \u001b[39mlen\u001b[39m(resp)\u001b[39m==\u001b[39m\u001b[39m0\u001b[39m:\n\u001b[0;32m     <a href='vscode-notebook-cell:/c%3A/UserData/z004hedj/OneDrive%20-%20Siemens%20AG/Ambiente%20de%20Trabalho/GIT/newMilestone/newMilestone/python/Aulas_Forma%C3%A7%C3%A3o_python/aula_notebook_01.ipynb#W1sZmlsZQ%3D%3D?line=24'>25</a>\u001b[0m     \u001b[39mprint\u001b[39m(\u001b[39mf\u001b[39m\u001b[39m'\u001b[39m\u001b[39mdo tuple\u001b[39m\u001b[39m{\u001b[39;00mtupl\u001b[39m}\u001b[39;00m\u001b[39m nao existe numerios primeos\u001b[39m\u001b[39m'\u001b[39m)\n",
      "\u001b[1;32mc:\\UserData\\z004hedj\\OneDrive - Siemens AG\\Ambiente de Trabalho\\GIT\\newMilestone\\newMilestone\\python\\Aulas_Formação_python\\aula_notebook_01.ipynb Cell 2\u001b[0m in \u001b[0;36manalisa\u001b[1;34m(tup)\u001b[0m\n\u001b[0;32m     <a href='vscode-notebook-cell:/c%3A/UserData/z004hedj/OneDrive%20-%20Siemens%20AG/Ambiente%20de%20Trabalho/GIT/newMilestone/newMilestone/python/Aulas_Forma%C3%A7%C3%A3o_python/aula_notebook_01.ipynb#W1sZmlsZQ%3D%3D?line=15'>16</a>\u001b[0m     resposta \u001b[39m=\u001b[39m verifica(num)\n\u001b[0;32m     <a href='vscode-notebook-cell:/c%3A/UserData/z004hedj/OneDrive%20-%20Siemens%20AG/Ambiente%20de%20Trabalho/GIT/newMilestone/newMilestone/python/Aulas_Forma%C3%A7%C3%A3o_python/aula_notebook_01.ipynb#W1sZmlsZQ%3D%3D?line=16'>17</a>\u001b[0m     \u001b[39mif\u001b[39;00m resposta:\n\u001b[1;32m---> <a href='vscode-notebook-cell:/c%3A/UserData/z004hedj/OneDrive%20-%20Siemens%20AG/Ambiente%20de%20Trabalho/GIT/newMilestone/newMilestone/python/Aulas_Forma%C3%A7%C3%A3o_python/aula_notebook_01.ipynb#W1sZmlsZQ%3D%3D?line=17'>18</a>\u001b[0m         conj\u001b[39m.\u001b[39;49mconj \u001b[39m+\u001b[39m(num,)\n\u001b[0;32m     <a href='vscode-notebook-cell:/c%3A/UserData/z004hedj/OneDrive%20-%20Siemens%20AG/Ambiente%20de%20Trabalho/GIT/newMilestone/newMilestone/python/Aulas_Forma%C3%A7%C3%A3o_python/aula_notebook_01.ipynb#W1sZmlsZQ%3D%3D?line=18'>19</a>\u001b[0m \u001b[39mreturn\u001b[39;00m conj\n",
      "\u001b[1;31mAttributeError\u001b[0m: 'tuple' object has no attribute 'conj'"
     ]
    }
   ],
   "source": [
    "'''exercicio 5.  Faça um script, recorrendo a funções, que dado o tuplo (9,3,7,19,6,11), retorne os elementos primos que aí existem.\n",
    "\n",
    "'''\n",
    "\n",
    "def verifica(num):\n",
    "    x = 2\n",
    "    while x <= int(num**0.5):\n",
    "        if num % x == 0:\n",
    "            return False\n",
    "        x=x+1\n",
    "    return True        \n",
    "\n",
    "def analisa(tup):\n",
    "    conj = ()\n",
    "    for num in tup:\n",
    "        resposta = verifica(num)\n",
    "        if resposta:\n",
    "            conj.conj +(num,)\n",
    "    return conj\n",
    "\n",
    "tupl = (9,3,7,19,6,11)\n",
    "resp = analisa(tupl)\n",
    "\n",
    "if len(resp)==0:\n",
    "    print(f'do tuple{tupl} nao existe numerios primeos')\n",
    "else:\n",
    "    print(f'do tuple{tupl} os sehuintes numeros sao primos {resp}')\n",
    "    \n",
    "\n"
   ]
  },
  {
   "cell_type": "markdown",
   "metadata": {},
   "source": [
    "# tuplos sao imutaveis, como tal nao conseguimos fazer a alteração,  com tal temos de criar um novo conjunto"
   ]
  },
  {
   "cell_type": "code",
   "execution_count": 5,
   "metadata": {},
   "outputs": [
    {
     "name": "stdout",
     "output_type": "stream",
     "text": [
      "valores sao(1, 2, 3, 2, 3, 4, 1)\n",
      "substituir 3 por 66,  que resulta em ((1, 2, 3, 2, 3, 4, 1), 3, 66)\n"
     ]
    }
   ],
   "source": [
    "'''Exercicio 6.Dado um tuplo, crie uma função substituir que tenha como argumentos o tuplo, \n",
    "    o valor que quer substituir no respetivo tuplo e ainda o valor que irá substituir. Deve retornar o tuplo substituído.\n",
    "'''\n",
    "\n",
    "def subs(tuplo,sair,entrar):\n",
    "    novo = ()\n",
    "    for elem in tuplo:\n",
    "        print(\"analisa o valor {elem}\")\n",
    "        if elem != sair:\n",
    "            print(f'mantem o valor {elem}')\n",
    "            novo = novo +(elem,)\n",
    "        else:\n",
    "            print(f'troca o {elem} por {entrar}')\n",
    "            novo = novo + (entrar,)\n",
    "        print(f'NOVO = {novo}')\n",
    "        input()\n",
    "    return novo\n",
    "##########################################\n",
    "tuplo = (1,2,3,2,3,4,1)\n",
    "print(f'valores sao{tuplo}')\n",
    "\n",
    "sair = int(input(\"qual o valor a ser susbstituido\"))\n",
    "entrar = int(input(\"qual o valor que vai substituir {sair}\"))\n",
    "\n",
    "resp =(tuplo,sair,entrar)\n",
    "print(f'substituir {sair} por {entrar},  que resulta em {resp}')"
   ]
  },
  {
   "cell_type": "markdown",
   "metadata": {},
   "source": [
    "#listas\n",
    "\n",
    "variavel para guardar os valores que os utilizador vai colocando"
   ]
  },
  {
   "cell_type": "code",
   "execution_count": 29,
   "metadata": {},
   "outputs": [
    {
     "name": "stdout",
     "output_type": "stream",
     "text": [
      "as cidades sao : ['Porto', 'Lisboa', 'Coimbra', 'Aveiro', 'Porto']\n"
     ]
    },
    {
     "data": {
      "text/plain": [
       "'\\n>>> porque nao vamos usar o while, \\na varaivel de controlo é a qt\\n\\nqt = 5\\nwhile qt > 0:\\n    nome=input(\"qual o nome da cidade)\\n    cidade.append(nome)\\n    qt = qt -1\\n\\n\\n'"
      ]
     },
     "execution_count": 29,
     "metadata": {},
     "output_type": "execute_result"
    }
   ],
   "source": [
    "# exercicio 7 Pretende-se guardar o nome de 5 cidades que serão solicitadas ao utilizador.\n",
    "\n",
    "cidade = []\n",
    "\n",
    "for x in range(5):\n",
    "    #usar o .title, permite que o texto seka convertido para todas as cidades começarem por maiusculas\n",
    "    nome = str(input(\"qual o nome da cidade: \").title())\n",
    "    cidade.append(nome)\n",
    "print(f'as cidades sao : {cidade}')\n",
    "\n",
    "'''\n",
    ">>> porque nao vamos usar o while, \n",
    "a varaivel de controlo é a qt\n",
    "\n",
    "qt = 5\n",
    "while qt > 0:\n",
    "    nome=input(\"qual o nome da cidade)\n",
    "    cidade.append(nome)\n",
    "    qt = qt -1\n",
    "\n",
    "\n",
    "'''\n",
    "\n",
    "\n"
   ]
  },
  {
   "cell_type": "code",
   "execution_count": 32,
   "metadata": {},
   "outputs": [
    {
     "name": "stdout",
     "output_type": "stream",
     "text": [
      "As cidades são ['Porto', 'Lisboa', 'Coimbra', 'Aveiro', 'Gaia']\n",
      "nome da cidade a remover = \n",
      "Depois de remover o Porto as cidades sao ['Lisboa', 'Coimbra', 'Aveiro', 'Gaia']\n"
     ]
    }
   ],
   "source": [
    "'''exercicio 8. Crie uma função que numa lista de nomes de cidades, solicite um nome dessas cidades e o remova da lista. \n",
    "Caso não seja possível realizar a remoção da cidade, essa informação deverá ser dada ao utilizador.\n",
    "\n",
    "'''\n",
    "\n",
    "\n",
    "cidades = ['Porto', 'Lisboa', 'Coimbra', 'Aveiro', 'Gaia']\n",
    "print(f'As cidades são {cidades}')\n",
    "sai = \"\"\n",
    "\n",
    "while sai not in cidades:\n",
    "    print(f\"nome da cidade a remover = {sai}\")\n",
    "    sai = input(\"qual a cidade que quer remover?: \").title()\n",
    "    if sai not in cidades:\n",
    "        print(f\"essa cidade nao faz parte da lista\")\n",
    "    else:\n",
    "        break\n",
    "    \n",
    "\n",
    "cidades.remove(sai) \n",
    "\n",
    "print(f'Depois de remover o {sai} as cidades sao {cidades}')"
   ]
  },
  {
   "cell_type": "code",
   "execution_count": 33,
   "metadata": {},
   "outputs": [
    {
     "name": "stdout",
     "output_type": "stream",
     "text": [
      "as cidades sao: ['Porto', 'braga', 'Lisboa', 'Faro', 'Coimbra']\n"
     ]
    }
   ],
   "source": [
    "'''\n",
    "Exercicio 9 . Pretende-se criar uma função que numa lista de nomes de cidades, troque o nome de uma cidade por outra, cidades essas solicitadas ao utilizador. Caso não seja possível realizar a troca de nome de cidades, essa informação deverá ser dada ao utilizador.\n",
    "Como  ponto  de  partida,  utilize  a  seguinte  lista  de  cidades:  [\"Porto\", \"Braga\", \"Lisboa\", \"Faro\", \"Coimbra\"]\n",
    "\n",
    "'''\n",
    "\n",
    "cidades = [\"Porto\", \"braga\",\"Lisboa\", \"Faro\",\"Coimbra\"]\n",
    "print(f\"as cidades sao: {cidades}\")\n",
    "\n",
    "sair = input(\"qual a cidade a substituir\")\n",
    "while sair not in cidades: # valida se a cidade existe na lista\n",
    "    print(\"essa cidade naoo faz parte da lista.\")\n",
    "    sair = input(\"qual a cidade a ser substituida: \")\n",
    "entrar = input(f\"qual a cidade que vai substituir {sair}?\")\n",
    "\n",
    "''' \n",
    ">>> WHILE:  esta solução ao Usar o While\n",
    "qtcidade = len(cidades)\n",
    "#apontador começar no o,  ou seja aponta para a primeira posição\n",
    "# sempre que trabalharmos com o indice num ciclo while temos de ter atenção ao incremento +1\n",
    "i = 0\n",
    "while i < qtcidade:\n",
    "    if cidades[i]==sair: #no inidixe i coloca a cidade que quer entrar\n",
    "        cidades[i]=entrar\n",
    "        break# nao vale a pena tentar voltar a substituir nao há cidades repetidas\n",
    "    i = i+1\n",
    "'''\n",
    "\n",
    "'''FOR:  exemplo do mesmo exercio ao usar o for\n",
    "\n",
    "a diferença para o While,  é que no ehile trabalhamos com o index,  aqui no for vamos buscar diretamente o nome\n",
    "\n",
    "'''\n",
    "for nome in cidades:\n",
    "    if nome == sair:# no indice i coloca a cidade que quer entrar\n",
    "        # na proxima linha basicamente estamos associar o i e alocar o i ao index referente a cada nome da lista\n",
    "        i = cidades.index(nome)#obtem a posição onde ocorre a cidade a remover\n",
    "        cidades[i] = entrar\n",
    "        break \n",
    "\n",
    "'''\n",
    "aqui vamos usar o for + o enumerate\n",
    "\n",
    "''' \n",
    "    \n",
    "for i, nome in enumerate(cidades): #1º indice,  2º elemento\n",
    "    if nome == sair:# no indice i coloca a cidade que quer entrar\n",
    "        cidades[i]=entrar\n",
    "        break "
   ]
  },
  {
   "cell_type": "code",
   "execution_count": 34,
   "metadata": {},
   "outputs": [
    {
     "name": "stdout",
     "output_type": "stream",
     "text": [
      "A lista de fruta é ['Laranja', 'Banana', 'Morango', 'Maça', 'Perâ', 'Pêssego']\n",
      "Existem 6 especie de fruta. São elas:\n",
      "\n",
      "Laranja\n",
      "Banana\n",
      "Morango\n",
      "Maça\n",
      "Perâ\n",
      "Pêssego\n"
     ]
    }
   ],
   "source": [
    "'''exercicio 10 e 11. 10. Crie  uma  lista  com  os  seguintes  nomes  de  frutos:  Laranja,  Banana,  Morango,  Maçã, Pêra, Pêssego.11.\n",
    "Considerando a lista criada anteriormente, determine a quantidade de espécies de frutos contém a lista e mostre no ecrã,\n",
    "todos os frutos da lista anterior.\n",
    "\n",
    "'''\n",
    "\n",
    "import time\n",
    "\n",
    "lista = ['Laranja','Banana','Morango','Maça','Perâ','Pêssego']\n",
    "print(\"A lista de fruta é\", lista)\n",
    "#aqui o len é usado para definirmos a nossa quantidade de acordo com o len dos elementos da lista\n",
    "qt = len(lista)\n",
    "print(f'Existem {qt} especie de fruta. São elas:\\n')\n",
    "\n",
    "for fruta in lista:\n",
    "    print(fruta)\n",
    "    time.sleep(1)\n"
   ]
  },
  {
   "cell_type": "code",
   "execution_count": null,
   "metadata": {},
   "outputs": [],
   "source": [
    "'''Exercicio 12. Solicite o  nome  de  um  novo  fruto  ao  utilizador,  acrescente-o  à  lista  anterior  e devolva como output a nova lista.'''\n",
    "novo = input(\"escreva o nome de um novo fruto: \")\n",
    "\n",
    "while novo in lista: # não serve, pois ja existe\n",
    "    novo = input(\"escreva o nome de um novo fruto: \")\n",
    "    \n",
    "lista.append(novo)\n",
    "print(f\"Nova lista de Frutos: {lista}\")"
   ]
  },
  {
   "cell_type": "code",
   "execution_count": 36,
   "metadata": {},
   "outputs": [
    {
     "name": "stdout",
     "output_type": "stream",
     "text": [
      "lista ['Laranja', 'Banana', 'Morango', 'Maça', 'Perâ', 'Pêssego', 'Banana', 'Banana']\n"
     ]
    }
   ],
   "source": [
    "'''exercicio 13. Solicite um nome de um fruto que conste da lista anterior e remova-o dessa lista.Deverá remover todas as ocorrências existentes na lista.\n",
    "Caso não exista o fruto que pretende remover da lista, essa informação deverá ser dada ao utilizador.'''\n",
    "\n",
    "lista = ['Laranja','Banana','Morango','Maça','Perâ','Pêssego','Banana','Banana']\n",
    "print(\"lista\",  lista)\n",
    "\n",
    "apagar = input(\"qual o nome do druto a remover\").title()\n",
    "if apagar not in lista:\n",
    "    print(f'{apagar} não consta da lista')\n",
    "else:\n",
    "    while apagar in lista: #enquant existir\n",
    "        lista.remove(apagar)\n",
    "\n",
    "        \n"
   ]
  },
  {
   "cell_type": "code",
   "execution_count": 37,
   "metadata": {},
   "outputs": [
    {
     "name": "stdout",
     "output_type": "stream",
     "text": [
      "['Banana', 'Banana', 'Banana', 'Laranja', 'Maça', 'Morango', 'Perâ', 'Pêssego']\n"
     ]
    }
   ],
   "source": [
    "'''Exercicio 14. Ordene a lista anterior, de frutos, por ordem lexicográfica.'''\n",
    "\n",
    "lista = ['Laranja','Banana','Morango','Maça','Perâ','Pêssego','Banana','Banana']\n",
    "lista.sort()\n",
    "print(lista)"
   ]
  }
 ],
 "metadata": {
  "kernelspec": {
   "display_name": "Python 3.10.2 64-bit",
   "language": "python",
   "name": "python3"
  },
  "language_info": {
   "codemirror_mode": {
    "name": "ipython",
    "version": 3
   },
   "file_extension": ".py",
   "mimetype": "text/x-python",
   "name": "python",
   "nbconvert_exporter": "python",
   "pygments_lexer": "ipython3",
   "version": "3.10.2"
  },
  "orig_nbformat": 4,
  "vscode": {
   "interpreter": {
    "hash": "fbe58ca63fe33f9eeae9e71d10368d2b4a57f2b1b395836210cc60d362c66949"
   }
  }
 },
 "nbformat": 4,
 "nbformat_minor": 2
}
