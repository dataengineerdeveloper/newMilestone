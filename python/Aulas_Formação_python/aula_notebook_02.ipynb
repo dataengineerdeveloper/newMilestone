{
 "cells": [
  {
   "cell_type": "markdown",
   "metadata": {},
   "source": [
    "#  DIA 20220930"
   ]
  },
  {
   "cell_type": "code",
   "execution_count": 1,
   "metadata": {},
   "outputs": [
    {
     "name": "stdout",
     "output_type": "stream",
     "text": [
      "a lista ordernada ['Banana', 'Banana', 'Banana', 'Laranja', 'Maça', 'Morango', 'Perâ', 'Pêssego']\n"
     ]
    }
   ],
   "source": [
    "lista = ['Laranja','Banana','Morango','Maça','Perâ','Pêssego','Banana','Banana']\n",
    "lista.sort()\n",
    "print(f\"a lista ordernada {lista}\")"
   ]
  },
  {
   "cell_type": "code",
   "execution_count": 3,
   "metadata": {},
   "outputs": [
    {
     "name": "stdout",
     "output_type": "stream",
     "text": [
      "[2, 3, 7]\n"
     ]
    }
   ],
   "source": [
    "# ordenar um tuple,  mas uma vez que é imutavel,  nao conseguimos manter o output como seendo o tuplo,  por issso passa a lista\n",
    "t = (3,7,2)\n",
    "sorted(t)\n",
    "t = sorted(t)\n",
    "print(t)"
   ]
  },
  {
   "cell_type": "code",
   "execution_count": 4,
   "metadata": {},
   "outputs": [
    {
     "name": "stdout",
     "output_type": "stream",
     "text": [
      "(2, 3, 7)\n"
     ]
    }
   ],
   "source": [
    "# mas se quisermos manter um tuple,  temos de fazer um cast para tuple,  de forma a aque o tuple se mantenha e que nao seja umalista como o caso anterior\n",
    "t = (3,7,2)\n",
    "t = tuple(sorted(t))\n",
    "print(t)"
   ]
  },
  {
   "cell_type": "code",
   "execution_count": 7,
   "metadata": {},
   "outputs": [
    {
     "name": "stdout",
     "output_type": "stream",
     "text": [
      "lista sem valores repetidos resulta em ['Laranja', 'Banana', 'Morango', 'Maça', 'Perâ', 'Pêssego']\n"
     ]
    }
   ],
   "source": [
    "#15. Dada  uma  lista  de  valores,  pretende-se  obter  uma  nova  lista  sem  valores  repetidos\n",
    "\n",
    "lista = ['Laranja','Banana','Morango','Maça','Perâ','Pêssego','Banana','Banana']\n",
    "nova_lista = []\n",
    "\n",
    "for fruto in lista:\n",
    "    if fruto not in nova_lista: # add à nova lisa o fruto em questao\n",
    "        nova_lista.append(fruto) # nova = nova + [fruto,] , no caso de um tuplo tinhamnos deconcatenar com virgula\n",
    "\n",
    "print(f\"lista sem valores repetidos resulta em {nova_lista}\")\n",
    "\n",
    "\n"
   ]
  },
  {
   "cell_type": "code",
   "execution_count": 16,
   "metadata": {},
   "outputs": [
    {
     "name": "stdout",
     "output_type": "stream",
     "text": [
      "[1, 3, 5, 6, 7, 8, 15]\n"
     ]
    }
   ],
   "source": [
    "# exemplo a usar um SET\n",
    "\n",
    "lista = [1,5,3,15,7,6,8,7,3]\n",
    "#set remove todos os elementos repetidos, e o output vai ser apresentado com conjunto\n",
    "nova_lista = set(lista)\n",
    "# no caso de precisarmos convert para lista,  e fazer uma ordenação apenas colocamos o sorted no inicio da conversao\n",
    "nova_lista=sorted(list(set(lista))) # set cria conjunto sem elemento repetidos,  e depois volta  criar a lista\n",
    "print(nova_lista)"
   ]
  },
  {
   "cell_type": "code",
   "execution_count": 11,
   "metadata": {},
   "outputs": [
    {
     "name": "stdout",
     "output_type": "stream",
     "text": [
      "['Laranja', 'Morango', 'Maça', 'Perâ', 'Pêssego']\n"
     ]
    }
   ],
   "source": [
    "# caso exista mais do que uma ocorrencia de um fruto remove completamente da lista\n",
    "\n",
    "lista = ['Laranja','Banana','Morango','Maça','Perâ','Pêssego','Banana','Banana']\n",
    "nova_lista = []\n",
    "\n",
    "for fruto in lista: \n",
    "    qt = lista.count(fruto) # se existir mais do que 1 elimina todas as ocorrencias desse fruto\n",
    "    if qt >1: #remove todas as ocorrencias que sejam maior do que 1 vez,  ou seja tudo que for maior que 1 será removido da lista\n",
    "        while fruto in lista:\n",
    "            lista.remove(fruto)\n",
    "     \n",
    "print(lista) #>> output = ['Laranja', 'Morango', 'Maça', 'Perâ', 'Pêssego']\n"
   ]
  },
  {
   "cell_type": "code",
   "execution_count": 22,
   "metadata": {},
   "outputs": [
    {
     "name": "stdout",
     "output_type": "stream",
     "text": [
      "lista gerada é  [68, 73, 81, 95, 54, 68, 98, 52, 80, 61]\n",
      "este elemento x ocorrer 1 vezes na listas\n"
     ]
    },
    {
     "ename": "KeyboardInterrupt",
     "evalue": "",
     "output_type": "error",
     "traceback": [
      "\u001b[1;31m---------------------------------------------------------------------------\u001b[0m",
      "\u001b[1;31mKeyboardInterrupt\u001b[0m                         Traceback (most recent call last)",
      "\u001b[1;32mc:\\UserData\\z004hedj\\OneDrive - Siemens AG\\Ambiente de Trabalho\\GIT\\newMilestone\\newMilestone\\python\\Aulas_Formação_python\\aula_notebook_02.ipynb Cell 8\u001b[0m in \u001b[0;36m<cell line: 23>\u001b[1;34m()\u001b[0m\n\u001b[0;32m     <a href='vscode-notebook-cell:/c%3A/UserData/z004hedj/OneDrive%20-%20Siemens%20AG/Ambiente%20de%20Trabalho/GIT/newMilestone/newMilestone/python/Aulas_Forma%C3%A7%C3%A3o_python/aula_notebook_02.ipynb#X10sZmlsZQ%3D%3D?line=20'>21</a>\u001b[0m pos \u001b[39m=\u001b[39m []\n\u001b[0;32m     <a href='vscode-notebook-cell:/c%3A/UserData/z004hedj/OneDrive%20-%20Siemens%20AG/Ambiente%20de%20Trabalho/GIT/newMilestone/newMilestone/python/Aulas_Forma%C3%A7%C3%A3o_python/aula_notebook_02.ipynb#X10sZmlsZQ%3D%3D?line=21'>22</a>\u001b[0m i \u001b[39m=\u001b[39m \u001b[39m0\u001b[39m\n\u001b[1;32m---> <a href='vscode-notebook-cell:/c%3A/UserData/z004hedj/OneDrive%20-%20Siemens%20AG/Ambiente%20de%20Trabalho/GIT/newMilestone/newMilestone/python/Aulas_Forma%C3%A7%C3%A3o_python/aula_notebook_02.ipynb#X10sZmlsZQ%3D%3D?line=22'>23</a>\u001b[0m \u001b[39mwhile\u001b[39;00m i \u001b[39m<\u001b[39;49m \u001b[39mlen\u001b[39;49m(lista): \u001b[39m# for i in range(len(lista))\u001b[39;00m\n\u001b[0;32m     <a href='vscode-notebook-cell:/c%3A/UserData/z004hedj/OneDrive%20-%20Siemens%20AG/Ambiente%20de%20Trabalho/GIT/newMilestone/newMilestone/python/Aulas_Forma%C3%A7%C3%A3o_python/aula_notebook_02.ipynb#X10sZmlsZQ%3D%3D?line=23'>24</a>\u001b[0m     \u001b[39mif\u001b[39;00m lista[i]\u001b[39m==\u001b[39mx:         \u001b[39m# if \u001b[39;00m\n\u001b[0;32m     <a href='vscode-notebook-cell:/c%3A/UserData/z004hedj/OneDrive%20-%20Siemens%20AG/Ambiente%20de%20Trabalho/GIT/newMilestone/newMilestone/python/Aulas_Forma%C3%A7%C3%A3o_python/aula_notebook_02.ipynb#X10sZmlsZQ%3D%3D?line=24'>25</a>\u001b[0m         pos\u001b[39m.\u001b[39mappend(i)\n",
      "\u001b[1;31mKeyboardInterrupt\u001b[0m: "
     ]
    }
   ],
   "source": [
    "'''\n",
    "Exercicio 16. \n",
    "'''\n",
    "\n",
    "from random import randint\n",
    "\n",
    "qt=int(input(\"quantos elementos prentede gerar na lista de valores?: \"))\n",
    "limite_inf = int(input(\"qual o limite inferior? \"))\n",
    "limite_sup = int(input(f\"pretende gerar o valores de {limite_inf} até quanto?: \"))\n",
    "\n",
    "lista = []\n",
    "for x in range(qt):\n",
    "    lista.append(randint(limite_inf,limite_sup))\n",
    "print(f\"lista gerada é  {lista}\")\n",
    "\n",
    "x = int(input(\"qual o elemento que procura\"))\n",
    "\n",
    "qtx = lista.count(x)\n",
    "print(f\"este elemento x ocorrer {qtx} vezes na listas\")\n",
    "\n",
    "pos = []\n",
    "i = 0\n",
    "while i < len(lista): # for i in range(len(lista))\n",
    "    if lista[i]==x:         # if \n",
    "        pos.append(i)\n",
    "    i = i +i\n",
    "print(f\"ocorre nas indices {pos}\")\n",
    "\n"
   ]
  },
  {
   "cell_type": "code",
   "execution_count": 23,
   "metadata": {},
   "outputs": [
    {
     "name": "stdout",
     "output_type": "stream",
     "text": [
      "lista gerada é  [2, 4, 5, 2, 1]\n",
      "este elemento x ocorrer 1 vezes na listas\n",
      "ocorre nas indices [1]\n"
     ]
    }
   ],
   "source": [
    "'''\n",
    "Exercicio 16. \n",
    "'''\n",
    "\n",
    "from random import randint\n",
    "\n",
    "qt=int(input(\"quantos elementos prentede gerar na lista de valores?: \"))\n",
    "limite_inf = int(input(\"qual o limite inferior? \"))\n",
    "limite_sup = int(input(f\"pretende gerar o valores de {limite_inf} até quanto?: \"))\n",
    "\n",
    "lista = []\n",
    "for x in range(qt):\n",
    "    lista.append(randint(limite_inf,limite_sup))\n",
    "print(f\"lista gerada é  {lista}\")\n",
    "\n",
    "x = int(input(\"qual o elemento que procura\"))\n",
    "\n",
    "qtx = lista.count(x)\n",
    "print(f\"este elemento x ocorrer {qtx} vezes na listas\")\n",
    "\n",
    "pos = []\n",
    "\n",
    "for i, elem in enumerate(lista): #inidice,  elemento\n",
    "    if elem == x:\n",
    "        pos.append(i)\n",
    "print(f\"ocorre nas indices {pos}\")"
   ]
  },
  {
   "cell_type": "code",
   "execution_count": 25,
   "metadata": {},
   "outputs": [
    {
     "name": "stdout",
     "output_type": "stream",
     "text": [
      "lista gerada é [4, 7, 8, 7, 8, 10, 4, 10, 6, 4]\n",
      "da lista gerada,  os 5 maiores valores sao [10, 10, 8, 8, 7]\n"
     ]
    }
   ],
   "source": [
    "def maiores(lista):\n",
    "    maiores = []\n",
    "    \n",
    "#[2,5,4,7,6,3,5,9,7] obter maixom da lista\n",
    "# guardar o maiximo da lista d maiores #[9]\n",
    "# remover o maximo da lista\n",
    "\n",
    "    for x in range(5):\n",
    "        maior = max(lista) # obter o maximo\n",
    "        maiores.append(maior) # guardar o maximo na lsita deos maiores\n",
    "        lista.remove(maior)  #remover o maximo da lista\n",
    "    return maiores\n",
    "\n",
    "\n",
    "###################################################################################\n",
    "qt = 10\n",
    "limite_inf = int(input(\"qual o limite inferior? \"))\n",
    "limite_sup = int(input(f\"pretende gerar o valores de {limite_inf} até quanto?: \"))\n",
    "\n",
    "from random import randint\n",
    "\n",
    "lista = []\n",
    "for x in range(qt):\n",
    "    lista.append(randint(limite_inf,limite_sup))\n",
    "\n",
    "print(f\"lista gerada é {lista}\")\n",
    "resp = maiores(lista)\n",
    "print(f\"da lista gerada,  os 5 maiores valores sao {resp}\")\n"
   ]
  },
  {
   "cell_type": "code",
   "execution_count": 28,
   "metadata": {},
   "outputs": [
    {
     "name": "stdout",
     "output_type": "stream",
     "text": [
      "[2, 3, 4, 5, 5, 6, 7, 7, 9]\n",
      "[9, 7, 7, 6, 5, 5, 4, 3, 2]\n",
      "[2, 3, 4, 5, 5, 6, 7, 7, 9]\n",
      "[2, 3, 4, 5, 5, 6, 7, 7, 9]\n"
     ]
    }
   ],
   "source": [
    "# forma de ordenar para o maior ou para o menor\n",
    "\n",
    "lista = [2,5,4,7,6,3,5,9,7]\n",
    "lista.sort()\n",
    "print(lista)\n",
    "\n",
    "lista.sort(reverse=True)\n",
    "print(lista)\n",
    "\n",
    "lista.sort(reverse=False)\n",
    "print(lista)\n",
    "\n",
    "lista[-1:-6:-1]\n",
    "print(lista)"
   ]
  },
  {
   "cell_type": "code",
   "execution_count": 29,
   "metadata": {},
   "outputs": [
    {
     "data": {
      "text/plain": [
       "'c:\\\\UserData\\\\z004hedj\\\\OneDrive - Siemens AG\\\\Ambiente de Trabalho\\\\GIT\\\\newMilestone\\\\newMilestone\\\\python\\\\Aulas_Formação_python'"
      ]
     },
     "execution_count": 29,
     "metadata": {},
     "output_type": "execute_result"
    }
   ],
   "source": [
    "pwd"
   ]
  },
  {
   "cell_type": "markdown",
   "metadata": {},
   "source": [
    "# this is a basic markdown syntax to use between notebooks\n",
    "\n",
    "# this is a heading\n",
    "## this is a heading2\n",
    "### this is a heading3\n",
    "\n",
    "Regular test\n",
    "\n",
    "*italic text*\n",
    "\n",
    "**bold text**\n",
    "\n",
    "* Point1\n",
    "\n",
    "1. point1\n",
    "\n"
   ]
  },
  {
   "cell_type": "code",
   "execution_count": null,
   "metadata": {},
   "outputs": [],
   "source": []
  }
 ],
 "metadata": {
  "kernelspec": {
   "display_name": "Python 3.10.2 64-bit",
   "language": "python",
   "name": "python3"
  },
  "language_info": {
   "codemirror_mode": {
    "name": "ipython",
    "version": 3
   },
   "file_extension": ".py",
   "mimetype": "text/x-python",
   "name": "python",
   "nbconvert_exporter": "python",
   "pygments_lexer": "ipython3",
   "version": "3.10.2"
  },
  "orig_nbformat": 4,
  "vscode": {
   "interpreter": {
    "hash": "fbe58ca63fe33f9eeae9e71d10368d2b4a57f2b1b395836210cc60d362c66949"
   }
  }
 },
 "nbformat": 4,
 "nbformat_minor": 2
}
