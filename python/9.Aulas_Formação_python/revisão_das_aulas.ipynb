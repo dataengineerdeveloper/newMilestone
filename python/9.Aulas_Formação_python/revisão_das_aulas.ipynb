{
 "cells": [
  {
   "cell_type": "code",
   "execution_count": 24,
   "metadata": {},
   "outputs": [
    {
     "name": "stdout",
     "output_type": "stream",
     "text": [
      "['apple', 'organge', 'banana']\n",
      "['apple', 'organge', 'banana']pie\n"
     ]
    }
   ],
   "source": [
    "f = [\"apple\",\"organge\",\"banana\"]\n",
    "for fx in range (1):\n",
    "    print(f)\n",
    "    print(str(f) + \"pie\")"
   ]
  },
  {
   "cell_type": "code",
   "execution_count": 32,
   "metadata": {},
   "outputs": [
    {
     "name": "stdout",
     "output_type": "stream",
     "text": [
      "['csvdfdf', 'fsdfsdfsdsdf']\n"
     ]
    }
   ],
   "source": [
    "x = ['csv_dfdf','fsdfsdfsd_sdf']\n",
    "new_x = []\n",
    "\n",
    "for y in x:\n",
    "    new_x.append(y.replace('_',''))\n",
    "print(new_x)"
   ]
  },
  {
   "cell_type": "code",
   "execution_count": 35,
   "metadata": {},
   "outputs": [
    {
     "name": "stdout",
     "output_type": "stream",
     "text": [
      "fsdfsdfsdsdf\n"
     ]
    }
   ],
   "source": [
    "x = 'fsdfsdf-sd&_sdf'\n",
    "x_validate = ['_','-','&']\n",
    "\n",
    "for y in x_validate:\n",
    "    x = x.replace(y, '')    \n",
    "print(x)"
   ]
  },
  {
   "cell_type": "code",
   "execution_count": 53,
   "metadata": {},
   "outputs": [
    {
     "name": "stdout",
     "output_type": "stream",
     "text": [
      "louis is going to drink: milk\n",
      "the value to pay: 100\n",
      "the option is: False\n",
      "amount of milk to drink: 1.5L\n"
     ]
    }
   ],
   "source": [
    "food: str = 'milk'\n",
    "print(f\"louis is going to drink: {food}\")\n",
    "\n",
    "food_amount: int = 100\n",
    "print(f\"the value to pay: {food_amount}\")\n",
    "\n",
    "food_bool: bool = False\n",
    "print(f\"the option is: {food_bool}\")\n",
    "\n",
    "food_float:  float = 1.5\n",
    "print(f\"amount of milk to drink: {food_float}L\")"
   ]
  },
  {
   "cell_type": "markdown",
   "metadata": {},
   "source": [
    "### string format alternatives"
   ]
  },
  {
   "cell_type": "code",
   "execution_count": 56,
   "metadata": {},
   "outputs": [
    {
     "name": "stdout",
     "output_type": "stream",
     "text": [
      "\n",
      "Received order from: Cece\n",
      "Pizza Base: Thin, Size: 12 inches, Topping: Olives\n",
      "Is Extra Cheese required: True\n",
      "Bill Amount: $8.99\n",
      "\n"
     ]
    }
   ],
   "source": [
    "customer: str = \"Cece\"\n",
    "pizza_base: str = \"Thin\"\n",
    "pizza_size: int = 12\n",
    "topping: str = \"Olives\"\n",
    "extra_cheese: bool = True\n",
    "price: float = 8.99\n",
    "\n",
    "#print(f\"Received order from: {customer}\")\n",
    "#print(f\"Pizza Base: {pizza_base}, Size: {pizza_size} inches, Topping: {topping}\")\n",
    "#print(f\"Is Extra Cheese required: {extra_cheese}\")\n",
    "#print(f\"Bill Amount: ${price}\")\n",
    "\n",
    "order_details: str= f\"\"\"\n",
    "Received order from: {customer}\n",
    "Pizza Base: {pizza_base}, Size: {pizza_size} inches, Topping: {topping}\n",
    "Is Extra Cheese required: {extra_cheese}\n",
    "Bill Amount: ${price}\n",
    "\"\"\"\n",
    "print(order_details)"
   ]
  },
  {
   "cell_type": "markdown",
   "metadata": {},
   "source": [
    "### Decisions"
   ]
  },
  {
   "cell_type": "code",
   "execution_count": 65,
   "metadata": {},
   "outputs": [
    {
     "name": "stdout",
     "output_type": "stream",
     "text": [
      "you are eligible for license\n"
     ]
    }
   ],
   "source": [
    "age = int(input(\"insert your age: \"))\n",
    "region = 'lisboa'\n",
    "\n",
    "if age < 16:\n",
    "    print('you can not learn to drive')   \n",
    "elif age >= 85:\n",
    "    print('you should stop to drive')\n",
    "else:\n",
    "    print(\"you are eligible for license\") "
   ]
  },
  {
   "cell_type": "code",
   "execution_count": 69,
   "metadata": {},
   "outputs": [
    {
     "name": "stdout",
     "output_type": "stream",
     "text": [
      "you can start to drive\n"
     ]
    }
   ],
   "source": [
    "age = int(input(\"insert your age: \"))\n",
    "region = str(input(\"where do you live\"))\n",
    "\n",
    "if age < 16:\n",
    "    print('you can not learn to drive')\n",
    "elif age >= 16:\n",
    "    print('you can start to drive')\n",
    "elif age < 16 and region == 'Porto' or region == 'Braga':\n",
    "    print(\" you can start to drive\")\n",
    "else:\n",
    "    print(\"you are eligible for license\") "
   ]
  },
  {
   "cell_type": "markdown",
   "metadata": {},
   "source": [
    "### for"
   ]
  },
  {
   "cell_type": "code",
   "execution_count": 70,
   "metadata": {},
   "outputs": [
    {
     "name": "stdout",
     "output_type": "stream",
     "text": [
      "l\n",
      "u\n",
      "i\n",
      "s\n"
     ]
    }
   ],
   "source": [
    "name = str(input('insert your name: '))\n",
    "\n",
    "for x in name:\n",
    "    print(x)"
   ]
  },
  {
   "cell_type": "markdown",
   "metadata": {},
   "source": [
    "### while   "
   ]
  },
  {
   "cell_type": "code",
   "execution_count": 77,
   "metadata": {},
   "outputs": [
    {
     "name": "stdout",
     "output_type": "stream",
     "text": [
      "earth\n"
     ]
    }
   ],
   "source": [
    "correct: bool =  False\n",
    "guess: str = \"\"\n",
    "correct_answer=\" Mart\"\n",
    "\n",
    "while correct is not True:\n",
    "    guess =  str(input(\"can you guess my planet: \"))\n",
    "    if guess.lower() == correct_answer.lower():\n",
    "        print('you answer is correct')\n",
    "        correct = True\n",
    "    else:\n",
    "        print(\"wrong answer!\")\n",
    "    \n"
   ]
  },
  {
   "cell_type": "code",
   "execution_count": null,
   "metadata": {},
   "outputs": [],
   "source": [
    "# tenho de indicar o variable boliana\n",
    "correct: bool =  True\n",
    "# o espaço para o requester advinhar\n",
    "guess: str = \"\"\n",
    "#indicar a resposta correta desta forma consigo validar quando aresposta for verdadeira e o meu while pode parar\n",
    "correct_answer=\" Mart\"\n",
    "\n",
    "# enquando este ciclo nao for verdade continua em loop\n",
    "while True:\n",
    "    #enquando nao for verdade vou estar a pedir ao requester para inserir os nomes ate advinhar\n",
    "    guess =  str(input(\"can you guess my planet: \"))\n",
    "    #no caso de requester advinhar vou ter de indicar que a resposta é correta e que mal a opção seja verdadeira a o meu loop vai fazer um break\n",
    "    if guess.lower() == correct_answer.lower():\n",
    "        print('you answer is correct')\n",
    "        break\n",
    "    #enquanto nao advinhar,  vai apresentar sempre a mensagem que está errada\n",
    "    else:\n",
    "        print(\"wrong answer!\")\n",
    "    "
   ]
  },
  {
   "cell_type": "markdown",
   "metadata": {},
   "source": [
    "### match"
   ]
  },
  {
   "cell_type": "code",
   "execution_count": 79,
   "metadata": {},
   "outputs": [
    {
     "name": "stdout",
     "output_type": "stream",
     "text": [
      "white\n",
      "louis has nothing in white color\n"
     ]
    }
   ],
   "source": [
    "fav_color:str = (input(\"insert your favorite color: \")).lower()\n",
    "\n",
    "match fav_color:\n",
    "    case \"Black\":\n",
    "        print(\"louis has a black tshirt\")\n",
    "    case \"Red\":\n",
    "        print(\"louis has a red tshirt\")\n",
    "    case _:\n",
    "        print(f\"louis has nothing in {fav_color} color\")"
   ]
  },
  {
   "cell_type": "markdown",
   "metadata": {},
   "source": [
    "### concept to approach a problem\n",
    "\n",
    "* VOC-DTP\n",
    "    * Visualize / outline / code\n",
    "    * Debug / test / Polish\n",
    "\n",
    "* visualize - we will have 2 characters (super heroes and super villans)\n",
    "* outline  - \n",
    "    * Properties:  fire or attack power / life\n",
    "    * constraints: avengers can attack only in pairs\n",
    "    * only 3 chances\n",
    "    * logic: how to simulate the attack\n"
   ]
  },
  {
   "cell_type": "code",
   "execution_count": 86,
   "metadata": {},
   "outputs": [
    {
     "name": "stdout",
     "output_type": "stream",
     "text": [
      "\n",
      "--------------------------------------------------------------------\n",
      "zortan is under attack,  choose the pair no. that will atack Thanos\n",
      "\n",
      "1) Ironman & Black widow\n",
      "2) Black Widow & Spiderman\n",
      "3) Spiderman & Hulk\n",
      "4) Hulk & Ironman\n",
      "--------------------------------------------------------------------\n",
      "\n",
      "Hulk & ironman are attacking thanos...\n",
      "\n",
      "--------------------------------------------------------------------\n",
      "zortan is under attack,  choose the pair no. that will atack Thanos\n",
      "\n",
      "1) Ironman & Black widow\n",
      "2) Black Widow & Spiderman\n",
      "3) Spiderman & Hulk\n",
      "4) Hulk & Ironman\n",
      "--------------------------------------------------------------------\n",
      "\n",
      "Hulk & ironman are attacking thanos...\n",
      "\n",
      "--------------------------------------------------------------------\n",
      "zortan is under attack,  choose the pair no. that will atack Thanos\n",
      "\n",
      "1) Ironman & Black widow\n",
      "2) Black Widow & Spiderman\n",
      "3) Spiderman & Hulk\n",
      "4) Hulk & Ironman\n",
      "--------------------------------------------------------------------\n",
      "\n",
      "spiderman & Hulk are attacking thanos...\n",
      "you sucessfully saved Zortan\n"
     ]
    }
   ],
   "source": [
    "from typing import Final\n",
    "#this is not a variable is a constant because i don't want this to change in our program\n",
    "IRON_MAN_POWER:Final[int] = 250\n",
    "BLACKWIDOW_POWER:Final[int] = 180\n",
    "SPIDERMAN_POWER:Final[int] = 190\n",
    "HULK_POWER:Final[int] = 300\n",
    "\n",
    "thanos_life:int=1500\n",
    "choice=0\n",
    "attack_num = 0\n",
    "\n",
    "WIN_MSG: Final[str] = 'you sucessfully saved Zortan'\n",
    "LOST_MSG: Final[str] = 'thanos killed avengers and captured Zortan'\n",
    "\n",
    "#declare helper messages\n",
    "MSG = \"\"\"\n",
    "--------------------------------------------------------------------\n",
    "zortan is under attack,  choose the pair no. that will atack Thanos\n",
    "\n",
    "1) Ironman & Black widow\n",
    "2) Black Widow & Spiderman\n",
    "3) Spiderman & Hulk\n",
    "4) Hulk & Ironman\n",
    "--------------------------------------------------------------------\n",
    "\"\"\"\n",
    "\n",
    "\n",
    "while True:\n",
    "    \n",
    "    #Win / loose\n",
    "    #win\n",
    "    if thanos_life <=0 and attack_num <=3:\n",
    "        print(WIN_MSG)\n",
    "        break\n",
    "    elif attack_num >=3:\n",
    "        print(LOST_MSG)\n",
    "        break\n",
    "    \n",
    "    print(MSG)\n",
    "    choice = int(input(\"enter you pair no >>> \"))\n",
    "\n",
    "    if choice ==1:\n",
    "        print(\"ironman & blackwidow are attacking thanos...\")\n",
    "        thanos_life = thanos_life -IRON_MAN_POWER - BLACKWIDOW_POWER\n",
    "        attack_num = attack_num+1\n",
    "    elif choice==2:\n",
    "        print(\"blackwidow & spidermand are attacking thanos...\")\n",
    "        thanos_life = thanos_life - BLACKWIDOW_POWER - SPIDERMAN_POWER\n",
    "        attack_num = attack_num+1\n",
    "    elif choice==3:\n",
    "        print(\"spiderman & Hulk are attacking thanos...\")\n",
    "        thanos_life = thanos_life - SPIDERMAN_POWER - HULK_POWER\n",
    "        attack_num = attack_num+1\n",
    "    elif choice==4:\n",
    "        print(\"Hulk & ironman are attacking thanos...\")\n",
    "        thanos_life = thanos_life - HULK_POWER - IRON_MAN_POWER\n",
    "        attack_num = attack_num+1\n"
   ]
  },
  {
   "cell_type": "markdown",
   "metadata": {},
   "source": [
    "### * List"
   ]
  },
  {
   "cell_type": "code",
   "execution_count": 21,
   "metadata": {},
   "outputs": [
    {
     "name": "stdout",
     "output_type": "stream",
     "text": [
      "4\n",
      "all the friends['cece', 'roko', 'chiko', 'niko']\n",
      "zola ['cece', 'roko', 'chiko', 'niko']\n",
      "zola ['cece', 'roko', 'chiko', 'niko']\n",
      "zola ['cece', 'roko', 'chiko', 'niko']\n",
      "zola ['cece', 'roko', 'chiko', 'niko']\n",
      "this is the lenght of this list: 4\n",
      "this isn't our friends anymore: niko\n",
      "['cece', 'roko', 'chiko', 'ziko']\n",
      "chiko\n",
      "['cece', 'chiko', 'ziko']\n",
      "['cece', 'roko', 'chiko', 'ziko']\n",
      "he's in the list\n",
      "['niko', 'cece', 'roko', 'chiko', 'ziko']\n",
      "['cece', 'chiko', 'niko', 'roko', 'ziko']\n",
      "['ziko', 'roko', 'niko', 'chiko', 'cece']\n",
      "['cece', 'chiko', 'niko', 'roko', 'ziko']\n"
     ]
    }
   ],
   "source": [
    "friends : list[str] = [\"cece\",\"roko\",\"chiko\",\"niko\"]\n",
    "print(len(friends))\n",
    "print(f\"all the friends{friends}\")\n",
    "\n",
    "for x in friends:\n",
    "    print(f\"zola {friends}\")\n",
    "    \n",
    "print(f\"this is the lenght of this list: {len(friends)}\")\n",
    "\n",
    "unfriend = friends.pop()\n",
    "print(f\"this isn't our friends anymore: {unfriend}\")\n",
    "\n",
    "friends.append('ziko')\n",
    "print(friends)\n",
    "\n",
    "print(friends[2])\n",
    "\n",
    "friends.remove(\"roko\")\n",
    "print(friends)\n",
    "\n",
    "friends.insert(1, \"roko\")\n",
    "print(friends)\n",
    "\n",
    "if \"roko\" in friends:\n",
    "    print(\"he's in the list\")\n",
    "else:\n",
    "    print(\"he is not in the list\")\n",
    "    \n",
    "friends.insert(0, 'niko')\n",
    "print(friends)\n",
    "\n",
    "friends.sort()\n",
    "print(friends)\n",
    "\n",
    "friends.reverse()\n",
    "print(friends)\n",
    "\n",
    "friends.sort(reverse=False)\n",
    "print(friends)\n",
    "\n",
    "\n",
    "#in this case i'm removing a person by his index, using pop and define the index in this case 2\n",
    "unfriend = friends.pop(2)\n",
    "print(f\"this isn't our friends anymore: {unfriend}\")\n",
    "\n"
   ]
  },
  {
   "cell_type": "markdown",
   "metadata": {},
   "source": [
    "### * Tuples"
   ]
  },
  {
   "cell_type": "code",
   "execution_count": null,
   "metadata": {},
   "outputs": [],
   "source": []
  }
 ],
 "metadata": {
  "kernelspec": {
   "display_name": "Python 3.10.2 64-bit",
   "language": "python",
   "name": "python3"
  },
  "language_info": {
   "codemirror_mode": {
    "name": "ipython",
    "version": 3
   },
   "file_extension": ".py",
   "mimetype": "text/x-python",
   "name": "python",
   "nbconvert_exporter": "python",
   "pygments_lexer": "ipython3",
   "version": "3.10.2"
  },
  "orig_nbformat": 4,
  "vscode": {
   "interpreter": {
    "hash": "fbe58ca63fe33f9eeae9e71d10368d2b4a57f2b1b395836210cc60d362c66949"
   }
  }
 },
 "nbformat": 4,
 "nbformat_minor": 2
}
