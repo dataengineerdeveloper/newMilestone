{
 "cells": [
  {
   "cell_type": "code",
   "execution_count": 3,
   "metadata": {},
   "outputs": [
    {
     "name": "stdout",
     "output_type": "stream",
     "text": [
      "Pink\n"
     ]
    }
   ],
   "source": [
    "# exe3\n",
    "\n",
    "dic = {\n",
    "    'preto':'Black',\n",
    "    'Branco':'White',\n",
    "    'Azul':'Blue',\n",
    "    'Verde':'Green',\n",
    "    'Amarelo':'Yellow',\n",
    "    'Castanho':'Brown',\n",
    "    'Rosa':'Pink',\n",
    "    'Laranja':'Orange',\n",
    "    'Cinzento':'Gray'\n",
    "    }\n",
    "print(dic['Rosa'])"
   ]
  },
  {
   "cell_type": "code",
   "execution_count": 5,
   "metadata": {},
   "outputs": [
    {
     "name": "stdout",
     "output_type": "stream",
     "text": [
      "a cor que escolheu foi Pink\n"
     ]
    }
   ],
   "source": [
    "chave = input(\"inserir a uma cor: \").title()\n",
    "\n",
    "#\n",
    "print(f'a cor que escolheu foi {dic[chave]}')"
   ]
  },
  {
   "cell_type": "code",
   "execution_count": 6,
   "metadata": {},
   "outputs": [
    {
     "name": "stdout",
     "output_type": "stream",
     "text": [
      " as cores disponiveis sao: ['preto', 'Branco', 'Azul', 'Verde', 'Amarelo', 'Castanho', 'Rosa', 'Laranja', 'Cinzento']\n",
      "Amarelo -> Yellow\n"
     ]
    }
   ],
   "source": [
    "lista = list(dic.keys())\n",
    "\n",
    "print(f' as cores disponiveis sao: {lista}')\n",
    "\n",
    "try:\n",
    "    chave = input(\"inserir uma coisa: \").title()\n",
    "    print(f\"{chave} -> {dic[chave]}\")\n",
    "except:\n",
    "    print(f\"A cor{chave} esta disponivel para traduçao\")\n",
    "\n"
   ]
  },
  {
   "cell_type": "code",
   "execution_count": null,
   "metadata": {},
   "outputs": [],
   "source": [
    "dic = {\n",
    "    'preto':'Black',\n",
    "    'Branco':'White',\n",
    "    'Azul':'Blue',\n",
    "    'Verde':'Green',\n",
    "    'Amarelo':'Yellow',\n",
    "    'Castanho':'Brown',\n",
    "    'Rosa':'Pink',\n",
    "    'Laranja':'Orange',\n",
    "    'Cinzento':'Gray'\n",
    "    }\n",
    "\n",
    "for chave, valor  in dic.items():\n",
    "    print(f\"key={chave} e value={valor}\")\n",
    "    input()"
   ]
  },
  {
   "cell_type": "code",
   "execution_count": 8,
   "metadata": {},
   "outputs": [
    {
     "name": "stdout",
     "output_type": "stream",
     "text": [
      "Pink\n",
      "{'preto': ('Black', 'Koo'), 'Branco': ('White', 'Oijo'), 'Azul': ('Blue', 'Oij'), 'Verde': ('Green', 'Jok'), 'Amarelo': ('Yellow', 'Joij'), 'Castanho': ('Brown', 'Ijij'), 'Rosa': ('Pink', 'Jhnih'), 'Laranja': ('Orange', 'Uhiuh'), 'Cinzento': ('Gray', 'Úhiuh')}\n"
     ]
    }
   ],
   "source": [
    "#Ex4\n",
    "dic = {\n",
    "    'preto':'Black',\n",
    "    'Branco':'White',\n",
    "    'Azul':'Blue',\n",
    "    'Verde':'Green',\n",
    "    'Amarelo':'Yellow',\n",
    "    'Castanho':'Brown',\n",
    "    'Rosa':'Pink',\n",
    "    'Laranja':'Orange',\n",
    "    'Cinzento':'Gray'\n",
    "    }\n",
    "print(dic['Rosa'])\n",
    "#percorrer uma chave de cada vez\n",
    "#pedir a tradução em francês\n",
    "#substituir O valor da key pelo tuplo\n",
    "#tuplo -> O que estava + nome em francês\n",
    "for chave, valor in dic.items():\n",
    "      #print (\"ANTES=\" ,dici [chave])\n",
    "      fr = input (f'Qual a tradução de {chave} em francês: ').title()\n",
    "      ing = valor\n",
    "      dic[chave] = (ing, fr)\n",
    "      #print (\"APOS=\" ,dici [chave])\n",
    "      #input (()\n",
    "print (dic)\n"
   ]
  },
  {
   "cell_type": "code",
   "execution_count": null,
   "metadata": {},
   "outputs": [],
   "source": [
    "00639204,00655116,00655810,00670725,00684444,00690206,00693101,00702086,00704225,00705334,00706325,00710525,00715623,00715632,00722493,00733484,00739842,00740518,00743317,00744525,00744808,00755928,00758473,00758477,00758490,00763462,00765731,00770387,00770660,00773430,00776096,3005292981 ,3005339630 ,3005339690 ,3005339703 ,3005339711 ,3005339824 ,3005377957 ,3004847826 ,3005583178 ,3006040350 ,3006064817 ,3006100816 ,3006100934 ,3006116384 ,3003842524 ,3005882728 ,3005913990 ,3005977264 ,3005977313 ,3006191561 ,3006202336 ,3006211258 ,3006220520 ,3006329469 ,3006329496 ,3006360028 ,3006429151 ,3006440351 ,00782517 ,00784422 ,00784942 ,00784962 ,00804217 ,3005723263 ,3006492025 ,3006498163 ,3006545450 ,3006591742 ,3006863860 ,3006122486 ,3006677129 ,3007668179 ,00807392 ,00809944 ,3007463431\n",
    "\n"
   ]
  },
  {
   "cell_type": "code",
   "execution_count": 13,
   "metadata": {},
   "outputs": [
    {
     "name": "stdout",
     "output_type": "stream",
     "text": [
      " Preto -> Noir\n",
      " Amarelo ->  Jeune\n"
     ]
    }
   ],
   "source": [
    "#como obter a lingua prete\n",
    " \n",
    "dici = {'Preto': 'Black,Noir,Negro','Amarelo' : 'Yellow, Jeune,Amarillo'}\n",
    "for chave, valor in dici. items ():\n",
    "      #valor é uma string\n",
    "        linguas = valor.split(',')\n",
    "        op = input (f\"deseja traduzir {chave} para que lingua (I/F/E)? \").title()\n",
    "        '''\n",
    "        # >>> neste exemplo podemos usar o match ou então if e elif\n",
    "        \n",
    "        match op:\n",
    "           case 'I':\n",
    "                 print (f\" {chave} -> {linguas [0]}\")\n",
    "           case 'F' :\n",
    "                 print (f\" {chave} -> {linguas [1]}\")\n",
    "           case 'E':\n",
    "                 print (f\" {chave} -> {linguas [2]}\")'''\n",
    "                 \n",
    "        if op == 'I':\n",
    "            print (f\" {chave} -> {linguas [0]})\")\n",
    "        elif op == 'F' :\n",
    "            print (f\" {chave} -> {linguas [1]}\")\n",
    "        elif op == 'E' :\n",
    "            print (f\"{chave} -> {linguas[2]}\")\n"
   ]
  },
  {
   "cell_type": "code",
   "execution_count": 19,
   "metadata": {},
   "outputs": [
    {
     "name": "stdout",
     "output_type": "stream",
     "text": [
      "{'legume': ['couve', 'alface', 'repolho', 'couve de bruxelas', 'alho francês', 'beterraba', 'batata', 'cebola', 'pepino', 'beringela', 'penca'], 'fruto': ['banana', 'maçã', 'pêra', 'laranja', 'limão', 'lima', 'pêssego', 'tangerina', 'diospiro', 'castanha', 'noz']}\n"
     ]
    }
   ],
   "source": [
    "f = open('trabalho.txt', 'r', encoding='UTF-8')\n",
    "cont = f.readlines() # ['legume',cebola\\n, 'fruto','banana\\n']\n",
    "\n",
    "d = {}\n",
    "\n",
    "for linhas in cont: # 'legume,cebola\\n'\n",
    "    dados = linhas.split(',') # ['legume','cebola']\n",
    "    tipo = dados[0] # legume ou fruto\n",
    "    \n",
    "    nome = dados[1].replace('\\n','') # retira o \\n\n",
    "    if tipo not in d:\n",
    "        d[tipo] = [nome] # d = {'legume':['cebola]}\n",
    "    else:\n",
    "        d[tipo] = d[tipo]+[nome]\n",
    "print(d)"
   ]
  }
 ],
 "metadata": {
  "kernelspec": {
   "display_name": "Python 3.10.2 64-bit",
   "language": "python",
   "name": "python3"
  },
  "language_info": {
   "codemirror_mode": {
    "name": "ipython",
    "version": 3
   },
   "file_extension": ".py",
   "mimetype": "text/x-python",
   "name": "python",
   "nbconvert_exporter": "python",
   "pygments_lexer": "ipython3",
   "version": "3.10.2"
  },
  "orig_nbformat": 4,
  "vscode": {
   "interpreter": {
    "hash": "fbe58ca63fe33f9eeae9e71d10368d2b4a57f2b1b395836210cc60d362c66949"
   }
  }
 },
 "nbformat": 4,
 "nbformat_minor": 2
}
