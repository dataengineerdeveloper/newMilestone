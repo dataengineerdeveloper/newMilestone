{
 "cells": [
  {
   "cell_type": "code",
   "execution_count": 4,
   "metadata": {},
   "outputs": [
    {
     "name": "stdout",
     "output_type": "stream",
     "text": [
      "estao registadas 14 pessoas\n"
     ]
    }
   ],
   "source": [
    "# Exercicio 1 > Quantas pessoas se encontram registadas?\n",
    "\n",
    "fp = open('dados.csv','r',encoding='UTF-8-SIG') # 'UTF-8-SIG' > ELIMINAR EVENTUAIS CARACTERES OCULTOS DO FICHEIRO .CSV\n",
    "cont = fp.readlines()\n",
    "\n",
    "#print(cont)\n",
    "\n",
    "npessoas = len(cont)\n",
    "print(f\"estao registadas {npessoas} pessoas\")\n",
    "\n"
   ]
  },
  {
   "cell_type": "code",
   "execution_count": null,
   "metadata": {},
   "outputs": [],
   "source": [
    "# alinea B > Qual a quantidade de pessoas distribuídas pelas zonas do país (Norte, Centro, Sul)?\n",
    "\n",
    "import csv\n",
    "from typing import Counter\n",
    "with open('dados.csv') as csvfile:\n",
    "    cidades = []\n",
    "    readCSV = csv.reader(csvfile, delimiter=',')\n",
    "    for x in readCSV:\n",
    "        if x[0] not in cidades:\n",
    "            cidades.append(x[-1])\n",
    "    #print(cidades) # validade de output da opera;'ao anterior\n",
    "\n",
    "print(Counter(cidades))\n"
   ]
  },
  {
   "cell_type": "code",
   "execution_count": null,
   "metadata": {},
   "outputs": [],
   "source": [
    "# alinea C feito pelo professor\n",
    "\n",
    "fp = open('dados.csv','r',encoding='UTF-8-SIG') # 'UTF-8-SIG' > ELIMINAR EVENTUAIS CARACTERES OCULTOS DO FICHEIRO .CSV\n",
    "cont = fp.readlines()\n",
    "\n",
    "#print(cont)\n",
    "\n",
    "npessoas = len(cont)\n",
    "\n",
    "qtN,  qtC,  qtS = 0,0,0\n",
    "\n",
    "for linha in cont:\n",
    "    dados = linha.split(\",\") # dados = \n",
    "    local =  dados[-1] \n",
    "    if local[0] == 'N':\n",
    "        qtN = qtN+1\n",
    "    elif local[0] == 'C':\n",
    "        qtC = qtC+1\n",
    "    elif local[0] == 'S':\n",
    "        qtS = qtS+1\n",
    "print(f\"Norte: {qtN}\")\n",
    "print(f\"Norte: {qtC}\")\n",
    "print(f\"Norte: {qtS}\")\n"
   ]
  },
  {
   "cell_type": "code",
   "execution_count": 3,
   "metadata": {},
   "outputs": [
    {
     "ename": "ZeroDivisionError",
     "evalue": "division by zero",
     "output_type": "error",
     "traceback": [
      "\u001b[1;31m---------------------------------------------------------------------------\u001b[0m",
      "\u001b[1;31mZeroDivisionError\u001b[0m                         Traceback (most recent call last)",
      "\u001b[1;32mc:\\UserData\\z004hedj\\OneDrive - Siemens AG\\Ambiente de Trabalho\\GIT\\newMilestone\\newMilestone\\python\\9.Aulas_Formação_python\\3.exercicios_ficha_3\\exe1.ipynb Cell 4\u001b[0m in \u001b[0;36m<cell line: 24>\u001b[1;34m()\u001b[0m\n\u001b[0;32m     <a href='vscode-notebook-cell:/c%3A/UserData/z004hedj/OneDrive%20-%20Siemens%20AG/Ambiente%20de%20Trabalho/GIT/newMilestone/newMilestone/python/9.Aulas_Forma%C3%A7%C3%A3o_python/3.exercicios_ficha_3/exe1.ipynb#W3sZmlsZQ%3D%3D?line=20'>21</a>\u001b[0m \u001b[39melse\u001b[39;00m:\n\u001b[0;32m     <a href='vscode-notebook-cell:/c%3A/UserData/z004hedj/OneDrive%20-%20Siemens%20AG/Ambiente%20de%20Trabalho/GIT/newMilestone/newMilestone/python/9.Aulas_Forma%C3%A7%C3%A3o_python/3.exercicios_ficha_3/exe1.ipynb#W3sZmlsZQ%3D%3D?line=21'>22</a>\u001b[0m     qt \u001b[39m=\u001b[39m qtS\n\u001b[1;32m---> <a href='vscode-notebook-cell:/c%3A/UserData/z004hedj/OneDrive%20-%20Siemens%20AG/Ambiente%20de%20Trabalho/GIT/newMilestone/newMilestone/python/9.Aulas_Forma%C3%A7%C3%A3o_python/3.exercicios_ficha_3/exe1.ipynb#W3sZmlsZQ%3D%3D?line=23'>24</a>\u001b[0m media \u001b[39m=\u001b[39m (soma \u001b[39m/\u001b[39;49m qt) \u001b[39mif\u001b[39;00m soma \u001b[39m!=\u001b[39m\u001b[39m0\u001b[39m \u001b[39melse\u001b[39;00m \u001b[39m0\u001b[39m \u001b[39m# arredonda a 0 casas decimais\u001b[39;00m\n\u001b[0;32m     <a href='vscode-notebook-cell:/c%3A/UserData/z004hedj/OneDrive%20-%20Siemens%20AG/Ambiente%20de%20Trabalho/GIT/newMilestone/newMilestone/python/9.Aulas_Forma%C3%A7%C3%A3o_python/3.exercicios_ficha_3/exe1.ipynb#W3sZmlsZQ%3D%3D?line=25'>26</a>\u001b[0m \u001b[39mprint\u001b[39m(\u001b[39mf\u001b[39m\u001b[39m\"\u001b[39m\u001b[39ma media de didade da zona \u001b[39m\u001b[39m{\u001b[39;00mzona\u001b[39m}\u001b[39;00m\u001b[39m é de \u001b[39m\u001b[39m{\u001b[39;00mmedia\u001b[39m}\u001b[39;00m\u001b[39m\"\u001b[39m)\n",
      "\u001b[1;31mZeroDivisionError\u001b[0m: division by zero"
     ]
    }
   ],
   "source": [
    "fp = open('dados.csv','r',encoding='UTF-8-SIG') # 'UTF-8-SIG' > ELIMINAR EVENTUAIS CARACTERES OCULTOS DO FICHEIRO .CSV\n",
    "cont = fp.readlines() # cada linha é um elemento da lista\n",
    "qtN,  qtC,  qtS = 0,0,0\n",
    "\n",
    "zona =  input(\"qual a zona do pais que deseja saber a media de idade?: \").title()\n",
    "\n",
    "while zona !='Norte' and zona!='Centro' and zona != 'Sul':\n",
    "    zona =  input(\"qual a zona do pais que deseja saber a media de idade?: \").title()\n",
    "\n",
    "soma = 0 # ira somar as idades de todas as pessias da zona indicada\n",
    "for linha in cont:\n",
    "    dados = linha.split(\",\")\n",
    "    if zona[0] == dados[3][0]:\n",
    "        idade = int(dados[2]) #dados[2] está representado como string\n",
    "        soma = soma + idade\n",
    "\n",
    "if zona[0]=='N':\n",
    "    qt = qtN\n",
    "elif zona[0]=='C':\n",
    "    qt = qtC\n",
    "else:\n",
    "    qt = qtS\n",
    "\n",
    "media = (soma / qt) if soma !=0 else 0 # arredonda a 0 casas decimais\n",
    "\n",
    "print(f\"a media de didade da zona {zona} é de {media}\")\n",
    "        \n"
   ]
  },
  {
   "cell_type": "code",
   "execution_count": 4,
   "metadata": {},
   "outputs": [
    {
     "name": "stdout",
     "output_type": "stream",
     "text": [
      "Ana:Faro\n",
      "Ana:Viana do Castelo\n",
      "Ana:Chaves\n"
     ]
    }
   ],
   "source": [
    "# alinea D\n",
    "\n",
    "l_nomes= []\n",
    "for linha in cont:\n",
    "    dados = linha.split(',')\n",
    "    if dados[0] not in l_nomes:\n",
    "        l_nomes.append(dados[0])\n",
    "\n",
    "nome = input(\"qual o nome a procurar?: \").title()\n",
    "while nome not in l_nomes:\n",
    "    print(\"nome não consta no ficheiro...\")\n",
    "    nome = input(\"qual o nme a procurar? \").title()\n",
    "\n",
    "for linha in cont:\n",
    "    dados = linha.split(',')\n",
    "    if nome == dados[0]:\n",
    "        print(f\"{nome}:{dados[1]}\")\n",
    "        "
   ]
  },
  {
   "cell_type": "code",
   "execution_count": null,
   "metadata": {},
   "outputs": [],
   "source": [
    "# alinea E\n",
    "fp = open('dados.csv','r',encoding='UTF-8-SIG') # 'UTF-8-SIG' > ELIMINAR EVENTUAIS CARACTERES OCULTOS DO FICHEIRO .CSV\n",
    "cont = fp.readlines() # cada linha é um elemento da lista\n",
    "qtN,  qtC,  qtS = 0,0,0\n",
    "# alinea D\n",
    "\n",
    "l_nomes= []\n",
    "for linha in cont:\n",
    "    dados = linha.split(',')\n",
    "    if dados[1] not in l_nomes:\n",
    "        l_nomes.append(dados[1])\n",
    "\n",
    "nome = input(\"qual o nome a procurar?: \").title()\n",
    "while nome not in l_nomes:\n",
    "    print(\"nome não consta no ficheiro...\")\n",
    "    nome = input(\"qual o nme a procurar? \").title()\n",
    "\n",
    "for linha in cont:\n",
    "    dados = linha.split(',')\n",
    "    if nome == dados[1]:\n",
    "        print(f\"{nome}:{dados[1]}\")"
   ]
  },
  {
   "cell_type": "code",
   "execution_count": 4,
   "metadata": {},
   "outputs": [
    {
     "name": "stdout",
     "output_type": "stream",
     "text": [
      "encontram-se registados 2 pessoas na cidade Beja\n"
     ]
    }
   ],
   "source": [
    "## alinea E\n",
    "#Dada uma cidade, calcular quantas pessoas lá vivem.\n",
    "# pedir a ciade à pessoa?\n",
    "# criar a variavele\n",
    "\n",
    "fp = open('dados.csv','r',encoding='UTF-8-SIG') # 'UTF-8-SIG' > ELIMINAR EVENTUAIS CARACTERES OCULTOS DO FICHEIRO .CSV\n",
    "cont = fp.readlines() # cada linha é um elemento da lista\n",
    "\n",
    "cidade = input(\" indique a sua cidade: \").title()\n",
    "#cont -> dividir a string pelas virgula,  se o indicar 1 for igual á variavel de input\n",
    "qt = 0\n",
    "\n",
    "for linha in cont:\n",
    "    dados= linha.split(',')\n",
    "    if dados[1]==cidade:\n",
    "        qt +=1\n",
    "if qt == 0:\n",
    "    print(\"não existem pessoas registadas nessa cidade\")\n",
    "print(f\"encontram-se registados {qt} pessoas na cidade {cidade}\")"
   ]
  },
  {
   "cell_type": "code",
   "execution_count": 10,
   "metadata": {},
   "outputs": [
    {
     "name": "stdout",
     "output_type": "stream",
     "text": [
      "cidades encontradas: ['Faro', 'Porto', 'Coimbra', 'Viana do Castelo', 'Beja', 'Cerveira', 'Covilhã', 'Tavira', 'Chaves', 'Braga']\n",
      "qts de pessoas nas cidades: [4, 1, 1, 1, 2, 1, 1, 1, 1, 1]\n",
      "cidade com mais habitantes é ['Faro'] com pessoas (4)\n",
      "Braga           :   1 pessoas corresponde a 7.1%\n"
     ]
    }
   ],
   "source": [
    "# Qual a cidade com mais habitantes registados no ficheiro?\n",
    "\n",
    "fp = open('dados.csv','r',encoding='UTF-8-SIG') # 'UTF-8-SIG' > ELIMINAR EVENTUAIS CARACTERES OCULTOS DO FICHEIRO .CSV\n",
    "cont = fp.readlines() # cada linha é um elemento da lista\n",
    "\n",
    "cid =[]\n",
    "for linha in cont:\n",
    "    dados = linha.split(',')\n",
    "    if dados[1] not in cid: # junta cidade\n",
    "        cid.append(dados[1])\n",
    "print(f\"cidades encontradas: {cid}\")\n",
    "\n",
    "\n",
    "'''\n",
    "2º ter atençao à lista gerada\n",
    "'''\n",
    "qts = []\n",
    "\n",
    "for cidade in cid:\n",
    "    qtpessoas= 0\n",
    "    for linha in cont:\n",
    "        dados = linha.split(',')\n",
    "        if dados[1] == cidade:\n",
    "            qtpessoas+=1\n",
    "    qts.append(qtpessoas)\n",
    "print(f\"qts de pessoas nas cidades: {qts}\")\n",
    "\n",
    "'''\n",
    "3º encontrar maximo da lista qts = 10 > posicai 10 ocorre na lista\n",
    "as linhas comentadas abaxio nao funcionaa quando temos numero maxmo repetido\n",
    "\n",
    "maximo = max(qts)\n",
    "print(f\"maximo encontrado é {maximo}\")\n",
    "pos=qts.index(maximo)\n",
    "print(f\"maximo ocorre na indice {pos}\")\n",
    "\n",
    "print(f\"a cidade com mais habitantes {cid[pos]}\")\n",
    "'''\n",
    "maximo = max(qts)\n",
    "max_cid=[]\n",
    "for pos, num in enumerate(qts):\n",
    "    if num == maximo:\n",
    "        max_cid.append(cid[pos]) # todas as cidades com numero maximo de habitantes\n",
    "        print(f\"cidade com mais habitantes é {max_cid} com pessoas ({maximo})\")\n",
    "        \n",
    "# G - Determinar a quantidade de pessoas em todas as cidades e qual a percentagem correspondente\n",
    "\n",
    "fp = open('dados.csv','r',encoding='UTF-8-SIG') # 'UTF-8-SIG' > ELIMINAR EVENTUAIS CARACTERES OCULTOS DO FICHEIRO .CSV\n",
    "cont = fp.readlines() # cada linha é um elemento da lista\n",
    "\n",
    "\n",
    "qtpessoas = len(cont)\n",
    "for pos, cidade in enumerate(cid):\n",
    "    valor = qts[pos]\n",
    "    x = valor * 100 /qtpessoas\n",
    "print(f\"{cidade:16}: {valor:3} pessoas corresponde a {x:.1f}%\")\n"
   ]
  },
  {
   "cell_type": "code",
   "execution_count": 11,
   "metadata": {},
   "outputs": [
    {
     "name": "stdout",
     "output_type": "stream",
     "text": [
      "Braga           :   1 pessoas corresponde a 7.1%\n"
     ]
    }
   ],
   "source": [
    "# G - Determinar a quantidade de pessoas em todas as cidades e qual a percentagem correspondente\n",
    "\n",
    "fp = open('dados.csv','r',encoding='UTF-8-SIG') # 'UTF-8-SIG' > ELIMINAR EVENTUAIS CARACTERES OCULTOS DO FICHEIRO .CSV\n",
    "cont = fp.readlines() # cada linha é um elemento da lista\n",
    "\n",
    "\n",
    "qtpessoas = len(cont)\n",
    "for pos, cidade in enumerate(cid):\n",
    "    valor = qts[pos]\n",
    "    x = valor * 100 /qtpessoas\n",
    "print(f\"{cidade:16}: {valor:3} pessoas corresponde a {x:.1f}%\")\n",
    "\n"
   ]
  },
  {
   "cell_type": "code",
   "execution_count": 20,
   "metadata": {},
   "outputs": [
    {
     "ename": "AttributeError",
     "evalue": "'tuple' object has no attribute 'split'",
     "output_type": "error",
     "traceback": [
      "\u001b[1;31m---------------------------------------------------------------------------\u001b[0m",
      "\u001b[1;31mAttributeError\u001b[0m                            Traceback (most recent call last)",
      "\u001b[1;32mc:\\UserData\\z004hedj\\OneDrive - Siemens AG\\Ambiente de Trabalho\\GIT\\newMilestone\\newMilestone\\python\\9.Aulas_Formação_python\\3.exercicios_ficha_3\\exe1.ipynb Cell 10\u001b[0m in \u001b[0;36m<cell line: 5>\u001b[1;34m()\u001b[0m\n\u001b[0;32m      <a href='vscode-notebook-cell:/c%3A/UserData/z004hedj/OneDrive%20-%20Siemens%20AG/Ambiente%20de%20Trabalho/GIT/newMilestone/newMilestone/python/9.Aulas_Forma%C3%A7%C3%A3o_python/3.exercicios_ficha_3/exe1.ipynb#X13sZmlsZQ%3D%3D?line=0'>1</a>\u001b[0m \u001b[39m# h >>> Dado o nome de uma cidade, perguntar se para a respetiva pessoa, pretende mudar de cidade. Se sim, então deve substituir o nome da cidade registado pelo nome da nova cidade.\u001b[39;00m\n\u001b[0;32m      <a href='vscode-notebook-cell:/c%3A/UserData/z004hedj/OneDrive%20-%20Siemens%20AG/Ambiente%20de%20Trabalho/GIT/newMilestone/newMilestone/python/9.Aulas_Forma%C3%A7%C3%A3o_python/3.exercicios_ficha_3/exe1.ipynb#X13sZmlsZQ%3D%3D?line=1'>2</a>\u001b[0m \u001b[39m#fp = open('dados.csv','r',encoding='UTF-8-SIG') # 'UTF-8-SIG' > ELIMINAR EVENTUAIS CARACTERES OCULTOS DO FICHEIRO .CSV\u001b[39;00m\n\u001b[0;32m      <a href='vscode-notebook-cell:/c%3A/UserData/z004hedj/OneDrive%20-%20Siemens%20AG/Ambiente%20de%20Trabalho/GIT/newMilestone/newMilestone/python/9.Aulas_Forma%C3%A7%C3%A3o_python/3.exercicios_ficha_3/exe1.ipynb#X13sZmlsZQ%3D%3D?line=2'>3</a>\u001b[0m \u001b[39m#cont = fp.readlines() # cada linha é um elemento da lista\u001b[39;00m\n\u001b[0;32m      <a href='vscode-notebook-cell:/c%3A/UserData/z004hedj/OneDrive%20-%20Siemens%20AG/Ambiente%20de%20Trabalho/GIT/newMilestone/newMilestone/python/9.Aulas_Forma%C3%A7%C3%A3o_python/3.exercicios_ficha_3/exe1.ipynb#X13sZmlsZQ%3D%3D?line=4'>5</a>\u001b[0m \u001b[39mfor\u001b[39;00m pos, linhas \u001b[39min\u001b[39;00m \u001b[39menumerate\u001b[39m(cont):\n\u001b[1;32m----> <a href='vscode-notebook-cell:/c%3A/UserData/z004hedj/OneDrive%20-%20Siemens%20AG/Ambiente%20de%20Trabalho/GIT/newMilestone/newMilestone/python/9.Aulas_Forma%C3%A7%C3%A3o_python/3.exercicios_ficha_3/exe1.ipynb#X13sZmlsZQ%3D%3D?line=5'>6</a>\u001b[0m     dados \u001b[39m=\u001b[39m linha\u001b[39m.\u001b[39;49msplit(\u001b[39m'\u001b[39m\u001b[39m,\u001b[39m\u001b[39m'\u001b[39m)\n\u001b[0;32m      <a href='vscode-notebook-cell:/c%3A/UserData/z004hedj/OneDrive%20-%20Siemens%20AG/Ambiente%20de%20Trabalho/GIT/newMilestone/newMilestone/python/9.Aulas_Forma%C3%A7%C3%A3o_python/3.exercicios_ficha_3/exe1.ipynb#X13sZmlsZQ%3D%3D?line=6'>7</a>\u001b[0m     op \u001b[39m=\u001b[39m \u001b[39minput\u001b[39m(\u001b[39mf\u001b[39m\u001b[39m\"\u001b[39m\u001b[39m{\u001b[39;00mdados[\u001b[39m0\u001b[39m]\u001b[39m}\u001b[39;00m\u001b[39m da cidade \u001b[39m\u001b[39m{\u001b[39;00mdados[\u001b[39m1\u001b[39m]\u001b[39m}\u001b[39;00m\u001b[39m,  deseja mudar de cidade(s/n).\u001b[39m\u001b[39m\"\u001b[39m)\u001b[39m.\u001b[39mlower()\n\u001b[0;32m      <a href='vscode-notebook-cell:/c%3A/UserData/z004hedj/OneDrive%20-%20Siemens%20AG/Ambiente%20de%20Trabalho/GIT/newMilestone/newMilestone/python/9.Aulas_Forma%C3%A7%C3%A3o_python/3.exercicios_ficha_3/exe1.ipynb#X13sZmlsZQ%3D%3D?line=7'>8</a>\u001b[0m     \u001b[39mwhile\u001b[39;00m op \u001b[39m!=\u001b[39m \u001b[39m'\u001b[39m\u001b[39ms\u001b[39m\u001b[39m'\u001b[39m \u001b[39mand\u001b[39;00m op \u001b[39m!=\u001b[39m \u001b[39m'\u001b[39m\u001b[39mn\u001b[39m\u001b[39m'\u001b[39m:\n",
      "\u001b[1;31mAttributeError\u001b[0m: 'tuple' object has no attribute 'split'"
     ]
    }
   ],
   "source": [
    "# h >>> Dado o nome de uma cidade, perguntar se para a respetiva pessoa, pretende mudar de cidade. Se sim, então deve substituir o nome da cidade registado pelo nome da nova cidade.\n",
    "#fp = open('dados.csv','r',encoding='UTF-8-SIG') # 'UTF-8-SIG' > ELIMINAR EVENTUAIS CARACTERES OCULTOS DO FICHEIRO .CSV\n",
    "#cont = fp.readlines() # cada linha é um elemento da lista\n",
    "\n",
    "for pos, linhas in enumerate(cont):\n",
    "    dados = linha.split(',')\n",
    "    op = input(f\"{dados[0]} da cidade {dados[1]},  deseja mudar de cidade(s/n).\").lower()\n",
    "    while op != 's' and op != 'n':\n",
    "        op=input(f\"{dados[0]} da cidade {dados[1]},  deseja mudar de cidade(s/n).\").lower()\n",
    "    if op =='s':\n",
    "        novacid = input(f\"qual nova cidade a substituir {dados[1]}?\").title()\n",
    "        dados[1] = novacid ## dados = ['Ana', 'Sagres',22, Sul\\n]\n",
    "        \n",
    "        novastring = ','.join(dados)\n",
    "        cont[pos] =  novastring\n",
    "#print(\"\\n\\n\\n\\n\",cont)\n",
    "\n",
    "#guardar atualizações no ficheiro\n",
    "fp = open('dados.csv', 'w', encoding='UTF-8-SIG')\n",
    "fp.writelines(cont)\n",
    "fp.close()\n",
    "\n",
    "    "
   ]
  }
 ],
 "metadata": {
  "kernelspec": {
   "display_name": "Python 3.10.2 64-bit",
   "language": "python",
   "name": "python3"
  },
  "language_info": {
   "codemirror_mode": {
    "name": "ipython",
    "version": 3
   },
   "file_extension": ".py",
   "mimetype": "text/x-python",
   "name": "python",
   "nbconvert_exporter": "python",
   "pygments_lexer": "ipython3",
   "version": "3.10.2"
  },
  "orig_nbformat": 4,
  "vscode": {
   "interpreter": {
    "hash": "fbe58ca63fe33f9eeae9e71d10368d2b4a57f2b1b395836210cc60d362c66949"
   }
  }
 },
 "nbformat": 4,
 "nbformat_minor": 2
}
