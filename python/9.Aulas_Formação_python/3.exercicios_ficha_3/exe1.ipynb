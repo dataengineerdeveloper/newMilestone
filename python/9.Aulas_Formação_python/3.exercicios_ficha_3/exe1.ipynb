{
 "cells": [
  {
   "cell_type": "code",
   "execution_count": 4,
   "metadata": {},
   "outputs": [
    {
     "name": "stdout",
     "output_type": "stream",
     "text": [
      "estao registadas 14 pessoas\n"
     ]
    }
   ],
   "source": [
    "# Exercicio 1 > Quantas pessoas se encontram registadas?\n",
    "\n",
    "fp = open('dados.csv','r',encoding='UTF-8-SIG') # 'UTF-8-SIG' > ELIMINAR EVENTUAIS CARACTERES OCULTOS DO FICHEIRO .CSV\n",
    "cont = fp.readlines()\n",
    "\n",
    "#print(cont)\n",
    "\n",
    "npessoas = len(cont)\n",
    "print(f\"estao registadas {npessoas} pessoas\")\n",
    "\n"
   ]
  },
  {
   "cell_type": "code",
   "execution_count": 30,
   "metadata": {},
   "outputs": [
    {
     "name": "stdout",
     "output_type": "stream",
     "text": [
      "Counter({'Sul': 6, 'Norte': 6, 'Centro': 2})\n"
     ]
    }
   ],
   "source": [
    "# alinea B > Qual a quantidade de pessoas distribuídas pelas zonas do país (Norte, Centro, Sul)?\n",
    "\n",
    "import csv\n",
    "from typing import Counter\n",
    "with open('dados.csv') as csvfile:\n",
    "    cidades = []\n",
    "    readCSV = csv.reader(csvfile, delimiter=',')\n",
    "    for x in readCSV:\n",
    "        if x[0] not in cidades:\n",
    "            cidades.append(x[-1])\n",
    "    #print(cidades) # validade de output da opera;'ao anterior\n",
    "\n",
    "print(Counter(cidades))\n"
   ]
  },
  {
   "cell_type": "code",
   "execution_count": 33,
   "metadata": {},
   "outputs": [
    {
     "name": "stdout",
     "output_type": "stream",
     "text": [
      "Norte: 6\n",
      "Norte: 2\n",
      "Norte: 6\n"
     ]
    }
   ],
   "source": [
    "# alinea C feito pelo professor\n",
    "\n",
    "fp = open('dados.csv','r',encoding='UTF-8-SIG') # 'UTF-8-SIG' > ELIMINAR EVENTUAIS CARACTERES OCULTOS DO FICHEIRO .CSV\n",
    "cont = fp.readlines()\n",
    "\n",
    "#print(cont)\n",
    "\n",
    "npessoas = len(cont)\n",
    "\n",
    "qtN,  qtC,  qtS = 0,0,0\n",
    "\n",
    "for linha in cont:\n",
    "    dados = linha.split(\",\") # dados = \n",
    "    local =  dados[-1] \n",
    "    if local[0] == 'N':\n",
    "        qtN = qtN+1\n",
    "    elif local[0] == 'C':\n",
    "        qtC = qtC+1\n",
    "    elif local[0] == 'S':\n",
    "        qtS = qtS+1\n",
    "print(f\"Norte: {qtN}\")\n",
    "print(f\"Norte: {qtC}\")\n",
    "print(f\"Norte: {qtS}\")\n"
   ]
  },
  {
   "cell_type": "code",
   "execution_count": 3,
   "metadata": {},
   "outputs": [
    {
     "ename": "ZeroDivisionError",
     "evalue": "division by zero",
     "output_type": "error",
     "traceback": [
      "\u001b[1;31m---------------------------------------------------------------------------\u001b[0m",
      "\u001b[1;31mZeroDivisionError\u001b[0m                         Traceback (most recent call last)",
      "\u001b[1;32mc:\\UserData\\z004hedj\\OneDrive - Siemens AG\\Ambiente de Trabalho\\GIT\\newMilestone\\newMilestone\\python\\9.Aulas_Formação_python\\3.exercicios_ficha_3\\exe1.ipynb Cell 4\u001b[0m in \u001b[0;36m<cell line: 24>\u001b[1;34m()\u001b[0m\n\u001b[0;32m     <a href='vscode-notebook-cell:/c%3A/UserData/z004hedj/OneDrive%20-%20Siemens%20AG/Ambiente%20de%20Trabalho/GIT/newMilestone/newMilestone/python/9.Aulas_Forma%C3%A7%C3%A3o_python/3.exercicios_ficha_3/exe1.ipynb#W3sZmlsZQ%3D%3D?line=20'>21</a>\u001b[0m \u001b[39melse\u001b[39;00m:\n\u001b[0;32m     <a href='vscode-notebook-cell:/c%3A/UserData/z004hedj/OneDrive%20-%20Siemens%20AG/Ambiente%20de%20Trabalho/GIT/newMilestone/newMilestone/python/9.Aulas_Forma%C3%A7%C3%A3o_python/3.exercicios_ficha_3/exe1.ipynb#W3sZmlsZQ%3D%3D?line=21'>22</a>\u001b[0m     qt \u001b[39m=\u001b[39m qtS\n\u001b[1;32m---> <a href='vscode-notebook-cell:/c%3A/UserData/z004hedj/OneDrive%20-%20Siemens%20AG/Ambiente%20de%20Trabalho/GIT/newMilestone/newMilestone/python/9.Aulas_Forma%C3%A7%C3%A3o_python/3.exercicios_ficha_3/exe1.ipynb#W3sZmlsZQ%3D%3D?line=23'>24</a>\u001b[0m media \u001b[39m=\u001b[39m (soma \u001b[39m/\u001b[39;49m qt) \u001b[39mif\u001b[39;00m soma \u001b[39m!=\u001b[39m\u001b[39m0\u001b[39m \u001b[39melse\u001b[39;00m \u001b[39m0\u001b[39m \u001b[39m# arredonda a 0 casas decimais\u001b[39;00m\n\u001b[0;32m     <a href='vscode-notebook-cell:/c%3A/UserData/z004hedj/OneDrive%20-%20Siemens%20AG/Ambiente%20de%20Trabalho/GIT/newMilestone/newMilestone/python/9.Aulas_Forma%C3%A7%C3%A3o_python/3.exercicios_ficha_3/exe1.ipynb#W3sZmlsZQ%3D%3D?line=25'>26</a>\u001b[0m \u001b[39mprint\u001b[39m(\u001b[39mf\u001b[39m\u001b[39m\"\u001b[39m\u001b[39ma media de didade da zona \u001b[39m\u001b[39m{\u001b[39;00mzona\u001b[39m}\u001b[39;00m\u001b[39m é de \u001b[39m\u001b[39m{\u001b[39;00mmedia\u001b[39m}\u001b[39;00m\u001b[39m\"\u001b[39m)\n",
      "\u001b[1;31mZeroDivisionError\u001b[0m: division by zero"
     ]
    }
   ],
   "source": [
    "fp = open('dados.csv','r',encoding='UTF-8-SIG') # 'UTF-8-SIG' > ELIMINAR EVENTUAIS CARACTERES OCULTOS DO FICHEIRO .CSV\n",
    "cont = fp.readlines() # cada linha é um elemento da lista\n",
    "qtN,  qtC,  qtS = 0,0,0\n",
    "\n",
    "zona =  input(\"qual a zona do pais que deseja saber a media de idade?: \").title()\n",
    "\n",
    "while zona !='Norte' and zona!='Centro' and zona != 'Sul':\n",
    "    zona =  input(\"qual a zona do pais que deseja saber a media de idade?: \").title()\n",
    "\n",
    "soma = 0 # ira somar as idades de todas as pessias da zona indicada\n",
    "for linha in cont:\n",
    "    dados = linha.split(\",\")\n",
    "    if zona[0] == dados[3][0]:\n",
    "        idade = int(dados[2]) #dados[2] está representado como string\n",
    "        soma = soma + idade\n",
    "\n",
    "if zona[0]=='N':\n",
    "    qt = qtN\n",
    "elif zona[0]=='C':\n",
    "    qt = qtC\n",
    "else:\n",
    "    qt = qtS\n",
    "\n",
    "media = (soma / qt) if soma !=0 else 0 # arredonda a 0 casas decimais\n",
    "\n",
    "print(f\"a media de didade da zona {zona} é de {media}\")\n",
    "        \n"
   ]
  },
  {
   "cell_type": "code",
   "execution_count": 4,
   "metadata": {},
   "outputs": [
    {
     "name": "stdout",
     "output_type": "stream",
     "text": [
      "Ana:Faro\n",
      "Ana:Viana do Castelo\n",
      "Ana:Chaves\n"
     ]
    }
   ],
   "source": [
    "# alinea D\n",
    "\n",
    "l_nomes= []\n",
    "for linha in cont:\n",
    "    dados = linha.split(',')\n",
    "    if dados[0] not in l_nomes:\n",
    "        l_nomes.append(dados[0])\n",
    "\n",
    "nome = input(\"qual o nome a procurar?: \").title()\n",
    "while nome not in l_nomes:\n",
    "    print(\"nome não consta no ficheiro...\")\n",
    "    nome = input(\"qual o nme a procurar? \").title()\n",
    "\n",
    "for linha in cont:\n",
    "    dados = linha.split(',')\n",
    "    if nome == dados[0]:\n",
    "        print(f\"{nome}:{dados[1]}\")\n",
    "        "
   ]
  },
  {
   "cell_type": "code",
   "execution_count": 7,
   "metadata": {},
   "outputs": [
    {
     "name": "stdout",
     "output_type": "stream",
     "text": [
      "Porto:['Faro', 'Porto', 'Coimbra', 'Viana do Castelo', 'Beja', 'Cerveira', 'Covilhã', 'Tavira', 'Chaves', 'Braga']\n"
     ]
    }
   ],
   "source": [
    "# alinea E\n",
    "fp = open('dados.csv','r',encoding='UTF-8-SIG') # 'UTF-8-SIG' > ELIMINAR EVENTUAIS CARACTERES OCULTOS DO FICHEIRO .CSV\n",
    "cont = fp.readlines() # cada linha é um elemento da lista\n",
    "qtN,  qtC,  qtS = 0,0,0\n",
    "# alinea D\n",
    "\n",
    "l_nomes= []\n",
    "for linha in cont:\n",
    "    dados = linha.split(',')\n",
    "    if dados[1] not in l_nomes:\n",
    "        l_nomes.append(dados[1])\n",
    "\n",
    "nome = input(\"qual o nome a procurar?: \").title()\n",
    "while nome not in l_nomes:\n",
    "    print(\"nome não consta no ficheiro...\")\n",
    "    nome = input(\"qual o nme a procurar? \").title()\n",
    "\n",
    "for linha in cont:\n",
    "    dados = linha.split(',')\n",
    "    if nome == dados[1]:\n",
    "        print(f\"{nome}:{dados[1]}\")"
   ]
  }
 ],
 "metadata": {
  "kernelspec": {
   "display_name": "Python 3.10.2 64-bit",
   "language": "python",
   "name": "python3"
  },
  "language_info": {
   "codemirror_mode": {
    "name": "ipython",
    "version": 3
   },
   "file_extension": ".py",
   "mimetype": "text/x-python",
   "name": "python",
   "nbconvert_exporter": "python",
   "pygments_lexer": "ipython3",
   "version": "3.10.2"
  },
  "orig_nbformat": 4,
  "vscode": {
   "interpreter": {
    "hash": "fbe58ca63fe33f9eeae9e71d10368d2b4a57f2b1b395836210cc60d362c66949"
   }
  }
 },
 "nbformat": 4,
 "nbformat_minor": 2
}
