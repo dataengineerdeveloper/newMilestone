{
 "cells": [
  {
   "cell_type": "code",
   "execution_count": 47,
   "metadata": {},
   "outputs": [],
   "source": [
    "import pandas as pd\n",
    "import os"
   ]
  },
  {
   "cell_type": "code",
   "execution_count": 48,
   "metadata": {},
   "outputs": [
    {
     "data": {
      "text/plain": [
       "0    1\n",
       "1    2\n",
       "2    3\n",
       "3    4\n",
       "4    5\n",
       "5    6\n",
       "6    7\n",
       "7    8\n",
       "8    9\n",
       "dtype: int64"
      ]
     },
     "execution_count": 48,
     "metadata": {},
     "output_type": "execute_result"
    }
   ],
   "source": [
    "pwd = os.getcwd()\n",
    "\n",
    "series_test = list(range(1,10))\n",
    "pd.Series(series_test)"
   ]
  },
  {
   "cell_type": "code",
   "execution_count": 49,
   "metadata": {},
   "outputs": [
    {
     "name": "stdout",
     "output_type": "stream",
     "text": [
      "c:\\UserData\\z004hedj\\OneDrive - Siemens AG\\Ambiente de Trabalho\\GIT\\newMilestone\\newMilestone\\python\\3.pandas\\handson_1/simple_csv.csv\n"
     ]
    }
   ],
   "source": [
    "filepath = pwd + \"/simple_csv.csv\"\n",
    "print(filepath)"
   ]
  },
  {
   "cell_type": "code",
   "execution_count": 50,
   "metadata": {},
   "outputs": [
    {
     "name": "stdout",
     "output_type": "stream",
     "text": [
      "    Column1   Column2   Column3\n",
      "0  0.280925  0.910368  0.692982\n",
      "1  0.719882  0.210024  0.761276\n",
      "2  0.235752  0.059796  0.154667\n",
      "3  0.603366  0.485614  0.013345\n",
      "4  0.039985  0.236359  0.811832\n",
      "5  0.015478  0.543641  0.112719\n",
      "6  0.192540  0.409874  0.875082\n",
      "7  0.380921  0.045468  0.515859\n",
      "8  0.592471  0.786421  0.047249\n",
      "9  0.072112  0.695694  0.409573\n"
     ]
    }
   ],
   "source": [
    "first_import = pd.read_csv(filepath,nrows=10)\n",
    "first_import[\"Column1\"]\n",
    "print(first_import)"
   ]
  },
  {
   "cell_type": "code",
   "execution_count": 51,
   "metadata": {},
   "outputs": [
    {
     "name": "stdout",
     "output_type": "stream",
     "text": [
      "    Column1   Column2   Column3\n",
      "0  0.280925  0.910368  0.692982\n",
      "1  0.719882  0.210024  0.761276\n",
      "2  0.235752  0.059796  0.154667\n",
      "3  0.603366  0.485614  0.013345\n",
      "4  0.039985  0.236359  0.811832\n",
      "5  0.015478  0.543641  0.112719\n",
      "6  0.192540  0.409874  0.875082\n",
      "7  0.380921  0.045468  0.515859\n",
      "8  0.592471  0.786421  0.047249\n",
      "9  0.072112  0.695694  0.409573\n"
     ]
    }
   ],
   "source": [
    "first_import[\"Column1\"]\n",
    "print(first_import)"
   ]
  },
  {
   "cell_type": "code",
   "execution_count": 54,
   "metadata": {},
   "outputs": [
    {
     "name": "stdout",
     "output_type": "stream",
     "text": [
      "    Column1   Column2   Column3  new_column  new column2\n",
      "0  0.280925  0.910368  0.692982           1            0\n",
      "1  0.719882  0.210024  0.761276           1            1\n",
      "2  0.235752  0.059796  0.154667           1            2\n",
      "3  0.603366  0.485614  0.013345           1            3\n",
      "4  0.039985  0.236359  0.811832           1            4\n",
      "5  0.015478  0.543641  0.112719           1            5\n",
      "6  0.192540  0.409874  0.875082           1            6\n",
      "7  0.380921  0.045468  0.515859           1            7\n",
      "8  0.592471  0.786421  0.047249           1            8\n",
      "9  0.072112  0.695694  0.409573           1            9\n"
     ]
    }
   ],
   "source": [
    "first_import[\"new_column\"]=1\n",
    "print(first_import)"
   ]
  },
  {
   "cell_type": "code",
   "execution_count": 55,
   "metadata": {},
   "outputs": [
    {
     "name": "stdout",
     "output_type": "stream",
     "text": [
      "    Column1   Column2   Column3  new_column  new column2  added column 1 and 2\n",
      "0  0.280925  0.910368  0.692982           1            0                     1\n",
      "1  0.719882  0.210024  0.761276           1            1                     2\n",
      "2  0.235752  0.059796  0.154667           1            2                     3\n",
      "3  0.603366  0.485614  0.013345           1            3                     4\n",
      "4  0.039985  0.236359  0.811832           1            4                     5\n",
      "5  0.015478  0.543641  0.112719           1            5                     6\n",
      "6  0.192540  0.409874  0.875082           1            6                     7\n",
      "7  0.380921  0.045468  0.515859           1            7                     8\n",
      "8  0.592471  0.786421  0.047249           1            8                     9\n",
      "9  0.072112  0.695694  0.409573           1            9                    10\n"
     ]
    }
   ],
   "source": [
    "first_import[\"new column2\"] = list(range(10))\n",
    "first_import[\"added column 1 and 2\"] = first_import[\"new_column\"]+first_import[\"new column2\"]\n",
    "print(first_import)\n",
    "\n"
   ]
  },
  {
   "cell_type": "code",
   "execution_count": 59,
   "metadata": {},
   "outputs": [
    {
     "name": "stdout",
     "output_type": "stream",
     "text": [
      "    Column1   Column2   Column3  added column 1 and 2\n",
      "0  0.280925  0.910368  0.692982                     1\n",
      "1  0.719882  0.210024  0.761276                     2\n",
      "2  0.235752  0.059796  0.154667                     3\n",
      "3  0.603366  0.485614  0.013345                     4\n",
      "4  0.039985  0.236359  0.811832                     5\n",
      "5  0.015478  0.543641  0.112719                     6\n",
      "6  0.192540  0.409874  0.875082                     7\n",
      "7  0.380921  0.045468  0.515859                     8\n",
      "8  0.592471  0.786421  0.047249                     9\n",
      "9  0.072112  0.695694  0.409573                    10\n"
     ]
    }
   ],
   "source": [
    "#first_import = first_import.drop(columns=\"new_column\")\n",
    "\n",
    "#tis other way to drop a column\n",
    "first_import.drop(columns=\"new column2\",inplace=True)\n",
    "\n",
    "print(first_import)"
   ]
  },
  {
   "cell_type": "code",
   "execution_count": 60,
   "metadata": {},
   "outputs": [
    {
     "data": {
      "text/html": [
       "<div>\n",
       "<style scoped>\n",
       "    .dataframe tbody tr th:only-of-type {\n",
       "        vertical-align: middle;\n",
       "    }\n",
       "\n",
       "    .dataframe tbody tr th {\n",
       "        vertical-align: top;\n",
       "    }\n",
       "\n",
       "    .dataframe thead th {\n",
       "        text-align: right;\n",
       "    }\n",
       "</style>\n",
       "<table border=\"1\" class=\"dataframe\">\n",
       "  <thead>\n",
       "    <tr style=\"text-align: right;\">\n",
       "      <th></th>\n",
       "      <th>Column1</th>\n",
       "      <th>Column2</th>\n",
       "      <th>Column3</th>\n",
       "      <th>added column 1 and 2</th>\n",
       "    </tr>\n",
       "  </thead>\n",
       "  <tbody>\n",
       "    <tr>\n",
       "      <th>0</th>\n",
       "      <td>0.280925</td>\n",
       "      <td>0.910368</td>\n",
       "      <td>0.692982</td>\n",
       "      <td>1</td>\n",
       "    </tr>\n",
       "    <tr>\n",
       "      <th>1</th>\n",
       "      <td>0.719882</td>\n",
       "      <td>0.210024</td>\n",
       "      <td>0.761276</td>\n",
       "      <td>2</td>\n",
       "    </tr>\n",
       "    <tr>\n",
       "      <th>2</th>\n",
       "      <td>0.235752</td>\n",
       "      <td>0.059796</td>\n",
       "      <td>0.154667</td>\n",
       "      <td>3</td>\n",
       "    </tr>\n",
       "    <tr>\n",
       "      <th>3</th>\n",
       "      <td>0.603366</td>\n",
       "      <td>0.485614</td>\n",
       "      <td>0.013345</td>\n",
       "      <td>4</td>\n",
       "    </tr>\n",
       "    <tr>\n",
       "      <th>4</th>\n",
       "      <td>0.039985</td>\n",
       "      <td>0.236359</td>\n",
       "      <td>0.811832</td>\n",
       "      <td>5</td>\n",
       "    </tr>\n",
       "    <tr>\n",
       "      <th>5</th>\n",
       "      <td>0.015478</td>\n",
       "      <td>0.543641</td>\n",
       "      <td>0.112719</td>\n",
       "      <td>6</td>\n",
       "    </tr>\n",
       "  </tbody>\n",
       "</table>\n",
       "</div>"
      ],
      "text/plain": [
       "    Column1   Column2   Column3  added column 1 and 2\n",
       "0  0.280925  0.910368  0.692982                     1\n",
       "1  0.719882  0.210024  0.761276                     2\n",
       "2  0.235752  0.059796  0.154667                     3\n",
       "3  0.603366  0.485614  0.013345                     4\n",
       "4  0.039985  0.236359  0.811832                     5\n",
       "5  0.015478  0.543641  0.112719                     6"
      ]
     },
     "execution_count": 60,
     "metadata": {},
     "output_type": "execute_result"
    }
   ],
   "source": [
    "# LOC\n",
    "first_import.loc[:5]\n"
   ]
  },
  {
   "cell_type": "code",
   "execution_count": 61,
   "metadata": {},
   "outputs": [
    {
     "data": {
      "text/html": [
       "<div>\n",
       "<style scoped>\n",
       "    .dataframe tbody tr th:only-of-type {\n",
       "        vertical-align: middle;\n",
       "    }\n",
       "\n",
       "    .dataframe tbody tr th {\n",
       "        vertical-align: top;\n",
       "    }\n",
       "\n",
       "    .dataframe thead th {\n",
       "        text-align: right;\n",
       "    }\n",
       "</style>\n",
       "<table border=\"1\" class=\"dataframe\">\n",
       "  <thead>\n",
       "    <tr style=\"text-align: right;\">\n",
       "      <th></th>\n",
       "      <th>Column1</th>\n",
       "      <th>Column2</th>\n",
       "      <th>Column3</th>\n",
       "    </tr>\n",
       "  </thead>\n",
       "  <tbody>\n",
       "    <tr>\n",
       "      <th>0</th>\n",
       "      <td>0.280925</td>\n",
       "      <td>0.910368</td>\n",
       "      <td>0.692982</td>\n",
       "    </tr>\n",
       "    <tr>\n",
       "      <th>1</th>\n",
       "      <td>0.719882</td>\n",
       "      <td>0.210024</td>\n",
       "      <td>0.761276</td>\n",
       "    </tr>\n",
       "    <tr>\n",
       "      <th>2</th>\n",
       "      <td>0.235752</td>\n",
       "      <td>0.059796</td>\n",
       "      <td>0.154667</td>\n",
       "    </tr>\n",
       "    <tr>\n",
       "      <th>3</th>\n",
       "      <td>0.603366</td>\n",
       "      <td>0.485614</td>\n",
       "      <td>0.013345</td>\n",
       "    </tr>\n",
       "    <tr>\n",
       "      <th>4</th>\n",
       "      <td>0.039985</td>\n",
       "      <td>0.236359</td>\n",
       "      <td>0.811832</td>\n",
       "    </tr>\n",
       "    <tr>\n",
       "      <th>5</th>\n",
       "      <td>0.015478</td>\n",
       "      <td>0.543641</td>\n",
       "      <td>0.112719</td>\n",
       "    </tr>\n",
       "  </tbody>\n",
       "</table>\n",
       "</div>"
      ],
      "text/plain": [
       "    Column1   Column2   Column3\n",
       "0  0.280925  0.910368  0.692982\n",
       "1  0.719882  0.210024  0.761276\n",
       "2  0.235752  0.059796  0.154667\n",
       "3  0.603366  0.485614  0.013345\n",
       "4  0.039985  0.236359  0.811832\n",
       "5  0.015478  0.543641  0.112719"
      ]
     },
     "execution_count": 61,
     "metadata": {},
     "output_type": "execute_result"
    }
   ],
   "source": [
    "# if i need to return first 5 lines and also bring only a few columns\n",
    "# using loc will include the index 5 so it is inclusive\n",
    "first_import.loc[:5, [\"Column1\",\"Column2\",\"Column3\"]]"
   ]
  },
  {
   "cell_type": "code",
   "execution_count": 65,
   "metadata": {},
   "outputs": [
    {
     "data": {
      "text/html": [
       "<div>\n",
       "<style scoped>\n",
       "    .dataframe tbody tr th:only-of-type {\n",
       "        vertical-align: middle;\n",
       "    }\n",
       "\n",
       "    .dataframe tbody tr th {\n",
       "        vertical-align: top;\n",
       "    }\n",
       "\n",
       "    .dataframe thead th {\n",
       "        text-align: right;\n",
       "    }\n",
       "</style>\n",
       "<table border=\"1\" class=\"dataframe\">\n",
       "  <thead>\n",
       "    <tr style=\"text-align: right;\">\n",
       "      <th></th>\n",
       "      <th>Column1</th>\n",
       "    </tr>\n",
       "  </thead>\n",
       "  <tbody>\n",
       "    <tr>\n",
       "      <th>0</th>\n",
       "      <td>0.280925</td>\n",
       "    </tr>\n",
       "    <tr>\n",
       "      <th>1</th>\n",
       "      <td>0.719882</td>\n",
       "    </tr>\n",
       "    <tr>\n",
       "      <th>2</th>\n",
       "      <td>0.235752</td>\n",
       "    </tr>\n",
       "    <tr>\n",
       "      <th>3</th>\n",
       "      <td>0.603366</td>\n",
       "    </tr>\n",
       "    <tr>\n",
       "      <th>4</th>\n",
       "      <td>0.039985</td>\n",
       "    </tr>\n",
       "    <tr>\n",
       "      <th>5</th>\n",
       "      <td>0.015478</td>\n",
       "    </tr>\n",
       "  </tbody>\n",
       "</table>\n",
       "</div>"
      ],
      "text/plain": [
       "    Column1\n",
       "0  0.280925\n",
       "1  0.719882\n",
       "2  0.235752\n",
       "3  0.603366\n",
       "4  0.039985\n",
       "5  0.015478"
      ]
     },
     "execution_count": 65,
     "metadata": {},
     "output_type": "execute_result"
    }
   ],
   "source": [
    "# ILOC\n",
    "\n",
    "# if i used that way i will get 5 first rows and also with :1 specify that i want to get the first column\n",
    "first_import.iloc[:6, :1]"
   ]
  },
  {
   "cell_type": "code",
   "execution_count": 68,
   "metadata": {},
   "outputs": [
    {
     "data": {
      "text/html": [
       "<div>\n",
       "<style scoped>\n",
       "    .dataframe tbody tr th:only-of-type {\n",
       "        vertical-align: middle;\n",
       "    }\n",
       "\n",
       "    .dataframe tbody tr th {\n",
       "        vertical-align: top;\n",
       "    }\n",
       "\n",
       "    .dataframe thead th {\n",
       "        text-align: right;\n",
       "    }\n",
       "</style>\n",
       "<table border=\"1\" class=\"dataframe\">\n",
       "  <thead>\n",
       "    <tr style=\"text-align: right;\">\n",
       "      <th></th>\n",
       "      <th>Column3</th>\n",
       "      <th>added column 1 and 2</th>\n",
       "    </tr>\n",
       "  </thead>\n",
       "  <tbody>\n",
       "    <tr>\n",
       "      <th>0</th>\n",
       "      <td>0.692982</td>\n",
       "      <td>1</td>\n",
       "    </tr>\n",
       "    <tr>\n",
       "      <th>1</th>\n",
       "      <td>0.761276</td>\n",
       "      <td>2</td>\n",
       "    </tr>\n",
       "    <tr>\n",
       "      <th>2</th>\n",
       "      <td>0.154667</td>\n",
       "      <td>3</td>\n",
       "    </tr>\n",
       "    <tr>\n",
       "      <th>3</th>\n",
       "      <td>0.013345</td>\n",
       "      <td>4</td>\n",
       "    </tr>\n",
       "    <tr>\n",
       "      <th>4</th>\n",
       "      <td>0.811832</td>\n",
       "      <td>5</td>\n",
       "    </tr>\n",
       "    <tr>\n",
       "      <th>5</th>\n",
       "      <td>0.112719</td>\n",
       "      <td>6</td>\n",
       "    </tr>\n",
       "  </tbody>\n",
       "</table>\n",
       "</div>"
      ],
      "text/plain": [
       "    Column3  added column 1 and 2\n",
       "0  0.692982                     1\n",
       "1  0.761276                     2\n",
       "2  0.154667                     3\n",
       "3  0.013345                     4\n",
       "4  0.811832                     5\n",
       "5  0.112719                     6"
      ]
     },
     "execution_count": 68,
     "metadata": {},
     "output_type": "execute_result"
    }
   ],
   "source": [
    "# but if only  column 2 and 3 i can do it that way,  basically the first argument are the rows and the second argument are the columns\n",
    "first_import.iloc[:6,[ 2, 3]]"
   ]
  }
 ],
 "metadata": {
  "kernelspec": {
   "display_name": "Python 3.10.2 64-bit",
   "language": "python",
   "name": "python3"
  },
  "language_info": {
   "codemirror_mode": {
    "name": "ipython",
    "version": 3
   },
   "file_extension": ".py",
   "mimetype": "text/x-python",
   "name": "python",
   "nbconvert_exporter": "python",
   "pygments_lexer": "ipython3",
   "version": "3.10.2"
  },
  "orig_nbformat": 4,
  "vscode": {
   "interpreter": {
    "hash": "fbe58ca63fe33f9eeae9e71d10368d2b4a57f2b1b395836210cc60d362c66949"
   }
  }
 },
 "nbformat": 4,
 "nbformat_minor": 2
}
