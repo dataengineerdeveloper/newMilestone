{
 "cells": [
  {
   "cell_type": "code",
   "execution_count": 9,
   "id": "bdca22c6-54ea-4f59-85fe-3dbc86ad7416",
   "metadata": {},
   "outputs": [],
   "source": [
    "import urllib\n",
    "from bs4 import BeautifulSoup"
   ]
  },
  {
   "cell_type": "code",
   "execution_count": 10,
   "id": "a9ece483-c31c-4101-b7b3-e1efac2bc813",
   "metadata": {},
   "outputs": [],
   "source": [
    "html = urllib.request.urlopen(\"https://www.gov.br/inep/pt-br/acesso-a-informacao/dados-abertos/microdados/censo-escolar\").read()"
   ]
  },
  {
   "cell_type": "code",
   "execution_count": null,
   "id": "40ece801-8fb8-495b-9cdb-a4e60e47424a",
   "metadata": {},
   "outputs": [],
   "source": [
    "#html - calling this var i will be able to see the all html from the page that I request previously"
   ]
  },
  {
   "cell_type": "code",
   "execution_count": 11,
   "id": "2782af7c-95cb-4f10-b109-07ba7575aed1",
   "metadata": {},
   "outputs": [],
   "source": [
    "soup = BeautifulSoup(html, features=\"html.parser\")"
   ]
  },
  {
   "cell_type": "code",
   "execution_count": 15,
   "id": "4fb21e41-44e3-4f9e-9712-a38918a3a841",
   "metadata": {},
   "outputs": [],
   "source": [
    "tags = soup.find_all(\"a\", {\"class\": \"external-link\"})"
   ]
  },
  {
   "cell_type": "code",
   "execution_count": 16,
   "id": "f427a429-0edb-47df-b563-e72eaa35a438",
   "metadata": {},
   "outputs": [
    {
     "data": {
      "text/plain": [
       "<a class=\"external-link\" data-tippreview-enabled=\"false\" data-tippreview-image=\"\" data-tippreview-title=\"\" href=\"https://download.inep.gov.br/dados_abertos/microdados_censo_escolar_2021.zip\" target=\"_blank\" title=\"\">Microdados do Censo Escolar da Educação Básica 2021</a>"
      ]
     },
     "execution_count": 16,
     "metadata": {},
     "output_type": "execute_result"
    }
   ],
   "source": [
    "tags[0]"
   ]
  },
  {
   "cell_type": "code",
   "execution_count": 17,
   "id": "622ab4cf-bc43-442e-81f9-497d6f1fd424",
   "metadata": {},
   "outputs": [
    {
     "data": {
      "text/plain": [
       "26"
      ]
     },
     "execution_count": 17,
     "metadata": {},
     "output_type": "execute_result"
    }
   ],
   "source": [
    "len(tags)"
   ]
  },
  {
   "cell_type": "code",
   "execution_count": 18,
   "id": "b1725d43-5a7b-446e-a5fe-29f02a12fa31",
   "metadata": {},
   "outputs": [
    {
     "data": {
      "text/plain": [
       "[<a class=\"external-link\" data-tippreview-enabled=\"false\" data-tippreview-image=\"\" data-tippreview-title=\"\" href=\"https://download.inep.gov.br/dados_abertos/microdados_censo_escolar_2021.zip\" target=\"_blank\" title=\"\">Microdados do Censo Escolar da Educação Básica 2021</a>,\n",
       " <a class=\"external-link\" data-tippreview-enabled=\"false\" data-tippreview-image=\"\" data-tippreview-title=\"\" href=\"https://download.inep.gov.br/dados_abertos/microdados_censo_escolar_2020.zip\" target=\"_blank\" title=\"\">Microdados do Censo Escolar da Educação Básica 2020</a>,\n",
       " <a class=\"external-link\" data-tippreview-enabled=\"false\" data-tippreview-image=\"\" data-tippreview-title=\"\" href=\"https://download.inep.gov.br/dados_abertos/microdados_censo_escolar_2019.zip\" target=\"_blank\" title=\"\">Microdados do Censo Escolar da Educação Básica 2019</a>,\n",
       " <a class=\"external-link\" data-tippreview-enabled=\"false\" data-tippreview-image=\"\" data-tippreview-title=\"\" href=\"https://download.inep.gov.br/dados_abertos/microdados_censo_escolar_2018.zip\" target=\"_blank\" title=\"\">Microdados do Censo Escolar da Educação Básica 2018</a>,\n",
       " <a class=\"external-link\" data-tippreview-enabled=\"false\" data-tippreview-image=\"\" data-tippreview-title=\"\" href=\"https://download.inep.gov.br/dados_abertos/microdados_censo_escolar_2017.zip\" target=\"_blank\" title=\"\">Microdados do Censo Escolar da Educação Básica 2017</a>,\n",
       " <a class=\"external-link\" data-tippreview-enabled=\"false\" data-tippreview-image=\"\" data-tippreview-title=\"\" href=\"https://download.inep.gov.br/dados_abertos/microdados_censo_escolar_2016.zip\" target=\"_blank\" title=\"\">Microdados do Censo Escolar da Educação Básica 2016</a>,\n",
       " <a class=\"external-link\" data-tippreview-enabled=\"false\" data-tippreview-image=\"\" data-tippreview-title=\"\" href=\"https://download.inep.gov.br/dados_abertos/microdados_censo_escolar_2015.zip\" target=\"_blank\" title=\"\">Microdados do Censo Escolar da Educação Básica 2015</a>,\n",
       " <a class=\"external-link\" data-tippreview-enabled=\"false\" data-tippreview-image=\"\" data-tippreview-title=\"\" href=\"https://download.inep.gov.br/dados_abertos/microdados_censo_escolar_2014.zip\" target=\"_blank\" title=\"\">Microdados do Censo Escolar da Educação Básica 2014</a>,\n",
       " <a class=\"external-link\" data-tippreview-enabled=\"false\" data-tippreview-image=\"\" data-tippreview-title=\"\" href=\"https://download.inep.gov.br/dados_abertos/microdados_censo_escolar_2013.zip\" target=\"_blank\" title=\"\">Microdados do Censo Escolar da Educação Básica 2013</a>,\n",
       " <a class=\"external-link\" data-tippreview-enabled=\"false\" data-tippreview-image=\"\" data-tippreview-title=\"\" href=\"https://download.inep.gov.br/dados_abertos/microdados_censo_escolar_2012.zip\" target=\"_blank\" title=\"\">Microdados do Censo Escolar da Educação Básica 2012</a>,\n",
       " <a class=\"external-link\" data-tippreview-enabled=\"false\" data-tippreview-image=\"\" data-tippreview-title=\"\" href=\"https://download.inep.gov.br/dados_abertos/microdados_censo_escolar_2011.zip\" target=\"_blank\" title=\"\">Microdados do Censo Escolar da Educação Básica 2011</a>,\n",
       " <a class=\"external-link\" data-tippreview-enabled=\"false\" data-tippreview-image=\"\" data-tippreview-title=\"\" href=\"https://download.inep.gov.br/dados_abertos/microdados_censo_escolar_2010.zip\" target=\"_blank\" title=\"\">Microdados do Censo Escolar da Educação Básica 2010</a>,\n",
       " <a class=\"external-link\" data-tippreview-enabled=\"false\" data-tippreview-image=\"\" data-tippreview-title=\"\" href=\"https://download.inep.gov.br/dados_abertos/microdados_censo_escolar_2009.zip\" target=\"_blank\" title=\"\">Microdados do Censo Escolar da Educação Básica 2009</a>,\n",
       " <a class=\"external-link\" data-tippreview-enabled=\"false\" data-tippreview-image=\"\" data-tippreview-title=\"\" href=\"https://download.inep.gov.br/dados_abertos/microdados_censo_escolar_2008.zip\" target=\"_blank\" title=\"\">Microdados do Censo Escolar da Educação Básica 2008</a>,\n",
       " <a class=\"external-link\" data-tippreview-enabled=\"false\" data-tippreview-image=\"\" data-tippreview-title=\"\" href=\"https://download.inep.gov.br/dados_abertos/microdados_censo_escolar_2007.zip\" target=\"_blank\" title=\"\">Microdados do Censo Escolar da Educação Básica 2007</a>,\n",
       " <a class=\"external-link\" data-tippreview-enabled=\"false\" data-tippreview-image=\"\" data-tippreview-title=\"\" href=\"https://download.inep.gov.br/dados_abertos/microdados_censo_escolar_2006.zip\" target=\"_blank\" title=\"\">Microdados do Censo Escolar da Educação Básica 2006</a>,\n",
       " <a class=\"external-link\" data-tippreview-enabled=\"false\" data-tippreview-image=\"\" data-tippreview-title=\"\" href=\"https://download.inep.gov.br/dados_abertos/microdados_censo_escolar_2005.zip\" target=\"_blank\" title=\"\">Microdados do Censo Escolar da Educação Básica 2005</a>,\n",
       " <a class=\"external-link\" data-tippreview-enabled=\"false\" data-tippreview-image=\"\" data-tippreview-title=\"\" href=\"https://download.inep.gov.br/dados_abertos/microdados_censo_escolar_2004.zip\" target=\"_blank\" title=\"\">Microdados do Censo Escolar da Educação Básica 2004</a>,\n",
       " <a class=\"external-link\" data-tippreview-enabled=\"false\" data-tippreview-image=\"\" data-tippreview-title=\"\" href=\"https://download.inep.gov.br/dados_abertos/microdados_censo_escolar_2003.zip\" target=\"_blank\" title=\"\">Microdados do Censo Escolar da Educação Básica 2003</a>,\n",
       " <a class=\"external-link\" data-tippreview-enabled=\"false\" data-tippreview-image=\"\" data-tippreview-title=\"\" href=\"https://download.inep.gov.br/dados_abertos/microdados_censo_escolar_2002.zip\" target=\"_blank\" title=\"\">Microdados do Censo Escolar da Educação Básica 2002</a>,\n",
       " <a class=\"external-link\" data-tippreview-enabled=\"false\" data-tippreview-image=\"\" data-tippreview-title=\"\" href=\"https://download.inep.gov.br/dados_abertos/microdados_censo_escolar_2001.zip\" target=\"_blank\" title=\"\">Microdados do Censo Escolar da Educação Básica 2001</a>,\n",
       " <a class=\"external-link\" data-tippreview-enabled=\"false\" data-tippreview-image=\"\" data-tippreview-title=\"\" href=\"https://download.inep.gov.br/dados_abertos/microdados_censo_escolar_2000.zip\" target=\"_blank\" title=\"\">Microdados do Censo Escolar da Educação Básica 2000</a>,\n",
       " <a class=\"external-link\" data-tippreview-enabled=\"false\" data-tippreview-image=\"\" data-tippreview-title=\"\" href=\"https://download.inep.gov.br/dados_abertos/microdados_censo_escolar_1999.zip\" target=\"_blank\" title=\"\">Microdados do Censo Escolar da Educação Básica 1999</a>,\n",
       " <a class=\"external-link\" data-tippreview-enabled=\"false\" data-tippreview-image=\"\" data-tippreview-title=\"\" href=\"https://download.inep.gov.br/dados_abertos/microdados_censo_escolar_1998.zip\" target=\"_blank\" title=\"\">Microdados do Censo Escolar da Educação Básica 1998</a>,\n",
       " <a class=\"external-link\" data-tippreview-enabled=\"false\" data-tippreview-image=\"\" data-tippreview-title=\"\" href=\"https://download.inep.gov.br/dados_abertos/microdados_censo_escolar_1997.zip\" target=\"_blank\" title=\"\">Microdados do Censo Escolar da Educação Básica 1997</a>,\n",
       " <a class=\"external-link\" data-tippreview-enabled=\"false\" data-tippreview-image=\"\" data-tippreview-title=\"\" href=\"https://download.inep.gov.br/dados_abertos/microdados_censo_escolar_1996.zip\" target=\"_blank\" title=\"\">Microdados do Censo Escolar da Educação Básica 1996</a>]"
      ]
     },
     "execution_count": 18,
     "metadata": {},
     "output_type": "execute_result"
    }
   ],
   "source": [
    "tags"
   ]
  },
  {
   "cell_type": "code",
   "execution_count": 19,
   "id": "0efbc3b6-8f90-453b-8266-c21091be2fbb",
   "metadata": {},
   "outputs": [],
   "source": [
    "tag = tags[0]"
   ]
  },
  {
   "cell_type": "code",
   "execution_count": 20,
   "id": "b9dbf962-165b-4284-8cb2-0db1756e9d54",
   "metadata": {},
   "outputs": [
    {
     "data": {
      "text/plain": [
       "'https://download.inep.gov.br/dados_abertos/microdados_censo_escolar_2021.zip'"
      ]
     },
     "execution_count": 20,
     "metadata": {},
     "output_type": "execute_result"
    }
   ],
   "source": [
    "tag[\"href\"] #"
   ]
  },
  {
   "cell_type": "code",
   "execution_count": null,
   "id": "22b0d84e-eb08-47b2-973f-891785498ff8",
   "metadata": {},
   "outputs": [],
   "source": []
  }
 ],
 "metadata": {
  "kernelspec": {
   "display_name": "Python 3 (ipykernel)",
   "language": "python",
   "name": "python3"
  },
  "language_info": {
   "codemirror_mode": {
    "name": "ipython",
    "version": 3
   },
   "file_extension": ".py",
   "mimetype": "text/x-python",
   "name": "python",
   "nbconvert_exporter": "python",
   "pygments_lexer": "ipython3",
   "version": "3.10.2"
  }
 },
 "nbformat": 4,
 "nbformat_minor": 5
}
