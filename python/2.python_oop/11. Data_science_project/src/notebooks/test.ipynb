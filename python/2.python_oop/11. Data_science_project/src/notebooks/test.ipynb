{
 "cells": [
  {
   "cell_type": "code",
   "execution_count": 3,
   "metadata": {},
   "outputs": [],
   "source": [
    "import urllib\n",
    "import requests\n",
    "import re\n",
    "from pathlib import Path\n",
    "from bs4 import BeautifulSoup\n",
    "import os\n",
    "\n",
    "# with this we will be able to cheack all hmtl code from this page,  the next step is find the class a,  that show us what is the link that we can do the donwload\n",
    "#html = urllib.request.urlopen(\"https://www.gov.br/inep/pt-br/acesso-a-informacao/dados-abertos/microdados/censo-escolar\").read()  # type: ignore\n",
    "#html\n"
   ]
  },
  {
   "cell_type": "code",
   "execution_count": 7,
   "metadata": {},
   "outputs": [],
   "source": [
    "def getdata (\n",
    "    url : str = \"https://www.gov.br/inep/pt-br/acesso-a-informacao/dados-abertos/microdados/censo-escolar\",) -> Path:\n",
    "    \"\"\"\n",
    "    realiza o download dos dados do censo escolar\n",
    "    :param url : endereço dos side do INEP com dados do censo\n",
    "    :return : caminho para os dados de saída\n",
    "    \"\"\"\n",
    "    \n",
    "    html = urllib.request.urlopen(url).read()\n",
    "    soup = BeautifulSoup(html,  feature=\"html.parser\")\n",
    "    \n",
    "    links = {tag[\"href\"].split(\"_\")[-1]: tag[\"href\"] for tag in soup.find_all(\"a\", {\"class\":\"external-limk\"})}\n",
    "    \n",
    "    caminho_saida = Path(\"../dados/censos_escolar\")\n",
    "    caminho_saida.mkdir(parents=True, exist_ok=True)\n",
    "    \n",
    "    for data in links: \n",
    "        r = requests.get(links[dados],stream=True)\n",
    "        with open(caminho_saida/ dados , \"wb\") as arq:\n",
    "            arq.write(r.content)"
   ]
  },
  {
   "cell_type": "code",
   "execution_count": null,
   "metadata": {},
   "outputs": [],
   "source": [
    "html = urllib.request.urlopen(\"https://www.gov.br/inep/pt-br/acesso-a-informacao/dados-abertos/microdados/censo-escolar\").read()"
   ]
  },
  {
   "cell_type": "code",
   "execution_count": null,
   "metadata": {},
   "outputs": [],
   "source": [
    "soup = BeautifulSoup(html,  feature=\"html.parser\")"
   ]
  },
  {
   "cell_type": "code",
   "execution_count": null,
   "metadata": {},
   "outputs": [],
   "source": [
    "links = {tag[\"href\"].split(\"_\")[-1]: tag[\"href\"] for tag in soup.find_all(\"a\", {\"class\":\"external-limk\"})}"
   ]
  },
  {
   "cell_type": "code",
   "execution_count": null,
   "metadata": {},
   "outputs": [],
   "source": [
    "caminho_saida = Path(\"../dados/censos_escolar\")\n",
    "caminho_saida.mkdir(parents=True, exist_ok=True)"
   ]
  },
  {
   "cell_type": "code",
   "execution_count": null,
   "metadata": {},
   "outputs": [],
   "source": [
    "r = requests.get(links[dados],stream=True)\n",
    "with open(caminho_saida/ dados , \"wb\") as arq:\n",
    "            arq.write(r.content)"
   ]
  },
  {
   "cell_type": "code",
   "execution_count": 1,
   "metadata": {},
   "outputs": [],
   "source": [
    "os.chdir(\"..\")"
   ]
  },
  {
   "cell_type": "code",
   "execution_count": 2,
   "metadata": {},
   "outputs": [
    {
     "data": {
      "text/plain": [
       "['11. Data_science_project',\n",
       " '1_app',\n",
       " '2_app',\n",
       " '3_app_simulador_de_dados',\n",
       " '4_app_chute_um_numero',\n",
       " '5_app_choice_options',\n",
       " '8.day_6_oop_essentail.py',\n",
       " '8.day_6_oop_essentail_part_2.py',\n",
       " '8.day_6_oop_essentail_part_3_methods.py',\n",
       " '8.day_6_oop_essentail_part_4_import.py',\n",
       " '8.day_6_oop_part_6_public_and_private_access_modifier.py',\n",
       " '8.Day_6_opp.py',\n",
       " '8.day_6_opp_part_5.py',\n",
       " '8.day_7_oop_getter_and_setter.py',\n",
       " 'class_01.py',\n",
       " 'difficult_programming_concepts.ipynb',\n",
       " 'exercise_class_01.py',\n",
       " 'if_name_main',\n",
       " 'intermedio',\n",
       " 'read.me',\n",
       " 'review_notes']"
      ]
     },
     "execution_count": 2,
     "metadata": {},
     "output_type": "execute_result"
    }
   ],
   "source": [
    "os.listdir()"
   ]
  },
  {
   "cell_type": "code",
   "execution_count": 1,
   "metadata": {},
   "outputs": [
    {
     "ename": "ModuleNotFoundError",
     "evalue": "No module named 'src'",
     "output_type": "error",
     "traceback": [
      "\u001b[1;31m---------------------------------------------------------------------------\u001b[0m",
      "\u001b[1;31mModuleNotFoundError\u001b[0m                       Traceback (most recent call last)",
      "\u001b[1;32mc:\\UserData\\z004hedj\\OneDrive - Siemens AG\\Ambiente de Trabalho\\GIT\\newMilestone\\newMilestone\\python\\2.python_oop\\11. Data_science_project\\src\\notebooks\\test.ipynb Cell 10\u001b[0m in \u001b[0;36m<cell line: 1>\u001b[1;34m()\u001b[0m\n\u001b[1;32m----> <a href='vscode-notebook-cell:/c%3A/UserData/z004hedj/OneDrive%20-%20Siemens%20AG/Ambiente%20de%20Trabalho/GIT/newMilestone/newMilestone/python/2.python_oop/11.%20Data_science_project/src/notebooks/test.ipynb#X13sZmlsZQ%3D%3D?line=0'>1</a>\u001b[0m \u001b[39mimport\u001b[39;00m \u001b[39msrc\u001b[39;00m\u001b[39m.\u001b[39;00m\u001b[39mAquisicao\u001b[39;00m\u001b[39m.\u001b[39;00m\u001b[39minep\u001b[39;00m\u001b[39m.\u001b[39;00m\u001b[39mbase_inep\u001b[39;00m \u001b[39mas\u001b[39;00m \u001b[39metl_base_inep\u001b[39;00m\n\u001b[0;32m      <a href='vscode-notebook-cell:/c%3A/UserData/z004hedj/OneDrive%20-%20Siemens%20AG/Ambiente%20de%20Trabalho/GIT/newMilestone/newMilestone/python/2.python_oop/11.%20Data_science_project/src/notebooks/test.ipynb#X13sZmlsZQ%3D%3D?line=1'>2</a>\u001b[0m inep_etl \u001b[39m=\u001b[39m etl_base_inep\u001b[39m.\u001b[39mBaseINEPETL(\u001b[39m\"\u001b[39m\u001b[39mdados/censo_escolar\u001b[39m\u001b[39m\"\u001b[39m,\u001b[39m\"\u001b[39m\u001b[39msaida/aquisicao\u001b[39m\u001b[39m\"\u001b[39m, \u001b[39m\"\u001b[39m\u001b[39mcenso-escolar\u001b[39m\u001b[39m\"\u001b[39m)\n\u001b[0;32m      <a href='vscode-notebook-cell:/c%3A/UserData/z004hedj/OneDrive%20-%20Siemens%20AG/Ambiente%20de%20Trabalho/GIT/newMilestone/newMilestone/python/2.python_oop/11.%20Data_science_project/src/notebooks/test.ipynb#X13sZmlsZQ%3D%3D?line=3'>4</a>\u001b[0m inep_etl\u001b[39m.\u001b[39mdonwload_conteudo()\n",
      "\u001b[1;31mModuleNotFoundError\u001b[0m: No module named 'src'"
     ]
    }
   ],
   "source": [
    "import src.Aquisicao.inep.base_inep as etl_base_inep  \n",
    "inep_etl = etl_base_inep.BaseINEPETL(\"dados/censo_escolar\",\"saida/aquisicao\", \"censo-escolar\")\n",
    "\n",
    "inep_etl.donwload_conteudo()\n"
   ]
  }
 ],
 "metadata": {
  "kernelspec": {
   "display_name": "Python 3.10.2 64-bit",
   "language": "python",
   "name": "python3"
  },
  "language_info": {
   "codemirror_mode": {
    "name": "ipython",
    "version": 3
   },
   "file_extension": ".py",
   "mimetype": "text/x-python",
   "name": "python",
   "nbconvert_exporter": "python",
   "pygments_lexer": "ipython3",
   "version": "3.10.2"
  },
  "orig_nbformat": 4,
  "vscode": {
   "interpreter": {
    "hash": "fbe58ca63fe33f9eeae9e71d10368d2b4a57f2b1b395836210cc60d362c66949"
   }
  }
 },
 "nbformat": 4,
 "nbformat_minor": 2
}
