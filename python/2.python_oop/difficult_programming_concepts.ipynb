{
 "cells": [
  {
   "cell_type": "code",
   "execution_count": null,
   "metadata": {},
   "outputs": [],
   "source": [
    "# defintions of recursion: \n",
    "\n",
    "def countdown(val):\n",
    "    if val ==0:\n",
    "        return\n",
    "    print(val)\n",
    "    \n",
    "    countdown(val-1)\n",
    "countdown(5)\n"
   ]
  },
  {
   "cell_type": "code",
   "execution_count": null,
   "metadata": {},
   "outputs": [],
   "source": [
    "'''\n",
    "Recursion , pode ser usado para caso muito especificos, imaginemos que dentro de um array eu tnho um conjunto d elemenetos,  e dentro desses elementos pode tb ter um array dentro do elemento.\n",
    "basicmente tem de ser criar uma function que sempre que encontra um novo array,  vai chamar a function inicial,  e sempre asism até não ter mais elementos para precorrer.\n",
    "\n",
    "um exemplo masi real, é qunado vamos ter de precorrer um file tree,  que vários folder,  podem estar dentro de outras folders.\n",
    "\n",
    "outro bom exemplo são os comentarios do reddit que basicamente,  pode haver comenetarios sobre um comentarios,  que por sua vez tb podem ser ghaver comentarios dos proprios cometarios.\n",
    "\n",
    "'''\n",
    "arr = [\n",
    "    [1,2,3],\n",
    "    [1,2],\n",
    "    [1,2,3,[1,2,3]],\n",
    "    [1,2,[1,2,3],4],\n",
    "    [1,2,3,4,5],\n",
    "    [1,[1,2,3],3],\n",
    "    [1,2],\n",
    "    [1,],\n",
    "]\n",
    "\n",
    "\n",
    "def walk (a):\n",
    "    for ele in a:\n",
    "        if isinstance(ele,list):\n",
    "            walk(ele)\n",
    "        else:\n",
    "            print(ele)\n",
    "walk(arr)"
   ]
  },
  {
   "cell_type": "code",
   "execution_count": null,
   "metadata": {},
   "outputs": [],
   "source": [
    "#REGEX = REGULAR EXPRESSIONS\n",
    "'''\n",
    "com base num padrão caracteres,  fazer o match com elementos de um documento e desta forma conseguir extrair dados com base no patrao definido.\n",
    "é normalmente usado para fazer valiçoes ou extraçao de dados.\n",
    "s\n",
    "'''\n",
    "/[A-Z][A-Za-z]+[A-Z][A-Za-z]+/\n",
    "\n"
   ]
  },
  {
   "cell_type": "code",
   "execution_count": null,
   "metadata": {},
   "outputs": [],
   "source": [
    "'''\n",
    "OOP ,  basimcamente este é desing patter para a programaçao que trata cada parte de software como um objecto.\n",
    "\n",
    "tem um grande numero de coisas que são  AKA properties\n",
    "tem um grande numero de coisas que pode fazer AKA methods\n",
    "\n",
    "exemplo um martelo:\n",
    "\n",
    "properties: peso,  cor, tipo de martelo\n",
    "methods : bater em alguma coisa\n",
    "\n",
    "'''\n",
    "\n",
    "\n",
    "class Card:\n",
    "    number = '1234'\n",
    "    exp = '01/24'\n",
    "    \n",
    "    def valid():\n",
    "        pass\n",
    "    \n",
    "class Processor:\n",
    "    vendor = 'stripe'\n",
    "    \n",
    "    def charge(card):\n",
    "        #card.number\n",
    "        #card.exp"
   ]
  },
  {
   "cell_type": "code",
   "execution_count": null,
   "metadata": {},
   "outputs": [],
   "source": [
    "''' THREADING\n",
    "\n",
    "possibilidade de termos o nosso codigo a correr em paralelo, um simples exemplo,  é se tivermos uma loja de ecomerce,  sempre que é feit um pedido,  existem alguma coisas que o programa tem de f\n",
    "fazer um simultaneo,  como:\n",
    "\n",
    "registar o pedido\n",
    "validar se tem em stock\n",
    "validar o tempo de entrega\n",
    "validar o pagamento\n",
    "enviar email para cliente\n",
    "\n",
    "isto pode ser o exemplo de alguma das cosias que pode ser feito em paralelo de forma a que o cliente nao tenha de esperar muito tempo até ter a confirmação do pedido,  dai a necessidade de\n",
    "correr em paralelo usando do Threading.\n",
    "\n",
    "'''\n",
    "\n"
   ]
  },
  {
   "cell_type": "code",
   "execution_count": null,
   "metadata": {},
   "outputs": [],
   "source": [
    "'''\n",
    "Abrastraction\n",
    "\n",
    "esconder a complexidade e logica de um programa e tornar o programa simples de usar.\n",
    "quando escrevemos um hello world inserimos este input e esperamos ter um output contudo nao sabemos o que está a ser feito por traz para obter o output.  isto por que consiste numa compbinação de 111 e 000\n",
    "que o programa construir que nos é possivel ter um output\n",
    "\n",
    "\n",
    "'''"
   ]
  },
  {
   "cell_type": "code",
   "execution_count": null,
   "metadata": {},
   "outputs": [],
   "source": [
    "'''\n",
    "compiler\n",
    "\n",
    "'''"
   ]
  }
 ],
 "metadata": {
  "kernelspec": {
   "display_name": "Python 3.10.2 64-bit",
   "language": "python",
   "name": "python3"
  },
  "language_info": {
   "codemirror_mode": {
    "name": "ipython",
    "version": 3
   },
   "file_extension": ".py",
   "mimetype": "text/x-python",
   "name": "python",
   "nbconvert_exporter": "python",
   "pygments_lexer": "ipython3",
   "version": "3.10.2"
  },
  "orig_nbformat": 4,
  "vscode": {
   "interpreter": {
    "hash": "fbe58ca63fe33f9eeae9e71d10368d2b4a57f2b1b395836210cc60d362c66949"
   }
  }
 },
 "nbformat": 4,
 "nbformat_minor": 2
}
