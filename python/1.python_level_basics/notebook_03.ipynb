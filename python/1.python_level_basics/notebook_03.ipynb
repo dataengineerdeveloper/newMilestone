{
 "cells": [
  {
   "cell_type": "markdown",
   "metadata": {},
   "source": [
    "3.  functions"
   ]
  },
  {
   "cell_type": "code",
   "execution_count": 2,
   "metadata": {},
   "outputs": [
    {
     "name": "stdout",
     "output_type": "stream",
     "text": [
      "luis\n",
      "eduardo\n",
      "santos\n"
     ]
    }
   ],
   "source": [
    "def say_my_name():\n",
    "    print('luis')\n",
    "    print('eduardo')\n",
    "    print('santos')\n",
    "#include always this in order to call the function\n",
    "say_my_name()"
   ]
  },
  {
   "cell_type": "markdown",
   "metadata": {},
   "source": [
    "in order to make a functions dynamic i have to define a argument within a function,  in this case it'll look like this \n",
    "def say_my_name(name)"
   ]
  },
  {
   "cell_type": "code",
   "execution_count": 7,
   "metadata": {},
   "outputs": [
    {
     "name": "stdout",
     "output_type": "stream",
     "text": [
      "Hello, luis edauadaro\n"
     ]
    }
   ],
   "source": [
    "def say_my_name2(name):\n",
    "    print(name)\n",
    "    \n",
    "#say_my_name2('luis')\n",
    "\n",
    "#add a second function -- all the argumets that i'm going to add within the function have to add them when i call it.\n",
    "\n",
    "def gretting(greet, name):\n",
    "    print(f'{greet} {name}') \n",
    "    \n",
    "gretting('ola','luis edauadaro')"
   ]
  }
 ],
 "metadata": {
  "kernelspec": {
   "display_name": "Python 3.10.2 64-bit",
   "language": "python",
   "name": "python3"
  },
  "language_info": {
   "codemirror_mode": {
    "name": "ipython",
    "version": 3
   },
   "file_extension": ".py",
   "mimetype": "text/x-python",
   "name": "python",
   "nbconvert_exporter": "python",
   "pygments_lexer": "ipython3",
   "version": "3.10.2"
  },
  "orig_nbformat": 4,
  "vscode": {
   "interpreter": {
    "hash": "fbe58ca63fe33f9eeae9e71d10368d2b4a57f2b1b395836210cc60d362c66949"
   }
  }
 },
 "nbformat": 4,
 "nbformat_minor": 2
}
