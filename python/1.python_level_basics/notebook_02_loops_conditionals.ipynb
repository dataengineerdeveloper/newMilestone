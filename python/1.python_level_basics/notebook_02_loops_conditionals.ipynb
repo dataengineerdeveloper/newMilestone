{
 "cells": [
  {
   "cell_type": "markdown",
   "metadata": {},
   "source": [
    "BOOLEAN / IF THEN ELSE\n",
    "\n",
    "1. Bolean (True,  False)\n",
    "2. comparison operatiors (==, <,>, <=,=>, !=)"
   ]
  },
  {
   "cell_type": "markdown",
   "metadata": {},
   "source": [
    "weather app\n",
    "\n",
    "1. create a app where you insert the 1 of 3 options available then the app must advice you what you have to bring according with weather state"
   ]
  },
  {
   "cell_type": "markdown",
   "metadata": {},
   "source": [
    "#while > a statement that will execute it's block of code, as long as it's conditions remains true"
   ]
  },
  {
   "cell_type": "code",
   "execution_count": 1,
   "metadata": {},
   "outputs": [
    {
     "name": "stdout",
     "output_type": "stream",
     "text": [
      "hellofd\n"
     ]
    }
   ],
   "source": [
    "#this code will ask you to insert the name till you provide de name\n",
    "name = None\n",
    "while not name:\n",
    "    name = input(\"enter your name: \")\n",
    "print(\"hello\"+ name)"
   ]
  },
  {
   "cell_type": "code",
   "execution_count": 2,
   "metadata": {},
   "outputs": [
    {
     "name": "stdout",
     "output_type": "stream",
     "text": [
      "hellodg\n"
     ]
    }
   ],
   "source": [
    "#this code will ask you to insert the name till you provide de name. this code fo exact some thing as previous code.\n",
    "name = \"\"\n",
    "# as long as the value is empty the loop will keep running\n",
    "while len(name)==0:\n",
    "    name = input(\"enter your name: \")\n",
    "print(\"hello\"+ name)"
   ]
  },
  {
   "cell_type": "code",
   "execution_count": 5,
   "metadata": {},
   "outputs": [
    {
     "name": "stdout",
     "output_type": "stream",
     "text": [
      "insert one of 3 options\n"
     ]
    }
   ],
   "source": [
    "weather_prediction =  str(input(\"how's the weather? sun/rain/cloudy: \"))\n",
    "\n",
    "if weather_prediction == 'sun':\n",
    "    print('bring your sunglass')\n",
    "elif weather_prediction == 'cloudy':\n",
    "    print('bring a hoody')\n",
    "elif weather_prediction == 'rain':\n",
    "    print('bring your unbrella')\n",
    "else:\n",
    "    print('insert one of 3 options')\n"
   ]
  },
  {
   "cell_type": "code",
   "execution_count": 10,
   "metadata": {},
   "outputs": [
    {
     "name": "stdout",
     "output_type": "stream",
     "text": [
      "your score is F\n"
     ]
    }
   ],
   "source": [
    "score = int(input('insert your score then you get your grade'))\n",
    "\n",
    "if score > 90:\n",
    "    print('your score is A')\n",
    "elif score >= 80:\n",
    "     print('your score is B')\n",
    "elif score >= 70:\n",
    "     print('your score is C')\n",
    "elif score >= 60:\n",
    "     print('your score is D')\n",
    "elif score <60 :\n",
    "     print('your score is F')\n",
    "else: \n",
    "    print('review your score again')"
   ]
  },
  {
   "cell_type": "markdown",
   "metadata": {},
   "source": [
    "1.  using comparation in if"
   ]
  },
  {
   "cell_type": "code",
   "execution_count": 12,
   "metadata": {},
   "outputs": [
    {
     "name": "stdout",
     "output_type": "stream",
     "text": [
      "you either fail or you super pass\n"
     ]
    }
   ],
   "source": [
    "score =  103\n",
    "\n",
    "if score >= 60 and score <=100:\n",
    "    print('passing grade')\n",
    "if score <=60 <=100:\n",
    "    print('passing grade')\n",
    "if score < 60 or score > 100:\n",
    "    print('you either fail or you super pass')"
   ]
  },
  {
   "cell_type": "code",
   "execution_count": null,
   "metadata": {},
   "outputs": [],
   "source": [
    "#in this simple case it'll print the values till 19\n",
    "for i in range(1,20):\n",
    "    print(i)\n",
    "\n",
    "\n",
    "user_1={'username':'luis','id':1}\n",
    "user_2={'username':'Ed','id':2}\n",
    "comb=user_1,user_2\n",
    "\n",
    "for user in comb:\n",
    "    #it's going to print both values in a list\n",
    "    #print(user)\n",
    "    #it'l print only the values with a username\n",
    "    print(user['username'])"
   ]
  },
  {
   "cell_type": "code",
   "execution_count": 10,
   "metadata": {},
   "outputs": [
    {
     "name": "stdout",
     "output_type": "stream",
     "text": [
      "user1@email.com\n",
      "\n"
     ]
    }
   ],
   "source": [
    "# lets print a scenary where i need to print the email,  but i've to do a valiadation before print, because the key might not exists in some users\n",
    "user_1={'username':'luis','id':1,'email':'user1@email.com','phone':12334555}\n",
    "user_2={'username':'Ed','id':2,'email':'user2@email.com' , 'phone':123345}\n",
    "comb=user_1,user_2\n",
    "\n",
    "for user in comb:\n",
    "    if 'email' in user:\n",
    "        print(user['email'])\n",
    "    else: \n",
    "        print(user['phone'])\n",
    "    "
   ]
  },
  {
   "cell_type": "code",
   "execution_count": null,
   "metadata": {},
   "outputs": [],
   "source": [
    "abc_sq = [25]\n",
    "\n",
    "for num in abc_sq:\n",
    "    if num % 2 == 0:\n",
    "        print('this is even')\n",
    "        abc_sq.append(num)\n",
    "    else:\n",
    "        print('this is odd')\n",
    "        abc_sq.append(num)\n",
    "        \n"
   ]
  },
  {
   "cell_type": "code",
   "execution_count": null,
   "metadata": {},
   "outputs": [],
   "source": []
  }
 ],
 "metadata": {
  "kernelspec": {
   "display_name": "Python 3.10.2 64-bit",
   "language": "python",
   "name": "python3"
  },
  "language_info": {
   "codemirror_mode": {
    "name": "ipython",
    "version": 3
   },
   "file_extension": ".py",
   "mimetype": "text/x-python",
   "name": "python",
   "nbconvert_exporter": "python",
   "pygments_lexer": "ipython3",
   "version": "3.10.2"
  },
  "orig_nbformat": 4,
  "vscode": {
   "interpreter": {
    "hash": "fbe58ca63fe33f9eeae9e71d10368d2b4a57f2b1b395836210cc60d362c66949"
   }
  }
 },
 "nbformat": 4,
 "nbformat_minor": 2
}
