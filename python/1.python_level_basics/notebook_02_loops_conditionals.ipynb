{
 "cells": [
  {
   "cell_type": "markdown",
   "metadata": {},
   "source": [
    "BOOLEAN / IF THEN ELSE\n",
    "\n",
    "* 1. Bolean (True,  False)\n",
    "* 2. comparison operatiors (==, <,>, <=,=>, !=)"
   ]
  },
  {
   "cell_type": "markdown",
   "metadata": {},
   "source": [
    "weather app\n",
    "\n",
    "1. create a app where you insert the 1 of 3 options available then the app must advice you what you have to bring according with weather state"
   ]
  },
  {
   "cell_type": "markdown",
   "metadata": {},
   "source": [
    "* while > a statement that will execute it's block of code, as long as it's conditions remains true"
   ]
  },
  {
   "cell_type": "code",
   "execution_count": 1,
   "metadata": {},
   "outputs": [
    {
     "name": "stdout",
     "output_type": "stream",
     "text": [
      "hellofd\n"
     ]
    }
   ],
   "source": [
    "#this code will ask you to insert the name till you provide de name\n",
    "name = None\n",
    "while not name:\n",
    "    name = input(\"enter your name: \")\n",
    "print(\"hello\"+ name)"
   ]
  },
  {
   "cell_type": "code",
   "execution_count": 2,
   "metadata": {},
   "outputs": [
    {
     "name": "stdout",
     "output_type": "stream",
     "text": [
      "hellodg\n"
     ]
    }
   ],
   "source": [
    "#this code will ask you to insert the name till you provide de name. this code fo exact some thing as previous code.\n",
    "name = \"\"\n",
    "# as long as the value is empty the loop will keep running\n",
    "while len(name)==0:\n",
    "    name = input(\"enter your name: \")\n",
    "print(\"hello\"+ name)"
   ]
  },
  {
   "cell_type": "markdown",
   "metadata": {},
   "source": [
    "#loop > statement that will execute it's block code a limited amount of times\n",
    "\n",
    "while loop = unlimeted\n",
    "for loop = limited"
   ]
  },
  {
   "cell_type": "code",
   "execution_count": 3,
   "metadata": {},
   "outputs": [
    {
     "name": "stdout",
     "output_type": "stream",
     "text": [
      "10\n",
      "9\n",
      "8\n",
      "7\n",
      "6\n",
      "5\n",
      "4\n",
      "3\n",
      "2\n",
      "1\n",
      "Happy new year\n"
     ]
    }
   ],
   "source": [
    "#happy new year\n",
    "import time\n",
    "\n",
    "#here i'll get reverse count using -1.  i want to start in 10 and finish in 0 that isn't inclusive\n",
    "for seconds in range(10,0,-1):\n",
    "    print(seconds)\n",
    "    time.sleep(1)\n",
    "print(\"Happy new year!!\")"
   ]
  },
  {
   "cell_type": "markdown",
   "metadata": {},
   "source": [
    "#nested loops > the inner loop will finish all of it's iterations before finishing one iteration of the outer loop"
   ]
  },
  {
   "cell_type": "code",
   "execution_count": 4,
   "metadata": {},
   "outputs": [
    {
     "name": "stdout",
     "output_type": "stream",
     "text": [
      "####\n",
      "####\n",
      "####\n"
     ]
    }
   ],
   "source": [
    "rows = int(input(\"how many rows?: \"))\n",
    "columns = int(input(\"how many columns?: \"))\n",
    "symbol= input(\"enter a symbol to use: \")\n",
    "\n",
    "for i in range(rows):\n",
    "    for j in range(columns):\n",
    "        print(symbol, end=\"\")\n",
    "    print()\n",
    "\n",
    "\n"
   ]
  },
  {
   "cell_type": "markdown",
   "metadata": {},
   "source": [
    "# break / continue / pass\n",
    "loop control statements = changes a loops execution from its noraml squence\n",
    "\n",
    "break =  used to terminate the loop entirely\n",
    "continue = skips to the next iteration of the loop\n",
    "pass  =  does nothing,  acts as a placeholder\n"
   ]
  },
  {
   "cell_type": "code",
   "execution_count": 5,
   "metadata": {},
   "outputs": [],
   "source": [
    "#break\n",
    "#will iterate till you insert the name,  otherwise will break when you insert the name\n",
    "while True:\n",
    "    name = input(\"enter your name: \")\n",
    "    if name != \"\":\n",
    "        break"
   ]
  },
  {
   "cell_type": "code",
   "execution_count": 6,
   "metadata": {},
   "outputs": [
    {
     "name": "stdout",
     "output_type": "stream",
     "text": [
      "123456789"
     ]
    }
   ],
   "source": [
    "#continue\n",
    "#it will display values without dash -\n",
    "phone_number =\"123-456-789\"\n",
    "\n",
    "for i in phone_number:\n",
    "    if i == \"-\":\n",
    "        continue\n",
    "    print(i, end=\"\")"
   ]
  },
  {
   "cell_type": "code",
   "execution_count": 7,
   "metadata": {},
   "outputs": [
    {
     "name": "stdout",
     "output_type": "stream",
     "text": [
      "1\n",
      "2\n",
      "3\n",
      "4\n",
      "5\n",
      "6\n",
      "7\n",
      "8\n",
      "9\n",
      "10\n",
      "11\n",
      "12\n",
      "14\n",
      "15\n",
      "16\n",
      "17\n",
      "18\n",
      "19\n"
     ]
    }
   ],
   "source": [
    "#pass\n",
    "#it will pass all value form 1 to 20 execpt 13,  becasue i apply a rule to pass when i == 13\n",
    "\n",
    "for i in range(1,20):\n",
    "    if i == 13:\n",
    "        pass\n",
    "    else:\n",
    "        print(i)"
   ]
  },
  {
   "cell_type": "code",
   "execution_count": 5,
   "metadata": {},
   "outputs": [
    {
     "name": "stdout",
     "output_type": "stream",
     "text": [
      "insert one of 3 options\n"
     ]
    }
   ],
   "source": [
    "weather_prediction =  str(input(\"how's the weather? sun/rain/cloudy: \"))\n",
    "\n",
    "if weather_prediction == 'sun':\n",
    "    print('bring your sunglass')\n",
    "elif weather_prediction == 'cloudy':\n",
    "    print('bring a hoody')\n",
    "elif weather_prediction == 'rain':\n",
    "    print('bring your unbrella')\n",
    "else:\n",
    "    print('insert one of 3 options')\n"
   ]
  },
  {
   "cell_type": "code",
   "execution_count": 10,
   "metadata": {},
   "outputs": [
    {
     "name": "stdout",
     "output_type": "stream",
     "text": [
      "your score is F\n"
     ]
    }
   ],
   "source": [
    "score = int(input('insert your score then you get your grade'))\n",
    "\n",
    "if score > 90:\n",
    "    print('your score is A')\n",
    "elif score >= 80:\n",
    "     print('your score is B')\n",
    "elif score >= 70:\n",
    "     print('your score is C')\n",
    "elif score >= 60:\n",
    "     print('your score is D')\n",
    "elif score <60 :\n",
    "     print('your score is F')\n",
    "else: \n",
    "    print('review your score again')"
   ]
  },
  {
   "cell_type": "markdown",
   "metadata": {},
   "source": [
    "1.  using comparation in if"
   ]
  },
  {
   "cell_type": "code",
   "execution_count": 12,
   "metadata": {},
   "outputs": [
    {
     "name": "stdout",
     "output_type": "stream",
     "text": [
      "you either fail or you super pass\n"
     ]
    }
   ],
   "source": [
    "score =  103\n",
    "\n",
    "if score >= 60 and score <=100:\n",
    "    print('passing grade')\n",
    "if score <=60 <=100:\n",
    "    print('passing grade')\n",
    "if score < 60 or score > 100:\n",
    "    print('you either fail or you super pass')"
   ]
  },
  {
   "cell_type": "code",
   "execution_count": null,
   "metadata": {},
   "outputs": [],
   "source": [
    "#in this simple case it'll print the values till 19\n",
    "for i in range(1,20):\n",
    "    print(i)\n",
    "\n",
    "\n",
    "user_1={'username':'luis','id':1}\n",
    "user_2={'username':'Ed','id':2}\n",
    "comb=user_1,user_2\n",
    "\n",
    "for user in comb:\n",
    "    #it's going to print both values in a list\n",
    "    #print(user)\n",
    "    #it'l print only the values with a username\n",
    "    print(user['username'])"
   ]
  },
  {
   "cell_type": "code",
   "execution_count": 10,
   "metadata": {},
   "outputs": [
    {
     "name": "stdout",
     "output_type": "stream",
     "text": [
      "user1@email.com\n",
      "\n"
     ]
    }
   ],
   "source": [
    "# lets print a scenary where i need to print the email,  but i've to do a valiadation before print, because the key might not exists in some users\n",
    "user_1={'username':'luis','id':1,'email':'user1@email.com','phone':12334555}\n",
    "user_2={'username':'Ed','id':2,'email':'user2@email.com' , 'phone':123345}\n",
    "comb=user_1,user_2\n",
    "\n",
    "for user in comb:\n",
    "    if 'email' in user:\n",
    "        print(user['email'])\n",
    "    else: \n",
    "        print(user['phone'])\n",
    "    "
   ]
  },
  {
   "cell_type": "code",
   "execution_count": null,
   "metadata": {},
   "outputs": [],
   "source": [
    "abc_sq = [25]\n",
    "\n",
    "for num in abc_sq:\n",
    "    if num % 2 == 0:\n",
    "        print('this is even')\n",
    "        abc_sq.append(num)\n",
    "    else:\n",
    "        print('this is odd')\n",
    "        abc_sq.append(num)\n",
    "        \n"
   ]
  },
  {
   "cell_type": "code",
   "execution_count": null,
   "metadata": {},
   "outputs": [],
   "source": []
  }
 ],
 "metadata": {
  "kernelspec": {
   "display_name": "Python 3.10.2 64-bit",
   "language": "python",
   "name": "python3"
  },
  "language_info": {
   "codemirror_mode": {
    "name": "ipython",
    "version": 3
   },
   "file_extension": ".py",
   "mimetype": "text/x-python",
   "name": "python",
   "nbconvert_exporter": "python",
   "pygments_lexer": "ipython3",
   "version": "3.10.2"
  },
  "orig_nbformat": 4,
  "vscode": {
   "interpreter": {
    "hash": "fbe58ca63fe33f9eeae9e71d10368d2b4a57f2b1b395836210cc60d362c66949"
   }
  }
 },
 "nbformat": 4,
 "nbformat_minor": 2
}
