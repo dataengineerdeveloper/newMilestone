{
 "cells": [
  {
   "cell_type": "markdown",
   "metadata": {},
   "source": [
    "1. testing code\n",
    "    test assert"
   ]
  },
  {
   "cell_type": "code",
   "execution_count": 10,
   "metadata": {},
   "outputs": [
    {
     "name": "stdout",
     "output_type": "stream",
     "text": [
      "sum function: all tests passed(4/4)\n"
     ]
    }
   ],
   "source": [
    "#validate each part of code we call unit test in python we can use pytest to do\n",
    "# the make tests more easy to understand i should include all assert within a function\n",
    "\n",
    "# i picked a function that was created in afile test_to_function\n",
    "from test_to_function import sum\n",
    "from calcualtefood import calculatefoodTotal\n",
    "\n",
    "def test_sum():\n",
    "    assert sum(1,2) == 3\n",
    "    assert sum(-20,20) == 0\n",
    "    assert sum(20,20) == 40\n",
    "    assert sum(560,780) == 1340\n",
    "#this print is just an example of a message that we can leave, mentioning that all test are ok and the number of validations made\n",
    "    print('sum function: all tests passed(4/4)')\n",
    "test_sum()\n",
    "\n",
    "\n",
    "def test_calculate_food_total():\n",
    "    assert calculatefoodTotal(100,20) == 125\n"
   ]
  },
  {
   "cell_type": "code",
   "execution_count": 14,
   "metadata": {},
   "outputs": [
    {
     "ename": "AssertionError",
     "evalue": "",
     "output_type": "error",
     "traceback": [
      "\u001b[1;31m---------------------------------------------------------------------------\u001b[0m",
      "\u001b[1;31mAssertionError\u001b[0m                            Traceback (most recent call last)",
      "\u001b[1;32mc:\\UserData\\z004hedj\\OneDrive - Siemens AG\\Ambiente de Trabalho\\GIT\\newMilestone\\newMilestone\\python\\1.python_level_basics\\notebook_05.ipynb Cell 3\u001b[0m in \u001b[0;36m<cell line: 7>\u001b[1;34m()\u001b[0m\n\u001b[0;32m      <a href='vscode-notebook-cell:/c%3A/UserData/z004hedj/OneDrive%20-%20Siemens%20AG/Ambiente%20de%20Trabalho/GIT/newMilestone/newMilestone/python/1.python_level_basics/notebook_05.ipynb#W2sZmlsZQ%3D%3D?line=3'>4</a>\u001b[0m     \u001b[39massert\u001b[39;00m calculatefoodTotal(\u001b[39m100\u001b[39m,\u001b[39m20\u001b[39m) \u001b[39m==\u001b[39m \u001b[39m120\u001b[39m\n\u001b[0;32m      <a href='vscode-notebook-cell:/c%3A/UserData/z004hedj/OneDrive%20-%20Siemens%20AG/Ambiente%20de%20Trabalho/GIT/newMilestone/newMilestone/python/1.python_level_basics/notebook_05.ipynb#W2sZmlsZQ%3D%3D?line=4'>5</a>\u001b[0m     \u001b[39massert\u001b[39;00m calculatefoodTotal(\u001b[39m-\u001b[39m\u001b[39m100\u001b[39m,\u001b[39m-\u001b[39m\u001b[39m20\u001b[39m) \u001b[39m==\u001b[39m \u001b[39m120\u001b[39m\n\u001b[1;32m----> <a href='vscode-notebook-cell:/c%3A/UserData/z004hedj/OneDrive%20-%20Siemens%20AG/Ambiente%20de%20Trabalho/GIT/newMilestone/newMilestone/python/1.python_level_basics/notebook_05.ipynb#W2sZmlsZQ%3D%3D?line=6'>7</a>\u001b[0m test_calculate_food_total()\n",
      "\u001b[1;32mc:\\UserData\\z004hedj\\OneDrive - Siemens AG\\Ambiente de Trabalho\\GIT\\newMilestone\\newMilestone\\python\\1.python_level_basics\\notebook_05.ipynb Cell 3\u001b[0m in \u001b[0;36mtest_calculate_food_total\u001b[1;34m()\u001b[0m\n\u001b[0;32m      <a href='vscode-notebook-cell:/c%3A/UserData/z004hedj/OneDrive%20-%20Siemens%20AG/Ambiente%20de%20Trabalho/GIT/newMilestone/newMilestone/python/1.python_level_basics/notebook_05.ipynb#W2sZmlsZQ%3D%3D?line=2'>3</a>\u001b[0m \u001b[39mdef\u001b[39;00m \u001b[39mtest_calculate_food_total\u001b[39m():\n\u001b[0;32m      <a href='vscode-notebook-cell:/c%3A/UserData/z004hedj/OneDrive%20-%20Siemens%20AG/Ambiente%20de%20Trabalho/GIT/newMilestone/newMilestone/python/1.python_level_basics/notebook_05.ipynb#W2sZmlsZQ%3D%3D?line=3'>4</a>\u001b[0m     \u001b[39massert\u001b[39;00m calculatefoodTotal(\u001b[39m100\u001b[39m,\u001b[39m20\u001b[39m) \u001b[39m==\u001b[39m \u001b[39m120\u001b[39m\n\u001b[1;32m----> <a href='vscode-notebook-cell:/c%3A/UserData/z004hedj/OneDrive%20-%20Siemens%20AG/Ambiente%20de%20Trabalho/GIT/newMilestone/newMilestone/python/1.python_level_basics/notebook_05.ipynb#W2sZmlsZQ%3D%3D?line=4'>5</a>\u001b[0m     \u001b[39massert\u001b[39;00m calculatefoodTotal(\u001b[39m-\u001b[39m\u001b[39m100\u001b[39m,\u001b[39m-\u001b[39m\u001b[39m20\u001b[39m) \u001b[39m==\u001b[39m \u001b[39m120\u001b[39m\n",
      "\u001b[1;31mAssertionError\u001b[0m: "
     ]
    }
   ],
   "source": [
    "from calcualtefood import calculatefoodTotal\n",
    "\n",
    "def test_calculate_food_total():\n",
    "    assert calculatefoodTotal(100,20) == 120\n",
    "\n",
    "test_calculate_food_total()\n"
   ]
  }
 ],
 "metadata": {
  "kernelspec": {
   "display_name": "Python 3.10.2 64-bit",
   "language": "python",
   "name": "python3"
  },
  "language_info": {
   "codemirror_mode": {
    "name": "ipython",
    "version": 3
   },
   "file_extension": ".py",
   "mimetype": "text/x-python",
   "name": "python",
   "nbconvert_exporter": "python",
   "pygments_lexer": "ipython3",
   "version": "3.10.2"
  },
  "orig_nbformat": 4,
  "vscode": {
   "interpreter": {
    "hash": "fbe58ca63fe33f9eeae9e71d10368d2b4a57f2b1b395836210cc60d362c66949"
   }
  }
 },
 "nbformat": 4,
 "nbformat_minor": 2
}
