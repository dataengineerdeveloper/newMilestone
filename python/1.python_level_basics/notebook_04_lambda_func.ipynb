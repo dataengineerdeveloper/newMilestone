{
 "cells": [
  {
   "cell_type": "markdown",
   "metadata": {},
   "source": [
    "1.  lambda function > anonymous function\n",
    "\n",
    "simple structure: \n",
    "    lambda arg1,  arg2: <expression>"
   ]
  },
  {
   "cell_type": "code",
   "execution_count": 3,
   "metadata": {},
   "outputs": [
    {
     "name": "stdout",
     "output_type": "stream",
     "text": [
      "3\n",
      "hello master\n"
     ]
    }
   ],
   "source": [
    "# example\n",
    "\n",
    "def sum(a,b):\n",
    "    return a+b\n",
    "\n",
    "# --- lambda example1\n",
    "\n",
    "sum2 =  lambda a,b: a+b\n",
    "print(sum2(1,2))\n",
    "\n",
    "# --- lambda example2\n",
    "# in this case i'm using a format string as an expression\n",
    "greet = lambda greet,name: f\"{greet} {name}\"\n",
    "print(greet('hello','master'))"
   ]
  }
 ],
 "metadata": {
  "kernelspec": {
   "display_name": "Python 3.10.2 64-bit",
   "language": "python",
   "name": "python3"
  },
  "language_info": {
   "codemirror_mode": {
    "name": "ipython",
    "version": 3
   },
   "file_extension": ".py",
   "mimetype": "text/x-python",
   "name": "python",
   "nbconvert_exporter": "python",
   "pygments_lexer": "ipython3",
   "version": "3.10.2"
  },
  "orig_nbformat": 4,
  "vscode": {
   "interpreter": {
    "hash": "fbe58ca63fe33f9eeae9e71d10368d2b4a57f2b1b395836210cc60d362c66949"
   }
  }
 },
 "nbformat": 4,
 "nbformat_minor": 2
}
