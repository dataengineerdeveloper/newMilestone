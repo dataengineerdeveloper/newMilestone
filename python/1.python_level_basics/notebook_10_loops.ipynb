{
 "cells": [
  {
   "cell_type": "markdown",
   "metadata": {},
   "source": [
    "1.  loops"
   ]
  },
  {
   "cell_type": "code",
   "execution_count": 3,
   "metadata": {},
   "outputs": [
    {
     "name": "stdout",
     "output_type": "stream",
     "text": [
      "Fruits: apple 0\n",
      "Fruits: orange 1\n",
      "Fruits: watermelon 2\n",
      "Fruits: banana 3\n"
     ]
    }
   ],
   "source": [
    "fruits = ['apple','orange','watermelon','banana']\n",
    "print('Fruits:',fruits[0],0)\n",
    "print('Fruits:',fruits[1],1)\n",
    "print('Fruits:',fruits[2],2)\n",
    "print('Fruits:',fruits[3],3)"
   ]
  },
  {
   "cell_type": "code",
   "execution_count": 10,
   "metadata": {},
   "outputs": [
    {
     "name": "stdout",
     "output_type": "stream",
     "text": [
      "Fruit: (0, 'apple')\n",
      "Fruit: (1, 'orange')\n",
      "Fruit: (2, 'watermelon')\n",
      "Fruit: (3, 'banana')\n"
     ]
    }
   ],
   "source": [
    "# to enumerate de values that i'm going to loop, i can use e de enumerate where FOR is.\n",
    "for fruit in enumerate(fruits):\n",
    "    print('Fruit:',fruit)"
   ]
  },
  {
   "cell_type": "code",
   "execution_count": 15,
   "metadata": {},
   "outputs": [
    {
     "name": "stdout",
     "output_type": "stream",
     "text": [
      "fruit: apple 0\n",
      "fruit: orange 1\n",
      "fruit: watermelon 2\n",
      "fruit: banana 3\n"
     ]
    }
   ],
   "source": [
    "for index,  fruit in enumerate(fruits):\n",
    "    print('fruit:',fruit, index)"
   ]
  },
  {
   "cell_type": "code",
   "execution_count": 18,
   "metadata": {},
   "outputs": [
    {
     "ename": "SyntaxError",
     "evalue": "expected ':' (4089542476.py, line 1)",
     "output_type": "error",
     "traceback": [
      "\u001b[1;36m  Input \u001b[1;32mIn [18]\u001b[1;36m\u001b[0m\n\u001b[1;33m    for nub in a range(5):\u001b[0m\n\u001b[1;37m                 ^\u001b[0m\n\u001b[1;31mSyntaxError\u001b[0m\u001b[1;31m:\u001b[0m expected ':'\n"
     ]
    }
   ],
   "source": [
    "for nub in a range(5):\n",
    "    print(nub)\n",
    "    \n",
    "    "
   ]
  },
  {
   "cell_type": "markdown",
   "metadata": {},
   "source": [
    "2.  while loops"
   ]
  },
  {
   "cell_type": "code",
   "execution_count": 44,
   "metadata": {},
   "outputs": [
    {
     "name": "stdout",
     "output_type": "stream",
     "text": [
      "0\n",
      "1\n",
      "3\n",
      "7\n"
     ]
    }
   ],
   "source": [
    "counter = 0\n",
    "while counter < 10:\n",
    "    print(counter)\n",
    "    counter += counter+1"
   ]
  },
  {
   "cell_type": "code",
   "execution_count": 56,
   "metadata": {},
   "outputs": [
    {
     "name": "stdout",
     "output_type": "stream",
     "text": [
      "2 x 1 = 2\n",
      "2 x 2 = 4\n",
      "2 x 3 = 6\n",
      "2 x 4 = 8\n",
      "2 x 5 = 10\n",
      "2 x 6 = 12\n",
      "2 x 7 = 14\n",
      "2 x 8 = 16\n",
      "2 x 9 = 18\n",
      "2 x 10 = 20\n"
     ]
    }
   ],
   "source": [
    "#exercise to multiple a  value till 10\n",
    "count = 1\n",
    "insert_vallue = int(input('insert the value that you want to multipl: '))\n",
    "\n",
    "while count <= 10:\n",
    "    print(insert_vallue,'x',count,'=',insert_vallue*count)\n",
    "    count = count + 1\n",
    "    \n",
    "    \n",
    "    \n",
    "    "
   ]
  },
  {
   "cell_type": "code",
   "execution_count": 58,
   "metadata": {},
   "outputs": [
    {
     "name": "stdout",
     "output_type": "stream",
     "text": [
      "[]\n",
      "[2]\n",
      "[2, 4]\n",
      "[2, 4, 6]\n"
     ]
    }
   ],
   "source": [
    "def double(numbers: list)->list:\n",
    "    result=[]\n",
    "    for number in numbers:\n",
    "        print(result)\n",
    "        result.append(number*2)\n",
    "        \n",
    "    return result\n",
    "print(double([1,2,3]))"
   ]
  },
  {
   "cell_type": "code",
   "execution_count": 61,
   "metadata": {},
   "outputs": [
    {
     "name": "stdout",
     "output_type": "stream",
     "text": [
      "5\n"
     ]
    }
   ],
   "source": [
    "def count_words(phrase):\n",
    "    print(len(phrase.split()))\n",
    "count_words('hello!, my name is luis')\n",
    "    \n",
    "    \n",
    "    \n"
   ]
  },
  {
   "cell_type": "code",
   "execution_count": 63,
   "metadata": {},
   "outputs": [
    {
     "name": "stdout",
     "output_type": "stream",
     "text": [
      "6\n"
     ]
    }
   ],
   "source": [
    "def sum_list(numbers):\n",
    "    count=0\n",
    "    for number in numbers:\n",
    "        count += number\n",
    "    return count\n",
    "print(sum_list([1,2,3]))"
   ]
  },
  {
   "cell_type": "code",
   "execution_count": 66,
   "metadata": {},
   "outputs": [
    {
     "name": "stdout",
     "output_type": "stream",
     "text": [
      "443\n"
     ]
    }
   ],
   "source": [
    "#find max\n",
    "\n",
    "def find_max(numbers):\n",
    "    #strat with number[0],  to make sure that the first value to check max valuea are always index 0\n",
    "    current_max=numbers[0]\n",
    "    for number in numbers:\n",
    "        if number > current_max:\n",
    "            current_max=number\n",
    "    return current_max\n",
    "print(find_max([1,2,3,443,45,0]))  \n",
    "    \n"
   ]
  }
 ],
 "metadata": {
  "kernelspec": {
   "display_name": "Python 3.10.2 64-bit",
   "language": "python",
   "name": "python3"
  },
  "language_info": {
   "codemirror_mode": {
    "name": "ipython",
    "version": 3
   },
   "file_extension": ".py",
   "mimetype": "text/x-python",
   "name": "python",
   "nbconvert_exporter": "python",
   "pygments_lexer": "ipython3",
   "version": "3.10.2"
  },
  "orig_nbformat": 4,
  "vscode": {
   "interpreter": {
    "hash": "fbe58ca63fe33f9eeae9e71d10368d2b4a57f2b1b395836210cc60d362c66949"
   }
  }
 },
 "nbformat": 4,
 "nbformat_minor": 2
}
