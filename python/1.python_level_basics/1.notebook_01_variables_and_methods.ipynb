{
 "cells": [
  {
   "cell_type": "markdown",
   "metadata": {},
   "source": [
    "VARIABLES AND STRINGS / FORMAT STRINGS / DATATYPES"
   ]
  },
  {
   "cell_type": "markdown",
   "metadata": {},
   "source": [
    "1. create an app where you can insert total value of a diner and the the respective tip to the waiter.\n",
    "2. the output must display total value of food,  value from tip and total value food + tip"
   ]
  },
  {
   "cell_type": "code",
   "execution_count": 1,
   "metadata": {},
   "outputs": [
    {
     "name": "stdout",
     "output_type": "stream",
     "text": [
      "Bill to Pay\n",
      "--------------------------------\n",
      "value without tip: 120.0 €\n",
      "tip percentage: 0.05 %\n",
      "tip amount: 6.0 €\n",
      "\n",
      "\n",
      "--------------------------------\n",
      "total_vaue:126.0 €\n"
     ]
    }
   ],
   "source": [
    "\n"
   ]
  },
  {
   "cell_type": "code",
   "execution_count": 8,
   "metadata": {},
   "outputs": [
    {
     "name": "stdout",
     "output_type": "stream",
     "text": [
      "0.5361322676118212\n",
      "12.99643272151397\n",
      "50\n",
      "vermelho\n",
      "['card3', 'card4', 'card2', 'card1']\n"
     ]
    }
   ],
   "source": []
  },
  {
   "cell_type": "code",
   "execution_count": 132,
   "metadata": {},
   "outputs": [
    {
     "name": "stdout",
     "output_type": "stream",
     "text": [
      "0.07907709930926121\n",
      "0.12598976914052962\n",
      "65\n",
      "heads\n",
      "['card1', 'card2', 'card3']\n"
     ]
    }
   ],
   "source": []
  },
  {
   "cell_type": "markdown",
   "metadata": {},
   "source": [
    "1. list and methods and sorting"
   ]
  },
  {
   "cell_type": "code",
   "execution_count": 33,
   "metadata": {},
   "outputs": [
    {
     "name": "stdout",
     "output_type": "stream",
     "text": [
      "[1, 2, 'john', 'jim']\n",
      "[1, 2, 'john', 'jim', 3, 4, 5]\n",
      "[0, 1, 2, 'john', 'jim', 3, 4, 5]\n"
     ]
    }
   ],
   "source": []
  },
  {
   "cell_type": "code",
   "execution_count": 36,
   "metadata": {},
   "outputs": [
    {
     "name": "stdout",
     "output_type": "stream",
     "text": [
      "[1, 2, 4, 5, 6, 7]\n",
      "[7, 6, 5, 4, 2, 1]\n"
     ]
    }
   ],
   "source": [
    "# SORT \n",
    "\n",
    "new_list = [1,2,5,7,6,4]\n",
    "new_list.sort()\n",
    "print(new_list)\n",
    "\n",
    "#if i want the reverse the order the only thing that i have to is only apply reverse= True\n",
    "\n",
    "new_list.sort(reverse=True)\n",
    "print(new_list)"
   ]
  },
  {
   "cell_type": "code",
   "execution_count": 38,
   "metadata": {},
   "outputs": [
    {
     "name": "stdout",
     "output_type": "stream",
     "text": [
      "['luis', 'eduardo', 'santos']\n",
      "['luis', 'eduardo']\n"
     ]
    }
   ],
   "source": [
    "# append / pop\n",
    "\n",
    "\n",
    "stack = ['luis','eduardo']\n",
    "stack.append(\"santos\")\n",
    "print(stack)\n",
    "#pop basically remove last index\n",
    "stack.pop()\n",
    "print(stack)"
   ]
  },
  {
   "cell_type": "code",
   "execution_count": 41,
   "metadata": {},
   "outputs": [
    {
     "name": "stdout",
     "output_type": "stream",
     "text": [
      "deque(['luis', 'eduardo'])\n",
      "deque(['eduardo', 'allen'])\n"
     ]
    }
   ],
   "source": [
    "from collections import deque\n",
    "queue = deque([\"luis\",\"eduardo\"])\n",
    "print(queue)\n",
    "queue.append(\"allen\")\n",
    "#in this case popleft will remove first index value forma the list\n",
    "queue.popleft()\n",
    "print(queue)"
   ]
  },
  {
   "cell_type": "code",
   "execution_count": 44,
   "metadata": {},
   "outputs": [
    {
     "data": {
      "text/plain": [
       "'eudardo'"
      ]
     },
     "execution_count": 44,
     "metadata": {},
     "output_type": "execute_result"
    }
   ],
   "source": [
    "#tupples basically are not immutable,for example if i try to a append a new value within a list i will geta  error.  to sum up i cannot edit a tupple after being created\n",
    "\n",
    "#lists can be edit tupples no\n",
    "\n",
    "my_tup=(\"luis\",\"eudardo\")\n",
    "my_tup[1]"
   ]
  },
  {
   "cell_type": "code",
   "execution_count": 63,
   "metadata": {},
   "outputs": [
    {
     "data": {
      "text/plain": [
       "False"
      ]
     },
     "execution_count": 63,
     "metadata": {},
     "output_type": "execute_result"
    }
   ],
   "source": [
    "# SET\n",
    "# set functions remove duplicates within a set\n",
    "\n",
    "my_set =  {\"luis\",\"eduardo\",\"santos\",\"santos\"}\n",
    "my_set\n",
    "\n",
    "\n",
    "set_a = ['luis','luis','eduardo','eduardo','Santos']\n",
    "set(set_a)\n",
    "\n",
    "# when we need to validate if a value is within a set only pass the value followed by in and the name of the set\n",
    "\"carlos\" in set_a\n",
    "\n"
   ]
  },
  {
   "cell_type": "code",
   "execution_count": 68,
   "metadata": {},
   "outputs": [
    {
     "data": {
      "text/plain": [
       "{'a', 'b', 'd', 'e', 'f'}"
      ]
     },
     "execution_count": 68,
     "metadata": {},
     "output_type": "execute_result"
    }
   ],
   "source": [
    "set_1 = set(\"abc\")\n",
    "set_2 = set(\"defc\")\n",
    "\n",
    "set_1.intersection(set_2)\n",
    "set_1.union(set_2)\n",
    "#in this case will prioritize the difference form set_1\n",
    "set_1.difference(set_2)\n",
    "set_2.difference(set_1)\n",
    "\n",
    "# but imagine that we want to get the all view of diffence in the both sets.  the only value that will be in common in each values it'll be C\n",
    "\n",
    "set_1.symmetric_difference(set_2)"
   ]
  },
  {
   "cell_type": "code",
   "execution_count": 77,
   "metadata": {},
   "outputs": [
    {
     "data": {
      "text/plain": [
       "dict_items([('name', 'luis'), ('age', '26')])"
      ]
     },
     "execution_count": 77,
     "metadata": {},
     "output_type": "execute_result"
    }
   ],
   "source": [
    "# Dictionary > storre multiple key values in a variable name.  this are the2 things that i can search within a dict keys or values\n",
    "\n",
    "person = {\"name\": \"luis\",  \"age\": \"26\"}\n",
    "person[\"name\"]\n",
    "\n",
    "# usefull methods within dictionaries\n",
    "\n",
    "person.keys()\n",
    "person.values()\n",
    "person.items()"
   ]
  },
  {
   "cell_type": "code",
   "execution_count": 78,
   "metadata": {},
   "outputs": [
    {
     "name": "stdout",
     "output_type": "stream",
     "text": [
      "the keys name is attache to value luis\n",
      "the keys age is attache to value 26\n"
     ]
    }
   ],
   "source": [
    "for keys, value in person.items():\n",
    "    print(f\"the keys {keys} is attache to value {value}\")"
   ]
  },
  {
   "cell_type": "code",
   "execution_count": 1,
   "metadata": {},
   "outputs": [
    {
     "ename": "NameError",
     "evalue": "name 'person' is not defined",
     "output_type": "error",
     "traceback": [
      "\u001b[1;31m---------------------------------------------------------------------------\u001b[0m",
      "\u001b[1;31mNameError\u001b[0m                                 Traceback (most recent call last)",
      "\u001b[1;32mc:\\UserData\\z004hedj\\OneDrive - Siemens AG\\Ambiente de Trabalho\\GIT\\newMilestone\\newMilestone\\python\\1.python_level_basics\\notebook_01.ipynb Cell 18\u001b[0m in \u001b[0;36m<cell line: 3>\u001b[1;34m()\u001b[0m\n\u001b[0;32m      <a href='vscode-notebook-cell:/c%3A/UserData/z004hedj/OneDrive%20-%20Siemens%20AG/Ambiente%20de%20Trabalho/GIT/newMilestone/newMilestone/python/1.python_level_basics/notebook_01.ipynb#X23sZmlsZQ%3D%3D?line=0'>1</a>\u001b[0m \u001b[39m# thre is also one other way to validate if a value existe within a dict without getting a error\u001b[39;00m\n\u001b[0;32m      <a href='vscode-notebook-cell:/c%3A/UserData/z004hedj/OneDrive%20-%20Siemens%20AG/Ambiente%20de%20Trabalho/GIT/newMilestone/newMilestone/python/1.python_level_basics/notebook_01.ipynb#X23sZmlsZQ%3D%3D?line=1'>2</a>\u001b[0m \u001b[39m# if the value doesn't exist then nothing will show up and if the value exist i will geta result\u001b[39;00m\n\u001b[1;32m----> <a href='vscode-notebook-cell:/c%3A/UserData/z004hedj/OneDrive%20-%20Siemens%20AG/Ambiente%20de%20Trabalho/GIT/newMilestone/newMilestone/python/1.python_level_basics/notebook_01.ipynb#X23sZmlsZQ%3D%3D?line=2'>3</a>\u001b[0m person\u001b[39m.\u001b[39mget(\u001b[39m\"\u001b[39m\u001b[39msantos\u001b[39m\u001b[39m\"\u001b[39m)\n\u001b[0;32m      <a href='vscode-notebook-cell:/c%3A/UserData/z004hedj/OneDrive%20-%20Siemens%20AG/Ambiente%20de%20Trabalho/GIT/newMilestone/newMilestone/python/1.python_level_basics/notebook_01.ipynb#X23sZmlsZQ%3D%3D?line=3'>4</a>\u001b[0m person\u001b[39m.\u001b[39mget(\u001b[39m\"\u001b[39m\u001b[39mname\u001b[39m\u001b[39m\"\u001b[39m)\n\u001b[0;32m      <a href='vscode-notebook-cell:/c%3A/UserData/z004hedj/OneDrive%20-%20Siemens%20AG/Ambiente%20de%20Trabalho/GIT/newMilestone/newMilestone/python/1.python_level_basics/notebook_01.ipynb#X23sZmlsZQ%3D%3D?line=5'>6</a>\u001b[0m \u001b[39m# imagine that for some reason i need to a add a new value in a dict.  rhen if i run the following code i will get the dict updated\u001b[39;00m\n",
      "\u001b[1;31mNameError\u001b[0m: name 'person' is not defined"
     ]
    }
   ],
   "source": [
    "# thre is also one other way to validate if a value existe within a dict without getting a error\n",
    "# if the value doesn't exist then nothing will show up and if the value exist i will geta result\n",
    "person.get(\"santos\")\n",
    "person.get(\"name\")\n",
    "\n",
    "# imagine that for some reason i need to a add a new value in a dict.  rhen if i run the following code i will get the dict updated\n",
    "\n",
    "more_info = {\"is_male\":True}\n",
    "person.update(more_info)\n",
    "person\n",
    "\n",
    "# the same happen i need to remove a element from a dict\n",
    "\n",
    "person.clear()\n",
    "person\n"
   ]
  }
 ],
 "metadata": {
  "kernelspec": {
   "display_name": "Python 3.10.2 64-bit",
   "language": "python",
   "name": "python3"
  },
  "language_info": {
   "codemirror_mode": {
    "name": "ipython",
    "version": 3
   },
   "file_extension": ".py",
   "mimetype": "text/x-python",
   "name": "python",
   "nbconvert_exporter": "python",
   "pygments_lexer": "ipython3",
   "version": "3.10.2"
  },
  "orig_nbformat": 4,
  "vscode": {
   "interpreter": {
    "hash": "fbe58ca63fe33f9eeae9e71d10368d2b4a57f2b1b395836210cc60d362c66949"
   }
  }
 },
 "nbformat": 4,
 "nbformat_minor": 2
}
