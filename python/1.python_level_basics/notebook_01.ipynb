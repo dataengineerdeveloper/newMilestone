{
 "cells": [
  {
   "cell_type": "markdown",
   "metadata": {},
   "source": [
    "VARIABLES AND STRINGS / FORMAT STRINGS / DATATYPES"
   ]
  },
  {
   "cell_type": "code",
   "execution_count": 14,
   "metadata": {},
   "outputs": [
    {
     "name": "stdout",
     "output_type": "stream",
     "text": [
      "HI luis\n",
      "175 / 89\n"
     ]
    }
   ],
   "source": [
    "\n",
    "# first Variables\n",
    "\n",
    "#conver string input into a integer\n",
    "your_name = str(input(\"please insert your name: \"))\n",
    "print('HI', your_name)\n",
    "\n",
    "\n",
    "#convert a string input to array\n",
    "#v = list(input(\"enter a int\"))\n",
    "#print(v)\n",
    "\n",
    "# we can also create 2 variables and 2 values within\n",
    "height,weight = 175, 89\n",
    "print(height,'/',weight)\n"
   ]
  },
  {
   "cell_type": "code",
   "execution_count": 16,
   "metadata": {},
   "outputs": [
    {
     "name": "stdout",
     "output_type": "stream",
     "text": [
      "your final value is 2\n"
     ]
    }
   ],
   "source": [
    "num1= int(input('insert numbe 1: '))\n",
    "num2 = int(input('insert numbe 2: '))\n",
    "\n",
    "print('your final value is',num1+num2)"
   ]
  },
  {
   "cell_type": "markdown",
   "metadata": {},
   "source": [
    "1. create an app where you can insert total value of a diner and the the respective tip to the waiter.\n",
    "2. the output must display total value of food,  value from tip and total value food + tip"
   ]
  },
  {
   "cell_type": "code",
   "execution_count": 32,
   "metadata": {},
   "outputs": [
    {
     "name": "stdout",
     "output_type": "stream",
     "text": [
      "-----------------------------------------\n",
      "Food amount: 100.0 €\n",
      "Tip amount: 20.0 €\n",
      "\n",
      "\n",
      "Total amount: 120.0 €\n",
      "-----------------------------------------\n"
     ]
    }
   ],
   "source": [
    "# Calculator example\n",
    "\n",
    "#converrtion cames always before input\n",
    "food_price = float(input(\"insert total value of food: \"))\n",
    "#we can force a decimal value or we can define / 100 at the end to avoid issues in the calculation of the percentage\n",
    "tip_percentage = float(input(\"insert tip percentage\"))/100\n",
    "\n",
    "tip_amount = food_price * tip_percentage\n",
    "total_value = food_price + tip_amount\n",
    "\n",
    "#string formating - if i need to display any of this values\n",
    "print('-----------------------------------------')\n",
    "print(f'Food amount: {food_price} €')\n",
    "print(f'Tip amount: {tip_amount} €')\n",
    "print('\\n')\n",
    "print(f'Total amount: {total_value} €')\n",
    "print('-----------------------------------------')\n",
    "#the concatenation are only possible with str, so in this case i have to convert the float to a str\n",
    "#this an example for the final print,  but string formating looks better\n",
    "#print(\"Total value is: \",str(total_value),'€')\n",
    "\n",
    "# string formating\n",
    "\n"
   ]
  },
  {
   "cell_type": "code",
   "execution_count": 8,
   "metadata": {},
   "outputs": [
    {
     "name": "stdout",
     "output_type": "stream",
     "text": [
      "0.5361322676118212\n",
      "12.99643272151397\n",
      "50\n",
      "vermelho\n",
      "['card3', 'card4', 'card2', 'card1']\n"
     ]
    }
   ],
   "source": [
    "# function randon,  som examples\n",
    "\n",
    "\n",
    "import random\n",
    "\n",
    "print(random.random()) # value from 0.0 till 1.0\n",
    "print(random.uniform(4,19)) #decimal value from min to max\n",
    "print(random.randint(12,55)) #int value from min to max\n",
    "\n",
    "\n",
    "cores = ['verde','vermelho','azul']\n",
    "print(random.choice(cores)) # allow you to pick a option from a variable\n",
    "\n",
    "\n",
    "cards =  ['card1','card2','card3','card4']\n",
    "random.shuffle(cards)\n",
    "print(cards)"
   ]
  },
  {
   "cell_type": "code",
   "execution_count": 24,
   "metadata": {},
   "outputs": [
    {
     "name": "stdout",
     "output_type": "stream",
     "text": [
      "coroa\n",
      "eduardo\n",
      "96\n"
     ]
    }
   ],
   "source": [
    "import random\n",
    "\n",
    "option = ['cara','coroa']\n",
    "print(random.choice(option))\n",
    "\n",
    "candidates = ['ze', 'joao','eduardo']\n",
    "print(random.choice(candidates))\n",
    "\n",
    "print(random.randint(10,100))"
   ]
  },
  {
   "cell_type": "markdown",
   "metadata": {},
   "source": [
    "1. list and methods and sorting"
   ]
  },
  {
   "cell_type": "code",
   "execution_count": 33,
   "metadata": {},
   "outputs": [
    {
     "name": "stdout",
     "output_type": "stream",
     "text": [
      "[1, 2, 'john', 'jim']\n",
      "[1, 2, 'john', 'jim', 3, 4, 5]\n",
      "[0, 1, 2, 'john', 'jim', 3, 4, 5]\n"
     ]
    }
   ],
   "source": [
    "#an example to apply append and extend.  besed ona original list we can add new value to the list and apart of that list we can add values from other list\n",
    "\n",
    "list=[1,2,'john']\n",
    "list.append('jim')\n",
    "print(list)\n",
    "another_list= [3,4,5]\n",
    "list.extend(another_list)\n",
    "print(list)\n",
    "\n",
    "# imagine that i want to insert a value in a specific index,  i want to add 0 placing it on index 0. the first 0 refers to a index and the next 0 refers to the value to add\n",
    "\n",
    "list.insert(0, 0)\n",
    "print(list)"
   ]
  },
  {
   "cell_type": "code",
   "execution_count": 36,
   "metadata": {},
   "outputs": [
    {
     "name": "stdout",
     "output_type": "stream",
     "text": [
      "[1, 2, 4, 5, 6, 7]\n",
      "[7, 6, 5, 4, 2, 1]\n"
     ]
    }
   ],
   "source": [
    "# SORT \n",
    "\n",
    "new_list = [1,2,5,7,6,4]\n",
    "new_list.sort()\n",
    "print(new_list)\n",
    "\n",
    "#if i want the reverse the order the only thing that i have to is only apply reverse= True\n",
    "\n",
    "new_list.sort(reverse=True)\n",
    "print(new_list)"
   ]
  },
  {
   "cell_type": "code",
   "execution_count": 38,
   "metadata": {},
   "outputs": [
    {
     "name": "stdout",
     "output_type": "stream",
     "text": [
      "['luis', 'eduardo', 'santos']\n",
      "['luis', 'eduardo']\n"
     ]
    }
   ],
   "source": [
    "# append / pop\n",
    "\n",
    "\n",
    "stack = ['luis','eduardo']\n",
    "stack.append(\"santos\")\n",
    "print(stack)\n",
    "#pop basically remove last index\n",
    "stack.pop()\n",
    "print(stack)"
   ]
  },
  {
   "cell_type": "code",
   "execution_count": 41,
   "metadata": {},
   "outputs": [
    {
     "name": "stdout",
     "output_type": "stream",
     "text": [
      "deque(['luis', 'eduardo'])\n",
      "deque(['eduardo', 'allen'])\n"
     ]
    }
   ],
   "source": [
    "from collections import deque\n",
    "queue = deque([\"luis\",\"eduardo\"])\n",
    "print(queue)\n",
    "queue.append(\"allen\")\n",
    "#in this case popleft will remove first index value forma the list\n",
    "queue.popleft()\n",
    "print(queue)"
   ]
  },
  {
   "cell_type": "code",
   "execution_count": 44,
   "metadata": {},
   "outputs": [
    {
     "data": {
      "text/plain": [
       "'eudardo'"
      ]
     },
     "execution_count": 44,
     "metadata": {},
     "output_type": "execute_result"
    }
   ],
   "source": [
    "#tupples basically are not immutable,for example if i try to a append a new value within a list i will geta  error.  to sum up i cannot edit a tupple after being created\n",
    "\n",
    "my_tup=(\"luis\",\"eudardo\")\n",
    "my_tup[1]"
   ]
  }
 ],
 "metadata": {
  "kernelspec": {
   "display_name": "Python 3.10.2 64-bit",
   "language": "python",
   "name": "python3"
  },
  "language_info": {
   "codemirror_mode": {
    "name": "ipython",
    "version": 3
   },
   "file_extension": ".py",
   "mimetype": "text/x-python",
   "name": "python",
   "nbconvert_exporter": "python",
   "pygments_lexer": "ipython3",
   "version": "3.10.2"
  },
  "orig_nbformat": 4,
  "vscode": {
   "interpreter": {
    "hash": "fbe58ca63fe33f9eeae9e71d10368d2b4a57f2b1b395836210cc60d362c66949"
   }
  }
 },
 "nbformat": 4,
 "nbformat_minor": 2
}
