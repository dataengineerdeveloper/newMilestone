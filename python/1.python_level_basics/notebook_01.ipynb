{
 "cells": [
  {
   "cell_type": "code",
   "execution_count": 4,
   "metadata": {},
   "outputs": [
    {
     "name": "stdout",
     "output_type": "stream",
     "text": [
      "['4', '5', '4', '5', '4', '5']\n"
     ]
    }
   ],
   "source": [
    "# first Variables\n",
    "\n",
    "#\n",
    "v0 = input()\n",
    "\n",
    "#conver string input into a integer\n",
    "v1 = int(input(\"enter value int\"))\n",
    "\n",
    "\n",
    "#convert a string input to array\n",
    "v = list(input(\"enter a int\"))\n",
    "print(v)\n"
   ]
  },
  {
   "cell_type": "code",
   "execution_count": 6,
   "metadata": {},
   "outputs": [
    {
     "name": "stdout",
     "output_type": "stream",
     "text": [
      "hello function\n"
     ]
    }
   ],
   "source": [
    "# FUNCTION\n",
    "\n",
    "def func_main():\n",
    "    print(\"hello function\")\n",
    "    \n",
    "#call the function\n",
    "func_main()\n",
    "\n"
   ]
  },
  {
   "cell_type": "code",
   "execution_count": 8,
   "metadata": {},
   "outputs": [
    {
     "name": "stdout",
     "output_type": "stream",
     "text": [
      "luis master\n"
     ]
    }
   ],
   "source": [
    "# CALL FUCNTION WITH ARGUMENT\n",
    "\n",
    "def second_func(name):\n",
    "    print(name + \" master\")\n",
    "# in this case i'm going to define a specific argument    \n",
    "second_func(\"luis\")"
   ]
  }
 ],
 "metadata": {
  "kernelspec": {
   "display_name": "Python 3.10.2 64-bit",
   "language": "python",
   "name": "python3"
  },
  "language_info": {
   "codemirror_mode": {
    "name": "ipython",
    "version": 3
   },
   "file_extension": ".py",
   "mimetype": "text/x-python",
   "name": "python",
   "nbconvert_exporter": "python",
   "pygments_lexer": "ipython3",
   "version": "3.10.2"
  },
  "orig_nbformat": 4,
  "vscode": {
   "interpreter": {
    "hash": "fbe58ca63fe33f9eeae9e71d10368d2b4a57f2b1b395836210cc60d362c66949"
   }
  }
 },
 "nbformat": 4,
 "nbformat_minor": 2
}
