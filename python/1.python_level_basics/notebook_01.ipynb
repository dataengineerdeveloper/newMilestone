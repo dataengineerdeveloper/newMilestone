{
 "cells": [
  {
   "cell_type": "code",
   "execution_count": 14,
   "metadata": {},
   "outputs": [
    {
     "name": "stdout",
     "output_type": "stream",
     "text": [
      "HI luis\n",
      "175 / 89\n"
     ]
    }
   ],
   "source": [
    "\n",
    "# first Variables\n",
    "\n",
    "#conver string input into a integer\n",
    "your_name = str(input(\"please insert your name: \"))\n",
    "print('HI', your_name)\n",
    "\n",
    "\n",
    "#convert a string input to array\n",
    "#v = list(input(\"enter a int\"))\n",
    "#print(v)\n",
    "\n",
    "# we can also create 2 variables and 2 values within\n",
    "height,weight = 175, 89\n",
    "print(height,'/',weight)\n"
   ]
  },
  {
   "cell_type": "code",
   "execution_count": 16,
   "metadata": {},
   "outputs": [
    {
     "name": "stdout",
     "output_type": "stream",
     "text": [
      "your final value is 2\n"
     ]
    }
   ],
   "source": [
    "num1= int(input('insert numbe 1: '))\n",
    "num2 = int(input('insert numbe 2: '))\n",
    "\n",
    "print('your final value is',num1+num2)"
   ]
  },
  {
   "cell_type": "markdown",
   "metadata": {},
   "source": [
    "1. create an app where you can insert total value of a diner and the the respective tip to the waiter.\n",
    "2. the output must display total value of food,  value from tip and total value food + tip"
   ]
  },
  {
   "cell_type": "code",
   "execution_count": 32,
   "metadata": {},
   "outputs": [
    {
     "name": "stdout",
     "output_type": "stream",
     "text": [
      "-----------------------------------------\n",
      "Food amount: 100.0 €\n",
      "Tip amount: 20.0 €\n",
      "\n",
      "\n",
      "Total amount: 120.0 €\n",
      "-----------------------------------------\n"
     ]
    }
   ],
   "source": [
    "# Calculator example\n",
    "\n",
    "#converrtion cames always before input\n",
    "food_price = float(input(\"insert total value of food: \"))\n",
    "#we can force a decimal value or we can define / 100 at the end to avoid issues in the calculation of the percentage\n",
    "tip_percentage = float(input(\"insert tip percentage\"))/100\n",
    "\n",
    "tip_amount = food_price * tip_percentage\n",
    "total_value = food_price + tip_amount\n",
    "\n",
    "#string formating - if i need to display any of this values\n",
    "print('-----------------------------------------')\n",
    "print(f'Food amount: {food_price} €')\n",
    "print(f'Tip amount: {tip_amount} €')\n",
    "print('\\n')\n",
    "print(f'Total amount: {total_value} €')\n",
    "print('-----------------------------------------')\n",
    "#the concatenation are only possible with str, so in this case i have to convert the float to a str\n",
    "#this an example for the final print,  but string formating looks better\n",
    "#print(\"Total value is: \",str(total_value),'€')\n",
    "\n",
    "# string formating\n",
    "\n"
   ]
  }
 ],
 "metadata": {
  "kernelspec": {
   "display_name": "Python 3.10.2 64-bit",
   "language": "python",
   "name": "python3"
  },
  "language_info": {
   "codemirror_mode": {
    "name": "ipython",
    "version": 3
   },
   "file_extension": ".py",
   "mimetype": "text/x-python",
   "name": "python",
   "nbconvert_exporter": "python",
   "pygments_lexer": "ipython3",
   "version": "3.10.2"
  },
  "orig_nbformat": 4,
  "vscode": {
   "interpreter": {
    "hash": "fbe58ca63fe33f9eeae9e71d10368d2b4a57f2b1b395836210cc60d362c66949"
   }
  }
 },
 "nbformat": 4,
 "nbformat_minor": 2
}
