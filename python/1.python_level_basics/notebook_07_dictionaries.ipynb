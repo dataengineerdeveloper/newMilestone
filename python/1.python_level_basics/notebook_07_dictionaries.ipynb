{
 "cells": [
  {
   "cell_type": "markdown",
   "metadata": {},
   "source": [
    "# when we create a dictionary we have to use always a {} and within this dcit we can find a key and value;"
   ]
  },
  {
   "cell_type": "code",
   "execution_count": 2,
   "metadata": {},
   "outputs": [
    {
     "name": "stdout",
     "output_type": "stream",
     "text": [
      "luis\n",
      "white\n",
      "apple\n"
     ]
    }
   ],
   "source": [
    "person = {'name':'luis', 'shirt':'white','laptop':'apple'}\n",
    "print(person['name'])\n",
    "print(person['shirt'])\n",
    "print(person['laptop'])"
   ]
  },
  {
   "cell_type": "code",
   "execution_count": 5,
   "metadata": {},
   "outputs": [
    {
     "name": "stdout",
     "output_type": "stream",
     "text": [
      "hi my name is luis, I am wearing a white shirt,  and the laptop i use to code is a apple\n"
     ]
    }
   ],
   "source": [
    "#in this case i'm going to use a functions a format strings\n",
    "def introducer():\n",
    "    person = {'name':'luis',\n",
    "              'shirt':'white',\n",
    "              'laptop':'apple'}\n",
    "print(f\"hi my name is {person['name']}, I am wearing a {person['shirt']} shirt,  and the laptop i use to code is a {person['laptop']}\")\n",
    "\n",
    "introducer()"
   ]
  }
 ],
 "metadata": {
  "kernelspec": {
   "display_name": "Python 3.10.2 64-bit",
   "language": "python",
   "name": "python3"
  },
  "language_info": {
   "codemirror_mode": {
    "name": "ipython",
    "version": 3
   },
   "file_extension": ".py",
   "mimetype": "text/x-python",
   "name": "python",
   "nbconvert_exporter": "python",
   "pygments_lexer": "ipython3",
   "version": "3.10.2"
  },
  "orig_nbformat": 4,
  "vscode": {
   "interpreter": {
    "hash": "fbe58ca63fe33f9eeae9e71d10368d2b4a57f2b1b395836210cc60d362c66949"
   }
  }
 },
 "nbformat": 4,
 "nbformat_minor": 2
}
