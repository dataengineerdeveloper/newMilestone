{
 "cells": [
  {
   "cell_type": "markdown",
   "metadata": {},
   "source": [
    "# when we create a dictionary we have to use always a {} and within this dcit we can find a key and value;"
   ]
  },
  {
   "cell_type": "code",
   "execution_count": 2,
   "metadata": {},
   "outputs": [
    {
     "name": "stdout",
     "output_type": "stream",
     "text": [
      "luis\n",
      "white\n",
      "apple\n"
     ]
    }
   ],
   "source": [
    "person = {'name':'luis', 'shirt':'white','laptop':'apple'}\n",
    "print(person['name'])\n",
    "print(person['shirt'])\n",
    "print(person['laptop'])"
   ]
  },
  {
   "cell_type": "code",
   "execution_count": null,
   "metadata": {},
   "outputs": [],
   "source": [
    "def intro():\n",
    "    person = {'name':'luis',\n",
    "              'idaide':'23',\n",
    "              'sex':'male'}\n",
    "    print(f\"{person['name']},ok\")\n",
    "    intro()"
   ]
  },
  {
   "cell_type": "code",
   "execution_count": 7,
   "metadata": {},
   "outputs": [
    {
     "name": "stdout",
     "output_type": "stream",
     "text": [
      "hi my name is luis,\n",
      "I am wearing a black shirt,\n",
      "and the laptop i use to code is an apple,\n",
      "and my networth is 50€\n"
     ]
    }
   ],
   "source": [
    "#in this case i'm going to use a functions a format strings\n",
    "def networth():\n",
    "    return person['asset']-person['debt']\n",
    "\n",
    "def introducer():\n",
    "    person = {'name':'luis',\n",
    "              'shirt':'black',\n",
    "              'laptop':'apple',\n",
    "              'asset': 100,\n",
    "              'debt':50,\n",
    "              #this is the only way to use a functions within a dictionary.  In this case is use  the function that is ina previous function.\n",
    "              'networth':lambda: person['asset']- person['debt']\n",
    "            }\n",
    "    print(f\"hi my name is {person['name']},\\nI am wearing a{person['shirt']} shirt,\\nand the laptop i use to code is an {person['laptop']},\\nand my networth is {person['networth']()}€\")\n",
    "\n",
    "introducer()\n",
    "    "
   ]
  },
  {
   "cell_type": "code",
   "execution_count": 10,
   "metadata": {},
   "outputs": [
    {
     "name": "stdout",
     "output_type": "stream",
     "text": [
      "1\n"
     ]
    }
   ],
   "source": [
    "#in this list find the smallest value\n",
    "a= [1,5,6,2,3,45,5,77]\n",
    "a.sort()\n",
    "print(a[0])"
   ]
  },
  {
   "cell_type": "code",
   "execution_count": 10,
   "metadata": {},
   "outputs": [
    {
     "name": "stdout",
     "output_type": "stream",
     "text": [
      "{'hello': 1, \"i'm\": 1, 'luis': 2, 'and': 1, 'i': 1, 'love': 1, 'being': 1}\n"
     ]
    }
   ],
   "source": [
    "def word_frequency(phrase):\n",
    "    result={}\n",
    "    words = phrase.split()\n",
    "    for word in words:\n",
    "        if word not in result:\n",
    "            result[word] = 1\n",
    "        else:\n",
    "            result[word]+=1\n",
    "    return result\n",
    "\n",
    "\n",
    "print(word_frequency(\"hello i'm luis and i love being luis\"))\n"
   ]
  },
  {
   "cell_type": "code",
   "execution_count": 11,
   "metadata": {},
   "outputs": [
    {
     "name": "stdout",
     "output_type": "stream",
     "text": [
      "[2, 4, 6]\n"
     ]
    }
   ],
   "source": [
    "def double (number):\n",
    "    return number*2\n",
    "print(list(map(double,[1,2,3])))\n",
    "\n",
    "#i can do the exact some thing with this lambda function\n",
    "\n",
    "print(list(map(lambda num: num*2,[1,2,3])))"
   ]
  },
  {
   "cell_type": "code",
   "execution_count": 13,
   "metadata": {},
   "outputs": [
    {
     "name": "stdout",
     "output_type": "stream",
     "text": [
      "[2, 4, 6, 8, 10, 12]\n"
     ]
    }
   ],
   "source": [
    "numbers = [1,2,3,4,5,6,7,8,9,10,11,12]\n",
    "print(list(filter(lambda num: num %2==0, numbers)))"
   ]
  },
  {
   "cell_type": "code",
   "execution_count": 14,
   "metadata": {},
   "outputs": [
    {
     "name": "stdout",
     "output_type": "stream",
     "text": [
      "[2, 4, 6, 8, 10, 12]\n"
     ]
    }
   ],
   "source": []
  }
 ],
 "metadata": {
  "kernelspec": {
   "display_name": "Python 3.10.2 64-bit",
   "language": "python",
   "name": "python3"
  },
  "language_info": {
   "codemirror_mode": {
    "name": "ipython",
    "version": 3
   },
   "file_extension": ".py",
   "mimetype": "text/x-python",
   "name": "python",
   "nbconvert_exporter": "python",
   "pygments_lexer": "ipython3",
   "version": "3.10.2"
  },
  "orig_nbformat": 4,
  "vscode": {
   "interpreter": {
    "hash": "fbe58ca63fe33f9eeae9e71d10368d2b4a57f2b1b395836210cc60d362c66949"
   }
  }
 },
 "nbformat": 4,
 "nbformat_minor": 2
}
