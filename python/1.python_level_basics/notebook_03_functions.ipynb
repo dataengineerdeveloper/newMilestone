{
 "cells": [
  {
   "cell_type": "markdown",
   "metadata": {},
   "source": [
    "3.  functions"
   ]
  },
  {
   "cell_type": "markdown",
   "metadata": {},
   "source": [
    "# retrun statement =  functions send python values/ objects back to the caller. These values/ objects are known as the functions retunr value"
   ]
  },
  {
   "cell_type": "code",
   "execution_count": 1,
   "metadata": {},
   "outputs": [
    {
     "name": "stdout",
     "output_type": "stream",
     "text": [
      "4\n"
     ]
    }
   ],
   "source": [
    "def multi (number1,number2):\n",
    "    return  number1* number2\n",
    "    \n",
    "x =  multi(2,2)\n",
    "print(x)"
   ]
  },
  {
   "cell_type": "markdown",
   "metadata": {},
   "source": [
    "# KEYWORD ARGUMENTS > arguments preceded by an identitfier when we pass them to a function. the order of the arguments doesn't matter,  unlike positional arguments pthin knows the name of the arguments thar our functions receives\n"
   ]
  },
  {
   "cell_type": "code",
   "execution_count": 4,
   "metadata": {},
   "outputs": [
    {
     "name": "stdout",
     "output_type": "stream",
     "text": [
      "hello luis eduardo nogueira\n"
     ]
    }
   ],
   "source": [
    "def hello (first, mid, last)->str:\n",
    "    print (\"hello \"+first+\" \"+mid+\" \"+last)\n",
    "\n",
    "#if i use this identitifiers won't get any problem to change the order once i used the identtifiers\n",
    "hello(mid='eduardo',first='luis',last='nogueira')\n",
    "\n"
   ]
  },
  {
   "cell_type": "markdown",
   "metadata": {},
   "source": [
    "#nested functions calls >  functions call inside other function call innermost function call are resolved first return value is used as argument for the next outer function."
   ]
  },
  {
   "cell_type": "code",
   "execution_count": 5,
   "metadata": {},
   "outputs": [
    {
     "name": "stdout",
     "output_type": "stream",
     "text": [
      "456\n"
     ]
    }
   ],
   "source": [
    "#num = input(\"entr whole positive number: \")\n",
    "#num = float(num)\n",
    "#num = abs(num)\n",
    "#num = round(num)\n",
    "#print(num)\n",
    "\n",
    "print(round(abs(float(input(\"enter a whole positive numer: \")))))"
   ]
  },
  {
   "cell_type": "code",
   "execution_count": 2,
   "metadata": {},
   "outputs": [
    {
     "name": "stdout",
     "output_type": "stream",
     "text": [
      "luis\n",
      "eduardo\n",
      "santos\n"
     ]
    }
   ],
   "source": [
    "def say_my_name():\n",
    "#no arguments add\n",
    "    print('luis')\n",
    "    print('eduardo')\n",
    "    print('santos')\n",
    "#include always this in order to call the function\n",
    "say_my_name()"
   ]
  },
  {
   "cell_type": "markdown",
   "metadata": {},
   "source": [
    "in order to make a functions dynamic i have to define a argument within a function,  in this case it'll look like this \n",
    "def say_my_name(name)"
   ]
  },
  {
   "cell_type": "code",
   "execution_count": 1,
   "metadata": {},
   "outputs": [
    {
     "name": "stdout",
     "output_type": "stream",
     "text": [
      "HELLLO!!! LUIS\n"
     ]
    }
   ],
   "source": [
    "def say_my_name2(name):\n",
    "    print(name)\n",
    "    \n",
    "#say_my_name2('luis')\n",
    "\n",
    "#add a second function -- all the argumets that i'm going to add within the function have to add them when i call it.\n",
    "\n",
    "#multile arguments\n",
    "#in case that i dont provide any argument i can create a default one\n",
    "def gretting(name,greet='HELLLO!!!'):\n",
    "    print(f'{greet} {name}') \n",
    "    \n",
    "#no default argument needed\n",
    "#gretting('ola','luis edauadaro') ## but if i dont add any arguments i'm goinf to get the default argument\n",
    "gretting('LUIS')\n",
    "\n"
   ]
  },
  {
   "cell_type": "code",
   "execution_count": 3,
   "metadata": {},
   "outputs": [
    {
     "name": "stdout",
     "output_type": "stream",
     "text": [
      "HIlo luis\n"
     ]
    }
   ],
   "source": [
    "#named arguments\n",
    "'''\n",
    "if i use the same example as before, and i add on arguments Luis,  luis twice i dont know which one goes for greeting.  in this case i have to define in a argument call the value for \n",
    "\n",
    "\n",
    "'''\n",
    "def gretting(name,greet='HELLLO!!!'):\n",
    "    print(f'{greet} {name}') \n",
    "    \n",
    "#no default argument needed\n",
    "#gretting('ola','luis edauadaro') ## even i f i chenge the order of greeting, wahtas going to be the reference is the print\n",
    "gretting(name = 'luis', greet= 'HI')\n"
   ]
  },
  {
   "cell_type": "code",
   "execution_count": 5,
   "metadata": {},
   "outputs": [
    {
     "name": "stdout",
     "output_type": "stream",
     "text": [
      "3\n"
     ]
    }
   ],
   "source": [
    "#if a runa code with a print and only with return nothing will appear,  but instead if i add a print before the sum i will get some output\n",
    "def sum (a,b):\n",
    "    return a+b\n",
    "\n",
    "print(sum(1,2))\n"
   ]
  },
  {
   "cell_type": "code",
   "execution_count": 10,
   "metadata": {},
   "outputs": [
    {
     "data": {
      "text/plain": [
       "20"
      ]
     },
     "execution_count": 10,
     "metadata": {},
     "output_type": "execute_result"
    }
   ],
   "source": [
    "#if i have to access a function from other file,  for this example i create a function and i named the file test_to_function\n",
    "\n",
    "from test_to_function import sum\n",
    "\n",
    "sum(10,10)         "
   ]
  },
  {
   "cell_type": "code",
   "execution_count": null,
   "metadata": {},
   "outputs": [],
   "source": [
    "food_amount= float(input('enter food amount: '))\n",
    "tip_percentage = float(input('enter percentage: '))\n",
    "tip_amount = food_amount * tip_percentage"
   ]
  },
  {
   "cell_type": "code",
   "execution_count": 20,
   "metadata": {},
   "outputs": [
    {
     "data": {
      "text/plain": [
       "110.0"
      ]
     },
     "execution_count": 20,
     "metadata": {},
     "output_type": "execute_result"
    }
   ],
   "source": [
    "# previous cell we a couple of variables and the goal is convert into a function\n",
    "\n",
    "\n",
    "def calculatefoodTotal(food: float, tip_percentage:int)-> float:\n",
    "    tip =  food * (tip_percentage / 100)\n",
    "    total=  food + tip\n",
    "    return total\n",
    "    \n",
    "calculatefoodTotal(100, 10)"
   ]
  },
  {
   "cell_type": "code",
   "execution_count": 25,
   "metadata": {},
   "outputs": [
    {
     "name": "stdout",
     "output_type": "stream",
     "text": [
      "bring your sunglass\n"
     ]
    }
   ],
   "source": [
    "#type hint > that is something that can be good for other people that see our code\n",
    "'''\n",
    "neste caso uma pessoa que veja o nosso codigo nao sabe se precisamos de inserir aolgum input,como tal podemos colcoar isso no argument.  \n",
    "Especificamos o datatype) ->None indicando desta forma que se nao colocarmos nada vamos ter um resultado de None.\n",
    "\n",
    "'''\n",
    "\n",
    "def weather_validation(weather: str)->None:\n",
    "    if weather == 'sun':\n",
    "        print('bring your sunglass')\n",
    "    elif weather == 'cloudy':\n",
    "        print('bring a hoody')\n",
    "    elif weather == 'rain':\n",
    "        print('bring your unbrella')\n",
    "    else:\n",
    "        print('insert one of 3 options')\n",
    "\n",
    "weather_validation(\"sun\")"
   ]
  },
  {
   "cell_type": "code",
   "execution_count": 26,
   "metadata": {},
   "outputs": [],
   "source": [
    "# where i can add the exact datatype in each argument and what i'm expecting from each one in return\n",
    "def sum (a: int,  b:int)-> int:\n",
    "    return a+b"
   ]
  },
  {
   "cell_type": "code",
   "execution_count": 27,
   "metadata": {},
   "outputs": [
    {
     "name": "stdout",
     "output_type": "stream",
     "text": [
      "5\n"
     ]
    }
   ],
   "source": [
    "def bigger_guy(a: int,b:int)-> int:\n",
    "    if a > b:\n",
    "        return a\n",
    "    else:\n",
    "        return b\n",
    "print(bigger_guy(1,5))"
   ]
  },
  {
   "cell_type": "code",
   "execution_count": 13,
   "metadata": {},
   "outputs": [],
   "source": [
    "text_ola =  \"ola fulanao prazer em conhecerr-te\"\n",
    "\n",
    "\n",
    "def ola_mundo(self,nome)->str:\n",
    "    #it will return a srg \n",
    "    global text_ola\n",
    "    print(text_ola)\n",
    "    text=f\"Hello {nome} pleasure to meet you!\"\n",
    "    print(text)\n",
    "#pass argumento referente a funcçao"
   ]
  },
  {
   "cell_type": "markdown",
   "metadata": {},
   "source": [
    "# function variables\n",
    "\n",
    "#local variabel:  stay within a function"
   ]
  }
 ],
 "metadata": {
  "kernelspec": {
   "display_name": "Python 3.10.2 64-bit",
   "language": "python",
   "name": "python3"
  },
  "language_info": {
   "codemirror_mode": {
    "name": "ipython",
    "version": 3
   },
   "file_extension": ".py",
   "mimetype": "text/x-python",
   "name": "python",
   "nbconvert_exporter": "python",
   "pygments_lexer": "ipython3",
   "version": "3.10.2"
  },
  "orig_nbformat": 4,
  "vscode": {
   "interpreter": {
    "hash": "fbe58ca63fe33f9eeae9e71d10368d2b4a57f2b1b395836210cc60d362c66949"
   }
  }
 },
 "nbformat": 4,
 "nbformat_minor": 2
}
