{
 "cells": [
  {
   "cell_type": "markdown",
   "metadata": {},
   "source": [
    "1.  list > in normal program is consider arrays in python we call arrays"
   ]
  },
  {
   "cell_type": "code",
   "execution_count": 7,
   "metadata": {},
   "outputs": [
    {
     "name": "stdout",
     "output_type": "stream",
     "text": [
      "['oragen', 'limoin', 'watermelon']\n",
      "['oragen', 'limoin', 'watermelon', 'apple']\n",
      "limoin\n",
      "apple\n",
      "['oragen', 'limoin']\n",
      "['oragen', 'watermelon']\n"
     ]
    }
   ],
   "source": [
    "# one great example of a lista are the users in netflix before we enter we can see a couple of users\n",
    "\n",
    "# just o clarify a topics (methods and functions) in a list a whatever i insert after a list,  like list.append this is a methods and a function is a print() for instance\n",
    "\n",
    "fruit = ['oragen','limoin','watermelon']\n",
    "print(fruit)\n",
    "fruit.append('apple')\n",
    "print(fruit)\n",
    "\n",
    "#indexing\n",
    "\n",
    "print(fruit[1])\n",
    "#get the last item from a list\n",
    "print(fruit[-1])\n",
    "\n",
    "#slicing\n",
    "print(fruit[0:2])\n",
    "len(fruit)\n",
    "#i need to retrieve values from 0 to 5 and jumping 2 and 2\n",
    "print(fruit[0:5:2])\n",
    "#reverse list\n",
    "print(fruit[::-1])\n",
    "\n",
    "#within a list i'm able to get a huge variety of datatypes and also create a list within a list as well;"
   ]
  },
  {
   "cell_type": "markdown",
   "metadata": {},
   "source": [
    "# some methods that can be seen in a list are:\n",
    "append >add a value to a list\n",
    "insert\n",
    "remove\n",
    "pop > take aout last index value\n",
    "clear\n",
    "index\n",
    "count\n",
    "sort\n",
    "reverse\n"
   ]
  },
  {
   "cell_type": "code",
   "execution_count": null,
   "metadata": {},
   "outputs": [],
   "source": [
    "fruits[0:2]"
   ]
  }
 ],
 "metadata": {
  "kernelspec": {
   "display_name": "Python 3.10.2 64-bit",
   "language": "python",
   "name": "python3"
  },
  "language_info": {
   "codemirror_mode": {
    "name": "ipython",
    "version": 3
   },
   "file_extension": ".py",
   "mimetype": "text/x-python",
   "name": "python",
   "nbconvert_exporter": "python",
   "pygments_lexer": "ipython3",
   "version": "3.10.2"
  },
  "orig_nbformat": 4,
  "vscode": {
   "interpreter": {
    "hash": "fbe58ca63fe33f9eeae9e71d10368d2b4a57f2b1b395836210cc60d362c66949"
   }
  }
 },
 "nbformat": 4,
 "nbformat_minor": 2
}
