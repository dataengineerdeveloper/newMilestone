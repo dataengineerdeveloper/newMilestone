{
 "cells": [
  {
   "cell_type": "code",
   "execution_count": null,
   "metadata": {},
   "outputs": [],
   "source": [
    "'''\n",
    "a logica para  utizacao do while é que o que está detro do while é sempre verdade\n",
    "sempre que ouver  uma ocorrencia falsa o while termina\n",
    "\n",
    "ctrl+c >>> server para parar um execucao do terminal\n",
    "\n",
    "o que o seguinte codigo está a fazer é incrementar sempre mais, até chegar ao 10, \n",
    "chegando a 10 a execucao termina\n",
    "\n",
    "\n",
    "11 é maior que 10,  por esse motivo saimos do loop\n",
    "\n",
    "'''\n",
    "\n",
    "number = 0\n",
    "while number  <= 10:\n",
    "    print(number)\n",
    "    number = number + 1\n",
    "else:\n",
    "    print('while loop ended and value of number ' + str(number))\n"
   ]
  },
  {
   "cell_type": "code",
   "execution_count": null,
   "metadata": {},
   "outputs": [],
   "source": [
    "counter = 0\n",
    "while counter < 10:\n",
    "    print(counter)\n",
    "    counter += counter+1"
   ]
  },
  {
   "cell_type": "code",
   "execution_count": null,
   "metadata": {},
   "outputs": [],
   "source": [
    "#exercise to multiple a  value till 10\n",
    "count = 1\n",
    "insert_vallue = int(input('insert the value that you want to multipl: '))\n",
    "\n",
    "while count <= 10:\n",
    "    print(insert_vallue,'x',count,'=',insert_vallue*count)\n",
    "    count = count + 1\n",
    "    \n",
    "    "
   ]
  },
  {
   "cell_type": "code",
   "execution_count": null,
   "metadata": {},
   "outputs": [],
   "source": [
    "x = 0\n",
    "\n",
    "while True:\n",
    "    if x == 5:\n",
    "        break\n",
    "        print(x)\n",
    "    x += 1"
   ]
  },
  {
   "cell_type": "code",
   "execution_count": null,
   "metadata": {},
   "outputs": [],
   "source": [
    "#this code will ask you to insert the name till you provide de name\n",
    "name = None\n",
    "while not name:\n",
    "    name = input(\"enter your name: \")\n",
    "print(\"hello\" + name)"
   ]
  },
  {
   "cell_type": "code",
   "execution_count": null,
   "metadata": {},
   "outputs": [],
   "source": [
    "#this code will ask you to insert the name till you provide de name. this code fo exact some thing as previous code.\n",
    "name = \"\"\n",
    "# as long as the value is empty the loop will keep running\n",
    "while len(name)==0:\n",
    "    name = input(\"enter your name: \")\n",
    "print(\"hello\" + name)"
   ]
  },
  {
   "cell_type": "markdown",
   "metadata": {},
   "source": [
    "# break / continue / pass\n",
    "loop control statements = changes a loops execution from its noraml squence\n",
    "\n",
    "break =  used to terminate the loop entirely\n",
    "continue = skips to the next iteration of the loop\n",
    "pass  =  does nothing,  acts as a placeholder\n"
   ]
  },
  {
   "cell_type": "code",
   "execution_count": null,
   "metadata": {},
   "outputs": [],
   "source": [
    "#break\n",
    "#will iterate till you insert the name,  otherwise will break when you insert the name\n",
    "while True:\n",
    "    name = input(\"enter your name: \")\n",
    "    if name != \"\":\n",
    "        break"
   ]
  },
  {
   "cell_type": "markdown",
   "metadata": {},
   "source": [
    "### exercise 1"
   ]
  },
  {
   "cell_type": "code",
   "execution_count": null,
   "metadata": {},
   "outputs": [],
   "source": [
    "\n",
    "\n",
    "import time as t\n",
    "\n",
    "value = int(input('insert your value'))\n",
    "while True:\n",
    "    print(value)\n",
    "    value = value+1\n",
    "    t.sleep(0.5)"
   ]
  },
  {
   "cell_type": "markdown",
   "metadata": {},
   "source": [
    "### ex 2 tabuada"
   ]
  },
  {
   "cell_type": "code",
   "execution_count": null,
   "metadata": {},
   "outputs": [],
   "source": [
    "number = int(input('insert the value to multiple: '))   \n",
    "print('your value',number)\n",
    "for count in range(1,11):\n",
    "    print(number,'x',count,'=',number*count)\n"
   ]
  },
  {
   "cell_type": "markdown",
   "metadata": {},
   "source": [
    "### example incremental values"
   ]
  },
  {
   "cell_type": "code",
   "execution_count": null,
   "metadata": {},
   "outputs": [],
   "source": [
    "#example incremetal value through the while\n",
    "n = 11\n",
    "count = 0\n",
    "while count < n:\n",
    "    print(count)\n",
    "    count = count +1"
   ]
  },
  {
   "cell_type": "markdown",
   "metadata": {},
   "source": [
    "### ex 3 exponential"
   ]
  },
  {
   "cell_type": "code",
   "execution_count": null,
   "metadata": {},
   "outputs": [],
   "source": [
    "\n",
    "#exercise 3\n",
    "#how to apply the follow operation without using **  2**3    and 2**4\n",
    "\n",
    "base_value = int(input('insert base number: '))\n",
    "exponent_value = int(input('insert your exponent number: '))\n",
    "\n",
    "count = 0\n",
    "product = 1\n",
    "\n",
    "while count < exponent_value:\n",
    "    product = product*base_value\n",
    "    count = count +1\n",
    "\n",
    "print(base_value, 'elevated',exponent_value,'=',product)"
   ]
  },
  {
   "cell_type": "markdown",
   "metadata": {},
   "source": [
    "### example factorial number"
   ]
  },
  {
   "cell_type": "code",
   "execution_count": null,
   "metadata": {},
   "outputs": [],
   "source": [
    "# factorial number\n",
    "\n",
    "n = int(input('insert n: '))\n",
    "\n",
    "prod = n\n",
    "count = n-1\n",
    "\n",
    "while count > 1:\n",
    "    prod = prod*count\n",
    "    count = count - 1\n",
    "\n",
    "print(n,'! =',prod)"
   ]
  },
  {
   "cell_type": "markdown",
   "metadata": {},
   "source": [
    "### exer while with nested loop"
   ]
  },
  {
   "cell_type": "markdown",
   "metadata": {},
   "source": [
    "* example"
   ]
  },
  {
   "cell_type": "code",
   "execution_count": null,
   "metadata": {},
   "outputs": [],
   "source": [
    "i = 0\n",
    "n = 5\n",
    "\n",
    "while i < n:\n",
    "    j = 0\n",
    "    while j < n:\n",
    "        print(i,j)\n",
    "        j = j + 1\n",
    "    i = i + 1\n"
   ]
  },
  {
   "cell_type": "code",
   "execution_count": null,
   "metadata": {},
   "outputs": [],
   "source": [
    "n = int(input(\"Insert the amount of companies: \"))\n",
    "m = int(input(\"Insert the numbrt of months: \"))\n",
    "\n",
    "empresa = 1\n",
    "\n",
    "while empresa> n:\n",
    "    mes = 1\n",
    "    print('empresa',empresa,':')\n",
    "    while mes <= m:\n",
    "        print('Mes',mes,': ')\n",
    "        profit = int(input('insert the profit from your company: '))\n",
    "        expenses = int(input('insert the expenses from your company: '))\n",
    "        balance = balance + (profit - expenses)\n",
    "        print('')\n",
    "        mes = mes + 1\n",
    "\n",
    "    if balance == 0:\n",
    "        print('your company',empresa, 'stayed neutral (balance 0 dollars)')\n",
    "    elif balance > 0:\n",
    "        print('your company',empresa, 'had prodit of',balance)\n",
    "    else:\n",
    "        print('your company',empresa, 'stayed bellow the targe',balance)\n",
    "    empresa = empresa + 1\n",
    "    print(\"\")\n"
   ]
  },
  {
   "cell_type": "code",
   "execution_count": null,
   "metadata": {},
   "outputs": [],
   "source": [
    "import time as t\n",
    "\n",
    "n = 1\n",
    "while True:\n",
    "    print(n)\n",
    "    n = n+1\n",
    "    t.sleep(0.5)"
   ]
  },
  {
   "cell_type": "markdown",
   "metadata": {},
   "source": [
    "### try / execpt"
   ]
  },
  {
   "cell_type": "code",
   "execution_count": null,
   "metadata": {},
   "outputs": [],
   "source": [
    "# use TRY and EXECEPT VALUEERROR\n",
    "s = 4\n",
    "try:\n",
    "    i = int(s)\n",
    "    print('valid integer',i)\n",
    "except ValueError as err:\n",
    "        print(err)\n"
   ]
  },
  {
   "cell_type": "code",
   "execution_count": null,
   "metadata": {},
   "outputs": [],
   "source": []
  }
 ],
 "metadata": {
  "kernelspec": {
   "display_name": "Python 3.10.2 64-bit",
   "language": "python",
   "name": "python3"
  },
  "language_info": {
   "name": "python",
   "version": "3.10.2"
  },
  "orig_nbformat": 4,
  "vscode": {
   "interpreter": {
    "hash": "fbe58ca63fe33f9eeae9e71d10368d2b4a57f2b1b395836210cc60d362c66949"
   }
  }
 },
 "nbformat": 4,
 "nbformat_minor": 2
}
