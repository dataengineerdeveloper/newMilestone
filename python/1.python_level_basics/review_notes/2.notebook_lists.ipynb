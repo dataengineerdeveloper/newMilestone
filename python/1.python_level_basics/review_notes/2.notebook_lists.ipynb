{
 "cells": [
  {
   "cell_type": "markdown",
   "metadata": {},
   "source": [
    "1.  list > in normal program is consider arrays in python we call arrays"
   ]
  },
  {
   "cell_type": "code",
   "execution_count": 4,
   "metadata": {},
   "outputs": [
    {
     "name": "stdout",
     "output_type": "stream",
     "text": [
      "['oragen', 'limoin', 'watermelon']\n",
      "['oragen', 'limoin', 'watermelon', 'apple']\n"
     ]
    },
    {
     "ename": "TypeError",
     "evalue": "list.remove() takes exactly one argument (0 given)",
     "output_type": "error",
     "traceback": [
      "\u001b[1;31m---------------------------------------------------------------------------\u001b[0m",
      "\u001b[1;31mTypeError\u001b[0m                                 Traceback (most recent call last)",
      "\u001b[1;32mc:\\UserData\\z004hedj\\OneDrive - Siemens AG\\Ambiente de Trabalho\\GIT\\newMilestone\\newMilestone\\python\\1.python_level_basics\\review_notes\\2.notebook_lists.ipynb Cell 2\u001b[0m in \u001b[0;36m<cell line: 9>\u001b[1;34m()\u001b[0m\n\u001b[0;32m      <a href='vscode-notebook-cell:/c%3A/UserData/z004hedj/OneDrive%20-%20Siemens%20AG/Ambiente%20de%20Trabalho/GIT/newMilestone/newMilestone/python/1.python_level_basics/review_notes/2.notebook_lists.ipynb#W1sZmlsZQ%3D%3D?line=6'>7</a>\u001b[0m fruit\u001b[39m.\u001b[39mappend(\u001b[39m'\u001b[39m\u001b[39mapple\u001b[39m\u001b[39m'\u001b[39m)\n\u001b[0;32m      <a href='vscode-notebook-cell:/c%3A/UserData/z004hedj/OneDrive%20-%20Siemens%20AG/Ambiente%20de%20Trabalho/GIT/newMilestone/newMilestone/python/1.python_level_basics/review_notes/2.notebook_lists.ipynb#W1sZmlsZQ%3D%3D?line=7'>8</a>\u001b[0m \u001b[39mprint\u001b[39m(fruit)\n\u001b[1;32m----> <a href='vscode-notebook-cell:/c%3A/UserData/z004hedj/OneDrive%20-%20Siemens%20AG/Ambiente%20de%20Trabalho/GIT/newMilestone/newMilestone/python/1.python_level_basics/review_notes/2.notebook_lists.ipynb#W1sZmlsZQ%3D%3D?line=8'>9</a>\u001b[0m fruit\u001b[39m.\u001b[39;49mremove()\n\u001b[0;32m     <a href='vscode-notebook-cell:/c%3A/UserData/z004hedj/OneDrive%20-%20Siemens%20AG/Ambiente%20de%20Trabalho/GIT/newMilestone/newMilestone/python/1.python_level_basics/review_notes/2.notebook_lists.ipynb#W1sZmlsZQ%3D%3D?line=9'>10</a>\u001b[0m \u001b[39mprint\u001b[39m(fruit)\n\u001b[0;32m     <a href='vscode-notebook-cell:/c%3A/UserData/z004hedj/OneDrive%20-%20Siemens%20AG/Ambiente%20de%20Trabalho/GIT/newMilestone/newMilestone/python/1.python_level_basics/review_notes/2.notebook_lists.ipynb#W1sZmlsZQ%3D%3D?line=11'>12</a>\u001b[0m \u001b[39m#indexing\u001b[39;00m\n",
      "\u001b[1;31mTypeError\u001b[0m: list.remove() takes exactly one argument (0 given)"
     ]
    }
   ],
   "source": [
    "# one great example of a lista are the users in netflix before we enter we can see a couple of users\n",
    "\n",
    "# just o clarify a topics (methods and functions) in a list a whatever i insert after a list,  like list.append this is a methods and a function is a print() for instance\n",
    "\n",
    "fruit = ['oragen','limoin','watermelon']\n",
    "print(fruit)\n",
    "fruit.append('apple')\n",
    "print(fruit)\n",
    "\n",
    "\n",
    "#indexing\n",
    "\n",
    "print(fruit[1])\n",
    "#get the last item from a list\n",
    "print(fruit[-1])\n",
    "\n",
    "#slicing\n",
    "print(fruit[0:2])\n",
    "len(fruit)\n",
    "#i need to retrieve values from 0 to 5 and jumping 2 and 2\n",
    "print(fruit[0:5:2])\n",
    "#reverse list\n",
    "print(fruit[::-1])\n",
    "\n",
    "#within a list i'm able to get a huge variety of datatypes and also create a list within a list as well;"
   ]
  },
  {
   "cell_type": "markdown",
   "metadata": {},
   "source": [
    "# some methods that can be seen in a list are:\n",
    "append >add a value to a list\n",
    "insert\n",
    "remove\n",
    "pop > take aout last index value\n",
    "clear\n",
    "index\n",
    "count\n",
    "sort\n",
    "reverse\n"
   ]
  },
  {
   "cell_type": "code",
   "execution_count": null,
   "metadata": {},
   "outputs": [],
   "source": [
    "fruits[0:2]"
   ]
  },
  {
   "cell_type": "code",
   "execution_count": 3,
   "metadata": {},
   "outputs": [
    {
     "name": "stdout",
     "output_type": "stream",
     "text": [
      "[2, 4, 6, 8, 10, 12]\n",
      "[1, 3, 5, 7, 9, 11]\n"
     ]
    }
   ],
   "source": [
    "#list comprehensions\n",
    "\n",
    "numbers = [1,2,3,4,5,6,7,8,9,10,11,12]\n",
    "\n",
    "print([numbers for numbers in numbers if numbers %2 ==0])\n",
    "#odd numbers\n",
    "print([numbers for numbers in numbers if numbers %2 !=0])"
   ]
  },
  {
   "cell_type": "code",
   "execution_count": 6,
   "metadata": {},
   "outputs": [
    {
     "name": "stdout",
     "output_type": "stream",
     "text": [
      "[1, 2, 'john', 'jim']\n",
      "[1, 2, 'john', 'jim', 3, 4, 5]\n",
      "[0, 1, 2, 'john', 'jim', 3, 4, 5]\n"
     ]
    }
   ],
   "source": [
    "\n",
    "\n",
    "#an example to apply append and extend.  besed ona original list we can add new value to the list and apart of that list we can add values from other list\n",
    "\n",
    "list=[1,2,'john']\n",
    "list.append('jim')\n",
    "print(list)\n",
    "another_list= [3,4,5]\n",
    "list.extend(another_list)\n",
    "print(list)\n",
    "\n",
    "\n",
    "# imagine that i want to insert a value in a specific index,  i want to add 0 placing it on index 0. the first 0 refers to a index and the next 0 refers to the value to add\n",
    "\n",
    "list.insert(0, 0)\n",
    "print(list)"
   ]
  }
 ],
 "metadata": {
  "kernelspec": {
   "display_name": "Python 3.10.2 64-bit",
   "language": "python",
   "name": "python3"
  },
  "language_info": {
   "codemirror_mode": {
    "name": "ipython",
    "version": 3
   },
   "file_extension": ".py",
   "mimetype": "text/x-python",
   "name": "python",
   "nbconvert_exporter": "python",
   "pygments_lexer": "ipython3",
   "version": "3.10.2"
  },
  "orig_nbformat": 4,
  "vscode": {
   "interpreter": {
    "hash": "fbe58ca63fe33f9eeae9e71d10368d2b4a57f2b1b395836210cc60d362c66949"
   }
  }
 },
 "nbformat": 4,
 "nbformat_minor": 2
}
