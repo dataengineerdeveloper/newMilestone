{
 "cells": [
  {
   "cell_type": "markdown",
   "metadata": {},
   "source": [
    "# sets > collection which is unordered,  unindexed.  no duplicate values"
   ]
  },
  {
   "cell_type": "code",
   "execution_count": null,
   "metadata": {},
   "outputs": [],
   "source": [
    "utensils = {\"fork\",\"spoon\",\"knife\"}\n",
    "dishes = {\"bowl\",\"plate\",\"cup\",\"knife\"}\n",
    "\n",
    "# add element to a set\n",
    "utensils.add(\"napkin\")\n",
    "\n",
    "#remove element\n",
    "utensils.remove(\"fork\")\n",
    "\n",
    "#clean all set\n",
    "utensils.clear()\n",
    "# upadate set dishes with elements from utensils\n",
    "dishes.update(utensils)\n",
    "\n",
    "# union will work in the same way as update\n",
    "dinner_table = utensils.union(dishes)\n",
    "\n",
    "# all different elements\n",
    "print(dishes.difference(utensils))\n",
    "\n",
    "# all equal elements\n",
    "print(dishes.intersection(utensils))\n",
    "\n",
    "# in this case once sets are unordered and unindexed the values will display ina different order\n",
    "for x in utensils:\n",
    "    print(x)"
   ]
  }
 ],
 "metadata": {
  "language_info": {
   "name": "python"
  },
  "orig_nbformat": 4
 },
 "nbformat": 4,
 "nbformat_minor": 2
}
