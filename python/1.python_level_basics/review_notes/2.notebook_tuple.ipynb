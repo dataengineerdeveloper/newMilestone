{
 "cells": [
  {
   "cell_type": "markdown",
   "metadata": {},
   "source": [
    "# Tuple"
   ]
  },
  {
   "cell_type": "markdown",
   "metadata": {},
   "source": [
    "### 1.  tuples > collection which is ordered and unchangeable used to group together related data\n",
    "* 1.1.  tupls doesn't support item assignmet, if  i need to change something is done in a list.\n",
    "* 1.2. tuples are normaly used when i have to create something that is not going to change, the concept immutable something that can be change like lists/ arrays "
   ]
  },
  {
   "cell_type": "code",
   "execution_count": 2,
   "metadata": {},
   "outputs": [
    {
     "name": "stdout",
     "output_type": "stream",
     "text": [
      "1\n",
      "2\n",
      "Bro\n",
      "23\n",
      "male\n",
      "Bro is here!\n"
     ]
    }
   ],
   "source": [
    "student=(\"Bro\",23,\"male\")\n",
    "\n",
    "print(student.count(\"Bro\"))\n",
    "print(student.index(\"male\"))\n",
    "\n",
    "# i can iterate through a tuple \n",
    "\n",
    "for x in student:\n",
    "    print(x)\n",
    "    # validate if the conditions is True\n",
    "if \"Bro\" in student:\n",
    "    print(\"Bro is here!\")\n",
    "\n"
   ]
  },
  {
   "cell_type": "code",
   "execution_count": null,
   "metadata": {},
   "outputs": [],
   "source": [
    "numbers = (1,2)\n",
    "print(numbers)\n",
    "print(type(numbers))\n",
    "print(numbers[0])\n",
    "#if i try to change a item within a tuple i will get an error\n",
    "#numbers[0]=10"
   ]
  },
  {
   "cell_type": "code",
   "execution_count": null,
   "metadata": {},
   "outputs": [],
   "source": [
    "#TUPLES\n",
    "\n",
    "''' IMUTAVEL -  aqui é a  grande diferencia entre usar um dicionario/lista ou um tuple. se corrermos o que este codigo vai bater,\n",
    "porque no caso dos tuples nao conseguimos fazer alteraçoes, tal comonas lista\n",
    "'''\n",
    "\n",
    "tuple_1=('a','b','c','d')\n",
    "tuple_2 = tuple_1\n",
    "\n",
    "\n",
    "print(tuple_1)\n",
    "print(tuple_2)\n",
    "\n",
    "#tuple_1[0] = 'y'\n",
    "\n",
    "print(tuple_1)\n",
    "print(tuple_2)\n"
   ]
  },
  {
   "cell_type": "code",
   "execution_count": null,
   "metadata": {},
   "outputs": [],
   "source": [
    "#tupples basically are not immutable,for example if i try to a append a new value within a list i will geta  error.  to sum up i cannot edit a tupple after being created\n",
    "\n",
    "#lists can be edit tupples no\n",
    "\n",
    "my_tup=(\"luis\",\"eudardo\")\n",
    "my_tup[1]"
   ]
  }
 ],
 "metadata": {
  "kernelspec": {
   "display_name": "Python 3.10.2 64-bit",
   "language": "python",
   "name": "python3"
  },
  "language_info": {
   "codemirror_mode": {
    "name": "ipython",
    "version": 3
   },
   "file_extension": ".py",
   "mimetype": "text/x-python",
   "name": "python",
   "nbconvert_exporter": "python",
   "pygments_lexer": "ipython3",
   "version": "3.10.2"
  },
  "orig_nbformat": 4,
  "vscode": {
   "interpreter": {
    "hash": "fbe58ca63fe33f9eeae9e71d10368d2b4a57f2b1b395836210cc60d362c66949"
   }
  }
 },
 "nbformat": 4,
 "nbformat_minor": 2
}
