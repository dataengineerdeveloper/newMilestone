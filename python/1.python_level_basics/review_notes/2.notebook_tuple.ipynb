{
 "cells": [
  {
   "cell_type": "markdown",
   "metadata": {},
   "source": [
    "# Tuple"
   ]
  },
  {
   "cell_type": "code",
   "execution_count": null,
   "metadata": {},
   "outputs": [],
   "source": [
    "#TUPLES\n",
    "\n",
    "''' IMUTAVEL -  aqui é a  grande diferencia entre usar um dicionario/lista ou um tuple. se corrermos o que este codigo vai bater,\n",
    "porque no caso dos tuples nao conseguimos fazer alteraçoes, tal comonas lista\n",
    "'''\n",
    "\n",
    "tuple_1=('a','b','c','d')\n",
    "tuple_2 = tuple_1\n",
    "\n",
    "\n",
    "print(tuple_1)\n",
    "print(tuple_2)\n",
    "\n",
    "#tuple_1[0] = 'y'\n",
    "\n",
    "print(tuple_1)\n",
    "print(tuple_2)\n"
   ]
  }
 ],
 "metadata": {
  "kernelspec": {
   "display_name": "Python 3.10.2 64-bit",
   "language": "python",
   "name": "python3"
  },
  "language_info": {
   "name": "python",
   "version": "3.10.2"
  },
  "orig_nbformat": 4,
  "vscode": {
   "interpreter": {
    "hash": "fbe58ca63fe33f9eeae9e71d10368d2b4a57f2b1b395836210cc60d362c66949"
   }
  }
 },
 "nbformat": 4,
 "nbformat_minor": 2
}
