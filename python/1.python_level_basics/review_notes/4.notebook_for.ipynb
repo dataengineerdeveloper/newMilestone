{
 "cells": [
  {
   "cell_type": "markdown",
   "metadata": {},
   "source": [
    "# For"
   ]
  },
  {
   "cell_type": "code",
   "execution_count": 1,
   "metadata": {},
   "outputs": [
    {
     "name": "stdout",
     "output_type": "stream",
     "text": [
      "mat\n",
      "port\n",
      "ingles\n"
     ]
    }
   ],
   "source": [
    "courses = ['mat','port','ingles']\n",
    "\n",
    "# with this approach i will be able to enumerate each value within a list\n",
    "\n",
    "for x in courses:\n",
    "    print(x)"
   ]
  },
  {
   "cell_type": "markdown",
   "metadata": {},
   "source": [
    "### Enumerator"
   ]
  },
  {
   "cell_type": "code",
   "execution_count": 8,
   "metadata": {},
   "outputs": [
    {
     "name": "stdout",
     "output_type": "stream",
     "text": [
      "0 mat\n",
      "1 port\n",
      "2 ingles\n",
      "3 mat\n",
      "4 port\n",
      "5 ingles\n"
     ]
    }
   ],
   "source": [
    "\n",
    "# enumerator -  simple examples imagine that i need to enumerate the values within a list and also show the index\n",
    "\n",
    "for index, course in enumerate(courses):\n",
    "       print(index, course)\n",
    "\n",
    "# i have also the possbility define the index that i want to start the enumeration,  using start = 1\n",
    "\n",
    "for index, course in enumerate(courses, start=3):\n",
    "    print(index, course)\n"
   ]
  },
  {
   "cell_type": "markdown",
   "metadata": {},
   "source": [
    "### Ex 1"
   ]
  },
  {
   "cell_type": "code",
   "execution_count": null,
   "metadata": {},
   "outputs": [],
   "source": [
    "number = (int(input('coloque a tabuada que quer ver:')))\n",
    "print('está é a tabuado do', number)\n",
    "for count in range(1,11):\n",
    "     print(number,'x',count, '=', number*count)\n"
   ]
  },
  {
   "cell_type": "code",
   "execution_count": null,
   "metadata": {},
   "outputs": [],
   "source": [
    "'''\n",
    "for item in iterable\n",
    "\n",
    "'''\n",
    "\n",
    "#quick example: tabuada\n",
    "value = int(input('value: '))\n",
    "print('your',value,'will be calculate by 10')\n",
    "for count in range(1,11):\n",
    "    print(value,'x',count,'=',value*count)\n",
    "\n",
    "\n",
    "\n",
    "# cities\n",
    "#basicmanete vamos ver os valor colocados linhas por linha\n",
    "\n",
    "\n",
    "cities = ['london','porto','lisboa']\n",
    "for city in cities:\n",
    "    print(city)"
   ]
  },
  {
   "cell_type": "code",
   "execution_count": null,
   "metadata": {},
   "outputs": [],
   "source": [
    "cars =['bmw','tesla','mercedes','toyota','honda']\n",
    "\n",
    "'''\n",
    "1.\n",
    "basicamente  for: é o inicio do loop\n",
    "car : é o que faz referencia a cada elemento da lista\n",
    "cars : é a referncia da list em questao\n",
    "quando fazemos o print car, vamos ter a lista de todos os carros dentro da lista\n",
    "'''\n",
    "\n",
    "\n",
    "'''\n",
    "2.\n",
    "desta forma o que o codigo vai fazer será um loop:\n",
    "    se o carro tiver o nome de 'bmw', será colocado como upper\n",
    "    outros apenas colocar a primeira letra como maiuscola\n",
    "\n",
    "'''\n",
    "for car in cars:\n",
    "    if car == 'bmw':\n",
    "        print(car.upper())\n",
    "    else:\n",
    "        print(car.capitalize())\n",
    "\n"
   ]
  },
  {
   "cell_type": "code",
   "execution_count": null,
   "metadata": {},
   "outputs": [],
   "source": [
    "##############################\n",
    "##   LOOPS / interations    ##\n",
    "##############################\n",
    "\n",
    "nums = [1,2,3,4,5]\n",
    "\n",
    "#exemplo 1\n",
    "#for nums in num:\n",
    " #   print(nums)\n",
    "\n",
    "#exemplo 2\n",
    "\n",
    "#BREAK  - para sempre que é encontrado o valor colocado no if\n",
    "\n",
    "for num in nums:\n",
    "    if num == 3:\n",
    "        print('Found it!')\n",
    "        break\n",
    "    print(num)\n",
    "\n",
    "#CONTINUE - encontra o valor e print a mensagem de found, contudo continua o Loop\n",
    "for num in nums:\n",
    "    if num == 3:\n",
    "        print('Found it!')\n",
    "        continue\n",
    "    print(num)\n",
    "\n",
    "\n",
    "#exemplo 3\n",
    "\n",
    "#usar um loop dentro de um loop\n",
    "#NOTAS >> o loop vai iterar por cada valor 'abc', os numeros que estão na list de nums\n",
    "\n",
    "for num in nums:\n",
    "    for letter in 'abc':\n",
    "        print(num,letter)\n",
    "\n",
    "#exemplo 4\n",
    "# se quisermos que seja colocados numero de 1 a 10, se colocassemos um range(10), iamos ter apenas numero de 0 a 9,   solução é ter como está apresentado\n",
    "for i in range (1,11):\n",
    "        print(i)\n",
    "\n",
    "x = 0\n",
    "\n",
    "# vai ser feito loop até que o valor chegue a 10\n",
    "'''while x < 10:\n",
    "    print(x)\n",
    "    x +=1\n",
    "'''\n",
    "\n",
    "#aqui loop vai parar quando o valor encontrar o 5\n",
    "'''while x < 10:\n",
    "    if x == 5:\n",
    "        break\n",
    "    print(x)\n",
    "    x += 1\n",
    "'''\n",
    "\n",
    "'''\n",
    "while True:\n",
    "    print(x)\n",
    "    x += 1\n",
    "\n",
    "'''\n",
    "\n",
    "\n",
    "x = 0 \n",
    "y = 1\n",
    "e = 5\n",
    "f = 3\n",
    "while x < y:\n",
    "    x +=1\n",
    "    print(x)\n",
    "    if f > 0:\n",
    "        continue\n",
    "    if x == e:\n",
    "        print('hit e')\n",
    "        break\n",
    "    print('end loop')\n",
    "    \n",
    "\n"
   ]
  },
  {
   "cell_type": "code",
   "execution_count": null,
   "metadata": {},
   "outputs": [],
   "source": [
    "# for\n",
    "\n",
    "value = int(input('insert the value: '))\n",
    "print('this',value,'will be multipled by 10')\n",
    "for count in range (1,11):\n",
    "    print(value,'x',count,'=',value*count)\n"
   ]
  },
  {
   "cell_type": "markdown",
   "metadata": {},
   "source": [
    "### Ex 2"
   ]
  },
  {
   "cell_type": "code",
   "execution_count": null,
   "metadata": {},
   "outputs": [],
   "source": [
    "#this going to run each element within the parameter,  and stablish if is cowal or consonant\n",
    "for letters in ('abcdefghijklmnopqrstuvxz'):\n",
    "    if letters in ('aeiou'):\n",
    "        print('vowal')\n",
    "    else:\n",
    "        print('letter is consonant')"
   ]
  },
  {
   "cell_type": "code",
   "execution_count": null,
   "metadata": {},
   "outputs": [],
   "source": [
    "# CONTINUE  and  BREAK\n",
    "\n",
    "nums = [1,2,3,4]\n",
    "\n",
    "for num in nums:\n",
    "    if num == 3:\n",
    "        print('found')\n",
    "        #continue - coninue after found the number\n",
    "        #break - break after found the value and don't persue for the next iteraction \n",
    "    print(num) "
   ]
  },
  {
   "cell_type": "code",
   "execution_count": null,
   "metadata": {},
   "outputs": [],
   "source": [
    "#LOOP WITHIN A LOOP\n",
    "\n",
    "nums = [1,2,3,4]\n",
    "\n",
    "for num in nums:\n",
    "    for letter in  'abc':\n",
    "        print(num,letter)"
   ]
  },
  {
   "cell_type": "code",
   "execution_count": null,
   "metadata": {},
   "outputs": [],
   "source": [
    "#exemplo for range\n",
    "i = 5\n",
    "print('value is', i)\n",
    "for count in range(1,11):\n",
    "    print(i,'x',count,'=',i*count)\n"
   ]
  },
  {
   "cell_type": "code",
   "execution_count": null,
   "metadata": {},
   "outputs": [],
   "source": [
    "#increment numbers using WHILE\n",
    "\n",
    "import time as t\n",
    "num = 1\n",
    "while True:\n",
    "    print(num)\n",
    "    num = num+1\n",
    "    t.sleep(0.5)"
   ]
  }
 ],
 "metadata": {
  "kernelspec": {
   "display_name": "Python 3.10.2 64-bit",
   "language": "python",
   "name": "python3"
  },
  "language_info": {
   "codemirror_mode": {
    "name": "ipython",
    "version": 3
   },
   "file_extension": ".py",
   "mimetype": "text/x-python",
   "name": "python",
   "nbconvert_exporter": "python",
   "pygments_lexer": "ipython3",
   "version": "3.10.2"
  },
  "orig_nbformat": 4,
  "vscode": {
   "interpreter": {
    "hash": "fbe58ca63fe33f9eeae9e71d10368d2b4a57f2b1b395836210cc60d362c66949"
   }
  }
 },
 "nbformat": 4,
 "nbformat_minor": 2
}
