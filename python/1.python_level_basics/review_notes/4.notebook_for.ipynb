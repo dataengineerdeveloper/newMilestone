{
 "cells": [
  {
   "cell_type": "markdown",
   "metadata": {},
   "source": [
    "# For"
   ]
  },
  {
   "cell_type": "markdown",
   "metadata": {},
   "source": [
    "* For will iteate through a range of values.  normally is used to go through several files"
   ]
  },
  {
   "cell_type": "code",
   "execution_count": 6,
   "metadata": {},
   "outputs": [
    {
     "name": "stdout",
     "output_type": "stream",
     "text": [
      "x is now 0\n",
      "output now: 1\n",
      "x is now 1\n",
      "output now: 2\n",
      "x is now 2\n",
      "output now: 3\n",
      "x is now 3\n",
      "output now: 4\n",
      "x is now 4\n",
      "output now: 5\n",
      "x is now 5\n",
      "output now: 6\n",
      "x is now 6\n",
      "output now: 7\n",
      "x is now 7\n",
      "output now: 8\n",
      "x is now 8\n",
      "output now: 9\n",
      "x is now 9\n",
      "output now: 10\n",
      "your loop has ended\n"
     ]
    }
   ],
   "source": [
    "list= range(0,10)\n",
    "\n",
    "for x in list:\n",
    "    # it's going to increment in a range of 10\n",
    "    print(\"x is now\",x)\n",
    "    x+=1\n",
    "    print(\"output now:\", x)\n",
    "#this print will only appear in the end of the loop,  becasue if i put inside a loop i will get the following print in every iteration\n",
    "print(\"your loop has ended\")"
   ]
  },
  {
   "cell_type": "code",
   "execution_count": 1,
   "metadata": {},
   "outputs": [
    {
     "name": "stdout",
     "output_type": "stream",
     "text": [
      "mat\n",
      "port\n",
      "ingles\n"
     ]
    }
   ],
   "source": [
    "courses = ['mat','port','ingles']\n",
    "\n",
    "# with this approach i will be able to enumerate each value within a list\n",
    "\n",
    "for x in courses:\n",
    "    print(x)"
   ]
  },
  {
   "cell_type": "code",
   "execution_count": null,
   "metadata": {},
   "outputs": [],
   "source": [
    "person = {\"name\": \"luis\",  \"age\": \"26\"}\n",
    "\n",
    "for keys, value in person.items():\n",
    "    print(f\"the keys {keys} is attache to value {value}\")"
   ]
  },
  {
   "cell_type": "code",
   "execution_count": null,
   "metadata": {},
   "outputs": [],
   "source": [
    "fruits = ['apple','pears','banana',11]\n",
    "\n",
    "for x in fruits:\n",
    "    if x == 'pears':\n",
    "        print(x)\n",
    "    else:\n",
    "        print('not pears')\n",
    "\n",
    "print('---- using iterations with indices ---')\n",
    "\n",
    "#normally takes more time,  in of you hava no ideia de range within your list o can use a len()\n",
    "#add range and len\n",
    "for x in range (len(fruits)):\n",
    "    #apply x to know the indices even in the print\n",
    "    if fruits[x] == 'pears':\n",
    "        print(fruits[x])\n",
    "    else:\n",
    "        print('not pears')"
   ]
  },
  {
   "cell_type": "markdown",
   "metadata": {},
   "source": [
    "### Enumerator"
   ]
  },
  {
   "cell_type": "code",
   "execution_count": 8,
   "metadata": {},
   "outputs": [
    {
     "name": "stdout",
     "output_type": "stream",
     "text": [
      "0 mat\n",
      "1 port\n",
      "2 ingles\n",
      "3 mat\n",
      "4 port\n",
      "5 ingles\n"
     ]
    }
   ],
   "source": [
    "\n",
    "# enumerator -  simple examples imagine that i need to enumerate the values within a list and also show the index\n",
    "\n",
    "for index, course in enumerate(courses):\n",
    "       print(index, course)\n",
    "\n",
    "# i have also the possbility define the index that i want to start the enumeration,  using start = 1\n",
    "\n",
    "for index, course in enumerate(courses, start=3):\n",
    "    print(index, course)\n"
   ]
  },
  {
   "cell_type": "code",
   "execution_count": null,
   "metadata": {},
   "outputs": [],
   "source": [
    "fruits = ['apple','orange','watermelon','banana']\n",
    "# to enumerate de values that i'm going to loop, i can use e de enumerate where FOR is.\n",
    "for fruit in enumerate(fruits):\n",
    "    print('Fruit:',fruit)"
   ]
  },
  {
   "cell_type": "code",
   "execution_count": null,
   "metadata": {},
   "outputs": [],
   "source": [
    "fruits = ['apple','orange','watermelon','banana']\n",
    "for index,  fruit in enumerate(fruits):\n",
    "    print('fruit:',fruit, index)"
   ]
  },
  {
   "cell_type": "markdown",
   "metadata": {},
   "source": [
    "# loop > statement that will execute it's block code a limited amount of times\n",
    "\n",
    "* while loop = unlimeted\n",
    "* for loop = limited"
   ]
  },
  {
   "cell_type": "code",
   "execution_count": null,
   "metadata": {},
   "outputs": [],
   "source": [
    "#happy new year\n",
    "import time\n",
    "\n",
    "#here i'll get reverse count using -1.  i want to start in 10 and finish in 0 that isn't inclusive\n",
    "for seconds in range(10,0,-1):\n",
    "    print(seconds)\n",
    "    time.sleep(1)\n",
    "print(\"Happy new year!!\")"
   ]
  },
  {
   "cell_type": "markdown",
   "metadata": {},
   "source": [
    "### nested loops > the inner loop will finish all of it's iterations before finishing one iteration of the outer loop"
   ]
  },
  {
   "cell_type": "code",
   "execution_count": null,
   "metadata": {},
   "outputs": [],
   "source": [
    "rows = int(input(\"how many rows?: \"))\n",
    "columns = int(input(\"how many columns?: \"))\n",
    "symbol= input(\"enter a symbol to use: \")\n",
    "\n",
    "for i in range(rows):\n",
    "    for j in range(columns):\n",
    "        print(symbol, end=\"\")\n",
    "    print()\n",
    "\n"
   ]
  },
  {
   "cell_type": "markdown",
   "metadata": {},
   "source": [
    "# break / continue / pass\n",
    "loop control statements = changes a loops execution from its noraml squence\n",
    "\n",
    "break =  used to terminate the loop entirely\n",
    "continue = skips to the next iteration of the loop\n",
    "pass  =  does nothing,  acts as a placeholder\n"
   ]
  },
  {
   "cell_type": "code",
   "execution_count": null,
   "metadata": {},
   "outputs": [],
   "source": [
    "#continue\n",
    "#it will display values without dash -\n",
    "phone_number =\"123-456-789\"\n",
    "\n",
    "for i in phone_number:\n",
    "    if i == \"-\":\n",
    "        continue\n",
    "    print(i, end=\"\")"
   ]
  },
  {
   "cell_type": "code",
   "execution_count": null,
   "metadata": {},
   "outputs": [],
   "source": [
    "#pass\n",
    "#it will pass all value form 1 to 20 execpt 13,  becasue i apply a rule to pass when i == 13\n",
    "\n",
    "for i in range(1,20):\n",
    "    if i == 13:\n",
    "        pass\n",
    "    else:\n",
    "        print(i)"
   ]
  },
  {
   "cell_type": "code",
   "execution_count": null,
   "metadata": {},
   "outputs": [],
   "source": [
    "# lets print a scenary where i need to print the email,  but i've to do a valiadation before print, because the key might not exists in some users\n",
    "user_1={'username':'luis','id':1,'email':'user1@email.com','phone':12334555}\n",
    "user_2={'username':'Ed','id':2,'email':'user2@email.com' , 'phone':123345}\n",
    "user_3={'username':'Ed','id':2,'phone':123345}\n",
    "comb=user_1,user_2, user_3\n",
    "\n",
    "for user in comb:\n",
    "    if 'email' in user:\n",
    "        print(user['email'])\n",
    "    else: \n",
    "        print(user['phone'])"
   ]
  },
  {
   "cell_type": "code",
   "execution_count": null,
   "metadata": {},
   "outputs": [],
   "source": [
    "abc_sq = [25]\n",
    "\n",
    "for num in abc_sq:\n",
    "    if num % 2 == 0:\n",
    "        print('this is even')\n",
    "        abc_sq.append(num)\n",
    "    else:\n",
    "        print('this is odd')\n",
    "        abc_sq.append(num)\n",
    "        "
   ]
  },
  {
   "cell_type": "code",
   "execution_count": null,
   "metadata": {},
   "outputs": [],
   "source": [
    "def word_frequency(phrase):\n",
    "    result={}\n",
    "    words = phrase.split()\n",
    "    for word in words:\n",
    "        if word not in result:\n",
    "            result[word] = 1\n",
    "        else:\n",
    "            result[word]+=1\n",
    "    return result\n",
    "\n",
    "\n",
    "print(word_frequency(\"hello i'm luis and i love being luis\"))"
   ]
  },
  {
   "cell_type": "markdown",
   "metadata": {},
   "source": [
    "### Ex 1"
   ]
  },
  {
   "cell_type": "code",
   "execution_count": null,
   "metadata": {},
   "outputs": [],
   "source": [
    "number = (int(input('coloque a tabuada que quer ver:')))\n",
    "print('está é a tabuado do', number)\n",
    "for count in range(1,11):\n",
    "     print(number,'x',count, '=', number*count)\n"
   ]
  },
  {
   "cell_type": "code",
   "execution_count": null,
   "metadata": {},
   "outputs": [],
   "source": [
    "'''\n",
    "for item in iterable\n",
    "\n",
    "'''\n",
    "\n",
    "#quick example: tabuada\n",
    "value = int(input('value: '))\n",
    "print('your',value,'will be calculate by 10')\n",
    "for count in range(1,11):\n",
    "    print(value,'x',count,'=',value*count)\n",
    "\n",
    "\n",
    "\n",
    "# cities\n",
    "#basicmanete vamos ver os valor colocados linhas por linha\n",
    "\n",
    "\n",
    "cities = ['london','porto','lisboa']\n",
    "for city in cities:\n",
    "    print(city)"
   ]
  },
  {
   "cell_type": "code",
   "execution_count": null,
   "metadata": {},
   "outputs": [],
   "source": [
    "cars =['bmw','tesla','mercedes','toyota','honda']\n",
    "\n",
    "'''\n",
    "1.\n",
    "basicamente  for: é o inicio do loop\n",
    "car : é o que faz referencia a cada elemento da lista\n",
    "cars : é a referncia da list em questao\n",
    "quando fazemos o print car, vamos ter a lista de todos os carros dentro da lista\n",
    "'''\n",
    "\n",
    "\n",
    "'''\n",
    "2.\n",
    "desta forma o que o codigo vai fazer será um loop:\n",
    "    se o carro tiver o nome de 'bmw', será colocado como upper\n",
    "    outros apenas colocar a primeira letra como maiuscola\n",
    "\n",
    "'''\n",
    "for car in cars:\n",
    "    if car == 'bmw':\n",
    "        print(car.upper())\n",
    "    else:\n",
    "        print(car.capitalize())\n",
    "\n"
   ]
  },
  {
   "cell_type": "code",
   "execution_count": null,
   "metadata": {},
   "outputs": [],
   "source": [
    "x = 0 \n",
    "y = 1\n",
    "e = 5\n",
    "f = 3\n",
    "while x < y:\n",
    "    x +=1\n",
    "    print(x)\n",
    "    if f > 0:\n",
    "        continue\n",
    "    if x == e:\n",
    "        print('hit e')\n",
    "        break\n",
    "    print('end loop')\n",
    "    \n",
    "\n"
   ]
  },
  {
   "cell_type": "code",
   "execution_count": null,
   "metadata": {},
   "outputs": [],
   "source": [
    "# for\n",
    "\n",
    "value = int(input('insert the value: '))\n",
    "print('this',value,'will be multipled by 10')\n",
    "for count in range (1,11):\n",
    "    print(value,'x',count,'=',value*count)\n"
   ]
  },
  {
   "cell_type": "markdown",
   "metadata": {},
   "source": [
    "### Ex 2"
   ]
  },
  {
   "cell_type": "code",
   "execution_count": null,
   "metadata": {},
   "outputs": [],
   "source": [
    "#this going to run each element within the parameter,  and stablish if is cowal or consonant\n",
    "for letters in ('abcdefghijklmnopqrstuvxz'):\n",
    "    if letters in ('aeiou'):\n",
    "        print('vowal')\n",
    "    else:\n",
    "        print('letter is consonant')"
   ]
  },
  {
   "cell_type": "code",
   "execution_count": null,
   "metadata": {},
   "outputs": [],
   "source": [
    "# CONTINUE  and  BREAK\n",
    "\n",
    "nums = [1,2,3,4]\n",
    "\n",
    "for num in nums:\n",
    "    if num == 3:\n",
    "        print('found')\n",
    "        #continue - coninue after found the number\n",
    "        #break - break after found the value and don't persue for the next iteraction \n",
    "    print(num) "
   ]
  },
  {
   "cell_type": "code",
   "execution_count": null,
   "metadata": {},
   "outputs": [],
   "source": [
    "#LOOP WITHIN A LOOP\n",
    "\n",
    "nums = [1,2,3,4]\n",
    "\n",
    "for num in nums:\n",
    "    for letter in  'abc':\n",
    "        print(num,letter)"
   ]
  },
  {
   "cell_type": "code",
   "execution_count": null,
   "metadata": {},
   "outputs": [],
   "source": [
    "#exemplo for range\n",
    "i = 5\n",
    "print('value is', i)\n",
    "for count in range(1,11):\n",
    "    print(i,'x',count,'=',i*count)\n"
   ]
  },
  {
   "cell_type": "code",
   "execution_count": null,
   "metadata": {},
   "outputs": [],
   "source": [
    "#increment numbers using WHILE\n",
    "\n",
    "import time as t\n",
    "num = 1\n",
    "while True:\n",
    "    print(num)\n",
    "    num = num+1\n",
    "    t.sleep(0.5)"
   ]
  },
  {
   "cell_type": "code",
   "execution_count": null,
   "metadata": {},
   "outputs": [],
   "source": [
    "def double(numbers: list)->list:\n",
    "    result=[]\n",
    "    for number in numbers:\n",
    "        print(result)\n",
    "        result.append(number*2)\n",
    "        \n",
    "    return result\n",
    "print(double([1,2,3]))"
   ]
  },
  {
   "cell_type": "code",
   "execution_count": null,
   "metadata": {},
   "outputs": [],
   "source": [
    "def sum_list(numbers):\n",
    "    count=0\n",
    "    for number in numbers:\n",
    "        count += number\n",
    "    return count\n",
    "print(sum_list([1,2,3]))"
   ]
  },
  {
   "cell_type": "code",
   "execution_count": null,
   "metadata": {},
   "outputs": [],
   "source": [
    "#find max\n",
    "\n",
    "def find_max(numbers):\n",
    "    #strat with number[0],  to make sure that the first value to check max valuea are always index 0\n",
    "    current_max=numbers[0]\n",
    "    for number in numbers:\n",
    "        if number > current_max:\n",
    "            current_max=number\n",
    "    return current_max\n",
    "print(find_max([1,2,3,443,45,0]))  \n",
    "    \n"
   ]
  }
 ],
 "metadata": {
  "kernelspec": {
   "display_name": "Python 3.10.2 64-bit",
   "language": "python",
   "name": "python3"
  },
  "language_info": {
   "codemirror_mode": {
    "name": "ipython",
    "version": 3
   },
   "file_extension": ".py",
   "mimetype": "text/x-python",
   "name": "python",
   "nbconvert_exporter": "python",
   "pygments_lexer": "ipython3",
   "version": "3.10.2"
  },
  "orig_nbformat": 4,
  "vscode": {
   "interpreter": {
    "hash": "fbe58ca63fe33f9eeae9e71d10368d2b4a57f2b1b395836210cc60d362c66949"
   }
  }
 },
 "nbformat": 4,
 "nbformat_minor": 2
}
