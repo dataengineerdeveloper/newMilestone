{
 "cells": [
  {
   "cell_type": "markdown",
   "metadata": {},
   "source": [
    "# Functions / methods used in string\n",
    "\n",
    "* TO sum up:\n",
    "    * list -  vamos ver []\n",
    "    * tuple -  bvamos ver ()\n",
    "    * dictionaries - vamos ver {}\n",
    "\n",
    "* functions\n",
    "    * append\n",
    "    * insert\n",
    "    * extend\n",
    "    * pop\n",
    "    * reverse\n",
    "    * remove\n",
    "    * sort"
   ]
  },
  {
   "cell_type": "markdown",
   "metadata": {},
   "source": [
    "### append"
   ]
  },
  {
   "cell_type": "code",
   "execution_count": 2,
   "metadata": {},
   "outputs": [
    {
     "name": "stdout",
     "output_type": "stream",
     "text": [
      "['mat', 'port', 'ingles', 'Bio']\n"
     ]
    }
   ],
   "source": [
    "courses = ['mat','port','ingles']\n",
    "\n",
    "courses.append('Bio')\n",
    "print(courses)"
   ]
  },
  {
   "cell_type": "markdown",
   "metadata": {},
   "source": [
    "### update"
   ]
  },
  {
   "cell_type": "code",
   "execution_count": 1,
   "metadata": {},
   "outputs": [
    {
     "data": {
      "text/plain": [
       "{'name': 'luis', 'age': '26', 'is_male': True}"
      ]
     },
     "execution_count": 1,
     "metadata": {},
     "output_type": "execute_result"
    }
   ],
   "source": [
    "person = {\"name\": \"luis\",  \"age\": \"26\"}\n",
    "\n",
    "more_info = {\"is_male\":True}\n",
    "person.update(more_info)\n",
    "person"
   ]
  },
  {
   "cell_type": "markdown",
   "metadata": {},
   "source": [
    "### insert"
   ]
  },
  {
   "cell_type": "code",
   "execution_count": 4,
   "metadata": {},
   "outputs": [
    {
     "name": "stdout",
     "output_type": "stream",
     "text": [
      "['music', 'mat', 'port', 'ingles']\n"
     ]
    }
   ],
   "source": [
    "courses = ['mat','port','ingles']\n",
    "\n",
    "# we can add a new values plus  indicate the index where i want to inser the value\n",
    "courses.insert(0,'music')\n",
    "print(courses)"
   ]
  },
  {
   "cell_type": "markdown",
   "metadata": {},
   "source": [
    "### extend"
   ]
  },
  {
   "cell_type": "code",
   "execution_count": 5,
   "metadata": {},
   "outputs": [
    {
     "name": "stdout",
     "output_type": "stream",
     "text": [
      "['mat', 'port', 'ingles', 'compscience', 'calculus']\n"
     ]
    }
   ],
   "source": [
    "courses = ['mat','port','ingles']\n",
    "#can join value from a variable to other / combine on list to other\n",
    "courses_2 = ['compscience','calculus']\n",
    "courses.extend(courses_2)\n",
    "print(courses)"
   ]
  },
  {
   "cell_type": "markdown",
   "metadata": {},
   "source": [
    "### Remove"
   ]
  },
  {
   "cell_type": "code",
   "execution_count": 6,
   "metadata": {},
   "outputs": [
    {
     "name": "stdout",
     "output_type": "stream",
     "text": [
      "['port', 'ingles']\n"
     ]
    }
   ],
   "source": [
    "courses = ['mat','port','ingles']\n",
    "courses.remove('mat')\n",
    "print(courses)\n"
   ]
  },
  {
   "cell_type": "markdown",
   "metadata": {},
   "source": [
    "### POP"
   ]
  },
  {
   "cell_type": "code",
   "execution_count": 8,
   "metadata": {},
   "outputs": [
    {
     "name": "stdout",
     "output_type": "stream",
     "text": [
      "['mat', 'port']\n"
     ]
    }
   ],
   "source": [
    "courses = ['mat','port','ingles']\n",
    "popped =  courses.pop()\n",
    "print(courses)"
   ]
  },
  {
   "cell_type": "markdown",
   "metadata": {},
   "source": [
    "### Reverse"
   ]
  },
  {
   "cell_type": "code",
   "execution_count": 9,
   "metadata": {},
   "outputs": [
    {
     "name": "stdout",
     "output_type": "stream",
     "text": [
      "['ingles', 'port', 'mat']\n"
     ]
    }
   ],
   "source": [
    "courses = ['mat','port','ingles']\n",
    "\n",
    "courses.reverse()\n",
    "print(courses)"
   ]
  },
  {
   "cell_type": "markdown",
   "metadata": {},
   "source": [
    "### Sort"
   ]
  },
  {
   "cell_type": "code",
   "execution_count": 7,
   "metadata": {},
   "outputs": [
    {
     "name": "stdout",
     "output_type": "stream",
     "text": [
      "[2, 4, 5, 7, 8, 8, 9, 78]\n",
      "[2, 4, 5, 7, 8, 8, 9, 78]\n"
     ]
    }
   ],
   "source": [
    "\n",
    "courses = ['mat','port','ingles']\n",
    "num = [2,5,8,8,9,4,7,78]\n",
    "#courses.sort() # organiza por ordem alfabetica / in this case reverse True/ false,  posso indicar se vai fazer o ascendente o descendente\n",
    "num.sort(reverse=True) # / num.sort(reverse=False)\n",
    "num.sort() # / num.sort(reverse=False)\n",
    "\n",
    "print(num)\n",
    "print(num)"
   ]
  },
  {
   "cell_type": "code",
   "execution_count": 8,
   "metadata": {},
   "outputs": [
    {
     "name": "stdout",
     "output_type": "stream",
     "text": [
      "1\n"
     ]
    }
   ],
   "source": [
    "#in this list find the smallest value\n",
    "# 1. sort the variable\n",
    "# 2. print variable and index,  within this we will be able to see the smalleste value of the list \n",
    "\n",
    "a= [1,5,6,2,3,45,5,77]\n",
    "a.sort()\n",
    "print(a[0])"
   ]
  },
  {
   "cell_type": "markdown",
   "metadata": {},
   "source": [
    "### Max / min / avg / sorted"
   ]
  },
  {
   "cell_type": "code",
   "execution_count": 9,
   "metadata": {},
   "outputs": [
    {
     "name": "stdout",
     "output_type": "stream",
     "text": [
      "78\n",
      "1\n",
      "158\n",
      "[1, 5, 5, 6, 7, 56, 78]\n"
     ]
    }
   ],
   "source": [
    "values = [1,56,78,5,6,7,5]\n",
    "\n",
    "print(max(values))\n",
    "print(min(values))\n",
    "print(sum(values))\n",
    "print(sorted(values))"
   ]
  },
  {
   "cell_type": "markdown",
   "metadata": {},
   "source": [
    "### map"
   ]
  },
  {
   "cell_type": "code",
   "execution_count": 10,
   "metadata": {},
   "outputs": [
    {
     "name": "stdout",
     "output_type": "stream",
     "text": [
      "[2, 4, 6]\n",
      "[2, 4, 6]\n"
     ]
    }
   ],
   "source": [
    "def double (number):\n",
    "    return number*2\n",
    "print(list(map(double,[1,2,3])))\n",
    "\n",
    "#i can do the exact some thing with this lambda function\n",
    "\n",
    "print(list(map(lambda num: num*2,[1,2,3])))"
   ]
  },
  {
   "cell_type": "markdown",
   "metadata": {},
   "source": [
    "### filter"
   ]
  },
  {
   "cell_type": "code",
   "execution_count": 11,
   "metadata": {},
   "outputs": [
    {
     "name": "stdout",
     "output_type": "stream",
     "text": [
      "[2, 4, 6, 8, 10, 12]\n"
     ]
    }
   ],
   "source": [
    "numbers = [1,2,3,4,5,6,7,8,9,10,11,12]\n",
    "print(list(filter(lambda num: num %2==0, numbers)))"
   ]
  },
  {
   "cell_type": "code",
   "execution_count": 31,
   "metadata": {},
   "outputs": [
    {
     "name": "stdout",
     "output_type": "stream",
     "text": [
      "<class 'int'>\n",
      "<class 'float'>\n",
      "3\n",
      "4\n",
      "3.75\n"
     ]
    }
   ],
   "source": [
    "number =  3\n",
    "number2 = 3.14\n",
    "\n",
    "# type is used normally to know what is the datatype\n",
    "print(type(number)) \n",
    "print(type(number2))\n",
    "\n",
    "# ARITHEMETIC OPERATORS\n",
    "\n",
    "# floor division  3 // 2\n",
    "# exponent        3 **2\n",
    "# Modulus         3 % 2\n",
    "\n",
    "# BUILT IN FUNCTIONS\n",
    "# some built in function that work with number are\n",
    "\n",
    "print(abs(-3))\n",
    "print(round(3.75))\n",
    "# i can indicate the number of decimal values\n",
    "print(round(3.75,2))\n"
   ]
  },
  {
   "cell_type": "markdown",
   "metadata": {},
   "source": [
    "### strip / split"
   ]
  },
  {
   "cell_type": "code",
   "execution_count": 13,
   "metadata": {},
   "outputs": [
    {
     "name": "stdout",
     "output_type": "stream",
     "text": [
      "luis.nogueira\n",
      "['luis', 'nogueira   ']\n"
     ]
    }
   ],
   "source": [
    "# .strip() -  remove empty space within a varaible\n",
    "\n",
    "#if i type a few blank space the outcome it will be with blank spaces\n",
    "x =  input('insert something: ')\n",
    "print(x.strip())\n",
    "\n",
    "#remove the delimiter if i insert ('hello.luis.how.are.you')\n",
    "print(x.split('.'))"
   ]
  },
  {
   "cell_type": "markdown",
   "metadata": {},
   "source": [
    "### len"
   ]
  },
  {
   "cell_type": "code",
   "execution_count": 14,
   "metadata": {},
   "outputs": [
    {
     "name": "stdout",
     "output_type": "stream",
     "text": [
      "5\n"
     ]
    }
   ],
   "source": [
    "def count_words(phrase):\n",
    "    print(len(phrase.split()))\n",
    "count_words('hello!, my name is luis')\n",
    "    "
   ]
  },
  {
   "cell_type": "code",
   "execution_count": 32,
   "metadata": {},
   "outputs": [
    {
     "name": "stdout",
     "output_type": "stream",
     "text": [
      "30\n"
     ]
    }
   ],
   "source": [
    "# using this variables witll occur the concatenation between num_1 and num_2\n",
    "num_1 = '10'\n",
    "num_2 = '20'\n",
    "\n",
    "# if we need to sum this 2 varaibles we have to convert to int to perform sum,  otherwise i will get an error\n",
    "num_1 = int('10')\n",
    "num_2 = int('20')\n",
    "\n",
    "\n",
    "print( num_1 + num_2)"
   ]
  },
  {
   "cell_type": "code",
   "execution_count": 35,
   "metadata": {},
   "outputs": [
    {
     "name": "stdout",
     "output_type": "stream",
     "text": [
      "15\n",
      "5\n",
      "50\n",
      "100000\n",
      "2.0\n",
      "2\n",
      "1\n"
     ]
    }
   ],
   "source": [
    "\n",
    "\n",
    "\n",
    "#aritemetic:  + - / : * % **   << este sao alguns dos sibolos aritemeticos que vamos encontrar\n",
    "\n",
    "add= 10+5\n",
    "print(add)  ##>> 15\n",
    "\n",
    "sub= 10-5\n",
    "print(sub)  ## >>5\n",
    "\n",
    "mult=10*5 \n",
    "print(mult) ## >> 50\n",
    "\n",
    "expo=10**5 \n",
    "print(expo) ## >> 50\n",
    "\n",
    "div=10/5\n",
    "print(div)  ## >> 2.0\n",
    "\n",
    "floordiv= 10//5\n",
    "print(floordiv)   ## >> 0 quantas vezes é que 5 cabe dentro de 10 ,  a resposta é 2,  ou seja nao existe remanescente,  ou seja o output de modulus = 0\n",
    "\n",
    "mod= 10%3\n",
    "print(mod)   ## >>é 3*3=9 , contudo neste caso remanescente é 1, este é  o output de modulus = 1\n",
    "\n"
   ]
  },
  {
   "cell_type": "markdown",
   "metadata": {},
   "source": [
    "### validate if a value in a list exist"
   ]
  },
  {
   "cell_type": "code",
   "execution_count": 20,
   "metadata": {},
   "outputs": [
    {
     "name": "stdout",
     "output_type": "stream",
     "text": [
      "True\n",
      "mat\n",
      "port\n",
      "ingles\n"
     ]
    }
   ],
   "source": [
    "courses = ['mat','port','ingles']\n",
    "print('mat'in courses)\n",
    "\n"
   ]
  },
  {
   "cell_type": "markdown",
   "metadata": {},
   "source": [
    "### join"
   ]
  },
  {
   "cell_type": "code",
   "execution_count": 22,
   "metadata": {},
   "outputs": [
    {
     "name": "stdout",
     "output_type": "stream",
     "text": [
      "mat - port - ingles\n",
      "['Art', 'port', 'ingles']\n"
     ]
    }
   ],
   "source": [
    "courses = ['mat','port','ingles']\n",
    "\n",
    "course_str = ' - '.join(courses)\n",
    "print(course_str)\n",
    "\n",
    "\n",
    "\n"
   ]
  },
  {
   "cell_type": "markdown",
   "metadata": {},
   "source": [
    "### * Index"
   ]
  },
  {
   "cell_type": "code",
   "execution_count": 23,
   "metadata": {},
   "outputs": [
    {
     "name": "stdout",
     "output_type": "stream",
     "text": [
      "['Art', 'port', 'ingles']\n",
      "['y', 'b', 'c', 'd']\n",
      "['y', 'b', 'c', 'd']\n"
     ]
    }
   ],
   "source": [
    "# define a new value to a index\n",
    "\n",
    "courses[0] = 'Art'\n",
    "print(courses)\n",
    "\n",
    "#MUTAVEL - este exemplo mostra que esta lista é mutavel.  ouse ja tudo que seja alterado ma list_1 vai ser alterado tb na lsit_2\n",
    "\n",
    "list_1 = ['a','b','c','d']\n",
    "list_2 = list_1\n",
    "\n",
    "# vaos alterar o index 0 por y\n",
    "list_1[0] = 'y'\n",
    "\n",
    "print(list_1)\n",
    "print(list_2)\n"
   ]
  },
  {
   "cell_type": "markdown",
   "metadata": {},
   "source": [
    "### Set / interception / Union / difference"
   ]
  },
  {
   "cell_type": "code",
   "execution_count": 28,
   "metadata": {},
   "outputs": [
    {
     "name": "stdout",
     "output_type": "stream",
     "text": [
      "{'a', 'c', 'd', 'b'}\n",
      "{'t', 'a', 'd', 'b'}\n",
      "{'a', 'd', 'b'}\n",
      "['a', 'b', 'c', 'd', 't']\n",
      "{'c'}\n"
     ]
    }
   ],
   "source": [
    "#set remove all duplicates that exists in a list, but doesn't order the values\n",
    "\n",
    "SET_1 = {'a','b','c','d','a'}\n",
    "SET_2 =  {'a','b','d','a','t'}\n",
    "\n",
    "# SET\n",
    "print(set(SET_1))\n",
    "print(set(SET_2))\n",
    "\n",
    "#INTERSECTION\n",
    "sets_join= SET_1.intersection(SET_2)\n",
    "print(sets_join)\n",
    "\n",
    "#  UNION\n",
    "sets_join= SET_1.union(SET_2)\n",
    "print(sorted(sets_join))\n",
    "\n",
    "print(SET_1.difference(SET_2))\n",
    "\n"
   ]
  },
  {
   "cell_type": "markdown",
   "metadata": {},
   "source": [
    "### clear"
   ]
  },
  {
   "cell_type": "code",
   "execution_count": null,
   "metadata": {},
   "outputs": [],
   "source": [
    "# the same happen i need to remove a element from a dict\n",
    "\n",
    "person = {\"name\": \"luis\",  \"age\": \"26\"}\n",
    "person.clear()\n",
    "person\n"
   ]
  },
  {
   "cell_type": "markdown",
   "metadata": {},
   "source": [
    "### Random"
   ]
  },
  {
   "cell_type": "code",
   "execution_count": null,
   "metadata": {},
   "outputs": [],
   "source": [
    "import random\n",
    "\n",
    "opcao = ['Podes ver um video','tens de estudar'] \n",
    "print(random.choice(opcao))"
   ]
  },
  {
   "cell_type": "code",
   "execution_count": null,
   "metadata": {},
   "outputs": [],
   "source": [
    "# function randon,  som examples\n",
    "\n",
    "\n",
    "import random\n",
    "\n",
    "print(random.random()) # value from 0.0 till 1.0\n",
    "print(random.uniform(4,19)) #decimal value from min to max\n",
    "print(random.randint(12,55)) #int value from min to max\n",
    "\n",
    "\n",
    "cores = ['verde','vermelho','azul']\n",
    "print(random.choice(cores)) # allow you to pick a option from a variable\n",
    "\n",
    "\n",
    "cards =  ['card1','card2','card3','card4']\n",
    "random.shuffle(cards)\n",
    "print(cards)"
   ]
  },
  {
   "cell_type": "code",
   "execution_count": null,
   "metadata": {},
   "outputs": [],
   "source": [
    "# functions:  random,  choice, shuffle\n",
    "\n",
    "import random\n",
    "\n",
    "#values 0.0 > 1.0\n",
    "print(random.random())\n",
    "#can define the range including negative values\n",
    "print(random.uniform(-1,2))\n",
    "#where we can define a range of values and will show randomly\n",
    "print(random.randint(0,1000))\n",
    "\n",
    "#exercio heads or tails\n",
    "options=['heads','tails']\n",
    "print(random.choice(options))\n",
    "\n",
    "#using shuffle function will allow to change the order of the values within a list\n",
    "cards=['card1','card2','card3']\n",
    "random.shuffle(cards)\n",
    "\n",
    "print(cards)"
   ]
  },
  {
   "cell_type": "markdown",
   "metadata": {},
   "source": [
    "### EX 1 with random"
   ]
  },
  {
   "cell_type": "code",
   "execution_count": null,
   "metadata": {},
   "outputs": [],
   "source": [
    "import random\n",
    "'''\n",
    "1. define all variables needded(lower_case,  upper_case, symbols)\n",
    "2. create a var that concatenate the 3 variables\n",
    "3. create a extrat variable to define de length of password\n",
    "4. creare variable password (\"\".join(random.sample(use_for,length_for_pass)))\n",
    "\n",
    "'''\n",
    "\n",
    "lower_case = 'abcdefghijklmnopqrstuvwxyz'\n",
    "upper_case = 'ABCDEFGHIJKLMNOPQRSTUVWXYZ'\n",
    "numbers = '0123456789'\n",
    "symbols = '!\"#$%&/()=?'\n",
    "use_for=lower_case+upper_case+numbers+symbols\n",
    "length_for_pass = 20\n",
    "\n",
    "\n",
    "password=\"\".join(random.sample(use_for,length_for_pass))\n",
    "\n",
    "print(password)\n"
   ]
  },
  {
   "cell_type": "markdown",
   "metadata": {},
   "source": [
    "### Deque"
   ]
  },
  {
   "cell_type": "code",
   "execution_count": null,
   "metadata": {},
   "outputs": [],
   "source": [
    "from collections import deque\n",
    "queue = deque([\"luis\",\"eduardo\"])\n",
    "print(queue)\n",
    "queue.append(\"allen\")\n",
    "#in this case popleft will remove first index value forma the list\n",
    "queue.popleft()\n",
    "print(queue)"
   ]
  },
  {
   "cell_type": "code",
   "execution_count": null,
   "metadata": {},
   "outputs": [],
   "source": [
    "person = {\"name\": \"luis\",  \"age\": \"26\"}\n",
    "\n",
    "# thre is also one other way to validate if a value existe within a dict without getting a error\n",
    "# if the value doesn't exist then nothing will show up and if the value exist i will geta result\n",
    "person.get(\"santos\")\n",
    "person.get(\"name\")"
   ]
  }
 ],
 "metadata": {
  "kernelspec": {
   "display_name": "Python 3.10.2 64-bit",
   "language": "python",
   "name": "python3"
  },
  "language_info": {
   "codemirror_mode": {
    "name": "ipython",
    "version": 3
   },
   "file_extension": ".py",
   "mimetype": "text/x-python",
   "name": "python",
   "nbconvert_exporter": "python",
   "pygments_lexer": "ipython3",
   "version": "3.10.2"
  },
  "orig_nbformat": 4,
  "vscode": {
   "interpreter": {
    "hash": "fbe58ca63fe33f9eeae9e71d10368d2b4a57f2b1b395836210cc60d362c66949"
   }
  }
 },
 "nbformat": 4,
 "nbformat_minor": 2
}
