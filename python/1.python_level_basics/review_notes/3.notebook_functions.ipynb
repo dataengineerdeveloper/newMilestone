{
 "cells": [
  {
   "cell_type": "markdown",
   "metadata": {},
   "source": [
    "# Functions / methods used in string\n",
    "\n",
    "* TO sum up:\n",
    "    * list -  vamos ver []\n",
    "    * tuple -  bvamos ver ()\n",
    "    * dictionaries - vamos ver {}\n",
    "\n",
    "* functions\n",
    "    * append\n",
    "    * insert\n",
    "    * extend\n",
    "    * pop\n",
    "    * reverse\n",
    "    * remove\n",
    "    * sort"
   ]
  },
  {
   "cell_type": "markdown",
   "metadata": {},
   "source": [
    "### append"
   ]
  },
  {
   "cell_type": "code",
   "execution_count": 2,
   "metadata": {},
   "outputs": [
    {
     "name": "stdout",
     "output_type": "stream",
     "text": [
      "['mat', 'port', 'ingles', 'Bio']\n"
     ]
    }
   ],
   "source": [
    "courses = ['mat','port','ingles']\n",
    "\n",
    "courses.append('Bio')\n",
    "print(courses)"
   ]
  },
  {
   "cell_type": "markdown",
   "metadata": {},
   "source": [
    "### insert"
   ]
  },
  {
   "cell_type": "code",
   "execution_count": 4,
   "metadata": {},
   "outputs": [
    {
     "name": "stdout",
     "output_type": "stream",
     "text": [
      "['music', 'mat', 'port', 'ingles']\n"
     ]
    }
   ],
   "source": [
    "courses = ['mat','port','ingles']\n",
    "\n",
    "# we can add a new values plus  indicate the index where i want to inser the value\n",
    "courses.insert(0,'music')\n",
    "print(courses)"
   ]
  },
  {
   "cell_type": "markdown",
   "metadata": {},
   "source": [
    "### extend"
   ]
  },
  {
   "cell_type": "code",
   "execution_count": 5,
   "metadata": {},
   "outputs": [
    {
     "name": "stdout",
     "output_type": "stream",
     "text": [
      "['mat', 'port', 'ingles', 'compscience', 'calculus']\n"
     ]
    }
   ],
   "source": [
    "courses = ['mat','port','ingles']\n",
    "#can join value from a variable to other / combine on list to other\n",
    "courses_2 = ['compscience','calculus']\n",
    "courses.extend(courses_2)\n",
    "print(courses)"
   ]
  },
  {
   "cell_type": "markdown",
   "metadata": {},
   "source": [
    "### Remove"
   ]
  },
  {
   "cell_type": "code",
   "execution_count": 6,
   "metadata": {},
   "outputs": [
    {
     "name": "stdout",
     "output_type": "stream",
     "text": [
      "['port', 'ingles']\n"
     ]
    }
   ],
   "source": [
    "courses = ['mat','port','ingles']\n",
    "courses.remove('mat')\n",
    "print(courses)\n"
   ]
  },
  {
   "cell_type": "markdown",
   "metadata": {},
   "source": [
    "### POP"
   ]
  },
  {
   "cell_type": "code",
   "execution_count": 8,
   "metadata": {},
   "outputs": [
    {
     "name": "stdout",
     "output_type": "stream",
     "text": [
      "['mat', 'port']\n"
     ]
    }
   ],
   "source": [
    "courses = ['mat','port','ingles']\n",
    "popped =  courses.pop()\n",
    "print(courses)"
   ]
  },
  {
   "cell_type": "markdown",
   "metadata": {},
   "source": [
    "### Reverse"
   ]
  },
  {
   "cell_type": "code",
   "execution_count": 9,
   "metadata": {},
   "outputs": [
    {
     "name": "stdout",
     "output_type": "stream",
     "text": [
      "['ingles', 'port', 'mat']\n"
     ]
    }
   ],
   "source": [
    "courses = ['mat','port','ingles']\n",
    "\n",
    "courses.reverse()\n",
    "print(courses)"
   ]
  },
  {
   "cell_type": "markdown",
   "metadata": {},
   "source": [
    "### Sort"
   ]
  },
  {
   "cell_type": "code",
   "execution_count": 16,
   "metadata": {},
   "outputs": [
    {
     "name": "stdout",
     "output_type": "stream",
     "text": [
      "[2, 4, 5, 7, 8, 8, 9, 78]\n",
      "[2, 4, 5, 7, 8, 8, 9, 78]\n"
     ]
    }
   ],
   "source": [
    "\n",
    "courses = ['mat','port','ingles']\n",
    "num = [2,5,8,8,9,4,7,78]\n",
    "#courses.sort() # organiza por ordem alfabetica / in this case reverse True/ false,  posso indicar se vai fazer o ascendente o descendente\n",
    "num.sort(reverse=True) # / num.sort(reverse=False)\n",
    "\n",
    "print(num)\n",
    "print(num)"
   ]
  },
  {
   "cell_type": "markdown",
   "metadata": {},
   "source": [
    "### Max / min / avg / sorted"
   ]
  },
  {
   "cell_type": "code",
   "execution_count": 18,
   "metadata": {},
   "outputs": [
    {
     "name": "stdout",
     "output_type": "stream",
     "text": [
      "78\n",
      "1\n",
      "158\n",
      "[1, 5, 5, 6, 7, 56, 78]\n"
     ]
    }
   ],
   "source": [
    "values = [1,56,78,5,6,7,5]\n",
    "\n",
    "print(max(values))\n",
    "print(min(values))\n",
    "print(sum(values))\n",
    "print(sorted(values))"
   ]
  },
  {
   "cell_type": "code",
   "execution_count": 31,
   "metadata": {},
   "outputs": [
    {
     "name": "stdout",
     "output_type": "stream",
     "text": [
      "<class 'int'>\n",
      "<class 'float'>\n",
      "3\n",
      "4\n",
      "3.75\n"
     ]
    }
   ],
   "source": [
    "number =  3\n",
    "number2 = 3.14\n",
    "\n",
    "# type is used normally to know what is the datatype\n",
    "print(type(number)) \n",
    "print(type(number2))\n",
    "\n",
    "# ARITHEMETIC OPERATORS\n",
    "\n",
    "# floor division  3 // 2\n",
    "# exponent        3 **2\n",
    "# Modulus         3 % 2\n",
    "\n",
    "# BUILT IN FUNCTIONS\n",
    "# some built in function that work with number are\n",
    "\n",
    "print(abs(-3))\n",
    "print(round(3.75))\n",
    "# i can indicate the number of decimal values\n",
    "print(round(3.75,2))\n"
   ]
  },
  {
   "cell_type": "code",
   "execution_count": 32,
   "metadata": {},
   "outputs": [
    {
     "name": "stdout",
     "output_type": "stream",
     "text": [
      "30\n"
     ]
    }
   ],
   "source": [
    "# using this variables witll occur the concatenation between num_1 and num_2\n",
    "num_1 = '10'\n",
    "num_2 = '20'\n",
    "\n",
    "# if we need to sum this 2 varaibles we have to convert to int to perform sum,  otherwise i will get an error\n",
    "num_1 = int('10')\n",
    "num_2 = int('20')\n",
    "\n",
    "\n",
    "print( num_1 + num_2)"
   ]
  },
  {
   "cell_type": "code",
   "execution_count": 35,
   "metadata": {},
   "outputs": [
    {
     "name": "stdout",
     "output_type": "stream",
     "text": [
      "15\n",
      "5\n",
      "50\n",
      "100000\n",
      "2.0\n",
      "2\n",
      "1\n"
     ]
    }
   ],
   "source": [
    "\n",
    "\n",
    "\n",
    "#aritemetic:  + - / : * % **   << este sao alguns dos sibolos aritemeticos que vamos encontrar\n",
    "\n",
    "add= 10+5\n",
    "print(add)  ##>> 15\n",
    "\n",
    "sub= 10-5\n",
    "print(sub)  ## >>5\n",
    "\n",
    "mult=10*5 \n",
    "print(mult) ## >> 50\n",
    "\n",
    "expo=10**5 \n",
    "print(expo) ## >> 50\n",
    "\n",
    "div=10/5\n",
    "print(div)  ## >> 2.0\n",
    "\n",
    "floordiv= 10//5\n",
    "print(floordiv)   ## >> 0 quantas vezes é que 5 cabe dentro de 10 ,  a resposta é 2,  ou seja nao existe remanescente,  ou seja o output de modulus = 0\n",
    "\n",
    "mod= 10%3\n",
    "print(mod)   ## >>é 3*3=9 , contudo neste caso remanescente é 1, este é  o output de modulus = 1\n",
    "\n"
   ]
  },
  {
   "cell_type": "markdown",
   "metadata": {},
   "source": [
    "### validate if a value in a list exist"
   ]
  },
  {
   "cell_type": "code",
   "execution_count": 20,
   "metadata": {},
   "outputs": [
    {
     "name": "stdout",
     "output_type": "stream",
     "text": [
      "True\n",
      "mat\n",
      "port\n",
      "ingles\n"
     ]
    }
   ],
   "source": [
    "courses = ['mat','port','ingles']\n",
    "print('mat'in courses)\n",
    "\n"
   ]
  },
  {
   "cell_type": "markdown",
   "metadata": {},
   "source": [
    "### join"
   ]
  },
  {
   "cell_type": "code",
   "execution_count": 22,
   "metadata": {},
   "outputs": [
    {
     "name": "stdout",
     "output_type": "stream",
     "text": [
      "mat - port - ingles\n",
      "['Art', 'port', 'ingles']\n"
     ]
    }
   ],
   "source": [
    "courses = ['mat','port','ingles']\n",
    "\n",
    "course_str = ' - '.join(courses)\n",
    "print(course_str)\n",
    "\n",
    "\n",
    "\n"
   ]
  },
  {
   "cell_type": "markdown",
   "metadata": {},
   "source": [
    "### * Index"
   ]
  },
  {
   "cell_type": "code",
   "execution_count": 23,
   "metadata": {},
   "outputs": [
    {
     "name": "stdout",
     "output_type": "stream",
     "text": [
      "['Art', 'port', 'ingles']\n",
      "['y', 'b', 'c', 'd']\n",
      "['y', 'b', 'c', 'd']\n"
     ]
    }
   ],
   "source": [
    "# define a new value to a index\n",
    "\n",
    "courses[0] = 'Art'\n",
    "print(courses)\n",
    "\n",
    "#MUTAVEL - este exemplo mostra que esta lista é mutavel.  ouse ja tudo que seja alterado ma list_1 vai ser alterado tb na lsit_2\n",
    "\n",
    "list_1 = ['a','b','c','d']\n",
    "list_2 = list_1\n",
    "\n",
    "# vaos alterar o index 0 por y\n",
    "list_1[0] = 'y'\n",
    "\n",
    "print(list_1)\n",
    "print(list_2)\n"
   ]
  },
  {
   "cell_type": "markdown",
   "metadata": {},
   "source": [
    "### Set / interception / Union / difference"
   ]
  },
  {
   "cell_type": "code",
   "execution_count": 28,
   "metadata": {},
   "outputs": [
    {
     "name": "stdout",
     "output_type": "stream",
     "text": [
      "{'a', 'c', 'd', 'b'}\n",
      "{'t', 'a', 'd', 'b'}\n",
      "{'a', 'd', 'b'}\n",
      "['a', 'b', 'c', 'd', 't']\n",
      "{'c'}\n"
     ]
    }
   ],
   "source": [
    "#set remove all duplicates that exists in a list, but doesn't order the values\n",
    "\n",
    "SET_1 = {'a','b','c','d','a'}\n",
    "SET_2 =  {'a','b','d','a','t'}\n",
    "\n",
    "# SET\n",
    "print(set(SET_1))\n",
    "print(set(SET_2))\n",
    "\n",
    "#INTERSECTION\n",
    "sets_join= SET_1.intersection(SET_2)\n",
    "print(sets_join)\n",
    "\n",
    "#  UNION\n",
    "sets_join= SET_1.union(SET_2)\n",
    "print(sorted(sets_join))\n",
    "\n",
    "print(SET_1.difference(SET_2))\n",
    "\n"
   ]
  }
 ],
 "metadata": {
  "kernelspec": {
   "display_name": "Python 3.10.2 64-bit",
   "language": "python",
   "name": "python3"
  },
  "language_info": {
   "codemirror_mode": {
    "name": "ipython",
    "version": 3
   },
   "file_extension": ".py",
   "mimetype": "text/x-python",
   "name": "python",
   "nbconvert_exporter": "python",
   "pygments_lexer": "ipython3",
   "version": "3.10.2"
  },
  "orig_nbformat": 4,
  "vscode": {
   "interpreter": {
    "hash": "fbe58ca63fe33f9eeae9e71d10368d2b4a57f2b1b395836210cc60d362c66949"
   }
  }
 },
 "nbformat": 4,
 "nbformat_minor": 2
}
