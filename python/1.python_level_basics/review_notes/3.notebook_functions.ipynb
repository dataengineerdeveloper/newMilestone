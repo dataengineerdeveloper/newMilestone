{
 "cells": [
  {
   "cell_type": "markdown",
   "metadata": {},
   "source": [
    "# Functions / methods used in string\n",
    "\n",
    "* TO sum up:\n",
    "    * list -  vamos ver []\n",
    "    * tuple -  bvamos ver ()\n",
    "    * dictionaries - vamos ver {}\n",
    "\n",
    "* functions\n",
    "    * append\n",
    "    * insert\n",
    "    * extend\n",
    "    * pop\n",
    "    * reverse\n",
    "    * remove\n",
    "    * sort"
   ]
  },
  {
   "cell_type": "markdown",
   "metadata": {},
   "source": [
    "### append"
   ]
  },
  {
   "cell_type": "code",
   "execution_count": 2,
   "metadata": {},
   "outputs": [
    {
     "name": "stdout",
     "output_type": "stream",
     "text": [
      "['mat', 'port', 'ingles', 'Bio']\n"
     ]
    }
   ],
   "source": [
    "courses = ['mat','port','ingles']\n",
    "\n",
    "courses.append('Bio')\n",
    "print(courses)"
   ]
  },
  {
   "cell_type": "markdown",
   "metadata": {},
   "source": [
    "### insert"
   ]
  },
  {
   "cell_type": "code",
   "execution_count": 4,
   "metadata": {},
   "outputs": [
    {
     "name": "stdout",
     "output_type": "stream",
     "text": [
      "['music', 'mat', 'port', 'ingles']\n"
     ]
    }
   ],
   "source": [
    "courses = ['mat','port','ingles']\n",
    "\n",
    "# we can add a new values plus  indicate the index where i want to inser the value\n",
    "courses.insert(0,'music')\n",
    "print(courses)"
   ]
  },
  {
   "cell_type": "markdown",
   "metadata": {},
   "source": [
    "### extend"
   ]
  },
  {
   "cell_type": "code",
   "execution_count": 5,
   "metadata": {},
   "outputs": [
    {
     "name": "stdout",
     "output_type": "stream",
     "text": [
      "['mat', 'port', 'ingles', 'compscience', 'calculus']\n"
     ]
    }
   ],
   "source": [
    "courses = ['mat','port','ingles']\n",
    "#can join value from a variable to other / combine on list to other\n",
    "courses_2 = ['compscience','calculus']\n",
    "courses.extend(courses_2)\n",
    "print(courses)"
   ]
  },
  {
   "cell_type": "markdown",
   "metadata": {},
   "source": [
    "### Remove"
   ]
  },
  {
   "cell_type": "code",
   "execution_count": 6,
   "metadata": {},
   "outputs": [
    {
     "name": "stdout",
     "output_type": "stream",
     "text": [
      "['port', 'ingles']\n"
     ]
    }
   ],
   "source": [
    "courses = ['mat','port','ingles']\n",
    "courses.remove('mat')\n",
    "print(courses)\n"
   ]
  },
  {
   "cell_type": "markdown",
   "metadata": {},
   "source": [
    "### POP"
   ]
  },
  {
   "cell_type": "code",
   "execution_count": 8,
   "metadata": {},
   "outputs": [
    {
     "name": "stdout",
     "output_type": "stream",
     "text": [
      "['mat', 'port']\n"
     ]
    }
   ],
   "source": [
    "courses = ['mat','port','ingles']\n",
    "popped =  courses.pop()\n",
    "print(courses)"
   ]
  },
  {
   "cell_type": "markdown",
   "metadata": {},
   "source": [
    "### Reverse"
   ]
  },
  {
   "cell_type": "code",
   "execution_count": 9,
   "metadata": {},
   "outputs": [
    {
     "name": "stdout",
     "output_type": "stream",
     "text": [
      "['ingles', 'port', 'mat']\n"
     ]
    }
   ],
   "source": [
    "courses = ['mat','port','ingles']\n",
    "\n",
    "courses.reverse()\n",
    "print(courses)"
   ]
  },
  {
   "cell_type": "markdown",
   "metadata": {},
   "source": [
    "### Sort"
   ]
  },
  {
   "cell_type": "code",
   "execution_count": 16,
   "metadata": {},
   "outputs": [
    {
     "name": "stdout",
     "output_type": "stream",
     "text": [
      "[2, 4, 5, 7, 8, 8, 9, 78]\n",
      "[2, 4, 5, 7, 8, 8, 9, 78]\n"
     ]
    }
   ],
   "source": [
    "\n",
    "courses = ['mat','port','ingles']\n",
    "num = [2,5,8,8,9,4,7,78]\n",
    "#courses.sort() # organiza por ordem alfabetica / in this case reverse True/ false,  posso indicar se vai fazer o ascendente o descendente\n",
    "num.sort(reverse=True) # / num.sort(reverse=False)\n",
    "\n",
    "print(num)\n",
    "print(num)"
   ]
  },
  {
   "cell_type": "code",
   "execution_count": null,
   "metadata": {},
   "outputs": [],
   "source": [
    "\n",
    "\n",
    "\n",
    "\n",
    "print(courses)\n",
    "print(num)\n",
    "print(max(num))\n",
    "print(sum(num))\n",
    "print(courses.index('ingles'))\n",
    "\n",
    "\n",
    "#Quando precisamos de confirmar um valor para vermos se esse valor é true ou false\n",
    "print('mat'in courses)\n",
    "#>>>input result: True\n",
    "\n",
    "\n",
    "# criamos um for loop para que o nosso codigo va inumerando elemento dentro da lista\n",
    "\n",
    "for item in courses:\n",
    "    print(item)\n",
    "\n",
    "\n",
    "# enumerator -  supondo que preciso que para alem da lista de elementos dentro da lista quero que seja apresentada o index\n",
    "\n",
    "#for index, course in enumerate(courses):\n",
    " #   print(index, course)\n",
    "\n",
    "#supondo que queremos começar a iteração num index especifico\n",
    "\n",
    "for index, course in enumerate(courses, start=0):\n",
    "    print(index, course)\n",
    "\n",
    "\n",
    "course_str = ' - '.join(courses)\n",
    "print(course_str)\n",
    "\n",
    "\n",
    "\n",
    "\n",
    "courses[0] = 'Art'\n",
    "print(courses)\n",
    "\n",
    "\n",
    "\n",
    "#MUTAVEL - este exemplo mostra que esta lista é mutavel.  ouse ja tudo que seja alterado ma list_1 vai ser alterado tb na lsit_2\n",
    "\n",
    "list_1 = ['a','b','c','d']\n",
    "list_2 = list_1\n",
    "\n",
    "# vaos alterar o index 0 por y\n",
    "list_1[0] = 'y'\n",
    "\n",
    "print(list_1)\n",
    "print(list_2)\n",
    "\n",
    "\n",
    "#TUPLES\n",
    "\n",
    "''' IMUTAVEL -  aqui é a  grande diferencia entre usar um dicionario/lista ou um tuple. se corrermos o que este codigo vai bater,\n",
    "porque no caso dos tuples nao conseguimos fazer alteraçoes, tal comonas lista\n",
    "'''\n",
    "\n",
    "tuple_1=('a','b','c','d')\n",
    "tuple_2 = tuple_1\n",
    "\n",
    "\n",
    "print(tuple_1)\n",
    "print(tuple_2)\n",
    "\n",
    "#tuple_1[0] = 'y'\n",
    "\n",
    "print(tuple_1)\n",
    "print(tuple_2)\n",
    "\n",
    "\n",
    "\n",
    "# SETS\n",
    "\n",
    "#um dos usas dos set, é que os duplicados sao removidos +  a ordem num set não importa, até, porque se corrermos várias vezes nunca vamos ter a mesma ordemw\n",
    "\n",
    "SET_1 = {'a','b','c','d','a'}\n",
    "SET_2 =  {'a','b','d','a','t'}\n",
    "print(SET_1)\n",
    "#vai dar false, porque nao está a no set\n",
    "print('t' in SET_1)\n",
    "#valida se existem valores iguais\n",
    "print(SET_1.intersection(SET_2))\n",
    "\n",
    "\n",
    "#difference > apresenta todas as diferenças qu existem entre um set e o outro\n",
    "print(SET_1.difference(SET_2))\n",
    "\n",
    "\n",
    "\n",
    "#union\n",
    "print(SET_1.union(SET_2))\n",
    "\n",
    "\n",
    "#empty lists\n",
    "\n",
    "empty_list = []\n",
    "empty_list = list()"
   ]
  }
 ],
 "metadata": {
  "kernelspec": {
   "display_name": "Python 3.10.2 64-bit",
   "language": "python",
   "name": "python3"
  },
  "language_info": {
   "codemirror_mode": {
    "name": "ipython",
    "version": 3
   },
   "file_extension": ".py",
   "mimetype": "text/x-python",
   "name": "python",
   "nbconvert_exporter": "python",
   "pygments_lexer": "ipython3",
   "version": "3.10.2"
  },
  "orig_nbformat": 4,
  "vscode": {
   "interpreter": {
    "hash": "fbe58ca63fe33f9eeae9e71d10368d2b4a57f2b1b395836210cc60d362c66949"
   }
  }
 },
 "nbformat": 4,
 "nbformat_minor": 2
}
