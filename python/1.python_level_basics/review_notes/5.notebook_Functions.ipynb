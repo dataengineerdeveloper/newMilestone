{
 "cells": [
  {
   "cell_type": "markdown",
   "metadata": {},
   "source": [
    "3.  functions"
   ]
  },
  {
   "cell_type": "markdown",
   "metadata": {},
   "source": [
    "### retrun statement =  functions send python values/ objects back to the caller. These values/ objects are known as the functions retunr value\n",
    "\n",
    "* function = a block of code which is executed only when it is called"
   ]
  },
  {
   "cell_type": "code",
   "execution_count": 2,
   "metadata": {},
   "outputs": [
    {
     "name": "stdout",
     "output_type": "stream",
     "text": [
      "hello bro code \n",
      "you are 21 years old\n",
      "have a nice day!\n"
     ]
    }
   ],
   "source": [
    "# if i need to create a function but still don't know what to do just use pass\n",
    "\n",
    "\n",
    "# what we can see within () we call parameters\n",
    "def hello (first_name,  last_name,  age):\n",
    "    print(f\"hello {first_name} {last_name} \")\n",
    "    print(\"you are \" +str(age)+\" years old\")\n",
    "    print(\"have a nice day!\")\n",
    "\n",
    "# everything within this caller are arguments\n",
    "hello(\"bro\", \"code\",21)"
   ]
  },
  {
   "cell_type": "markdown",
   "metadata": {},
   "source": [
    "### Return  > functions send python values / objects back to the caller. these values / objects are know as the function return value"
   ]
  },
  {
   "cell_type": "code",
   "execution_count": 1,
   "metadata": {},
   "outputs": [
    {
     "name": "stdout",
     "output_type": "stream",
     "text": [
      "4\n"
     ]
    }
   ],
   "source": [
    "def multi (number1,number2):\n",
    "    return  number1* number2\n",
    "    \n",
    "x =  multi(2,2)\n",
    "print(x)"
   ]
  },
  {
   "cell_type": "markdown",
   "metadata": {},
   "source": [
    "### KEYWORD ARGUMENTS > arguments preceded by an identitfier when we pass them to a function. the order of the arguments doesn't matter,  unlike positional arguments pthin knows the name of the arguments thar our functions receives\n"
   ]
  },
  {
   "cell_type": "code",
   "execution_count": 4,
   "metadata": {},
   "outputs": [
    {
     "name": "stdout",
     "output_type": "stream",
     "text": [
      "hello luis eduardo nogueira\n"
     ]
    }
   ],
   "source": [
    "def hello (first, mid, last)->str:\n",
    "    print (\"hello \"+first+\" \"+mid+\" \"+last)\n",
    "\n",
    "#if i use this identitifiers won't get any problem to change the order once i used the identtifiers\n",
    "hello(mid='eduardo',first='luis',last='nogueira')\n",
    "\n"
   ]
  },
  {
   "cell_type": "markdown",
   "metadata": {},
   "source": [
    "#nested functions calls >  functions call inside other function call innermost function call are resolved first return value is used as argument for the next outer function."
   ]
  },
  {
   "cell_type": "code",
   "execution_count": 5,
   "metadata": {},
   "outputs": [
    {
     "name": "stdout",
     "output_type": "stream",
     "text": [
      "456\n"
     ]
    }
   ],
   "source": [
    "#num = input(\"entr whole positive number: \")\n",
    "#num = float(num)\n",
    "#num = abs(num)\n",
    "#num = round(num)\n",
    "#print(num)\n",
    "#>>> -3.14  output will be 3\n",
    "print(round(abs(float(input(\"enter a whole positive numer: \")))))"
   ]
  },
  {
   "cell_type": "markdown",
   "metadata": {},
   "source": [
    "### varaible scope\n",
    "* the region that a variable is recognized. A varianle is only available from inside the region it is created. A global an locally scoped version of variable can be created\n"
   ]
  },
  {
   "cell_type": "code",
   "execution_count": null,
   "metadata": {},
   "outputs": [],
   "source": [
    "def disply_name():\n",
    "    name =\"code\" # local scope (available only inside this function)\n",
    "    print(name)\n"
   ]
  },
  {
   "cell_type": "code",
   "execution_count": 4,
   "metadata": {},
   "outputs": [
    {
     "name": "stdout",
     "output_type": "stream",
     "text": [
      "code\n",
      "Bro..\n"
     ]
    }
   ],
   "source": [
    "name = \"Bro..\" # global scope (available inside and ouside function)\n",
    "\n",
    "def display_name():\n",
    "    name =\"code\"\n",
    "    print(name)\n",
    "display_name() # run first locally then global\n",
    "print(name)\n"
   ]
  },
  {
   "cell_type": "markdown",
   "metadata": {},
   "source": [
    "### *Args parameter\n",
    "\n",
    "* paremeter that will pack all arguments into a tuple useful so that a function can accept a varying amount of arguments"
   ]
  },
  {
   "cell_type": "code",
   "execution_count": 6,
   "metadata": {},
   "outputs": [
    {
     "ename": "TypeError",
     "evalue": "add() takes 2 positional arguments but 3 were given",
     "output_type": "error",
     "traceback": [
      "\u001b[1;31m---------------------------------------------------------------------------\u001b[0m",
      "\u001b[1;31mTypeError\u001b[0m                                 Traceback (most recent call last)",
      "\u001b[1;32mc:\\UserData\\z004hedj\\OneDrive - Siemens AG\\Ambiente de Trabalho\\GIT\\newMilestone\\newMilestone\\python\\1.python_level_basics\\review_notes\\5.notebook_Functions.ipynb Cell 14\u001b[0m in \u001b[0;36m<cell line: 4>\u001b[1;34m()\u001b[0m\n\u001b[0;32m      <a href='vscode-notebook-cell:/c%3A/UserData/z004hedj/OneDrive%20-%20Siemens%20AG/Ambiente%20de%20Trabalho/GIT/newMilestone/newMilestone/python/1.python_level_basics/review_notes/5.notebook_Functions.ipynb#X46sZmlsZQ%3D%3D?line=1'>2</a>\u001b[0m     \u001b[39msum\u001b[39m\u001b[39m=\u001b[39m num1\u001b[39m+\u001b[39mnum2\n\u001b[0;32m      <a href='vscode-notebook-cell:/c%3A/UserData/z004hedj/OneDrive%20-%20Siemens%20AG/Ambiente%20de%20Trabalho/GIT/newMilestone/newMilestone/python/1.python_level_basics/review_notes/5.notebook_Functions.ipynb#X46sZmlsZQ%3D%3D?line=2'>3</a>\u001b[0m     \u001b[39mreturn\u001b[39;00m\n\u001b[1;32m----> <a href='vscode-notebook-cell:/c%3A/UserData/z004hedj/OneDrive%20-%20Siemens%20AG/Ambiente%20de%20Trabalho/GIT/newMilestone/newMilestone/python/1.python_level_basics/review_notes/5.notebook_Functions.ipynb#X46sZmlsZQ%3D%3D?line=3'>4</a>\u001b[0m \u001b[39mprint\u001b[39m(add(\u001b[39m1\u001b[39;49m,\u001b[39m2\u001b[39;49m,\u001b[39m3\u001b[39;49m))\n",
      "\u001b[1;31mTypeError\u001b[0m: add() takes 2 positional arguments but 3 were given"
     ]
    }
   ],
   "source": [
    "def add (num1,num2):\n",
    "    sum= num1+num2\n",
    "    return\n",
    "# in this case if a pass a 3 parameters i will get an error,  becasue i only pass 2 parameters,  so the\n",
    "print(add(1,2,3))"
   ]
  },
  {
   "cell_type": "code",
   "execution_count": 8,
   "metadata": {},
   "outputs": [
    {
     "name": "stdout",
     "output_type": "stream",
     "text": [
      "7\n"
     ]
    }
   ],
   "source": [
    "# i can add multiple argumentos when i call the function,  because there is no limit of parameters once i'm using *args,  it can be any name once i'm using the * within ()\n",
    "def add (*args):\n",
    "    sum= 0\n",
    "    for i in args:\n",
    "        sum += i\n",
    "    return sum\n",
    "print(add(1,2,3,1))"
   ]
  },
  {
   "cell_type": "code",
   "execution_count": 10,
   "metadata": {},
   "outputs": [
    {
     "ename": "TypeError",
     "evalue": "'tuple' object does not support item assignment",
     "output_type": "error",
     "traceback": [
      "\u001b[1;31m---------------------------------------------------------------------------\u001b[0m",
      "\u001b[1;31mTypeError\u001b[0m                                 Traceback (most recent call last)",
      "\u001b[1;32mc:\\UserData\\z004hedj\\OneDrive - Siemens AG\\Ambiente de Trabalho\\GIT\\newMilestone\\newMilestone\\python\\1.python_level_basics\\review_notes\\5.notebook_Functions.ipynb Cell 16\u001b[0m in \u001b[0;36m<cell line: 8>\u001b[1;34m()\u001b[0m\n\u001b[0;32m      <a href='vscode-notebook-cell:/c%3A/UserData/z004hedj/OneDrive%20-%20Siemens%20AG/Ambiente%20de%20Trabalho/GIT/newMilestone/newMilestone/python/1.python_level_basics/review_notes/5.notebook_Functions.ipynb#X51sZmlsZQ%3D%3D?line=5'>6</a>\u001b[0m         \u001b[39msum\u001b[39m \u001b[39m+\u001b[39m\u001b[39m=\u001b[39m i\n\u001b[0;32m      <a href='vscode-notebook-cell:/c%3A/UserData/z004hedj/OneDrive%20-%20Siemens%20AG/Ambiente%20de%20Trabalho/GIT/newMilestone/newMilestone/python/1.python_level_basics/review_notes/5.notebook_Functions.ipynb#X51sZmlsZQ%3D%3D?line=6'>7</a>\u001b[0m     \u001b[39mreturn\u001b[39;00m \u001b[39msum\u001b[39m\n\u001b[1;32m----> <a href='vscode-notebook-cell:/c%3A/UserData/z004hedj/OneDrive%20-%20Siemens%20AG/Ambiente%20de%20Trabalho/GIT/newMilestone/newMilestone/python/1.python_level_basics/review_notes/5.notebook_Functions.ipynb#X51sZmlsZQ%3D%3D?line=7'>8</a>\u001b[0m \u001b[39mprint\u001b[39m(add(\u001b[39m1\u001b[39;49m,\u001b[39m2\u001b[39;49m,\u001b[39m3\u001b[39;49m,\u001b[39m1\u001b[39;49m))\n",
      "\u001b[1;32mc:\\UserData\\z004hedj\\OneDrive - Siemens AG\\Ambiente de Trabalho\\GIT\\newMilestone\\newMilestone\\python\\1.python_level_basics\\review_notes\\5.notebook_Functions.ipynb Cell 16\u001b[0m in \u001b[0;36madd\u001b[1;34m(*stuff)\u001b[0m\n\u001b[0;32m      <a href='vscode-notebook-cell:/c%3A/UserData/z004hedj/OneDrive%20-%20Siemens%20AG/Ambiente%20de%20Trabalho/GIT/newMilestone/newMilestone/python/1.python_level_basics/review_notes/5.notebook_Functions.ipynb#X51sZmlsZQ%3D%3D?line=1'>2</a>\u001b[0m \u001b[39msum\u001b[39m\u001b[39m=\u001b[39m \u001b[39m0\u001b[39m\n\u001b[0;32m      <a href='vscode-notebook-cell:/c%3A/UserData/z004hedj/OneDrive%20-%20Siemens%20AG/Ambiente%20de%20Trabalho/GIT/newMilestone/newMilestone/python/1.python_level_basics/review_notes/5.notebook_Functions.ipynb#X51sZmlsZQ%3D%3D?line=2'>3</a>\u001b[0m \u001b[39m# if i need to change any value >> the output will be : 'tuple' object does not support item assignment // the only way to change that is cast and make it as a list\u001b[39;00m\n\u001b[1;32m----> <a href='vscode-notebook-cell:/c%3A/UserData/z004hedj/OneDrive%20-%20Siemens%20AG/Ambiente%20de%20Trabalho/GIT/newMilestone/newMilestone/python/1.python_level_basics/review_notes/5.notebook_Functions.ipynb#X51sZmlsZQ%3D%3D?line=3'>4</a>\u001b[0m stuff[\u001b[39m0\u001b[39m]\u001b[39m=\u001b[39m\u001b[39m0\u001b[39m\n\u001b[0;32m      <a href='vscode-notebook-cell:/c%3A/UserData/z004hedj/OneDrive%20-%20Siemens%20AG/Ambiente%20de%20Trabalho/GIT/newMilestone/newMilestone/python/1.python_level_basics/review_notes/5.notebook_Functions.ipynb#X51sZmlsZQ%3D%3D?line=4'>5</a>\u001b[0m \u001b[39mfor\u001b[39;00m i \u001b[39min\u001b[39;00m stuff:\n\u001b[0;32m      <a href='vscode-notebook-cell:/c%3A/UserData/z004hedj/OneDrive%20-%20Siemens%20AG/Ambiente%20de%20Trabalho/GIT/newMilestone/newMilestone/python/1.python_level_basics/review_notes/5.notebook_Functions.ipynb#X51sZmlsZQ%3D%3D?line=5'>6</a>\u001b[0m     \u001b[39msum\u001b[39m \u001b[39m+\u001b[39m\u001b[39m=\u001b[39m i\n",
      "\u001b[1;31mTypeError\u001b[0m: 'tuple' object does not support item assignment"
     ]
    }
   ],
   "source": [
    "def add (*stuff):\n",
    "    sum= 0\n",
    "    # if i need to change any value >> the output will be : 'tuple' object does not support item assignment // the only way to change that is cast and make it as a list,  check next cell\n",
    "    stuff[0]=0\n",
    "    for i in stuff:\n",
    "        sum += i\n",
    "    return sum\n",
    "print(add(1,2,3,1))"
   ]
  },
  {
   "cell_type": "code",
   "execution_count": 14,
   "metadata": {},
   "outputs": [
    {
     "name": "stdout",
     "output_type": "stream",
     "text": [
      "35\n"
     ]
    }
   ],
   "source": [
    "def add (*stuff):\n",
    "    sum= 0\n",
    "    # cast a tuple into a list in order to make possible to add values\n",
    "    stuff= list(stuff)\n",
    "    stuff[0] = 0\n",
    "    for i in stuff:\n",
    "        sum +=i\n",
    "    return sum\n",
    "print(add(1,2,3,4,5,6,7,8))"
   ]
  },
  {
   "cell_type": "markdown",
   "metadata": {},
   "source": [
    "###  ** kwargs (keyword argument)\n",
    "\n",
    "* parameter that will pack all argumnets into a dictionary useful so that a function can accept a varying amount of keyword arguments"
   ]
  },
  {
   "cell_type": "code",
   "execution_count": 15,
   "metadata": {},
   "outputs": [
    {
     "ename": "TypeError",
     "evalue": "'first' is an invalid keyword argument for print()",
     "output_type": "error",
     "traceback": [
      "\u001b[1;31m---------------------------------------------------------------------------\u001b[0m",
      "\u001b[1;31mTypeError\u001b[0m                                 Traceback (most recent call last)",
      "\u001b[1;32mc:\\UserData\\z004hedj\\OneDrive - Siemens AG\\Ambiente de Trabalho\\GIT\\newMilestone\\newMilestone\\python\\1.python_level_basics\\review_notes\\5.notebook_Functions.ipynb Cell 19\u001b[0m in \u001b[0;36m<cell line: 3>\u001b[1;34m()\u001b[0m\n\u001b[0;32m      <a href='vscode-notebook-cell:/c%3A/UserData/z004hedj/OneDrive%20-%20Siemens%20AG/Ambiente%20de%20Trabalho/GIT/newMilestone/newMilestone/python/1.python_level_basics/review_notes/5.notebook_Functions.ipynb#X54sZmlsZQ%3D%3D?line=0'>1</a>\u001b[0m \u001b[39mdef\u001b[39;00m \u001b[39mhello\u001b[39m(first, last):\n\u001b[0;32m      <a href='vscode-notebook-cell:/c%3A/UserData/z004hedj/OneDrive%20-%20Siemens%20AG/Ambiente%20de%20Trabalho/GIT/newMilestone/newMilestone/python/1.python_level_basics/review_notes/5.notebook_Functions.ipynb#X54sZmlsZQ%3D%3D?line=1'>2</a>\u001b[0m     \u001b[39mprint\u001b[39m(\u001b[39m\"\u001b[39m\u001b[39mhello\u001b[39m\u001b[39m\"\u001b[39m \u001b[39m+\u001b[39mfirst \u001b[39m+\u001b[39m \u001b[39m\"\u001b[39m\u001b[39m \u001b[39m\u001b[39m\"\u001b[39m\u001b[39m+\u001b[39m last)\n\u001b[1;32m----> <a href='vscode-notebook-cell:/c%3A/UserData/z004hedj/OneDrive%20-%20Siemens%20AG/Ambiente%20de%20Trabalho/GIT/newMilestone/newMilestone/python/1.python_level_basics/review_notes/5.notebook_Functions.ipynb#X54sZmlsZQ%3D%3D?line=2'>3</a>\u001b[0m \u001b[39mprint\u001b[39;49m(first \u001b[39m=\u001b[39;49m \u001b[39m\"\u001b[39;49m\u001b[39mBro\u001b[39;49m\u001b[39m\"\u001b[39;49m, middle \u001b[39m=\u001b[39;49m \u001b[39m\"\u001b[39;49m\u001b[39mDude\u001b[39;49m\u001b[39m\"\u001b[39;49m ,last \u001b[39m=\u001b[39;49m \u001b[39m\"\u001b[39;49m\u001b[39mCode\u001b[39;49m\u001b[39m\"\u001b[39;49m)\n",
      "\u001b[1;31mTypeError\u001b[0m: 'first' is an invalid keyword argument for print()"
     ]
    }
   ],
   "source": [
    "def hello(first, last):\n",
    "    print(\"hello\" +first + \" \"+ last)\n",
    "print(first = \"Bro\", middle = \"Dude\" ,last = \"Code\")"
   ]
  },
  {
   "cell_type": "code",
   "execution_count": 21,
   "metadata": {},
   "outputs": [
    {
     "name": "stdout",
     "output_type": "stream",
     "text": [
      "hello MR. Bro Dude Code "
     ]
    }
   ],
   "source": [
    "def hello(**kwargs):\n",
    "    #print(\"hello\" +kwargs['first'] + \" \"+ kwargs['last'])\n",
    "    print(\"hello\", end=\" \")\n",
    "    for key,  values in kwargs.items():\n",
    "        print(values,  end=\" \")\n",
    "hello(title = \" MR.\" , first = 'Bro', middle =\"Dude\",  lsat=\"Code\")"
   ]
  },
  {
   "cell_type": "code",
   "execution_count": 2,
   "metadata": {},
   "outputs": [
    {
     "name": "stdout",
     "output_type": "stream",
     "text": [
      "luis\n",
      "eduardo\n",
      "santos\n"
     ]
    }
   ],
   "source": [
    "def say_my_name():\n",
    "#no arguments add\n",
    "    print('luis')\n",
    "    print('eduardo')\n",
    "    print('santos')\n",
    "#include always this in order to call the function\n",
    "say_my_name()"
   ]
  },
  {
   "cell_type": "code",
   "execution_count": null,
   "metadata": {},
   "outputs": [],
   "source": [
    "#FUNCTIONS\n",
    "\n",
    "def hello_func():\n",
    "    return 'hello function'\n",
    "#print(hello_func())\n",
    "print(hello_func().upper())\n"
   ]
  },
  {
   "cell_type": "code",
   "execution_count": null,
   "metadata": {},
   "outputs": [],
   "source": [
    "def our_function(x,y,z):\n",
    "    return x + y + z\n",
    "our_function(x=1, y=2,z =3)"
   ]
  },
  {
   "cell_type": "code",
   "execution_count": null,
   "metadata": {},
   "outputs": [],
   "source": [
    "the_list=range(1,5)\n",
    "\n",
    "for i in the_list:\n",
    "    print(\"this input is \",i)\n",
    "    i +=1\n",
    "    print(\"this output is \",i)\n",
    "print(\"loop has ended\")"
   ]
  },
  {
   "cell_type": "code",
   "execution_count": null,
   "metadata": {},
   "outputs": [],
   "source": [
    "def unique(languages):\n",
    "    return list(set(languages))\n",
    "unique=lambda languages: list(set(languages))\n",
    "print(unique(['ruby','ruby','python']))"
   ]
  },
  {
   "cell_type": "code",
   "execution_count": null,
   "metadata": {},
   "outputs": [],
   "source": [
    "# like the previous code i can use a lambda do do exactly what i did before\n",
    "unique=lambda languages: list(set(languages))\n",
    "print(unique(['ruby','ruby','python']))"
   ]
  },
  {
   "cell_type": "markdown",
   "metadata": {},
   "source": [
    "in order to make a functions dynamic i have to define a argument within a function,  in this case it'll look like this \n",
    "def say_my_name(name)"
   ]
  },
  {
   "cell_type": "code",
   "execution_count": 1,
   "metadata": {},
   "outputs": [
    {
     "name": "stdout",
     "output_type": "stream",
     "text": [
      "HELLLO!!! LUIS\n"
     ]
    }
   ],
   "source": [
    "def say_my_name2(name):\n",
    "    print(name)\n",
    "    \n",
    "#say_my_name2('luis')\n",
    "\n",
    "#add a second function -- all the argumets that i'm going to add within the function have to add them when i call it.\n",
    "\n",
    "#multile arguments\n",
    "#in case that i dont provide any argument i can create a default one\n",
    "def gretting(name,greet='HELLLO!!!'):\n",
    "    print(f'{greet} {name}') \n",
    "    \n",
    "#no default argument needed\n",
    "#gretting('ola','luis edauadaro') ## but if i dont add any arguments i'm goinf to get the default argument\n",
    "gretting('LUIS')\n",
    "\n"
   ]
  },
  {
   "cell_type": "code",
   "execution_count": 3,
   "metadata": {},
   "outputs": [
    {
     "name": "stdout",
     "output_type": "stream",
     "text": [
      "HIlo luis\n"
     ]
    }
   ],
   "source": [
    "#named arguments\n",
    "'''\n",
    "if i use the same example as before, and i add on arguments Luis,  luis twice i dont know which one goes for greeting.  in this case i have to define in a argument call the value for \n",
    "\n",
    "\n",
    "'''\n",
    "def gretting(name,greet='HELLLO!!!'):\n",
    "    print(f'{greet} {name}') \n",
    "    \n",
    "#no default argument needed\n",
    "#gretting('ola','luis edauadaro') ## even i f i chenge the order of greeting, wahtas going to be the reference is the print\n",
    "gretting(name = 'luis', greet= 'HI')\n"
   ]
  },
  {
   "cell_type": "code",
   "execution_count": 5,
   "metadata": {},
   "outputs": [
    {
     "name": "stdout",
     "output_type": "stream",
     "text": [
      "3\n"
     ]
    }
   ],
   "source": [
    "#if a runa code with a print and only with return nothing will appear,  but instead if i add a print before the sum i will get some output\n",
    "def sum (a,b):\n",
    "    return a+b\n",
    "\n",
    "print(sum(1,2))\n"
   ]
  },
  {
   "cell_type": "code",
   "execution_count": 1,
   "metadata": {},
   "outputs": [
    {
     "name": "stdout",
     "output_type": "stream",
     "text": [
      "3\n"
     ]
    },
    {
     "data": {
      "text/plain": [
       "20"
      ]
     },
     "execution_count": 1,
     "metadata": {},
     "output_type": "execute_result"
    }
   ],
   "source": [
    "#if i have to access a function from other file,  for this example i create a function and i named the file test_to_function\n",
    "# we can find the file within unittest folder > test_to_function\n",
    "\n",
    "\n",
    "from Unit_tests.test_to_function import sum\n",
    "\n",
    "sum(10,10)         "
   ]
  },
  {
   "cell_type": "code",
   "execution_count": null,
   "metadata": {},
   "outputs": [],
   "source": [
    "food_amount= float(input('enter food amount: '))\n",
    "tip_percentage = float(input('enter percentage: '))\n",
    "tip_amount = food_amount * tip_percentage"
   ]
  },
  {
   "cell_type": "code",
   "execution_count": 20,
   "metadata": {},
   "outputs": [
    {
     "data": {
      "text/plain": [
       "110.0"
      ]
     },
     "execution_count": 20,
     "metadata": {},
     "output_type": "execute_result"
    }
   ],
   "source": [
    "# previous cell we a couple of variables and the goal is convert into a function\n",
    "\n",
    "\n",
    "def calculatefoodTotal(food: float, tip_percentage:int)-> float:\n",
    "    tip =  food * (tip_percentage / 100)\n",
    "    total=  food + tip\n",
    "    return total\n",
    "    \n",
    "calculatefoodTotal(100, 10)"
   ]
  },
  {
   "cell_type": "code",
   "execution_count": 25,
   "metadata": {},
   "outputs": [
    {
     "name": "stdout",
     "output_type": "stream",
     "text": [
      "bring your sunglass\n"
     ]
    }
   ],
   "source": [
    "#type hint > that is something that can be good for other people that see our code\n",
    "'''\n",
    "neste caso uma pessoa que veja o nosso codigo nao sabe se precisamos de inserir aolgum input,como tal podemos colcoar isso no argument.  \n",
    "Especificamos o datatype) ->None indicando desta forma que se nao colocarmos nada vamos ter um resultado de None.\n",
    "\n",
    "'''\n",
    "\n",
    "def weather_validation(weather: str)->None:\n",
    "    if weather == 'sun':\n",
    "        print('bring your sunglass')\n",
    "    elif weather == 'cloudy':\n",
    "        print('bring a hoody')\n",
    "    elif weather == 'rain':\n",
    "        print('bring your unbrella')\n",
    "    else:\n",
    "        print('insert one of 3 options')\n",
    "\n",
    "weather_validation(\"sun\")"
   ]
  },
  {
   "cell_type": "code",
   "execution_count": 26,
   "metadata": {},
   "outputs": [],
   "source": [
    "# where i can add the exact datatype in each argument and what i'm expecting from each one in return\n",
    "def sum (a: int,  b:int)-> int:\n",
    "    return a+b"
   ]
  },
  {
   "cell_type": "code",
   "execution_count": 27,
   "metadata": {},
   "outputs": [
    {
     "name": "stdout",
     "output_type": "stream",
     "text": [
      "5\n"
     ]
    }
   ],
   "source": [
    "def bigger_guy(a: int,b:int)-> int:\n",
    "    if a > b:\n",
    "        return a\n",
    "    else:\n",
    "        return b\n",
    "print(bigger_guy(1,5))"
   ]
  },
  {
   "cell_type": "code",
   "execution_count": 14,
   "metadata": {},
   "outputs": [
    {
     "name": "stdout",
     "output_type": "stream",
     "text": [
      "ola fulanao prazer em conhecerr-te\n",
      "Hello luis pleasure to meet you!\n"
     ]
    }
   ],
   "source": [
    "text_ola =  \"ola fulanao prazer em conhecerr-te\"\n",
    "\n",
    "\n",
    "def ola_mundo(nome)->str:\n",
    "    #it will return a srg \n",
    "    global text_ola\n",
    "    print(text_ola)\n",
    "    text=f\"Hello {nome} pleasure to meet you!\"\n",
    "    print(text)\n",
    "#pass argumento referente a funcçao\n",
    "ola_mundo('luis')"
   ]
  },
  {
   "cell_type": "markdown",
   "metadata": {},
   "source": [
    "# function variables\n",
    "\n",
    "#local variabel:  stay within a function\n",
    "\n",
    "# golbal vairables\n",
    "\n",
    "#############################################################################\n",
    "\n",
    "default arguments > é basicamente quando passarmos um argumento,  de forma a que este seja apresentado por defeito,  sempre que nao seja passa pelo user um dos arugumentos, e se um deles tiver por default, o valor que ja se vai apresentar é o valor que temos de apresentar         "
   ]
  },
  {
   "cell_type": "markdown",
   "metadata": {},
   "source": [
    "### 1.  lambda function > anonymous function\n",
    "\n",
    "* simple structure:  lambda arg1,  arg2: expression"
   ]
  },
  {
   "cell_type": "code",
   "execution_count": null,
   "metadata": {},
   "outputs": [],
   "source": [
    "# example\n",
    "\n",
    "def sum(a,b):\n",
    "    return a+b\n",
    "\n",
    "# --- lambda example1\n",
    "\n",
    "sum2 =  lambda a,b: a+b\n",
    "print(sum2(1,2))\n",
    "\n",
    "# --- lambda example2\n",
    "# in this case i'm using a format string as an expression\n",
    "greet = lambda greet,name: f\"{greet} {name}\"\n",
    "print(greet('hello','master'))"
   ]
  }
 ],
 "metadata": {
  "kernelspec": {
   "display_name": "Python 3.10.2 64-bit",
   "language": "python",
   "name": "python3"
  },
  "language_info": {
   "codemirror_mode": {
    "name": "ipython",
    "version": 3
   },
   "file_extension": ".py",
   "mimetype": "text/x-python",
   "name": "python",
   "nbconvert_exporter": "python",
   "pygments_lexer": "ipython3",
   "version": "3.10.2"
  },
  "orig_nbformat": 4,
  "vscode": {
   "interpreter": {
    "hash": "fbe58ca63fe33f9eeae9e71d10368d2b4a57f2b1b395836210cc60d362c66949"
   }
  }
 },
 "nbformat": 4,
 "nbformat_minor": 2
}
