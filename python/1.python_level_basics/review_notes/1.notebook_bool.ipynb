{
 "cells": [
  {
   "cell_type": "code",
   "execution_count": null,
   "metadata": {},
   "outputs": [],
   "source": [
    "class myclass():\n",
    "  def __len__(self):\n",
    "    return 0\n",
    "\n",
    "myobj = myclass()\n",
    "print(bool(myobj))\n",
    "\n",
    "print(10 > 10)\n",
    "print(10 < 10)\n",
    "print(10 == 10)\n",
    "print(18 > 5)\n",
    "\n",
    "'''\n",
    "basicmanete vamos validar qual a letra em que termina a letra, caso termine o resultado pode ser entre false or true\n",
    "'''\n",
    "print('julia'.endswith('s'))\n",
    "print('julia'.endswith('a'))\n",
    "\n",
    "'''\n",
    "podemos ainda colocar numa variavel true or false,  contudo o resultado que temos na expressoes a cima sao sempre boolean'''\n",
    "\n",
    "\n",
    "is_adult = True\n",
    "is_teen = False"
   ]
  },
  {
   "cell_type": "code",
   "execution_count": null,
   "metadata": {},
   "outputs": [],
   "source": [
    "idade=int(input('insira a sua idade'))\n",
    "pode = idade >= 18\n",
    "NaoPode = idade <18\n",
    "\n",
    "print(pode)\n",
    "\n",
    "'''\n",
    "se tentar fzer o seguinte \n",
    "\n",
    "true == 1  >>>> resultado é True,  porque o 1 representa true\n",
    "false == 0 >>>> enquanto que o False, é representado por 0\n",
    "\n",
    "outra notas importantes\n",
    "\n",
    "a função de Bool()\n",
    "\n",
    "é usada quando queremso indicar que um valor bool(256), tem de ter sempre um valor, para ser false o pior tem de entar o seguinte:\n",
    "    none, False, [],{},(),'', \"\", 0,0.0 <<< tudo isto o pytho considera como sendo vazios, ou seja null,  todos estes sao False\n",
    "  \n",
    "\n",
    "'''"
   ]
  }
 ],
 "metadata": {
  "kernelspec": {
   "display_name": "Python 3.10.2 64-bit",
   "language": "python",
   "name": "python3"
  },
  "language_info": {
   "name": "python",
   "version": "3.10.2"
  },
  "orig_nbformat": 4,
  "vscode": {
   "interpreter": {
    "hash": "fbe58ca63fe33f9eeae9e71d10368d2b4a57f2b1b395836210cc60d362c66949"
   }
  }
 },
 "nbformat": 4,
 "nbformat_minor": 2
}
