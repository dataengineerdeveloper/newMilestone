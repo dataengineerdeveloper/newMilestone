{
 "cells": [
  {
   "cell_type": "markdown",
   "metadata": {},
   "source": [
    "# if then"
   ]
  },
  {
   "cell_type": "code",
   "execution_count": 2,
   "metadata": {},
   "outputs": [
    {
     "name": "stdout",
     "output_type": "stream",
     "text": [
      "x is less than y\n"
     ]
    }
   ],
   "source": [
    "x = 3\n",
    "y = 5\n",
    "\n",
    "if x == y:\n",
    "    print(\"x is equals y\")\n",
    "elif x>y:\n",
    "    print(\"x is greater than y\")\n",
    "else:\n",
    "    print(\"x is less than y\")"
   ]
  },
  {
   "cell_type": "code",
   "execution_count": 3,
   "metadata": {},
   "outputs": [
    {
     "name": "stdout",
     "output_type": "stream",
     "text": [
      "the temperature isn't ok\n"
     ]
    }
   ],
   "source": [
    "# temperatura validator\n",
    "\n",
    "\n",
    "temp = int(input(\"how's the temprature outsite?: \").title())\n",
    "\n",
    "if temp >= 0 and temp <=30:\n",
    "    print(\"the tempeture is ok\")\n",
    "elif temp <=0 or temp >=30:\n",
    "    print(\"the temperature isn't ok\")\n",
    "else:\n",
    "    print(\"we didn't find any match\")"
   ]
  },
  {
   "cell_type": "code",
   "execution_count": 6,
   "metadata": {},
   "outputs": [
    {
     "name": "stdout",
     "output_type": "stream",
     "text": [
      "the temperature isn't ok\n",
      " stay at home!\n"
     ]
    }
   ],
   "source": [
    "temp = int(input(\"how's the temprature outsite?: \").title())\n",
    "\n",
    "# if i need to make the logic as false on use if not\n",
    "if not(temp >= 0 and temp <=30):\n",
    "    print(\"the temperature isn't ok\")\n",
    "    print(\"stay at home!\")\n",
    "elif  not (temp <=0 or temp >=30):\n",
    "    print(\"the tempeture is ok\")\n",
    "    print(\"go outside!\")\n",
    "else:\n",
    "    print(\"we didn't find any match\")"
   ]
  },
  {
   "cell_type": "code",
   "execution_count": null,
   "metadata": {},
   "outputs": [],
   "source": [
    "''''\n",
    "atraves fdo if statement conseguimos controlar o flow do nosso programa\n",
    "\n",
    "'''\n",
    "is_adult = True\n",
    "is_teen = False\n",
    "age=17\n",
    "\n",
    "if is_adult:\n",
    "        print(\"is_adult\")\n",
    "\n",
    "if age >=18:\n",
    "    print('adult')\n",
    "else:\n",
    "    print('not adult')\n",
    "\n"
   ]
  },
  {
   "cell_type": "code",
   "execution_count": null,
   "metadata": {},
   "outputs": [],
   "source": [
    "#exerc even or odd\n",
    "num = 5\n",
    "if num % 2 ==0:\n",
    "    print('even')\n",
    "else:\n",
    "    print('odd')"
   ]
  },
  {
   "cell_type": "code",
   "execution_count": null,
   "metadata": {},
   "outputs": [],
   "source": [
    "idade=int(input('insira a sua idade: '))\n",
    "resp= idade >= 18\n",
    "\n",
    "\n",
    "if resp == True:\n",
    "    print('pode entrar, prabens')\n",
    "if resp == False:\n",
    "    print('não pode')\n",
    "if idade  >= 18:\n",
    "    print('Tu es vip') "
   ]
  },
  {
   "cell_type": "markdown",
   "metadata": {},
   "source": [
    "### using within if : And / or / not"
   ]
  },
  {
   "cell_type": "code",
   "execution_count": 1,
   "metadata": {},
   "outputs": [
    {
     "name": "stdout",
     "output_type": "stream",
     "text": [
      "admin page\n",
      "admin page\n",
      "please login\n"
     ]
    }
   ],
   "source": [
    "#AND\n",
    "user =  'admin'\n",
    "#esta variavel vai servir para validar o se o sujeito pode aceder á pagina,  se a variavel tiver a false,  vais dar 'wrong access'\n",
    "logged_in = True\n",
    "\n",
    "if user == 'admin' and logged_in:\n",
    "    print('admin page')\n",
    "else:\n",
    "    print('wrong access')\n",
    "\n",
    "\n",
    "#OR\n",
    "user =  'admin'\n",
    "#esta variavel vai servir para validar o se o sujeito pode aceder á pagina,  se a variavel tiver a false,  vais dar 'wrong access'\n",
    "logged_in = False\n",
    "# se usar o OR vai satisfazer pelo menos uma das condições\n",
    "if user == 'admin' or logged_in:\n",
    "    print('admin page')\n",
    "else:\n",
    "    print('wrong access')\n",
    "\n",
    "\n",
    "# aqui pode ser um bocado confuso, mas vamos ver da seguinte forma,  IF NOT False\n",
    "user = 'admin'\n",
    "logged_in = False\n",
    "if not logged_in:\n",
    "    print('please login')\n",
    "else:\n",
    "    print('welcome')"
   ]
  },
  {
   "cell_type": "markdown",
   "metadata": {},
   "source": [
    "### chained contiditions"
   ]
  },
  {
   "cell_type": "code",
   "execution_count": null,
   "metadata": {},
   "outputs": [],
   "source": [
    "print('----- chained contiditions -----')\n",
    "\n",
    "if x == 2:\n",
    "    if y == 3:\n",
    "        print('x = 2,  y =3 ')\n",
    "    else: \n",
    "        print('x = 2,  y !=3')\n",
    "else:\n",
    "     print('x != 2')   "
   ]
  },
  {
   "cell_type": "markdown",
   "metadata": {},
   "source": [
    "### Ex1"
   ]
  },
  {
   "cell_type": "code",
   "execution_count": null,
   "metadata": {},
   "outputs": [],
   "source": [
    "\n",
    "'''\n",
    "podesmos fzer mias do que uma compraçao contudo, basta uma das comparaçoes ser false, ele apresenta como falso\n",
    "\n",
    "x=1<2<3\n",
    "print(x) >> true\n",
    "\n",
    "\n",
    "x=(3==3)<5\n",
    "print(x) >> true\n",
    "\n",
    "'''\n",
    "nota1 = float(input(\"Digite a primeira nota: \"))\n",
    "nota2 = float(input(\"Digite a segunda nota: \"))\n",
    "\n",
    "if ((nota1+nota2)/2) == 10:\n",
    "    print(\"Aprovado com Distinção\")\n",
    "elif ((nota1+nota2)/2) < 7:\n",
    "    print(\"Reprovado\")\n",
    "else:\n",
    "    print(\"Aprovado\")\n",
    "    \n"
   ]
  },
  {
   "cell_type": "markdown",
   "metadata": {},
   "source": [
    "### Ex 2"
   ]
  },
  {
   "cell_type": "code",
   "execution_count": null,
   "metadata": {},
   "outputs": [],
   "source": [
    "\"\"\"\n",
    "Devo de fazer um programa que apresente2 numeros, e que o numero que seja apresentado seja sempre o maior\n",
    "\"\"\"\n",
    "num1 =  int(input('coloque o seu 1ºvalor: '))\n",
    "num2 =  int(input('coloque o seu 2ºvalor: '))\n",
    "\n",
    "\n",
    "if num1 >= num2:\n",
    "    print()\n",
    "else:\n",
    "    print(num2)\n"
   ]
  },
  {
   "cell_type": "markdown",
   "metadata": {},
   "source": [
    "### Ex 3"
   ]
  },
  {
   "cell_type": "code",
   "execution_count": null,
   "metadata": {},
   "outputs": [],
   "source": [
    "\"\"\"\n",
    "criar um programa pra indicar os litros tinta que sejam necessários para pintar uma parede.\n",
    "\"\"\"\n",
    "\n",
    "area = int(input(' Qual o numero da area a ser pintada: '))\n",
    "\n",
    "litros = area //3\n",
    "if area % 3 > 0:\n",
    "    litros = litros + 1\n",
    "    \n",
    "latas = litros // 18\n",
    "if litros % 18 > 0:\n",
    "    latas = latas + 1\n",
    "print('tu vais precisar de', latas, 'latas')\n",
    "print('e o valor é de ', latas, *80)\n",
    "\n",
    "# print(litros)\n",
    "# print(latas)\n",
    "# print(latas*18)"
   ]
  },
  {
   "cell_type": "markdown",
   "metadata": {},
   "source": [
    "### Ex 4"
   ]
  },
  {
   "cell_type": "code",
   "execution_count": null,
   "metadata": {},
   "outputs": [],
   "source": [
    "'''\n",
    "Pra este exercio que é pretendido é que se coloque um valor, pode ser negativo ou positivo e o nosso program term validar se o valor é negativo ou positivo\n",
    "'''\n",
    "\n",
    "a = float(input('insira o valor:'))\n",
    "\n",
    "def number_check(a):\n",
    "    if a > 0:\n",
    "        print('valor positivo')\n",
    "    elif a < 0:\n",
    "        print('valor é negativo')\n",
    "    else:\n",
    "         print('valor não não conhecido')\n",
    "\n",
    "    number_check(a)\n"
   ]
  },
  {
   "cell_type": "markdown",
   "metadata": {},
   "source": [
    "### Ex 5"
   ]
  },
  {
   "cell_type": "code",
   "execution_count": 2,
   "metadata": {},
   "outputs": [
    {
     "name": "stdout",
     "output_type": "stream",
     "text": [
      "30 valor é par\n"
     ]
    }
   ],
   "source": [
    "'''\n",
    "Odd and Even numbers:\n",
    "\n",
    "If you divide a number by 2 and it gives a remainder of 0 then it is known as even number, otherwise an odd number.\n",
    "\n",
    "Even number examples: 2, 4, 6, 8, 10, etc.\n",
    "\n",
    "Odd number examples:1, 3, 5, 7, 9 etc.\n",
    "\n",
    "See this example:\n",
    "\n",
    "'''\n",
    "\n",
    "def check_value(num):\n",
    "\n",
    "    if (num % 2) == 0:\n",
    "        print('{0} valor é par'.format(num))\n",
    "    else:\n",
    "        print('{0} valor é inteiro'.format(num))\n",
    "\n",
    "num= int(input('digite o seu valor:'))\n",
    "check_value(num)"
   ]
  },
  {
   "cell_type": "markdown",
   "metadata": {},
   "source": [
    "### Ex 6"
   ]
  },
  {
   "cell_type": "code",
   "execution_count": null,
   "metadata": {},
   "outputs": [],
   "source": [
    "\n",
    "'''\n",
    "Leap Year:\n",
    "\n",
    "A year is called a leap year if it contains an additional day which makes the number of the days in that year is 366. This additional day is added in February which makes it 29 days long.\n",
    "\n",
    "A leap year occurred once every 4 years.\n",
    "\n",
    "How to determine if a year is a leap year?\n",
    "\n",
    "You should follow the following steps to determine whether a year is a leap year or not.\n",
    "\n",
    "If a year is evenly divisible by 4 means having no remainder then go to next step. If it is not divisible by 4. It is not a leap year. For example: 1997 is not a leap year.\n",
    "If a year is divisible by 4, but not by 100. For example: 2012, it is a leap year. If a year is divisible by both 4 and 100, go to next step.\n",
    "If a year is divisible by 100, but not by 400. For example: 1900, then it is not a leap year. If a year is divisible by both, then it is a leap year. So 2000 is a leap year.\n",
    "Look at the following program to understand the implementation of it:\n",
    "'''\n",
    "#  default function para implementar o check leap year\n",
    "def leapyear_check(year):\n",
    "        if((year % 400 == 0) or\n",
    "          (year % 100 !=0) and\n",
    "          (year % 4 == 0)):\n",
    "          print('O ano inserido é um leap year')\n",
    "        else:\n",
    "            print('O ano inserido não é um leap year')\n",
    "# inserir o valor de input\n",
    "year = int(input('insira o seu ano:'))\n",
    "# print resultdo\n",
    "leapyear_check(year)\n",
    "        \n"
   ]
  },
  {
   "cell_type": "markdown",
   "metadata": {},
   "source": [
    "### Ex 7"
   ]
  },
  {
   "cell_type": "code",
   "execution_count": null,
   "metadata": {},
   "outputs": [],
   "source": [
    "'''\n",
    "Prime numbers:\n",
    "\n",
    "If the natural number is greater than 1 and having no positive divisors other than 1 and the number itself etc.\n",
    "\n",
    "For example: 3, 7, 11 etc are prime numbers.\n",
    "\n",
    "Composite number:\n",
    "\n",
    "Other natural numbers that are not prime numbers are called composite numbers.\n",
    "\n",
    "For example: 4, 6, 9 etc. are composite numbers.\n",
    "\n",
    "Let us look at the following example to understand the implementation.\n",
    "\n",
    "\n",
    "Funcões e logicas utilizdas:\n",
    "    - nested if else condition\n",
    "Logica:\n",
    "    1.  primeiro temos de validar se o numero é maior do que 1 ou nao;\n",
    "    2.  se o valor nao for maior do que um vai logo para o else;\n",
    "    3. o valor que vai para o loop,  se for um valor completamente divisivel por 'i' então o valor nao é primo, caso contrario é.\n",
    "\n",
    "'''\n",
    "\n",
    "def prime_number(a):\n",
    "    if a > 1:\n",
    "        for b in range(2,int(a/2)+1):\n",
    "            if(a % b)==0:\n",
    "                print(a, 'não um valor primo')\n",
    "                break\n",
    "            else:\n",
    "                print(a, 'é um vlor primo')\n",
    "a = int(input('insere o valor: ')) \n",
    "\n",
    "prime_number(a)\n"
   ]
  },
  {
   "cell_type": "markdown",
   "metadata": {},
   "source": [
    "### weather app\n",
    "\n",
    "* 1. create a app where you insert the 1 of 3 options available then the app must advice you what you have to bring according with weather state"
   ]
  },
  {
   "cell_type": "code",
   "execution_count": null,
   "metadata": {},
   "outputs": [],
   "source": [
    "weather_prediction =  str(input(\"how's the weather? sun/rain/cloudy: \"))\n",
    "\n",
    "if weather_prediction == 'sun':\n",
    "    print('bring your sunglass')\n",
    "elif weather_prediction == 'cloudy':\n",
    "    print('bring a hoody')\n",
    "elif weather_prediction == 'rain':\n",
    "    print('bring your unbrella')\n",
    "else:\n",
    "    print('insert one of 3 options')\n"
   ]
  },
  {
   "cell_type": "markdown",
   "metadata": {},
   "source": [
    "### Ex 8"
   ]
  },
  {
   "cell_type": "code",
   "execution_count": null,
   "metadata": {},
   "outputs": [],
   "source": [
    "import random\n",
    "\n",
    "while True:\n",
    "    player=input('choose between(rock, papper,scissor): ')\n",
    "    options =['rock','paper','scissor']\n",
    "    computer = random.choice(options)\n",
    "    \n",
    "    print(f'you  choose {player}, and the compuer choose {computer}')\n",
    "    \n",
    "    if player == computer:\n",
    "        print('tied...')\n",
    "    \n",
    "    elif player =='rock':\n",
    "        if computer == 'scissor':\n",
    "            print('you win')\n",
    "    \n",
    "        else:\n",
    "            print('you loose')\n",
    "        \n",
    "    elif player == 'paper':\n",
    "        if computer =='rock':\n",
    "            print('you win')\n",
    "    \n",
    "        else:\n",
    "            print('you loose')\n",
    "    \n",
    "    elif player == 'scissor':\n",
    "        if computer =='rock':\n",
    "            print('you win')\n",
    "            \n",
    "        else:\n",
    "            print('you loose')\n",
    "            \n",
    "    continue"
   ]
  },
  {
   "cell_type": "markdown",
   "metadata": {},
   "source": [
    "### ATM exercise"
   ]
  },
  {
   "cell_type": "code",
   "execution_count": null,
   "metadata": {},
   "outputs": [],
   "source": [
    "'''\n",
    "Execise\n",
    "\n",
    "simulate a ATM \n",
    "user must insert the value that he needs do withdral and after that the user will know thw amount \n",
    "of billing he's going to receive.  there's only available 1, 5, 10, 50, 100 dollars.\n",
    "\n",
    "minumun value 10 dollars and maximun value 600 dollars\n",
    "\n",
    "test 1:  withdral 256 (2*100 // 50 // 5 // 1)\n",
    "test 2:  withdral 399 (3*100 // 50 // 4*5 // 4*1)\n",
    "\n",
    "'''\n",
    "\n",
    "ATM_Value = int(input('How much money you need?: '))\n",
    "\n",
    "if 10 <= ATM_Value <=600:\n",
    "    billing_100 = ATM_Value // 100\n",
    "    ATM_Value = ATM_Value % 100\n",
    "\n",
    "    billing_50 = ATM_Value // 50\n",
    "    ATM_Value = ATM_Value % 50\n",
    "\n",
    "    billing_10 = ATM_Value // 10\n",
    "    ATM_Value = ATM_Value % 10\n",
    "\n",
    "    billing_5 = ATM_Value // 5\n",
    "    ATM_Value = ATM_Value % 5\n",
    "    \n",
    "    billing_1 = ATM_Value // 1\n",
    "\n",
    "# difference between elif vs if in the previous exercise i use elif because the variables were related throught the conditional,  however when i used if it is beacusa all variabels are different to valiadate\n",
    "\n",
    "    if billing_100 > 0:\n",
    "        print(billing_100,'bill of 100 dollar')\n",
    "    if billing_50 > 0:\n",
    "        print(billing_50,'bill of 50 dollar')\n",
    "    if billing_10 > 0:\n",
    "        print(billing_10,'bill of 10 dollar')\n",
    "    if billing_5 > 0:\n",
    "        print(billing_5,'bill of 5 dollar')\n",
    "    if billing_1 > 0:\n",
    "        print(billing_1,'bill of 1 dollar')\n",
    "else:\n",
    "        print('there''s no money')\n",
    "\n",
    "\n",
    "\n"
   ]
  },
  {
   "cell_type": "markdown",
   "metadata": {},
   "source": []
  }
 ],
 "metadata": {
  "kernelspec": {
   "display_name": "Python 3.10.2 64-bit",
   "language": "python",
   "name": "python3"
  },
  "language_info": {
   "codemirror_mode": {
    "name": "ipython",
    "version": 3
   },
   "file_extension": ".py",
   "mimetype": "text/x-python",
   "name": "python",
   "nbconvert_exporter": "python",
   "pygments_lexer": "ipython3",
   "version": "3.10.2"
  },
  "orig_nbformat": 4,
  "vscode": {
   "interpreter": {
    "hash": "fbe58ca63fe33f9eeae9e71d10368d2b4a57f2b1b395836210cc60d362c66949"
   }
  }
 },
 "nbformat": 4,
 "nbformat_minor": 2
}
