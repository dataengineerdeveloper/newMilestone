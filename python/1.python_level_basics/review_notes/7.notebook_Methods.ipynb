{
 "cells": [
  {
   "cell_type": "code",
   "execution_count": null,
   "metadata": {},
   "outputs": [],
   "source": [
    "#using methods\n",
    "\n",
    "class my_calc:\n",
    "    #class constructor/initializer (nethod with a special name)\n",
    "    def __init__(self,num1, num2) -> None:\n",
    "        #object attributes/variables\n",
    "        self.num1 = num1\n",
    "        self.num2 = num2\n",
    "\n",
    "    # methods\n",
    "    def total(self):\n",
    "        return self.num1 + self.num2\n",
    "\n",
    "    def diff(self):\n",
    "        return self.num1 - self.num2\n",
    "\n",
    "def main(): \n",
    "    print('hello from the main() method!')\n",
    "    #valores a entrarem a class\n",
    "    calc1 = my_calc(10,20)\n",
    "    #nome da variavel anterior.total dos metodos dentro da class neste caso,  total e diff\n",
    "    total1 = calc1.total()\n",
    "    diff1 = calc1.diff()\n",
    "    print('total: ',total1)\n",
    "    print('diff1: ',diff1)\n",
    "\n",
    "    print('------------------')\n",
    "    #calculo numero 2\n",
    "    calc2 = my_calc(5,25)\n",
    "    total2 = calc2.total()\n",
    "    diff2 = calc2.diff()\n",
    "    print('total: ',total2)\n",
    "    print('diff1: ',diff2)\n",
    "\n",
    "if __name__ == '__main__':\n",
    "    main()"
   ]
  }
 ],
 "metadata": {
  "kernelspec": {
   "display_name": "Python 3.10.2 64-bit",
   "language": "python",
   "name": "python3"
  },
  "language_info": {
   "name": "python",
   "version": "3.10.2"
  },
  "orig_nbformat": 4,
  "vscode": {
   "interpreter": {
    "hash": "fbe58ca63fe33f9eeae9e71d10368d2b4a57f2b1b395836210cc60d362c66949"
   }
  }
 },
 "nbformat": 4,
 "nbformat_minor": 2
}
