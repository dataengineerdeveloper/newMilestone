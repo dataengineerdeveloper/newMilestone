{
 "cells": [
  {
   "cell_type": "markdown",
   "metadata": {},
   "source": [
    "# index oprator [] > gives access to a sequence's element(str,list,  tuples)"
   ]
  },
  {
   "cell_type": "code",
   "execution_count": 1,
   "metadata": {},
   "outputs": [
    {
     "name": "stdout",
     "output_type": "stream",
     "text": [
      "Bro code!\n"
     ]
    }
   ],
   "source": [
    "name = \"bro code!\"\n",
    "# i'm going to validte if a variable is a lower case if so i'm going to reasign name to become capitalize\n",
    "if(name[0].islower()):\n",
    "    name = name.capitalize()\n",
    "print(name)"
   ]
  },
  {
   "cell_type": "code",
   "execution_count": 3,
   "metadata": {},
   "outputs": [
    {
     "name": "stdout",
     "output_type": "stream",
     "text": [
      "BRO\n"
     ]
    }
   ],
   "source": [
    "#lookk for the word on index 0 na retrieve 3 letters from thr word then make the word upper case\n",
    "first_name=name[0:3].upper()\n",
    "#if the index start with 0 i can remove the 0\n",
    "first_name=name[:3].upper()\n",
    "print(first_name)"
   ]
  },
  {
   "cell_type": "code",
   "execution_count": 6,
   "metadata": {},
   "outputs": [
    {
     "name": "stdout",
     "output_type": "stream",
     "text": [
      "CODE!\n",
      "!\n"
     ]
    }
   ],
   "source": [
    "\n",
    "last_name = name[4:].upper()\n",
    "last_character = name[-1]\n",
    "print(last_name)\n",
    "print(last_character)"
   ]
  }
 ],
 "metadata": {
  "kernelspec": {
   "display_name": "Python 3.10.2 64-bit",
   "language": "python",
   "name": "python3"
  },
  "language_info": {
   "codemirror_mode": {
    "name": "ipython",
    "version": 3
   },
   "file_extension": ".py",
   "mimetype": "text/x-python",
   "name": "python",
   "nbconvert_exporter": "python",
   "pygments_lexer": "ipython3",
   "version": "3.10.2"
  },
  "orig_nbformat": 4,
  "vscode": {
   "interpreter": {
    "hash": "fbe58ca63fe33f9eeae9e71d10368d2b4a57f2b1b395836210cc60d362c66949"
   }
  }
 },
 "nbformat": 4,
 "nbformat_minor": 2
}
