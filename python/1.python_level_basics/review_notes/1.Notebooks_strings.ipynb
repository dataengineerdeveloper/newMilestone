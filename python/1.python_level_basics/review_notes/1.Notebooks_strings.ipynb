{
 "cells": [
  {
   "cell_type": "code",
   "execution_count": 2,
   "metadata": {},
   "outputs": [
    {
     "name": "stdout",
     "output_type": "stream",
     "text": [
      "Luis NOGUEIRA\n",
      "5\n",
      "8\n",
      "False\n"
     ]
    }
   ],
   "source": [
    "\n",
    "##aqui vamos colocar algus exemplos daquilo que é trablhar com strings\n",
    "##conceitos como concatename variaveis // len()  // upper. // lower.  // capitalize.\n",
    " \n",
    "##\n",
    "first_name='luis '\n",
    "last_name ='nogueira'\n",
    "\n",
    "full_name = first_name.capitalize()+last_name.upper()\n",
    "print(full_name)  \n",
    "print(len(first_name))\n",
    "print(len(last_name))\n",
    "##aqui vamos usar o endswith,  para validar se o que vem no fim full_name é 'hello', o output é False\n",
    "print(full_name.endswith('hello'))"
   ]
  },
  {
   "cell_type": "code",
   "execution_count": null,
   "metadata": {},
   "outputs": [],
   "source": [
    "#using the input i can also use a calculation based on the variables inserted by the requester\n",
    "\n",
    "num1= int(input('insert numbe 1: '))\n",
    "num2 = int(input('insert numbe 2: '))\n",
    "\n",
    "print('your final value is',num1+num2)"
   ]
  },
  {
   "cell_type": "code",
   "execution_count": null,
   "metadata": {},
   "outputs": [],
   "source": [
    "# first Variables\n",
    "\n",
    "#conver string input into a integer\n",
    "your_name = str(input(\"please insert your name: \"))\n",
    "print('HI', your_name)\n",
    "\n",
    "#convert a string input to array\n",
    "#v = list(input(\"enter a int\"))\n",
    "#print(v)\n",
    "\n",
    "# we can also create 2 variables and 2 values within\n",
    "height,weight = 175, 89\n",
    "print(height,'/',weight)\n"
   ]
  },
  {
   "cell_type": "code",
   "execution_count": null,
   "metadata": {},
   "outputs": [],
   "source": [
    " # using count to check number of letter in n\n",
    "n = 'hello world'\n",
    " # >> COUNT >> number of characters appear in variable\n",
    "print(n.count('l'))\n",
    " # FIND >> tells us where is located the word\n",
    "print(n.find('world')) \n",
    " # to get a negative one , we can simulate a word that doesn't existe in variable\n",
    "print(n.find('Universe'))   \n",
    "\n",
    " # REPLACE > WE CAN USE A SECONDS VARIABLE TO PERFORM THE REPLACE\n",
    "n_new =  n.replace('world','universe')\n",
    "print(n_new)\n",
    "\n",
    "\n",
    "gretting = 'hello'\n",
    "name = 'luis'\n",
    " #1 options\n",
    " # message = gretting + ',' + name + ' .Welcome!'\n",
    " # 2options >> e indicate the correct format for our string variable\n",
    " # message = '{},  {}. Welcome!'.format(gretting,name)\n",
    " #3options\n",
    "message = f'{gretting},  {name}. Welcome!'\n",
    "\n",
    "print(message) \n",
    "\n",
    "\n",
    "\n",
    "\n",
    " # imagine that we need to see all functions available for a particular variable,  it'll list all functions and if we don't know how does it work\n",
    "print(help(str))\n",
    "help(print)\n",
    "\n",
    "print(help(str.join))\n"
   ]
  },
  {
   "cell_type": "code",
   "execution_count": null,
   "metadata": {},
   "outputs": [],
   "source": [
    "# first Variables\n",
    "\n",
    "#conver string input into a integer\n",
    "your_name = str(input(\"please insert your name: \"))\n",
    "print('HI', your_name)\n",
    "\n",
    "#convert a string input to array\n",
    "#v = list(input(\"enter a int\"))\n",
    "#print(v)\n",
    "\n",
    "# we can also create 2 variables and 2 values within\n",
    "height,weight = 175, 89\n",
    "print(height,'/',weight)\n"
   ]
  },
  {
   "cell_type": "markdown",
   "metadata": {},
   "source": [
    "### string formating"
   ]
  },
  {
   "cell_type": "code",
   "execution_count": null,
   "metadata": {},
   "outputs": [],
   "source": [
    "#variable and input > i can define more than a variable and at the same time use the input in order to make my user to define the values\n",
    "#define datatype\n",
    "#define de input in order to make the user to insert de values\n",
    "#in a print use format string in order to bring the values defined in the variables\n",
    "name, age,  year = str(input('insert your name')), int(input('insert your age')),  int(input('in each year you born'))\n",
    "print(f\"hello my name is {name},and i'm {age} and born on {year}\")"
   ]
  },
  {
   "cell_type": "markdown",
   "metadata": {},
   "source": [
    "### Ex 1\n",
    "\n",
    "* 1. create an app where you can insert total value of a diner and the the respective tip to the waiter.\n",
    "* 2. the output must display total value of food,  value from tip and total value food + tip"
   ]
  },
  {
   "cell_type": "code",
   "execution_count": null,
   "metadata": {},
   "outputs": [],
   "source": [
    "#exercise 1\n",
    "\n",
    "#create app that allow user to insert the value that we pay for a dinner and also the tip that we want to give\n",
    "'''\n",
    "1. two insert variable for value pay / tip amount in percentage\n",
    "2. calculate the monetary value in percentage gave in a tip percentage\n",
    "3. sum the total of value pay+tip amount\n",
    "\n",
    "5.  display that the values usinf format sring\n",
    "\n",
    "'''\n",
    "\n",
    "food_value=float(input(\"insert the value that you pay for the food: \"))\n",
    "#we can force a decimal value or we can define / 100 at the end to avoid issues in the calculation of the percentage\n",
    "percentage_tip=float(input(\"insert the tip value: \"))/100\n",
    "\n",
    "tip_amount= food_value*percentage_tip\n",
    "total_value = food_value+tip_amount\n",
    "print(\"Bill to Pay\")\n",
    "print(\"--------------------------------\")\n",
    "print(f\"value without tip: {food_value} €\")\n",
    "print(f\"tip percentage: {percentage_tip} %\")\n",
    "print(f\"tip amount: {tip_amount} €\")\n",
    "print('\\n')\n",
    "print(\"--------------------------------\")\n",
    "print(f\"total_vaue:{total_value} €\")\n"
   ]
  },
  {
   "cell_type": "code",
   "execution_count": 1,
   "metadata": {},
   "outputs": [
    {
     "name": "stdout",
     "output_type": "stream",
     "text": [
      "False\n",
      "False\n",
      "False\n",
      "True\n",
      "True\n",
      "False\n",
      "True\n"
     ]
    }
   ],
   "source": []
  }
 ],
 "metadata": {
  "kernelspec": {
   "display_name": "Python 3.10.2 64-bit",
   "language": "python",
   "name": "python3"
  },
  "language_info": {
   "codemirror_mode": {
    "name": "ipython",
    "version": 3
   },
   "file_extension": ".py",
   "mimetype": "text/x-python",
   "name": "python",
   "nbconvert_exporter": "python",
   "pygments_lexer": "ipython3",
   "version": "3.10.2"
  },
  "orig_nbformat": 4,
  "vscode": {
   "interpreter": {
    "hash": "fbe58ca63fe33f9eeae9e71d10368d2b4a57f2b1b395836210cc60d362c66949"
   }
  }
 },
 "nbformat": 4,
 "nbformat_minor": 2
}
