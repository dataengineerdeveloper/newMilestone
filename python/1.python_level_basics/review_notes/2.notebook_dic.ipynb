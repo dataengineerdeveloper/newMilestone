{
 "cells": [
  {
   "cell_type": "markdown",
   "metadata": {},
   "source": [
    "# Dictionaries"
   ]
  },
  {
   "cell_type": "code",
   "execution_count": 3,
   "metadata": {},
   "outputs": [
    {
     "name": "stdout",
     "output_type": "stream",
     "text": [
      "{'name': 'luis', 'age': 31, 'courses': ['math', 'compsci']}\n"
     ]
    }
   ],
   "source": [
    "###################\n",
    "##  Dictionaries ## \n",
    "###################\n",
    "\n",
    "# aqui vamos ver o coceito de key e de value, sendo que o key >> name:'john'<< value\n",
    "\n",
    "\n",
    "student = {'name':'luis','age':31,'courses': ['math','compsci'] }\n",
    "print(student)"
   ]
  },
  {
   "cell_type": "markdown",
   "metadata": {},
   "source": [
    "* Update values of a dictionary"
   ]
  },
  {
   "cell_type": "code",
   "execution_count": 6,
   "metadata": {},
   "outputs": [
    {
     "name": "stdout",
     "output_type": "stream",
     "text": [
      "{'name': 'santos', 'courses': ['math', 'compsci'], 'phone': '999-999', 'age': 85}\n"
     ]
    }
   ],
   "source": [
    "# update a  values within a dictionary, just use the function update after the variable\n",
    "student['phone'] = '555-6666'\n",
    "student['name'] = 'eduardo'\n",
    "\n",
    "# 2º forma de fzer um update\n",
    "\n",
    "#UPDATE\n",
    "student.update({'name':'santos','age':85,'phone': '999-999'})\n",
    "\n",
    "print(student)\n",
    "\n"
   ]
  },
  {
   "cell_type": "markdown",
   "metadata": {},
   "source": [
    "* found if a value exist within a dict"
   ]
  },
  {
   "cell_type": "code",
   "execution_count": 12,
   "metadata": {},
   "outputs": [
    {
     "name": "stdout",
     "output_type": "stream",
     "text": [
      "None\n"
     ]
    }
   ],
   "source": [
    "student = {'name':'luis','age':31,'courses': ['math','compsci'] }\n",
    "\n",
    "print(student.get('phone')) #>> output:  none"
   ]
  },
  {
   "cell_type": "markdown",
   "metadata": {},
   "source": [
    "* Delete a key within a dictionary"
   ]
  },
  {
   "cell_type": "code",
   "execution_count": 14,
   "metadata": {},
   "outputs": [
    {
     "name": "stdout",
     "output_type": "stream",
     "text": [
      "{'name': 'luis', 'courses': ['math', 'compsci']}\n"
     ]
    }
   ],
   "source": [
    "student = {'name':'luis','age':31,'courses': ['math','compsci'] }\n",
    "#DELETE\n",
    "del student['age']\n",
    "print(student)"
   ]
  },
  {
   "cell_type": "code",
   "execution_count": 16,
   "metadata": {},
   "outputs": [
    {
     "name": "stdout",
     "output_type": "stream",
     "text": [
      "{'name': 'luis', 'courses': ['math', 'compsci']}\n",
      "31\n"
     ]
    }
   ],
   "source": [
    "student = {'name':'luis','age':31,'courses': ['math','compsci'] }\n",
    "\n",
    "#POP\n",
    "#ao corrermos este print vamos ver o a key age vai ser removida do dictionary\n",
    "age = student.pop('age')\n",
    "print(student)\n",
    "print(age)\n",
    "\n",
    "\n",
    "\n",
    "\n"
   ]
  },
  {
   "cell_type": "markdown",
   "metadata": {},
   "source": [
    "* using len\n",
    "* in a dictionary we have\n",
    "    * keys\n",
    "    * values\n",
    "    * items that is what compound a dictionary"
   ]
  },
  {
   "cell_type": "code",
   "execution_count": 17,
   "metadata": {},
   "outputs": [
    {
     "name": "stdout",
     "output_type": "stream",
     "text": [
      "3\n",
      "dict_keys(['name', 'age', 'courses'])\n",
      "dict_values(['luis', 31, ['math', 'compsci']])\n",
      "dict_items([('name', 'luis'), ('age', 31), ('courses', ['math', 'compsci'])])\n"
     ]
    }
   ],
   "source": [
    "#LEN\n",
    "\n",
    "student = {'name':'luis','age':31,'courses': ['math','compsci'] }\n",
    "\n",
    "#SE QUISERESMOS SABER O NUMERO DE KEYS QUE TEMOS NO NOSSO DICTIONARY\n",
    "print(len(student))\n",
    "#ainda se quiser ver que keys sao basta fazer \n",
    "print(student.keys())\n",
    "#vemos apenas os valores \n",
    "print(student.values())\n",
    "#vemos as keys e values\n",
    "print(student.items())\n",
    "\n"
   ]
  },
  {
   "cell_type": "code",
   "execution_count": 18,
   "metadata": {},
   "outputs": [
    {
     "name": "stdout",
     "output_type": "stream",
     "text": [
      "name luis\n",
      "age 31\n",
      "courses ['math', 'compsci']\n"
     ]
    }
   ],
   "source": [
    "#loop through dict\n",
    "for keys,values in student.items():\n",
    "    print(keys, values)\n"
   ]
  },
  {
   "cell_type": "markdown",
   "metadata": {},
   "source": [
    "* union / diff / intersection"
   ]
  },
  {
   "cell_type": "code",
   "execution_count": 19,
   "metadata": {},
   "outputs": [
    {
     "name": "stdout",
     "output_type": "stream",
     "text": [
      "union = {'A', 'C', 'D', 'F', 'E', 'B'}\n",
      "Intersection = {'E', 'A', 'D'}\n",
      "difference = {'B', 'C'}\n"
     ]
    }
   ],
   "source": [
    "letterA = {\"A\",\"B\", \"C\", \"D\", \"E\"}\n",
    "letterB = {\"A\", \"D\",\"E\", \"F\"}\n",
    "union = letterA | letterB\n",
    "intersection = letterA & letterB\n",
    "difference = letterA - letterB\n",
    "print(f\"union = {union}\")\n",
    "print(f\"Intersection = {intersection}\")\n",
    "print(f\"difference = {difference}\")"
   ]
  }
 ],
 "metadata": {
  "kernelspec": {
   "display_name": "Python 3.10.2 64-bit",
   "language": "python",
   "name": "python3"
  },
  "language_info": {
   "codemirror_mode": {
    "name": "ipython",
    "version": 3
   },
   "file_extension": ".py",
   "mimetype": "text/x-python",
   "name": "python",
   "nbconvert_exporter": "python",
   "pygments_lexer": "ipython3",
   "version": "3.10.2"
  },
  "orig_nbformat": 4,
  "vscode": {
   "interpreter": {
    "hash": "fbe58ca63fe33f9eeae9e71d10368d2b4a57f2b1b395836210cc60d362c66949"
   }
  }
 },
 "nbformat": 4,
 "nbformat_minor": 2
}
