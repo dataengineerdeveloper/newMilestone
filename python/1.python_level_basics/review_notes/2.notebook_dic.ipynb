{
 "cells": [
  {
   "cell_type": "markdown",
   "metadata": {},
   "source": [
    "# Dictionaries\n",
    "\n",
    "* a changeable unorderd collection of unique key:value pairs fast because use hashing,  allow us to access value quickly"
   ]
  },
  {
   "cell_type": "code",
   "execution_count": 3,
   "metadata": {},
   "outputs": [
    {
     "name": "stdout",
     "output_type": "stream",
     "text": [
      "moscow\n",
      "None\n",
      "dict_keys(['USA', 'India', 'china', 'Russia'])\n",
      "dict_values(['washington DC', 'new dehli', 'beijing', 'moscow'])\n",
      "dict_items([('USA', 'washington DC'), ('India', 'new dehli'), ('china', 'beijing'), ('Russia', 'moscow')])\n",
      "USA washington DC\n",
      "India new dehli\n",
      "china beijing\n",
      "Russia moscow\n",
      "{'USA': 'washington DC', 'India': 'new dehli', 'china': 'beijing', 'Russia': 'moscow', 'Germany': 'Berlin'}\n"
     ]
    }
   ],
   "source": [
    "capitals = {\n",
    "    \"USA\":\"washington DC\",\n",
    "    \"India\":\"new dehli\",\n",
    "    \"china\": \"beijing\",\n",
    "    \"Russia\": \"moscow\"}\n",
    "\n",
    "# once i don't have indexs i wil print the key value\n",
    "\n",
    "print(capitals[\"Russia\"])\n",
    "\n",
    "# one way to validate if a value exsit in a dictionary is\n",
    "\n",
    "print(capitals.get(\"Portugal\")) # >>> the output it will be None\n",
    "\n",
    "\n",
    "print(capitals.keys())\n",
    "print(capitals.values())\n",
    "print(capitals.items())\n",
    "        \n",
    "\n",
    "for keys, values in capitals.items():\n",
    "    print(keys, values)\n",
    "    \n",
    "# methods > once is changeable we can use update,  por and clear\n",
    "capitals.update({\"Germany\":\"Berlin\"})\n",
    "print(capitals)\n",
    "\n",
    "capitals.pop({\"china\"})\n",
    "print(capitals)\n",
    "\n",
    "\n",
    "capitals.clear()\n",
    "\n",
    "\n",
    "    \n",
    "\n",
    "\n"
   ]
  },
  {
   "cell_type": "code",
   "execution_count": 3,
   "metadata": {},
   "outputs": [
    {
     "name": "stdout",
     "output_type": "stream",
     "text": [
      "{'name': 'luis', 'age': 31, 'courses': ['math', 'compsci']}\n"
     ]
    }
   ],
   "source": [
    "# aqui vamos ver o coceito de key e de value, sendo que o key >> name:'john'<< value\n",
    "\n",
    "\n",
    "student = {'name':'luis','age':31,'courses': ['math','compsci'] }\n",
    "print(student)"
   ]
  },
  {
   "cell_type": "markdown",
   "metadata": {},
   "source": [
    "* Update values of a dictionary"
   ]
  },
  {
   "cell_type": "code",
   "execution_count": 6,
   "metadata": {},
   "outputs": [
    {
     "name": "stdout",
     "output_type": "stream",
     "text": [
      "{'name': 'santos', 'courses': ['math', 'compsci'], 'phone': '999-999', 'age': 85}\n"
     ]
    }
   ],
   "source": [
    "# update a  values within a dictionary, just use the function update after the variable\n",
    "student['phone'] = '555-6666'\n",
    "student['name'] = 'eduardo'\n",
    "\n",
    "# 2º forma de fzer um update\n",
    "\n",
    "#UPDATE\n",
    "student.update({'name':'santos','age':85,'phone': '999-999'})\n",
    "\n",
    "print(student)\n",
    "\n"
   ]
  },
  {
   "cell_type": "markdown",
   "metadata": {},
   "source": [
    "* found if a value exist within a dict"
   ]
  },
  {
   "cell_type": "code",
   "execution_count": 12,
   "metadata": {},
   "outputs": [
    {
     "name": "stdout",
     "output_type": "stream",
     "text": [
      "None\n"
     ]
    }
   ],
   "source": [
    "student = {'name':'luis','age':31,'courses': ['math','compsci'] }\n",
    "\n",
    "print(student.get('phone')) #>> output:  none"
   ]
  },
  {
   "cell_type": "markdown",
   "metadata": {},
   "source": [
    "* Delete a key within a dictionary"
   ]
  },
  {
   "cell_type": "code",
   "execution_count": 1,
   "metadata": {},
   "outputs": [
    {
     "name": "stdout",
     "output_type": "stream",
     "text": [
      "{'name': 'luis', 'courses': ['math', 'compsci']}\n"
     ]
    }
   ],
   "source": [
    "student = {'name':'luis','age':31,'courses': ['math','compsci'] }\n",
    "#DELETE\n",
    "del student['age']\n",
    "print(student)"
   ]
  },
  {
   "cell_type": "code",
   "execution_count": 2,
   "metadata": {},
   "outputs": [
    {
     "name": "stdout",
     "output_type": "stream",
     "text": [
      "{'name': 'luis', 'courses': ['math', 'compsci']}\n",
      "31\n"
     ]
    }
   ],
   "source": [
    "student = {'name':'luis','age':31,'courses': ['math','compsci'] }\n",
    "\n",
    "#POP\n",
    "#ao corrermos este print vamos ver o a key age vai ser removida do dictionary\n",
    "age = student.pop('age')\n",
    "print(student)\n",
    "print(age)"
   ]
  },
  {
   "cell_type": "markdown",
   "metadata": {},
   "source": [
    "* using len\n",
    "* in a dictionary we have\n",
    "    * keys\n",
    "    * values\n",
    "    * items that is what compound a dictionary"
   ]
  },
  {
   "cell_type": "code",
   "execution_count": 3,
   "metadata": {},
   "outputs": [
    {
     "name": "stdout",
     "output_type": "stream",
     "text": [
      "3\n",
      "dict_keys(['name', 'age', 'courses'])\n",
      "dict_values(['luis', 31, ['math', 'compsci']])\n",
      "dict_items([('name', 'luis'), ('age', 31), ('courses', ['math', 'compsci'])])\n"
     ]
    }
   ],
   "source": [
    "#LEN\n",
    "\n",
    "student = {'name':'luis','age':31,'courses': ['math','compsci'] }\n",
    "\n",
    "#SE QUISERESMOS SABER O NUMERO DE KEYS QUE TEMOS NO NOSSO DICTIONARY\n",
    "print(len(student))\n",
    "#ainda se quiser ver que keys sao basta fazer \n",
    "print(student.keys())\n",
    "#vemos apenas os valores \n",
    "print(student.values())\n",
    "#vemos as keys e values\n",
    "print(student.items())\n",
    "\n"
   ]
  },
  {
   "cell_type": "code",
   "execution_count": 4,
   "metadata": {},
   "outputs": [
    {
     "name": "stdout",
     "output_type": "stream",
     "text": [
      "name luis\n",
      "age 31\n",
      "courses ['math', 'compsci']\n"
     ]
    }
   ],
   "source": [
    "#loop through dict\n",
    "for keys,values in student.items():\n",
    "    print(keys, values)\n"
   ]
  },
  {
   "cell_type": "markdown",
   "metadata": {},
   "source": [
    "* union / diff / intersection"
   ]
  },
  {
   "cell_type": "code",
   "execution_count": 5,
   "metadata": {},
   "outputs": [
    {
     "name": "stdout",
     "output_type": "stream",
     "text": [
      "union = {'E', 'D', 'A', 'C', 'B', 'F'}\n",
      "Intersection = {'D', 'A', 'E'}\n",
      "difference = {'C', 'B'}\n"
     ]
    }
   ],
   "source": [
    "letterA = {\"A\",\"B\", \"C\", \"D\", \"E\"}\n",
    "letterB = {\"A\", \"D\",\"E\", \"F\"}\n",
    "union = letterA | letterB\n",
    "intersection = letterA & letterB\n",
    "difference = letterA - letterB\n",
    "print(f\"union = {union}\")\n",
    "print(f\"Intersection = {intersection}\")\n",
    "print(f\"difference = {difference}\")"
   ]
  },
  {
   "cell_type": "markdown",
   "metadata": {},
   "source": [
    "### when we create a dictionary we have to use always a {} and within this dcit we can find a key and value;"
   ]
  },
  {
   "cell_type": "code",
   "execution_count": 6,
   "metadata": {},
   "outputs": [],
   "source": [
    "def intro():\n",
    "    person = {'name':'luis',\n",
    "              'idaide':'23',\n",
    "              'sex':'male'}\n",
    "    print(f\"{person['name']},ok\")\n",
    "    intro()"
   ]
  },
  {
   "cell_type": "code",
   "execution_count": 8,
   "metadata": {},
   "outputs": [
    {
     "name": "stdout",
     "output_type": "stream",
     "text": [
      "hi my name is luis,\n",
      "I am wearing ablack shirt,\n",
      "and the laptop i use to code is an apple,\n",
      "and my networth is 50€\n"
     ]
    },
    {
     "ename": "NameError",
     "evalue": "name 'person' is not defined",
     "output_type": "error",
     "traceback": [
      "\u001b[1;31m---------------------------------------------------------------------------\u001b[0m",
      "\u001b[1;31mNameError\u001b[0m                                 Traceback (most recent call last)",
      "\u001b[1;32mc:\\UserData\\z004hedj\\OneDrive - Siemens AG\\Ambiente de Trabalho\\GIT\\newMilestone\\newMilestone\\python\\1.python_level_basics\\review_notes\\2.notebook_dic.ipynb Cell 17\u001b[0m in \u001b[0;36m<cell line: 17>\u001b[1;34m()\u001b[0m\n\u001b[0;32m     <a href='vscode-notebook-cell:/c%3A/UserData/z004hedj/OneDrive%20-%20Siemens%20AG/Ambiente%20de%20Trabalho/GIT/newMilestone/newMilestone/python/1.python_level_basics/review_notes/2.notebook_dic.ipynb#X22sZmlsZQ%3D%3D?line=13'>14</a>\u001b[0m     \u001b[39mprint\u001b[39m(\u001b[39mf\u001b[39m\u001b[39m\"\u001b[39m\u001b[39mhi my name is \u001b[39m\u001b[39m{\u001b[39;00mperson[\u001b[39m'\u001b[39m\u001b[39mname\u001b[39m\u001b[39m'\u001b[39m]\u001b[39m}\u001b[39;00m\u001b[39m,\u001b[39m\u001b[39m\\n\u001b[39;00m\u001b[39mI am wearing a\u001b[39m\u001b[39m{\u001b[39;00mperson[\u001b[39m'\u001b[39m\u001b[39mshirt\u001b[39m\u001b[39m'\u001b[39m]\u001b[39m}\u001b[39;00m\u001b[39m shirt,\u001b[39m\u001b[39m\\n\u001b[39;00m\u001b[39mand the laptop i use to code is an \u001b[39m\u001b[39m{\u001b[39;00mperson[\u001b[39m'\u001b[39m\u001b[39mlaptop\u001b[39m\u001b[39m'\u001b[39m]\u001b[39m}\u001b[39;00m\u001b[39m,\u001b[39m\u001b[39m\\n\u001b[39;00m\u001b[39mand my networth is \u001b[39m\u001b[39m{\u001b[39;00mperson[\u001b[39m'\u001b[39m\u001b[39mnetworth\u001b[39m\u001b[39m'\u001b[39m]()\u001b[39m}\u001b[39;00m\u001b[39m€\u001b[39m\u001b[39m\"\u001b[39m)\n\u001b[0;32m     <a href='vscode-notebook-cell:/c%3A/UserData/z004hedj/OneDrive%20-%20Siemens%20AG/Ambiente%20de%20Trabalho/GIT/newMilestone/newMilestone/python/1.python_level_basics/review_notes/2.notebook_dic.ipynb#X22sZmlsZQ%3D%3D?line=15'>16</a>\u001b[0m introducer()\n\u001b[1;32m---> <a href='vscode-notebook-cell:/c%3A/UserData/z004hedj/OneDrive%20-%20Siemens%20AG/Ambiente%20de%20Trabalho/GIT/newMilestone/newMilestone/python/1.python_level_basics/review_notes/2.notebook_dic.ipynb#X22sZmlsZQ%3D%3D?line=16'>17</a>\u001b[0m networth()\n",
      "\u001b[1;32mc:\\UserData\\z004hedj\\OneDrive - Siemens AG\\Ambiente de Trabalho\\GIT\\newMilestone\\newMilestone\\python\\1.python_level_basics\\review_notes\\2.notebook_dic.ipynb Cell 17\u001b[0m in \u001b[0;36mnetworth\u001b[1;34m()\u001b[0m\n\u001b[0;32m      <a href='vscode-notebook-cell:/c%3A/UserData/z004hedj/OneDrive%20-%20Siemens%20AG/Ambiente%20de%20Trabalho/GIT/newMilestone/newMilestone/python/1.python_level_basics/review_notes/2.notebook_dic.ipynb#X22sZmlsZQ%3D%3D?line=1'>2</a>\u001b[0m \u001b[39mdef\u001b[39;00m \u001b[39mnetworth\u001b[39m():\n\u001b[1;32m----> <a href='vscode-notebook-cell:/c%3A/UserData/z004hedj/OneDrive%20-%20Siemens%20AG/Ambiente%20de%20Trabalho/GIT/newMilestone/newMilestone/python/1.python_level_basics/review_notes/2.notebook_dic.ipynb#X22sZmlsZQ%3D%3D?line=2'>3</a>\u001b[0m     \u001b[39mreturn\u001b[39;00m person[\u001b[39m'\u001b[39m\u001b[39masset\u001b[39m\u001b[39m'\u001b[39m]\u001b[39m-\u001b[39mperson[\u001b[39m'\u001b[39m\u001b[39mdebt\u001b[39m\u001b[39m'\u001b[39m]\n",
      "\u001b[1;31mNameError\u001b[0m: name 'person' is not defined"
     ]
    }
   ],
   "source": [
    "#in this case i'm going to use a functions a format strings\n",
    "def networth():\n",
    "    return person['asset']-person['debt']\n",
    "\n",
    "def introducer():\n",
    "    person = {'name':'luis',\n",
    "              'shirt':'black',\n",
    "              'laptop':'apple',\n",
    "              'asset': 100,\n",
    "              'debt':50,\n",
    "              #this is the only way to use a functions within a dictionary.  In this case is use  the function that is ina previous function.\n",
    "              'networth':lambda: person['asset']- person['debt']\n",
    "            }\n",
    "    print(f\"hi my name is {person['name']},\\nI am wearing a{person['shirt']} shirt,\\nand the laptop i use to code is an {person['laptop']},\\nand my networth is {person['networth']()}€\")\n",
    "\n",
    "introducer()\n",
    "\n",
    "    "
   ]
  }
 ],
 "metadata": {
  "kernelspec": {
   "display_name": "Python 3.10.2 64-bit",
   "language": "python",
   "name": "python3"
  },
  "language_info": {
   "codemirror_mode": {
    "name": "ipython",
    "version": 3
   },
   "file_extension": ".py",
   "mimetype": "text/x-python",
   "name": "python",
   "nbconvert_exporter": "python",
   "pygments_lexer": "ipython3",
   "version": "3.10.2"
  },
  "orig_nbformat": 4,
  "vscode": {
   "interpreter": {
    "hash": "fbe58ca63fe33f9eeae9e71d10368d2b4a57f2b1b395836210cc60d362c66949"
   }
  }
 },
 "nbformat": 4,
 "nbformat_minor": 2
}
