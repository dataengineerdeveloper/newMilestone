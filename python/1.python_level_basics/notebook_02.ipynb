{
 "cells": [
  {
   "cell_type": "markdown",
   "metadata": {},
   "source": [
    "BOOLEAN / IF THEN ELSE\n",
    "\n",
    "1. Bolean (True,  False)\n",
    "2. comparison operatiors (==, <,>, <=,=>, !=)"
   ]
  },
  {
   "cell_type": "markdown",
   "metadata": {},
   "source": [
    "weather app\n",
    "\n",
    "1. create a app where you insert the 1 of 3 options available then the app must advice you what you have to bring according with weather state"
   ]
  },
  {
   "cell_type": "code",
   "execution_count": 5,
   "metadata": {},
   "outputs": [
    {
     "name": "stdout",
     "output_type": "stream",
     "text": [
      "insert one of 3 options\n"
     ]
    }
   ],
   "source": [
    "weather_prediction =  str(input(\"how's the weather? sun/rain/cloudy: \"))\n",
    "\n",
    "if weather_prediction == 'sun':\n",
    "    print('bring your sunglass')\n",
    "elif weather_prediction == 'cloudy':\n",
    "    print('bring a hoody')\n",
    "elif weather_prediction == 'rain':\n",
    "    print('bring your unbrella')\n",
    "else:\n",
    "    print('insert one of 3 options')\n"
   ]
  },
  {
   "cell_type": "code",
   "execution_count": null,
   "metadata": {},
   "outputs": [],
   "source": [
    "score = "
   ]
  }
 ],
 "metadata": {
  "kernelspec": {
   "display_name": "Python 3.10.2 64-bit",
   "language": "python",
   "name": "python3"
  },
  "language_info": {
   "codemirror_mode": {
    "name": "ipython",
    "version": 3
   },
   "file_extension": ".py",
   "mimetype": "text/x-python",
   "name": "python",
   "nbconvert_exporter": "python",
   "pygments_lexer": "ipython3",
   "version": "3.10.2"
  },
  "orig_nbformat": 4,
  "vscode": {
   "interpreter": {
    "hash": "fbe58ca63fe33f9eeae9e71d10368d2b4a57f2b1b395836210cc60d362c66949"
   }
  }
 },
 "nbformat": 4,
 "nbformat_minor": 2
}
