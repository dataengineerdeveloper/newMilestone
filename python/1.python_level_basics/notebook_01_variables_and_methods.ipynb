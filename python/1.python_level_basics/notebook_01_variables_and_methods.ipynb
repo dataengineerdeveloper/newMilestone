{
 "cells": [
  {
   "cell_type": "markdown",
   "metadata": {},
   "source": [
    "VARIABLES AND STRINGS / FORMAT STRINGS / DATATYPES"
   ]
  },
  {
   "cell_type": "code",
   "execution_count": 14,
   "metadata": {},
   "outputs": [
    {
     "name": "stdout",
     "output_type": "stream",
     "text": [
      "HI luis\n",
      "175 / 89\n"
     ]
    }
   ],
   "source": [
    "\n",
    "# first Variables\n",
    "\n",
    "#conver string input into a integer\n",
    "your_name = str(input(\"please insert your name: \"))\n",
    "print('HI', your_name)\n",
    "\n",
    "#convert a string input to array\n",
    "#v = list(input(\"enter a int\"))\n",
    "#print(v)\n",
    "\n",
    "# we can also create 2 variables and 2 values within\n",
    "height,weight = 175, 89\n",
    "print(height,'/',weight)\n"
   ]
  },
  {
   "cell_type": "code",
   "execution_count": 9,
   "metadata": {},
   "outputs": [
    {
     "name": "stdout",
     "output_type": "stream",
     "text": [
      "hello my name is luis,and i'm 19 and born on 1990\n"
     ]
    }
   ],
   "source": [
    "#variable and input > i can define more than a variable and at the same time use the input in order to make my user to define the values\n",
    "#define datatype\n",
    "#define de input in order to make the user to insert de values\n",
    "#in a print use format string in order to bring the values defined in the variables\n",
    "name, age,  year = str(input('insert your name')), int(input('insert your age')),  int(input('in each year you born'))\n",
    "print(f\"hello my name is {name},and i'm {age} and born on {year}\")"
   ]
  },
  {
   "cell_type": "code",
   "execution_count": 7,
   "metadata": {},
   "outputs": [
    {
     "name": "stdout",
     "output_type": "stream",
     "text": [
      "your final value is 6\n"
     ]
    }
   ],
   "source": [
    "#using the input i can also use a calculation based on the variables inserted by the requester\n",
    "\n",
    "num1= int(input('insert numbe 1: '))\n",
    "num2 = int(input('insert numbe 2: '))\n",
    "\n",
    "print('your final value is',num1+num2)"
   ]
  },
  {
   "cell_type": "markdown",
   "metadata": {},
   "source": [
    "1. create an app where you can insert total value of a diner and the the respective tip to the waiter.\n",
    "2. the output must display total value of food,  value from tip and total value food + tip"
   ]
  },
  {
   "cell_type": "code",
   "execution_count": 1,
   "metadata": {},
   "outputs": [
    {
     "name": "stdout",
     "output_type": "stream",
     "text": [
      "Bill to Pay\n",
      "--------------------------------\n",
      "value without tip: 120.0 €\n",
      "tip percentage: 0.05 %\n",
      "tip amount: 6.0 €\n",
      "\n",
      "\n",
      "--------------------------------\n",
      "total_vaue:126.0 €\n"
     ]
    }
   ],
   "source": [
    "#exercise 1\n",
    "\n",
    "#create app that allow user to insert the value that we pay for a dinner and also the tip that we want to give\n",
    "'''\n",
    "1. two insert variable for value pay / tip amount in percentage\n",
    "2. calculate the monetary value in percentage gave in a tip percentage\n",
    "3. sum the total of value pay+tip amount\n",
    "\n",
    "5.  display that the values usinf format sring\n",
    "\n",
    "'''\n",
    "\n",
    "food_value=float(input(\"insert the value that you pay for the food: \"))\n",
    "#we can force a decimal value or we can define / 100 at the end to avoid issues in the calculation of the percentage\n",
    "percentage_tip=float(input(\"insert the tip value: \"))/100\n",
    "\n",
    "tip_amount= food_value*percentage_tip\n",
    "total_value = food_value+tip_amount\n",
    "print(\"Bill to Pay\")\n",
    "print(\"--------------------------------\")\n",
    "print(f\"value without tip: {food_value} €\")\n",
    "print(f\"tip percentage: {percentage_tip} %\")\n",
    "print(f\"tip amount: {tip_amount} €\")\n",
    "print('\\n')\n",
    "print(\"--------------------------------\")\n",
    "print(f\"total_vaue:{total_value} €\")\n",
    "\n"
   ]
  },
  {
   "cell_type": "code",
   "execution_count": 8,
   "metadata": {},
   "outputs": [
    {
     "name": "stdout",
     "output_type": "stream",
     "text": [
      "0.5361322676118212\n",
      "12.99643272151397\n",
      "50\n",
      "vermelho\n",
      "['card3', 'card4', 'card2', 'card1']\n"
     ]
    }
   ],
   "source": [
    "# function randon,  som examples\n",
    "\n",
    "\n",
    "import random\n",
    "\n",
    "print(random.random()) # value from 0.0 till 1.0\n",
    "print(random.uniform(4,19)) #decimal value from min to max\n",
    "print(random.randint(12,55)) #int value from min to max\n",
    "\n",
    "\n",
    "cores = ['verde','vermelho','azul']\n",
    "print(random.choice(cores)) # allow you to pick a option from a variable\n",
    "\n",
    "\n",
    "cards =  ['card1','card2','card3','card4']\n",
    "random.shuffle(cards)\n",
    "print(cards)"
   ]
  },
  {
   "cell_type": "code",
   "execution_count": 132,
   "metadata": {},
   "outputs": [
    {
     "name": "stdout",
     "output_type": "stream",
     "text": [
      "0.07907709930926121\n",
      "0.12598976914052962\n",
      "65\n",
      "heads\n",
      "['card1', 'card2', 'card3']\n"
     ]
    }
   ],
   "source": [
    "# functions:  random,  choice, shuffle\n",
    "\n",
    "import random\n",
    "\n",
    "#values 0.0 > 1.0\n",
    "print(random.random())\n",
    "#can define the range including negative values\n",
    "print(random.uniform(-1,2))\n",
    "#where we can define a range of values and will show randomly\n",
    "print(random.randint(0,1000))\n",
    "\n",
    "#exercio heads or tails\n",
    "options=['heads','tails']\n",
    "print(random.choice(options))\n",
    "\n",
    "#using shuffle function will allow to change the order of the values within a list\n",
    "cards=['card1','card2','card3']\n",
    "random.shuffle(cards)\n",
    "\n",
    "print(cards)"
   ]
  },
  {
   "cell_type": "markdown",
   "metadata": {},
   "source": [
    "1. list and methods and sorting"
   ]
  },
  {
   "cell_type": "code",
   "execution_count": 33,
   "metadata": {},
   "outputs": [
    {
     "name": "stdout",
     "output_type": "stream",
     "text": [
      "[1, 2, 'john', 'jim']\n",
      "[1, 2, 'john', 'jim', 3, 4, 5]\n",
      "[0, 1, 2, 'john', 'jim', 3, 4, 5]\n"
     ]
    }
   ],
   "source": [
    "#an example to apply append and extend.  besed ona original list we can add new value to the list and apart of that list we can add values from other list\n",
    "\n",
    "list=[1,2,'john']\n",
    "list.append('jim')\n",
    "print(list)\n",
    "another_list= [3,4,5]\n",
    "list.extend(another_list)\n",
    "print(list)\n",
    "\n",
    "# imagine that i want to insert a value in a specific index,  i want to add 0 placing it on index 0. the first 0 refers to a index and the next 0 refers to the value to add\n",
    "\n",
    "list.insert(0, 0)\n",
    "print(list)"
   ]
  },
  {
   "cell_type": "code",
   "execution_count": 36,
   "metadata": {},
   "outputs": [
    {
     "name": "stdout",
     "output_type": "stream",
     "text": [
      "[1, 2, 4, 5, 6, 7]\n",
      "[7, 6, 5, 4, 2, 1]\n"
     ]
    }
   ],
   "source": [
    "# SORT \n",
    "\n",
    "new_list = [1,2,5,7,6,4]\n",
    "new_list.sort()\n",
    "print(new_list)\n",
    "\n",
    "#if i want the reverse the order the only thing that i have to is only apply reverse= True\n",
    "\n",
    "new_list.sort(reverse=True)\n",
    "print(new_list)"
   ]
  },
  {
   "cell_type": "code",
   "execution_count": 38,
   "metadata": {},
   "outputs": [
    {
     "name": "stdout",
     "output_type": "stream",
     "text": [
      "['luis', 'eduardo', 'santos']\n",
      "['luis', 'eduardo']\n"
     ]
    }
   ],
   "source": [
    "# append / pop\n",
    "\n",
    "\n",
    "stack = ['luis','eduardo']\n",
    "stack.append(\"santos\")\n",
    "print(stack)\n",
    "#pop basically remove last index\n",
    "stack.pop()\n",
    "print(stack)"
   ]
  },
  {
   "cell_type": "code",
   "execution_count": 41,
   "metadata": {},
   "outputs": [
    {
     "name": "stdout",
     "output_type": "stream",
     "text": [
      "deque(['luis', 'eduardo'])\n",
      "deque(['eduardo', 'allen'])\n"
     ]
    }
   ],
   "source": [
    "from collections import deque\n",
    "queue = deque([\"luis\",\"eduardo\"])\n",
    "print(queue)\n",
    "queue.append(\"allen\")\n",
    "#in this case popleft will remove first index value forma the list\n",
    "queue.popleft()\n",
    "print(queue)"
   ]
  },
  {
   "cell_type": "code",
   "execution_count": 44,
   "metadata": {},
   "outputs": [
    {
     "data": {
      "text/plain": [
       "'eudardo'"
      ]
     },
     "execution_count": 44,
     "metadata": {},
     "output_type": "execute_result"
    }
   ],
   "source": [
    "#tupples basically are not immutable,for example if i try to a append a new value within a list i will geta  error.  to sum up i cannot edit a tupple after being created\n",
    "\n",
    "#lists can be edit tupples no\n",
    "\n",
    "my_tup=(\"luis\",\"eudardo\")\n",
    "my_tup[1]"
   ]
  },
  {
   "cell_type": "code",
   "execution_count": 63,
   "metadata": {},
   "outputs": [
    {
     "data": {
      "text/plain": [
       "False"
      ]
     },
     "execution_count": 63,
     "metadata": {},
     "output_type": "execute_result"
    }
   ],
   "source": [
    "# SET\n",
    "# set functions remove duplicates within a set\n",
    "\n",
    "my_set =  {\"luis\",\"eduardo\",\"santos\",\"santos\"}\n",
    "my_set\n",
    "\n",
    "\n",
    "set_a = ['luis','luis','eduardo','eduardo','Santos']\n",
    "set(set_a)\n",
    "\n",
    "# when we need to validate if a value is within a set only pass the value followed by in and the name of the set\n",
    "\"carlos\" in set_a\n",
    "\n"
   ]
  },
  {
   "cell_type": "code",
   "execution_count": 68,
   "metadata": {},
   "outputs": [
    {
     "data": {
      "text/plain": [
       "{'a', 'b', 'd', 'e', 'f'}"
      ]
     },
     "execution_count": 68,
     "metadata": {},
     "output_type": "execute_result"
    }
   ],
   "source": [
    "set_1 = set(\"abc\")\n",
    "set_2 = set(\"defc\")\n",
    "\n",
    "set_1.intersection(set_2)\n",
    "set_1.union(set_2)\n",
    "#in this case will prioritize the difference form set_1\n",
    "set_1.difference(set_2)\n",
    "set_2.difference(set_1)\n",
    "\n",
    "# but imagine that we want to get the all view of diffence in the both sets.  the only value that will be in common in each values it'll be C\n",
    "\n",
    "set_1.symmetric_difference(set_2)"
   ]
  },
  {
   "cell_type": "code",
   "execution_count": 77,
   "metadata": {},
   "outputs": [
    {
     "data": {
      "text/plain": [
       "dict_items([('name', 'luis'), ('age', '26')])"
      ]
     },
     "execution_count": 77,
     "metadata": {},
     "output_type": "execute_result"
    }
   ],
   "source": [
    "# Dictionary > storre multiple key values in a variable name.  this are the2 things that i can search within a dict keys or values\n",
    "\n",
    "person = {\"name\": \"luis\",  \"age\": \"26\"}\n",
    "person[\"name\"]\n",
    "\n",
    "# usefull methods within dictionaries\n",
    "\n",
    "person.keys()\n",
    "person.values()\n",
    "person.items()"
   ]
  },
  {
   "cell_type": "code",
   "execution_count": 78,
   "metadata": {},
   "outputs": [
    {
     "name": "stdout",
     "output_type": "stream",
     "text": [
      "the keys name is attache to value luis\n",
      "the keys age is attache to value 26\n"
     ]
    }
   ],
   "source": [
    "for keys, value in person.items():\n",
    "    print(f\"the keys {keys} is attache to value {value}\")"
   ]
  },
  {
   "cell_type": "code",
   "execution_count": 1,
   "metadata": {},
   "outputs": [
    {
     "ename": "NameError",
     "evalue": "name 'person' is not defined",
     "output_type": "error",
     "traceback": [
      "\u001b[1;31m---------------------------------------------------------------------------\u001b[0m",
      "\u001b[1;31mNameError\u001b[0m                                 Traceback (most recent call last)",
      "\u001b[1;32mc:\\UserData\\z004hedj\\OneDrive - Siemens AG\\Ambiente de Trabalho\\GIT\\newMilestone\\newMilestone\\python\\1.python_level_basics\\notebook_01.ipynb Cell 18\u001b[0m in \u001b[0;36m<cell line: 3>\u001b[1;34m()\u001b[0m\n\u001b[0;32m      <a href='vscode-notebook-cell:/c%3A/UserData/z004hedj/OneDrive%20-%20Siemens%20AG/Ambiente%20de%20Trabalho/GIT/newMilestone/newMilestone/python/1.python_level_basics/notebook_01.ipynb#X23sZmlsZQ%3D%3D?line=0'>1</a>\u001b[0m \u001b[39m# thre is also one other way to validate if a value existe within a dict without getting a error\u001b[39;00m\n\u001b[0;32m      <a href='vscode-notebook-cell:/c%3A/UserData/z004hedj/OneDrive%20-%20Siemens%20AG/Ambiente%20de%20Trabalho/GIT/newMilestone/newMilestone/python/1.python_level_basics/notebook_01.ipynb#X23sZmlsZQ%3D%3D?line=1'>2</a>\u001b[0m \u001b[39m# if the value doesn't exist then nothing will show up and if the value exist i will geta result\u001b[39;00m\n\u001b[1;32m----> <a href='vscode-notebook-cell:/c%3A/UserData/z004hedj/OneDrive%20-%20Siemens%20AG/Ambiente%20de%20Trabalho/GIT/newMilestone/newMilestone/python/1.python_level_basics/notebook_01.ipynb#X23sZmlsZQ%3D%3D?line=2'>3</a>\u001b[0m person\u001b[39m.\u001b[39mget(\u001b[39m\"\u001b[39m\u001b[39msantos\u001b[39m\u001b[39m\"\u001b[39m)\n\u001b[0;32m      <a href='vscode-notebook-cell:/c%3A/UserData/z004hedj/OneDrive%20-%20Siemens%20AG/Ambiente%20de%20Trabalho/GIT/newMilestone/newMilestone/python/1.python_level_basics/notebook_01.ipynb#X23sZmlsZQ%3D%3D?line=3'>4</a>\u001b[0m person\u001b[39m.\u001b[39mget(\u001b[39m\"\u001b[39m\u001b[39mname\u001b[39m\u001b[39m\"\u001b[39m)\n\u001b[0;32m      <a href='vscode-notebook-cell:/c%3A/UserData/z004hedj/OneDrive%20-%20Siemens%20AG/Ambiente%20de%20Trabalho/GIT/newMilestone/newMilestone/python/1.python_level_basics/notebook_01.ipynb#X23sZmlsZQ%3D%3D?line=5'>6</a>\u001b[0m \u001b[39m# imagine that for some reason i need to a add a new value in a dict.  rhen if i run the following code i will get the dict updated\u001b[39;00m\n",
      "\u001b[1;31mNameError\u001b[0m: name 'person' is not defined"
     ]
    }
   ],
   "source": [
    "# thre is also one other way to validate if a value existe within a dict without getting a error\n",
    "# if the value doesn't exist then nothing will show up and if the value exist i will geta result\n",
    "person.get(\"santos\")\n",
    "person.get(\"name\")\n",
    "\n",
    "# imagine that for some reason i need to a add a new value in a dict.  rhen if i run the following code i will get the dict updated\n",
    "\n",
    "more_info = {\"is_male\":True}\n",
    "person.update(more_info)\n",
    "person\n",
    "\n",
    "# the same happen i need to remove a element from a dict\n",
    "\n",
    "person.clear()\n",
    "person\n"
   ]
  }
 ],
 "metadata": {
  "kernelspec": {
   "display_name": "Python 3.10.2 64-bit",
   "language": "python",
   "name": "python3"
  },
  "language_info": {
   "codemirror_mode": {
    "name": "ipython",
    "version": 3
   },
   "file_extension": ".py",
   "mimetype": "text/x-python",
   "name": "python",
   "nbconvert_exporter": "python",
   "pygments_lexer": "ipython3",
   "version": "3.10.2"
  },
  "orig_nbformat": 4,
  "vscode": {
   "interpreter": {
    "hash": "fbe58ca63fe33f9eeae9e71d10368d2b4a57f2b1b395836210cc60d362c66949"
   }
  }
 },
 "nbformat": 4,
 "nbformat_minor": 2
}
