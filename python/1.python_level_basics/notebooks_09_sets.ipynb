{
 "cells": [
  {
   "cell_type": "markdown",
   "metadata": {},
   "source": [
    "1. sets"
   ]
  },
  {
   "cell_type": "code",
   "execution_count": 5,
   "metadata": {},
   "outputs": [
    {
     "name": "stdout",
     "output_type": "stream",
     "text": [
      "{'ruby', 'Python', 'SQL', 'JAVA', 'python', 'javascript'}\n",
      "True\n",
      "False\n"
     ]
    }
   ],
   "source": [
    "list1 = ['ruby','python', 'javascript']\n",
    "list2 = ['JAVA', 'SQL','Python', 'javascript']\n",
    "\n",
    "#doing this it'll give me a concatenation between this 2 lists\n",
    "#programinglanguages= list1+list2\n",
    "#print(programinglanguages)\n",
    "\n",
    "#in this case if i need to use this 2 list and provide unique item i have to use SET\n",
    "programinglanguages= set(list1+list2)\n",
    "print(programinglanguages)\n",
    "#if i need to confirm an item within a list i can just put within '' and use IN and then the name of the variable\n",
    "print('SQL' in  programinglanguages)\n",
    "print('GO' in  programinglanguages)\n",
    "\n",
    "\n"
   ]
  }
 ],
 "metadata": {
  "kernelspec": {
   "display_name": "Python 3.10.2 64-bit",
   "language": "python",
   "name": "python3"
  },
  "language_info": {
   "codemirror_mode": {
    "name": "ipython",
    "version": 3
   },
   "file_extension": ".py",
   "mimetype": "text/x-python",
   "name": "python",
   "nbconvert_exporter": "python",
   "pygments_lexer": "ipython3",
   "version": "3.10.2"
  },
  "orig_nbformat": 4,
  "vscode": {
   "interpreter": {
    "hash": "fbe58ca63fe33f9eeae9e71d10368d2b4a57f2b1b395836210cc60d362c66949"
   }
  }
 },
 "nbformat": 4,
 "nbformat_minor": 2
}
