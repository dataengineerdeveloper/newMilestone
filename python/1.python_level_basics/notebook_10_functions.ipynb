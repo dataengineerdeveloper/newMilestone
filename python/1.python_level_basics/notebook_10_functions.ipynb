{
 "cells": [
  {
   "cell_type": "code",
   "execution_count": 1,
   "metadata": {},
   "outputs": [
    {
     "data": {
      "text/plain": [
       "6"
      ]
     },
     "execution_count": 1,
     "metadata": {},
     "output_type": "execute_result"
    }
   ],
   "source": [
    "def our_function(x,y,z):\n",
    "    return x + y + z\n",
    "our_function(x=1, y=2,z =3)"
   ]
  },
  {
   "cell_type": "code",
   "execution_count": 5,
   "metadata": {},
   "outputs": [
    {
     "name": "stdout",
     "output_type": "stream",
     "text": [
      "this input is  1\n",
      "this output is  2\n",
      "this input is  2\n",
      "this output is  3\n",
      "this input is  3\n",
      "this output is  4\n",
      "this input is  4\n",
      "this output is  5\n",
      "loop has ended\n"
     ]
    }
   ],
   "source": [
    "the_list=range(1,5)\n",
    "\n",
    "for i in the_list:\n",
    "    print(\"this input is \",i)\n",
    "    i +=1\n",
    "    print(\"this output is \",i)\n",
    "print(\"loop has ended\")"
   ]
  },
  {
   "cell_type": "code",
   "execution_count": 7,
   "metadata": {},
   "outputs": [
    {
     "name": "stdout",
     "output_type": "stream",
     "text": [
      "101\n"
     ]
    }
   ],
   "source": [
    "\n"
   ]
  }
 ],
 "metadata": {
  "kernelspec": {
   "display_name": "Python 3.10.2 64-bit",
   "language": "python",
   "name": "python3"
  },
  "language_info": {
   "codemirror_mode": {
    "name": "ipython",
    "version": 3
   },
   "file_extension": ".py",
   "mimetype": "text/x-python",
   "name": "python",
   "nbconvert_exporter": "python",
   "pygments_lexer": "ipython3",
   "version": "3.10.2"
  },
  "orig_nbformat": 4,
  "vscode": {
   "interpreter": {
    "hash": "fbe58ca63fe33f9eeae9e71d10368d2b4a57f2b1b395836210cc60d362c66949"
   }
  }
 },
 "nbformat": 4,
 "nbformat_minor": 2
}
